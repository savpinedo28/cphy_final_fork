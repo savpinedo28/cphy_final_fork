{
 "cells": [
  {
   "cell_type": "code",
   "execution_count": null,
   "id": "e8b9fbfb-5cc5-40a9-aa1b-9dc840597157",
   "metadata": {},
   "outputs": [],
   "source": [
    "import autograd.numpy as np\n",
    "from autograd import grad\n",
    "from scipy import optimize\n",
    "import matplotlib.pyplot as plt\n"
   ]
  },
  {
   "cell_type": "markdown",
   "id": "e63385e5",
   "metadata": {},
   "source": [
    "### Import Data"
   ]
  },
  {
   "cell_type": "code",
   "execution_count": 2,
   "id": "5f3922a5",
   "metadata": {},
   "outputs": [
    {
     "data": {
      "text/plain": [
       "<matplotlib.legend.Legend at 0x7ff678697280>"
      ]
     },
     "execution_count": 2,
     "metadata": {},
     "output_type": "execute_result"
    },
    {
     "data": {
      "image/png": "[encoded data removed]",
      "text/plain": [
       "<Figure size 432x288 with 1 Axes>"
      ]
     },
     "metadata": {
      "needs_background": "light"
     },
     "output_type": "display_data"
    }
   ],
   "source": [
    "import zipfile\n",
    "import csv\n",
    "\n",
    "fname = 'gt_1a' # user defined filename\n",
    "\n",
    "with zipfile.ZipFile('./sim_data/' + fname + '.zip', 'r') as zip_ref:\n",
    "    zip_ref.extractall()\n",
    "    \n",
    "with open(fname + '.csv', newline='') as csvfile:\n",
    "    data = list(csv.reader(csvfile))\n",
    "    \n",
    "data_steps = [row[0] for row in data][1:-1] # extract time data\n",
    "data_steps = np.array([float(i) for i in data_steps]) # convert to numpy array of floats\n",
    "\n",
    "V_data = [row[1] for row in data][1:-1]\n",
    "V_data = np.array([float(i) for i in V_data])\n",
    "\n",
    "I_data = [row[2] for row in data][1:-1]\n",
    "I_data = np.array([float(i) for i in I_data])\n",
    "\n",
    "\n",
    "plt.plot(data_steps, V_data, label = 'V')\n",
    "plt.plot(data_steps, I_data, label = 'I')\n",
    "plt.xlabel('Time')\n",
    "plt.ylabel ('Voltage')\n",
    "plt.title('Data from ' + fname)\n",
    "plt.legend()"
   ]
  },
  {
   "cell_type": "code",
   "execution_count": 3,
   "id": "bcff2933",
   "metadata": {},
   "outputs": [
    {
     "data": {
      "text/plain": [
       "152.525"
      ]
     },
     "execution_count": 3,
     "metadata": {},
     "output_type": "execute_result"
    }
   ],
   "source": [
    "# determine center of impulse\n",
    "\n",
    "impulse = np.where(I_data != 0.0)\n",
    "center = round((impulse[0][-1] - impulse[0][0])/2) + impulse[0][0]\n",
    "b = data_steps[center]\n",
    "# b = 150 # for no ap dataset \n",
    "b"
   ]
  },
  {
   "cell_type": "code",
   "execution_count": 4,
   "id": "8c9f5c20",
   "metadata": {},
   "outputs": [],
   "source": [
    "# we could use these values as initial guesses if we wanted, but that might not be \n",
    "# super interesting to see the full power of the adjoint\n",
    "\n",
    "# a = np.max(I_data)\n",
    "# c = np.shape(impulse)[1]*dt\n"
   ]
  },
  {
   "cell_type": "markdown",
   "id": "072fe10c",
   "metadata": {},
   "source": [
    "### Define Forward Model"
   ]
  },
  {
   "cell_type": "code",
   "execution_count": 5,
   "id": "9bf17470",
   "metadata": {},
   "outputs": [],
   "source": [
    "### Define all parameters ###\n",
    "\n",
    "# Define HH model parameters\n",
    "g_Na = 120.0  # Sodium conductance (mS/cm^2)\n",
    "g_K = 36.0   # Potassium conductance (mS/cm^2)\n",
    "g_L = 0.3    # Leak conductance (mS/cm^2)\n",
    "E_Na = 50.0  # Sodium reversal potential (mV)\n",
    "E_K = -77.0  # Potassium reversal potential (mV)\n",
    "E_L = -55.0  # Leak reversal potential (mV)\n",
    "C_m = 1.0    # Membrane capacitance (uF/cm^2)\n",
    "\n",
    "# Define time parameters\n",
    "dt = 0.025\n",
    "t = np.arange(0, 250, dt)\n",
    "\n",
    "\n",
    "# Initialize state variables\n",
    "V0 = -65.0 #V_data[0]  # Membrane voltage (mV)\n",
    "m, h, n = 0.05, 0.6, 0.32  # Initial values of gating variables"
   ]
  },
  {
   "cell_type": "code",
   "execution_count": 6,
   "id": "2cbc8aea-34bb-4822-a005-230f828abc48",
   "metadata": {
    "tags": []
   },
   "outputs": [],
   "source": [
    "# Define the HH model equations\n",
    "def alpha_m(V):\n",
    "    return 0.1 * (V + 40.0) / (1.0 - np.exp(-(V + 40.0) / 10.0))\n",
    "\n",
    "def beta_m(V):\n",
    "    return 4.0 * np.exp(-(V + 65.0) / 18.0)\n",
    "\n",
    "def alpha_h(V):\n",
    "    return 0.07 * np.exp(-(V + 65.0) / 20.0)\n",
    "\n",
    "def beta_h(V):\n",
    "    return 1.0 / (1.0 + np.exp(-(V + 35.0) / 10.0))\n",
    "\n",
    "def alpha_n(V):\n",
    "    return 0.01 * (V + 55.0) / (1.0 - np.exp(-(V + 55.0) / 10.0))\n",
    "\n",
    "def beta_n(V):\n",
    "    return 0.125 * np.exp(-(V + 65) / 80.0)\n",
    "\n",
    "\n",
    "# Define the HH model differential equations\n",
    "def hodgkin_huxley_eq(V, m, h, n, I_params, t):\n",
    "    #I = I_params[0]*np.sin(I_params[1]*t)\n",
    "    I = I_params[0]*np.exp(-(t-b)**2/(2*I_params[1]**2))\n",
    "    dVdt = (I - g_Na * m**3 * h * (V - E_Na) - g_K * n**4 * (V - E_K) - g_L * (V - E_L)) / C_m\n",
    "    dmdt = alpha_m(V) * (1 - m) - beta_m(V) * m\n",
    "    dhdt = alpha_h(V) * (1 - h) - beta_h(V) * h\n",
    "    dndt = alpha_n(V) * (1 - n) - beta_n(V) * n\n",
    "    return dVdt, dmdt, dhdt, dndt\n",
    "\n",
    "\n",
    "# Forward Euler to solve IVP\n",
    "def integrate_HH(V0, m, h, n, I_params, dt, t):\n",
    "    \n",
    "    V_record = np.zeros_like(t)\n",
    "    V = V0\n",
    "    \n",
    "    for i in range(len(t)):\n",
    "        V_record[i] = V\n",
    "        dVdt, dmdt, dhdt, dndt = hodgkin_huxley_eq(V, m, h, n, I_params, t[i])\n",
    "        V += dVdt * dt\n",
    "        m += dmdt * dt\n",
    "        h += dhdt * dt\n",
    "        n += dndt * dt\n",
    "    return V_record"
   ]
  },
  {
   "cell_type": "code",
   "execution_count": 7,
   "id": "7857b4d2",
   "metadata": {},
   "outputs": [],
   "source": [
    "# test run forward model\n",
    "\n",
    "# a = 5.0\n",
    "# c = 2.0\n",
    "\n",
    "# I_params = np.array([a, c])\n",
    "\n",
    "# V_record = integrate_HH(V0, m, h, n, I_params, dt, t)\n",
    "# I_stimulus = I_params[0]*np.exp(-(t-b)**2/(2*I_params[1]**2))\n",
    "\n",
    "# plt.plot(t, V_record, label = 'V')\n",
    "# plt.plot(t, I_stimulus, label = 'I')\n",
    "# plt.xlabel('time')\n",
    "# plt.legend()"
   ]
  },
  {
   "cell_type": "markdown",
   "id": "e4e41c54",
   "metadata": {},
   "source": [
    "### Define Cost Function"
   ]
  },
  {
   "cell_type": "code",
   "execution_count": 8,
   "id": "995be136",
   "metadata": {},
   "outputs": [],
   "source": [
    "def forward_model_cost(I_params, V0, m, h, n, dt, t, data_steps, V_data):\n",
    "\n",
    "    cost = 0\n",
    "        \n",
    "    V_record = []\n",
    "    V = V0\n",
    "    \n",
    "    for i in range(len(t)):\n",
    "        \n",
    "        # forward euler solver \n",
    "        V_record.append(V)\n",
    "        \n",
    "        dVdt, dmdt, dhdt, dndt = hodgkin_huxley_eq(V, m, h, n, I_params, t[i])\n",
    "        V += dVdt * dt\n",
    "        m += dmdt * dt\n",
    "        h += dhdt * dt\n",
    "        n += dndt * dt\n",
    "\n",
    "        # compute cost at time t_i\n",
    "        if t[i] in data_steps:\n",
    "            j = np.where(data_steps == t[i])\n",
    "            cost += (V_record[i] - V_data[j])**2 \n",
    "                  \n",
    "    cost = cost/len(data_steps)\n",
    "\n",
    "    return cost\n",
    "     "
   ]
  },
  {
   "cell_type": "code",
   "execution_count": 9,
   "id": "fa457024",
   "metadata": {},
   "outputs": [
    {
     "data": {
      "text/plain": [
       "array([96.85022681])"
      ]
     },
     "execution_count": 9,
     "metadata": {},
     "output_type": "execute_result"
    }
   ],
   "source": [
    "# test and look at total cost before any optimization\n",
    "\n",
    "a = 5.0\n",
    "c = 2.0\n",
    "\n",
    "I_params = np.array([a, c])\n",
    "\n",
    "total_cost = forward_model_cost(I_params, V0, m, h, n, dt, t, data_steps, V_data)\n",
    "total_cost  "
   ]
  },
  {
   "cell_type": "markdown",
   "id": "3b8b2fbb",
   "metadata": {},
   "source": [
    "### Compute Gradient"
   ]
  },
  {
   "cell_type": "code",
   "execution_count": 10,
   "id": "136fba06",
   "metadata": {},
   "outputs": [],
   "source": [
    "# find AD representation of gradient using autograd\n",
    "# autograd syntax: grad(f, 0) = gradient of f w.r.t. 0th argument of f\n",
    "grad_AD = grad(forward_model_cost, 0) \n",
    "\n",
    "# test/compute gradient at specific point\n",
    "# grad_AD(I_params, V0, m, h, n, dt, t, data_steps, V_data)\n"
   ]
  },
  {
   "cell_type": "code",
   "execution_count": 11,
   "id": "1098f63e",
   "metadata": {},
   "outputs": [
    {
     "name": "stdout",
     "output_type": "stream",
     "text": [
      "step size= 1.0 , example gradient finite difference error= [1343.95250252]\n",
      "step size= 0.1 , example gradient finite difference error= [139.06535391]\n",
      "step size= 0.01 , example gradient finite difference error= [80.36850655]\n",
      "step size= 0.001 , example gradient finite difference error= [7.18695622]\n",
      "step size= 0.0001 , example gradient finite difference error= [0.03804186]\n",
      "step size= 1e-05 , example gradient finite difference error= [0.00183062]\n",
      "step size= 1e-06 , example gradient finite difference error= [0.00012352]\n",
      "step size= 1e-07 , example gradient finite difference error= [1.54676592e-05]\n",
      "step size= 1e-08 , example gradient finite difference error= [1.57653415e-06]\n",
      "step size= 1e-09 , example gradient finite difference error= [1.53436301e-07]\n",
      "step size= 1e-10 , example gradient finite difference error= [6.48461187e-08]\n",
      "step size= 1e-11 , example gradient finite difference error= [8.41184669e-07]\n",
      "step size= 1e-12 , example gradient finite difference error= [1.58475455e-06]\n",
      "step size= 1e-13 , example gradient finite difference error= [4.35737827e-06]\n"
     ]
    },
    {
     "data": {
      "text/plain": [
       "Text(0, 0.5, 'error')"
      ]
     },
     "execution_count": 11,
     "metadata": {},
     "output_type": "execute_result"
    },
    {
     "data": {
      "image/png": "[encoded data removed]",
      "text/plain": [
       "<Figure size 432x288 with 1 Axes>"
      ]
     },
     "metadata": {
      "needs_background": "light"
     },
     "output_type": "display_data"
    }
   ],
   "source": [
    "# TO-DO: CLEAN THIS UP\n",
    "\n",
    "# def set_I_params(val, idx):\n",
    "    \n",
    "#     if idx = 0:\n",
    "#         I_\n",
    "\n",
    "### FD check wrt a ####\n",
    "\n",
    "# step_sizes = [1e0, 1e-1, 1e-2, 1e-3, 1e-4, 1e-5, 1e-6, 1e-7, 1e-8, 1e-9, 1e-10, 1e-11, 1e-12, 1e-13]\n",
    "# p = np.random.randint(0,5000)\n",
    "\n",
    "# # Make log-log plot of gradient finite difference error vs. step size\n",
    "\n",
    "# w = c\n",
    "# A1 = np.random.uniform(0,10)\n",
    "# L1 = forward_model_cost(np.array([A1, w]), V0, m, h, n, dt, t, data_steps, V_data)\n",
    "\n",
    "# # compute gradient using autograd\n",
    "# g = grad_AD(np.array([A1, w]), V0, m, h, n, dt, t, data_steps, V_data)[0]\n",
    "# dL_dV_p = np.dot(g, p)\n",
    "\n",
    "# # j = jac_AD(V1, m, h, n, I_stimulus, dt, t, data_steps, V_data)\n",
    "# # dL_dV_p = np.dot(j, p)\n",
    "\n",
    "\n",
    "# grad_errs = list()\n",
    "# for s in step_sizes:\n",
    "    \n",
    "#     # compute gradient using finite differences\n",
    "#     A2 = A1 + s*p\n",
    "\n",
    "#     L2 = forward_model_cost(np.array([A2, w]), V0, m, h, n, dt, t, data_steps, V_data)\n",
    "#     dL_dV_p_diff = (L2 - L1) / s\n",
    "\n",
    "\n",
    "#     # compute gradient error\n",
    "#     grad_err = np.abs( (dL_dV_p - dL_dV_p_diff) / dL_dV_p_diff )\n",
    "#     print('step size=', s, ', example gradient finite difference error=', grad_err)\n",
    "    \n",
    "#     grad_errs.append(grad_err)\n",
    "\n",
    "# plt.loglog(step_sizes, grad_errs)\n",
    "# plt.title('Example finite difference gradient check')\n",
    "# plt.xlabel('step size')\n",
    "# plt.ylabel('error')\n",
    "\n",
    "\n",
    "### FD check wrt c ###\n",
    "\n",
    "step_sizes = [1e0, 1e-1, 1e-2, 1e-3, 1e-4, 1e-5, 1e-6, 1e-7, 1e-8, 1e-9, 1e-10, 1e-11, 1e-12, 1e-13]\n",
    "p = np.random.randint(0,5000)\n",
    "\n",
    "# Make log-log plot of gradient finite difference error vs. step size\n",
    "\n",
    "w1 = np.random.uniform(0, 5)\n",
    "L1 = forward_model_cost(np.array([a, w1]), V0, m, h, n, dt, t, data_steps, V_data)\n",
    "\n",
    "\n",
    "# compute gradient using autograd\n",
    "g = grad_AD(np.array([a, w1]), V0, m, h, n, dt, t, data_steps, V_data)[1]\n",
    "dL_dV_p = np.dot(g, p)\n",
    "\n",
    "\n",
    "grad_errs = list()\n",
    "for s in step_sizes:\n",
    "    \n",
    "    # compute gradient using finite differences\n",
    "    w2 = w1 + s*p\n",
    "\n",
    "    L2 = forward_model_cost(np.array([a, w2]), V0, m, h, n, dt, t, data_steps, V_data)\n",
    "    dL_dV_p_diff = (L2 - L1) / s\n",
    "\n",
    "\n",
    "    # compute gradient error\n",
    "    grad_err = np.abs( (dL_dV_p - dL_dV_p_diff) / dL_dV_p_diff )\n",
    "    print('step size=', s, ', example gradient finite difference error=', grad_err)\n",
    "    \n",
    "    grad_errs.append(grad_err)\n",
    "\n",
    "plt.loglog(step_sizes, grad_errs)\n",
    "plt.title('Example finite difference gradient check')\n",
    "plt.xlabel('step size')\n",
    "plt.ylabel('error')\n",
    "\n"
   ]
  },
  {
   "cell_type": "markdown",
   "id": "d3117794",
   "metadata": {},
   "source": [
    "### Find Minimizer"
   ]
  },
  {
   "cell_type": "code",
   "execution_count": 12,
   "id": "7c15e2e9",
   "metadata": {},
   "outputs": [
    {
     "name": "stdout",
     "output_type": "stream",
     "text": [
      "Iteration: 0, x: [5.2486514  2.44403657], Cost: [83.5966305]\n",
      "Iteration: 1, x: [5.24867574 2.44408256], Cost: [83.59663023]\n",
      "Iteration: 2, x: [5.24189067 2.44799063], Cost: [83.59662857]\n",
      "Iteration: 3, x: [5.24185719 2.44802109], Cost: [83.59662857]\n",
      "Iteration: 4, x: [5.24149443 2.44824213], Cost: [83.59662856]\n",
      "Iteration: 5, x: [5.2407954  2.44864627], Cost: [83.59662855]\n",
      "Iteration: 6, x: [5.24079037 2.44863757], Cost: [83.59662854]\n"
     ]
    },
    {
     "data": {
      "text/plain": [
       "     fun: 83.596628535931\n",
       "     jac: array([-1.54390102e-06,  9.04387424e-07])\n",
       " message: 'Optimization terminated successfully.'\n",
       "    nfev: 20\n",
       "     nit: 7\n",
       "    njev: 19\n",
       "  status: 0\n",
       " success: True\n",
       "       x: array([5.24079037, 2.44863757])"
      ]
     },
     "execution_count": 12,
     "metadata": {},
     "output_type": "execute_result"
    }
   ],
   "source": [
    "# set initial guess\n",
    "initial_guess = np.array([a, c])\n",
    "\n",
    "\n",
    "# print out at every iteration\n",
    "def callback(x):\n",
    "    error = forward_model_cost(x, V0, m, h, n, dt, t, data_steps, V_data)\n",
    "    print(f\"Iteration: {callback.iteration}, x: {x}, Cost: {error}\")\n",
    "    callback.iteration += 1\n",
    "   \n",
    "\n",
    "callback.iteration = 0\n",
    "\n",
    "# discussions of method to choose:\n",
    "# https://stackoverflow.com/questions/42424444/scipy-optimisation-newton-cg-vs-bfgs-vs-l-bfgs\n",
    "# https://stackoverflow.com/questions/58925576/how-to-choose-proper-method-for-scipy-optimize-minimize\n",
    "# Nelder-Mead doesn't use the gradient\n",
    "# use L-BFGS-B if we have bounds\n",
    "# use CG or BFGS otherwise\n",
    "method = 'CG' #'L-BFGS-B' #'BFGS' \n",
    "\n",
    "# optimization\n",
    "optim = optimize.minimize(forward_model_cost, initial_guess, args = (V0, m, h, n, dt, t, data_steps, V_data), \n",
    "                  jac = grad_AD, callback = callback, method = method)\n",
    "\n",
    "\n",
    "optim"
   ]
  },
  {
   "cell_type": "code",
   "execution_count": 13,
   "id": "48cd05a2",
   "metadata": {},
   "outputs": [
    {
     "data": {
      "text/plain": [
       "<matplotlib.legend.Legend at 0x7ff633f398e0>"
      ]
     },
     "execution_count": 13,
     "metadata": {},
     "output_type": "execute_result"
    },
    {
     "data": {
      "image/png": "[encoded data removed]",
      "text/plain": [
       "<Figure size 432x288 with 1 Axes>"
      ]
     },
     "metadata": {
      "needs_background": "light"
     },
     "output_type": "display_data"
    }
   ],
   "source": [
    "# compute V with optimal I\n",
    "V_final = integrate_HH(V0, m, h, n, optim.x, dt, t)\n",
    "\n",
    "plt.figure()\n",
    "plt.plot(t, V_final, ls = 'dotted', label = 'model with optimized I')\n",
    "plt.plot(data_steps, V_data, label = 'data')\n",
    "plt.xlabel('Time')\n",
    "plt.ylabel('Voltage')\n",
    "plt.legend()"
   ]
  },
  {
   "cell_type": "code",
   "execution_count": null,
   "id": "14853ee6",
   "metadata": {},
   "outputs": [],
   "source": []
  }
 ],
 "metadata": {
  "kernelspec": {
   "display_name": "Python 3 (ipykernel)",
   "language": "python",
   "name": "python3"
  },
  "language_info": {
   "codemirror_mode": {
    "name": "ipython",
    "version": 3
   },
   "file_extension": ".py",
   "mimetype": "text/x-python",
   "name": "python",
   "nbconvert_exporter": "python",
   "pygments_lexer": "ipython3",
   "version": "3.9.7"
  }
 },
 "nbformat": 4,
 "nbformat_minor": 5
}
