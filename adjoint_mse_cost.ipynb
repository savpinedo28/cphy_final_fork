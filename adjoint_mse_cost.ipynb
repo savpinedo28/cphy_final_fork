{
 "cells": [
  {
   "cell_type": "code",
   "execution_count": 17,
   "id": "e8b9fbfb-5cc5-40a9-aa1b-9dc840597157",
   "metadata": {},
   "outputs": [],
   "source": [
    "import autograd.numpy as np\n",
    "from autograd import grad, jacobian\n",
    "from scipy.integrate import solve_ivp\n",
    "from scipy import optimize\n",
    "import matplotlib.pyplot as plt\n"
   ]
  },
  {
   "cell_type": "code",
   "execution_count": 2,
   "id": "2cbc8aea-34bb-4822-a005-230f828abc48",
   "metadata": {
    "tags": []
   },
   "outputs": [],
   "source": [
    "\n",
    "\n",
    "# Define HH model parameters\n",
    "g_Na = 120.0  # Sodium conductance (mS/cm^2)\n",
    "g_K = 36.0   # Potassium conductance (mS/cm^2)\n",
    "g_L = 0.3    # Leak conductance (mS/cm^2)\n",
    "E_Na = 50.0  # Sodium reversal potential (mV)\n",
    "E_K = -77.0  # Potassium reversal potential (mV)\n",
    "E_L = -55.0  # Leak reversal potential (mV)\n",
    "C_m = 1.0    # Membrane capacitance (uF/cm^2)\n",
    "\n",
    "# Define the HH model equations\n",
    "def alpha_m(V):\n",
    "    return 0.1 * (V + 40.0) / (1.0 - np.exp(-(V + 40.0) / 10.0))\n",
    "\n",
    "def beta_m(V):\n",
    "    return 4.0 * np.exp(-(V + 65.0) / 18.0)\n",
    "\n",
    "def alpha_h(V):\n",
    "    return 0.07 * np.exp(-(V + 65.0) / 20.0)\n",
    "\n",
    "def beta_h(V):\n",
    "    return 1.0 / (1.0 + np.exp(-(V + 35.0) / 10.0))\n",
    "\n",
    "def alpha_n(V):\n",
    "    return 0.01 * (V + 55.0) / (1.0 - np.exp(-(V + 55.0) / 10.0))\n",
    "\n",
    "def beta_n(V):\n",
    "    return 0.125 * np.exp(-(V + 65) / 80.0)\n",
    "\n",
    "# Define the HH model differential equations\n",
    "def hodgkin_huxley_eq(V, m, h, n, I_params, t):\n",
    "    I = I_params[0]*np.sin(I_params[1]*t)\n",
    "    dVdt = (I - g_Na * m**3 * h * (V - E_Na) - g_K * n**4 * (V - E_K) - g_L * (V - E_L)) / C_m\n",
    "    dmdt = alpha_m(V) * (1 - m) - beta_m(V) * m\n",
    "    dhdt = alpha_h(V) * (1 - h) - beta_h(V) * h\n",
    "    dndt = alpha_n(V) * (1 - n) - beta_n(V) * n\n",
    "    return dVdt, dmdt, dhdt, dndt\n",
    "\n",
    "# Define time parameters\n",
    "# dt = 0.01  # Time step (ms)\n",
    "# t = np.arange(0, 50, dt)  # Time vector (ms)\n",
    "dt = 0.025\n",
    "t = np.arange(0, 250, dt)\n",
    "\n",
    "\n",
    "# Initialize state variables\n",
    "V0 = -65.0  # Membrane voltage (mV)\n",
    "m, h, n = 0.05, 0.6, 0.32  # Initial values of gating variables\n"
   ]
  },
  {
   "cell_type": "code",
   "execution_count": 3,
   "id": "c0f15412",
   "metadata": {},
   "outputs": [],
   "source": [
    "def integrate_HH(V0, m, h, n, I_params, dt, t):\n",
    "    \n",
    "    V_record = np.zeros_like(t)\n",
    "    V = V0\n",
    "    \n",
    "    for i in range(len(t)):\n",
    "        V_record[i] = V\n",
    "        dVdt, dmdt, dhdt, dndt = hodgkin_huxley_eq(V, m, h, n, I_params, t[i])\n",
    "        V += dVdt * dt\n",
    "        m += dmdt * dt\n",
    "        h += dhdt * dt\n",
    "        n += dndt * dt\n",
    "    return V_record\n",
    "\n",
    "\n",
    "    "
   ]
  },
  {
   "cell_type": "code",
   "execution_count": null,
   "id": "1763c02e-5afc-465a-af2f-2d45b1662bbe",
   "metadata": {},
   "outputs": [],
   "source": []
  },
  {
   "cell_type": "markdown",
   "id": "072fe10c",
   "metadata": {},
   "source": [
    "## Adjoint"
   ]
  },
  {
   "cell_type": "markdown",
   "id": "e63385e5",
   "metadata": {},
   "source": [
    "### Import Data"
   ]
  },
  {
   "cell_type": "code",
   "execution_count": 4,
   "id": "5f3922a5",
   "metadata": {},
   "outputs": [
    {
     "data": {
      "text/plain": [
       "10000"
      ]
     },
     "execution_count": 4,
     "metadata": {},
     "output_type": "execute_result"
    }
   ],
   "source": [
    "import zipfile\n",
    "import csv\n",
    "\n",
    "with zipfile.ZipFile('./sim_data/gt_multa.zip', 'r') as zip_ref:\n",
    "    zip_ref.extractall()\n",
    "    \n",
    "with open('gt_multa.csv', newline='') as csvfile:\n",
    "    data = list(csv.reader(csvfile))\n",
    "    \n",
    "data_steps = [row[0] for row in data][1:-1] # extract time data\n",
    "data_steps = np.array([float(i) for i in data_steps]) # convert to numpy array of floats\n",
    "\n",
    "V_data = [row[1] for row in data][1:-1]\n",
    "V_data = np.array([float(i) for i in V_data])\n",
    "\n",
    "I_data = [row[2] for row in data][1:-1]\n",
    "I_data = np.array([float(i) for i in I_data])\n",
    "\n",
    "len(V_data)"
   ]
  },
  {
   "cell_type": "code",
   "execution_count": 5,
   "id": "cd07a462",
   "metadata": {},
   "outputs": [
    {
     "data": {
      "text/plain": [
       "<matplotlib.legend.Legend at 0x7fc3e8719c40>"
      ]
     },
     "execution_count": 5,
     "metadata": {},
     "output_type": "execute_result"
    },
    {
     "data": {
      "image/png": "[encoded data removed]",
      "text/plain": [
       "<Figure size 432x288 with 1 Axes>"
      ]
     },
     "metadata": {
      "needs_background": "light"
     },
     "output_type": "display_data"
    }
   ],
   "source": [
    "plt.plot(data_steps, V_data, label = 'V')\n",
    "plt.plot(data_steps, I_data, label = 'I')\n",
    "plt.xlabel('time')\n",
    "plt.legend()"
   ]
  },
  {
   "cell_type": "code",
   "execution_count": null,
   "id": "bcff2933",
   "metadata": {},
   "outputs": [],
   "source": []
  },
  {
   "cell_type": "markdown",
   "id": "f64921d2",
   "metadata": {},
   "source": [
    "#### Fake Data"
   ]
  },
  {
   "cell_type": "code",
   "execution_count": null,
   "id": "7857b4d2",
   "metadata": {},
   "outputs": [],
   "source": [
    "# run forward model to create fake data\n",
    "\n",
    "#A = 4.289\n",
    "#w = 0.1\n",
    "\n",
    "A = 4.5\n",
    "w = 0.1\n",
    "\n",
    "I_params = np.array([A, w])\n",
    "\n",
    "V_record = integrate_HH(V0, m, h, n, I_params, dt, t)\n",
    "\n",
    "I_stimulus = A*np.sin(w*t)\n",
    "\n",
    "plt.plot(t, V_record, label = 'V')\n",
    "plt.plot(t, I_stimulus, label = 'I')\n",
    "plt.xlabel('time')\n",
    "plt.legend()"
   ]
  },
  {
   "cell_type": "code",
   "execution_count": null,
   "id": "6a8d50cb",
   "metadata": {},
   "outputs": [],
   "source": [
    "V_subsamp = V_record[::10]\n",
    "    \n",
    "mean = np.mean(V_record)\n",
    "stddev = np.std(V_record)\n",
    "\n",
    "#noise = np.random.normal(0, stddev, len(V_subsamp))\n",
    "noise = np.random.normal(0,1,len(V_subsamp))\n",
    "V_data = V_subsamp + noise\n",
    "\n",
    "data_steps = t[::10]"
   ]
  },
  {
   "cell_type": "code",
   "execution_count": null,
   "id": "bae72a52",
   "metadata": {},
   "outputs": [],
   "source": [
    "plt.plot(t, V_record, label = 'model equivalent')\n",
    "plt.plot(data_steps, V_data, label = 'noisy data')\n",
    "plt.xlabel('time')\n",
    "plt.ylabel('V')\n",
    "plt.legend()"
   ]
  },
  {
   "cell_type": "markdown",
   "id": "7a6bd816",
   "metadata": {},
   "source": [
    "### Define cost function"
   ]
  },
  {
   "cell_type": "code",
   "execution_count": 7,
   "id": "995be136",
   "metadata": {},
   "outputs": [
    {
     "data": {
      "text/plain": [
       "array([123.53163076])"
      ]
     },
     "execution_count": 7,
     "metadata": {},
     "output_type": "execute_result"
    }
   ],
   "source": [
    "def forward_model_cost(I_params, V0, m, h, n, dt, t, data_steps, V_data):\n",
    "\n",
    "    cost = 0\n",
    "        \n",
    "    V_record = []\n",
    "    V = V0\n",
    "    \n",
    "    for i in range(len(t)):\n",
    "        \n",
    "        # run forward step\n",
    "        V_record.append(V)\n",
    "        \n",
    "        dVdt, dmdt, dhdt, dndt = hodgkin_huxley_eq(V, m, h, n, I_params, t[i])\n",
    "        V += dVdt * dt\n",
    "        m += dmdt * dt\n",
    "        h += dhdt * dt\n",
    "        n += dndt * dt\n",
    "\n",
    "        # compute cost\n",
    "        if t[i] in data_steps:\n",
    "            j = np.where(data_steps == t[i])\n",
    "            cost += (V_record[i] - V_data[j])**2 # [elu(V_record) - elu(V_data)]**2\n",
    "            \n",
    "    # cost += l2norm(I)        \n",
    "    cost = cost/len(data_steps)\n",
    "\n",
    "            \n",
    "    #return V_record, cost\n",
    "    return cost\n",
    "\n",
    "\n",
    "\n",
    "\n",
    "# look at total cost before any optimization\n",
    "\n",
    "# first guess\n",
    "A = 2.0\n",
    "w = 0.02\n",
    "\n",
    "I_params = np.array([A, w])\n",
    "\n",
    "total_cost = forward_model_cost(I_params, V0, m, h, n, dt, t, data_steps, V_data)\n",
    "total_cost       "
   ]
  },
  {
   "cell_type": "code",
   "execution_count": null,
   "id": "fa457024",
   "metadata": {},
   "outputs": [],
   "source": []
  },
  {
   "cell_type": "markdown",
   "id": "3b8b2fbb",
   "metadata": {},
   "source": [
    "#### Compute Gradient"
   ]
  },
  {
   "cell_type": "code",
   "execution_count": 8,
   "id": "136fba06",
   "metadata": {},
   "outputs": [],
   "source": [
    "# find gradient\n",
    "\n",
    "grad_AD = grad(forward_model_cost, 0) # 0 indicates differentiation w.r.t. the first argument of f."
   ]
  },
  {
   "cell_type": "code",
   "execution_count": 9,
   "id": "0be013ab",
   "metadata": {},
   "outputs": [
    {
     "data": {
      "text/plain": [
       "array([  1.39622899, -99.07369996])"
      ]
     },
     "execution_count": 9,
     "metadata": {},
     "output_type": "execute_result"
    }
   ],
   "source": [
    "# test autograd with I_params used to create fake data\n",
    "\n",
    "grad_AD(I_params, V0, m, h, n, dt, t, data_steps, V_data)\n"
   ]
  },
  {
   "cell_type": "markdown",
   "id": "14708b1a",
   "metadata": {},
   "source": [
    "#### FD Check"
   ]
  },
  {
   "cell_type": "code",
   "execution_count": 10,
   "id": "0b886b83",
   "metadata": {},
   "outputs": [
    {
     "name": "stdout",
     "output_type": "stream",
     "text": [
      "step size= 1e-07 , gradient finite difference error= [0.19005641]\n"
     ]
    }
   ],
   "source": [
    "# # FD check wrt A\n",
    "\n",
    "# A1 = np.random.uniform(0,5)\n",
    "# L1 = forward_model_cost(np.array([A1, w]), V0, m, h, n, dt, t, data_steps, V_data)\n",
    "\n",
    "# p = np.random.randint(0,5000)\n",
    "# s = 1e-7 # step size\n",
    "# A2 = A1 + s*p\n",
    "# L2 = forward_model_cost(np.array([A2, w]), V0, m, h, n, dt, t, data_steps, V_data)\n",
    "# dL_dV_p_diff = (L2 - L1) / s\n",
    "\n",
    "# g = grad_AD(np.array([A1, w]), V0, m, h, n, dt, t, data_steps, V_data)[0]\n",
    "# dL_dV_p = np.dot(g, p)\n",
    "\n",
    "# grad_err = np.abs( (dL_dV_p - dL_dV_p_diff) / dL_dV_p_diff )\n",
    "# print('step size=', s, ', gradient finite difference error=', grad_err)\n",
    "\n",
    "\n",
    "# FD check wrt w\n",
    "\n",
    "w1 = np.random.uniform(0, 1)\n",
    "L1 = forward_model_cost(np.array([A, w1]), V0, m, h, n, dt, t, data_steps, V_data)\n",
    "\n",
    "p = np.random.randint(0,5000)\n",
    "s = 1e-7 # step size\n",
    "w2 = w1 + s*p\n",
    "L2 = forward_model_cost(np.array([A, w2]), V0, m, h, n, dt, t, data_steps, V_data)\n",
    "dL_dV_p_diff = (L2 - L1) / s\n",
    "\n",
    "g = grad_AD(np.array([A, w1]), V0, m, h, n, dt, t, data_steps, V_data)[1]\n",
    "dL_dV_p = np.dot(g, p)\n",
    "\n",
    "grad_err = np.abs( (dL_dV_p - dL_dV_p_diff) / dL_dV_p_diff )\n",
    "print('step size=', s, ', gradient finite difference error=', grad_err)\n"
   ]
  },
  {
   "cell_type": "code",
   "execution_count": 11,
   "id": "1098f63e",
   "metadata": {},
   "outputs": [
    {
     "name": "stdout",
     "output_type": "stream",
     "text": [
      "step size= 1.0 , example gradient finite difference error= [206218.353362]\n",
      "step size= 0.1 , example gradient finite difference error= [20611.3050259]\n",
      "step size= 0.01 , example gradient finite difference error= [2067.03331499]\n",
      "step size= 0.001 , example gradient finite difference error= [214.1871944]\n",
      "step size= 0.0001 , example gradient finite difference error= [139.99766361]\n",
      "step size= 1e-05 , example gradient finite difference error= [36.25609786]\n",
      "step size= 1e-06 , example gradient finite difference error= [0.13076793]\n",
      "step size= 1e-07 , example gradient finite difference error= [0.02148116]\n",
      "step size= 1e-08 , example gradient finite difference error= [0.00225166]\n",
      "step size= 1e-09 , example gradient finite difference error= [0.00022623]\n",
      "step size= 1e-10 , example gradient finite difference error= [2.26311354e-05]\n",
      "step size= 1e-11 , example gradient finite difference error= [2.32382018e-06]\n",
      "step size= 1e-12 , example gradient finite difference error= [1.06118926e-06]\n",
      "step size= 1e-13 , example gradient finite difference error= [5.39772615e-06]\n"
     ]
    },
    {
     "data": {
      "text/plain": [
       "Text(0, 0.5, 'error')"
      ]
     },
     "execution_count": 11,
     "metadata": {},
     "output_type": "execute_result"
    },
    {
     "data": {
      "image/png": "[encoded data removed]",
      "text/plain": [
       "<Figure size 432x288 with 1 Axes>"
      ]
     },
     "metadata": {
      "needs_background": "light"
     },
     "output_type": "display_data"
    }
   ],
   "source": [
    "# step_sizes = [1e0, 1e-1, 1e-2, 1e-3, 1e-4, 1e-5, 1e-6, 1e-7, 1e-8, 1e-9, 1e-10, 1e-11, 1e-12, 1e-13]\n",
    "\n",
    "\n",
    "# # Make log-log plot of gradient finite difference error vs. step size\n",
    "\n",
    "# A1 = np.random.uniform(0,5)\n",
    "# L1 = forward_model_cost(np.array([A1, w]), V0, m, h, n, dt, t, data_steps, V_data)\n",
    "\n",
    "# # compute gradient using autograd\n",
    "# g = grad_AD(np.array([A1, w]), V0, m, h, n, dt, t, data_steps, V_data)[0]\n",
    "# dL_dV_p = np.dot(g, p)\n",
    "\n",
    "# # j = jac_AD(V1, m, h, n, I_stimulus, dt, t, data_steps, V_data)\n",
    "# # dL_dV_p = np.dot(j, p)\n",
    "\n",
    "\n",
    "# grad_errs = list()\n",
    "# for s in step_sizes:\n",
    "    \n",
    "#     # compute gradient using finite differences\n",
    "#     A2 = A1 + s*p\n",
    "\n",
    "#     L2 = forward_model_cost(np.array([A2, w]), V0, m, h, n, dt, t, data_steps, V_data)\n",
    "#     dL_dV_p_diff = (L2 - L1) / s\n",
    "\n",
    "\n",
    "#     # compute gradient error\n",
    "#     grad_err = np.abs( (dL_dV_p - dL_dV_p_diff) / dL_dV_p_diff )\n",
    "#     print('step size=', s, ', example gradient finite difference error=', grad_err)\n",
    "    \n",
    "#     grad_errs.append(grad_err)\n",
    "\n",
    "# plt.loglog(step_sizes, grad_errs)\n",
    "# plt.title('Example finite difference gradient check')\n",
    "# plt.xlabel('step size')\n",
    "# plt.ylabel('error')\n",
    "\n",
    "\n",
    "\n",
    "\n",
    "step_sizes = [1e0, 1e-1, 1e-2, 1e-3, 1e-4, 1e-5, 1e-6, 1e-7, 1e-8, 1e-9, 1e-10, 1e-11, 1e-12, 1e-13]\n",
    "\n",
    "\n",
    "# Make log-log plot of gradient finite difference error vs. step size\n",
    "\n",
    "w1 = np.random.uniform(0, 1)\n",
    "L1 = forward_model_cost(np.array([A, w1]), V0, m, h, n, dt, t, data_steps, V_data)\n",
    "\n",
    "\n",
    "# compute gradient using autograd\n",
    "g = grad_AD(np.array([A, w1]), V0, m, h, n, dt, t, data_steps, V_data)[1]\n",
    "dL_dV_p = np.dot(g, p)\n",
    "\n",
    "\n",
    "grad_errs = list()\n",
    "for s in step_sizes:\n",
    "    \n",
    "    # compute gradient using finite differences\n",
    "    w2 = w1 + s*p\n",
    "\n",
    "    L2 = forward_model_cost(np.array([A, w2]), V0, m, h, n, dt, t, data_steps, V_data)\n",
    "    dL_dV_p_diff = (L2 - L1) / s\n",
    "\n",
    "\n",
    "    # compute gradient error\n",
    "    grad_err = np.abs( (dL_dV_p - dL_dV_p_diff) / dL_dV_p_diff )\n",
    "    print('step size=', s, ', example gradient finite difference error=', grad_err)\n",
    "    \n",
    "    grad_errs.append(grad_err)\n",
    "\n",
    "plt.loglog(step_sizes, grad_errs)\n",
    "plt.title('Example finite difference gradient check')\n",
    "plt.xlabel('step size')\n",
    "plt.ylabel('error')\n",
    "\n"
   ]
  },
  {
   "cell_type": "markdown",
   "id": "d3117794",
   "metadata": {},
   "source": [
    "#### Find Minimizer"
   ]
  },
  {
   "cell_type": "code",
   "execution_count": 12,
   "id": "18efa551",
   "metadata": {},
   "outputs": [
    {
     "data": {
      "text/plain": [
       "(2.0, 0.02)"
      ]
     },
     "execution_count": 12,
     "metadata": {},
     "output_type": "execute_result"
    }
   ],
   "source": [
    "A, w"
   ]
  },
  {
   "cell_type": "code",
   "execution_count": 13,
   "id": "ea99b988",
   "metadata": {},
   "outputs": [
    {
     "name": "stderr",
     "output_type": "stream",
     "text": [
      "/Users/shoshi/opt/anaconda3/lib/python3.9/site-packages/scipy/optimize/_minimize.py:550: RuntimeWarning: Method Nelder-Mead does not use gradient information (jac).\n",
      "  warn('Method %s does not use gradient information (jac).' % method,\n"
     ]
    },
    {
     "data": {
      "text/plain": [
       " final_simplex: (array([[-7.53730263,  0.03280554],\n",
       "       [-7.53721254,  0.03280553],\n",
       "       [-7.53732138,  0.03280541]]), array([85.59394372, 85.59394372, 85.59394373]))\n",
       "           fun: 85.59394372155815\n",
       "       message: 'Optimization terminated successfully.'\n",
       "          nfev: 92\n",
       "           nit: 47\n",
       "        status: 0\n",
       "       success: True\n",
       "             x: array([-7.53730263,  0.03280554])"
      ]
     },
     "execution_count": 13,
     "metadata": {},
     "output_type": "execute_result"
    }
   ],
   "source": [
    "# A = 4.289\n",
    "# w = 0.1\n",
    "\n",
    "\n",
    "#initial_guess = np.array([4.0, w])\n",
    "initial_guess = np.array([A, w])\n",
    "\n",
    "optim = optimize.minimize(forward_model_cost, initial_guess, args = (V0, m, h, n, dt, t, data_steps, V_data), \n",
    "                  jac = grad_AD, method = 'Nelder-Mead')#'BFGS')\n",
    "\n",
    "\n",
    "optim\n"
   ]
  },
  {
   "cell_type": "code",
   "execution_count": 14,
   "id": "b90bde80",
   "metadata": {},
   "outputs": [
    {
     "data": {
      "text/plain": [
       "array([-7.53730263,  0.03280554])"
      ]
     },
     "execution_count": 14,
     "metadata": {},
     "output_type": "execute_result"
    }
   ],
   "source": [
    "optim.x"
   ]
  },
  {
   "cell_type": "code",
   "execution_count": 16,
   "id": "48cd05a2",
   "metadata": {},
   "outputs": [
    {
     "data": {
      "text/plain": [
       "<matplotlib.legend.Legend at 0x7fc36bfedca0>"
      ]
     },
     "execution_count": 16,
     "metadata": {},
     "output_type": "execute_result"
    },
    {
     "data": {
      "image/png": "[encoded data removed]",
      "text/plain": [
       "<Figure size 432x288 with 1 Axes>"
      ]
     },
     "metadata": {
      "needs_background": "light"
     },
     "output_type": "display_data"
    }
   ],
   "source": [
    "# norm_g = np.linalg.norm(g_func(Ak))\n",
    "# print('||g(u)|| / ||g(u_0)||=', norm_g / norm_g0) # should be less than 1e-6\n",
    "\n",
    "V_final = integrate_HH(V0, m, h, n, optim.x, dt, t)\n",
    "\n",
    "plt.figure()\n",
    "plt.plot(t, V_final, ls = 'dotted', label = 'with optimized I')\n",
    "#plt.plot(V_record, label = 'original')\n",
    "plt.plot(t, V_data, label = 'original')\n",
    "#plt.title('V (steepest descent)')\n",
    "plt.xlabel('time')\n",
    "plt.ylabel('V')\n",
    "plt.legend()"
   ]
  },
  {
   "cell_type": "code",
   "execution_count": null,
   "id": "78a3cdc9",
   "metadata": {},
   "outputs": [],
   "source": [
    "dt, len(t)"
   ]
  },
  {
   "cell_type": "code",
   "execution_count": null,
   "id": "1c853501",
   "metadata": {},
   "outputs": [],
   "source": [
    "dt, t"
   ]
  },
  {
   "cell_type": "code",
   "execution_count": null,
   "id": "e6df1cea",
   "metadata": {},
   "outputs": [],
   "source": [
    "len(np.arange(0, 250, dt))"
   ]
  },
  {
   "cell_type": "code",
   "execution_count": null,
   "id": "519ac84e",
   "metadata": {},
   "outputs": [],
   "source": []
  }
 ],
 "metadata": {
  "kernelspec": {
   "display_name": "Python 3 (ipykernel)",
   "language": "python",
   "name": "python3"
  },
  "language_info": {
   "codemirror_mode": {
    "name": "ipython",
    "version": 3
   },
   "file_extension": ".py",
   "mimetype": "text/x-python",
   "name": "python",
   "nbconvert_exporter": "python",
   "pygments_lexer": "ipython3",
   "version": "3.9.7"
  }
 },
 "nbformat": 4,
 "nbformat_minor": 5
}
