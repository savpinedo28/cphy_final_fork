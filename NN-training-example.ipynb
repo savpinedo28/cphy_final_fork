{
 "cells": [
  {
   "cell_type": "code",
   "execution_count": 1,
   "id": "d65f7b50",
   "metadata": {},
   "outputs": [],
   "source": [
    "import numpy as np\n",
    "import csv\n",
    "from NNengine import Run_NN, Multilayers"
   ]
  },
  {
   "cell_type": "markdown",
   "id": "045db325",
   "metadata": {},
   "source": [
    "# Training Neural Network\n",
    "### Very simple example of how NN would be trained on singular data set."
   ]
  },
  {
   "cell_type": "markdown",
   "id": "6d42dc47",
   "metadata": {},
   "source": [
    "## Import simulation training values"
   ]
  },
  {
   "cell_type": "code",
   "execution_count": 2,
   "id": "4509be05",
   "metadata": {},
   "outputs": [],
   "source": [
    "fn = open('gt_1a.csv', 'r')\n",
    "f = csv.DictReader(fn)"
   ]
  },
  {
   "cell_type": "code",
   "execution_count": 3,
   "id": "b6397c0c",
   "metadata": {},
   "outputs": [],
   "source": [
    "stim = []\n",
    "voltage = []\n",
    "for col in f:\n",
    "    stim.append(float(col['stim']))\n",
    "    voltage.append(float(col['voltage']))\n",
    "stim = np.asarray(stim)\n",
    "voltage = np.asarray(voltage)\n",
    "\n",
    "#isolate values where stimulus present\n",
    "start,stop = (np.where(stim!=0)[0][0], np.where(stim!=0)[0][-1])\n",
    "test_stim = stim[start:stop]\n",
    "test_voltage = voltage[start:stop]"
   ]
  },
  {
   "cell_type": "markdown",
   "id": "635833ce",
   "metadata": {},
   "source": [
    "# NN for a square wave\n",
    "#### In (this) case where the pulse has the same amplitude for all values, we test our NN with a list of length 1 containing that value. We rescale the stimulus using our activation function for use in comparison within NN. Voltage data is normalized for NN accuracy."
   ]
  },
  {
   "cell_type": "code",
   "execution_count": 4,
   "id": "f37d4475",
   "metadata": {},
   "outputs": [],
   "source": [
    "assert len(set(test_stim)) == 1\n",
    "test_stim = [test_stim[0]] #single value SQUARE WAVE\n",
    "test_stim = [1/(1+np.exp(s)) for s in test_stim]\n",
    "test_voltage = voltage[start:stop]\n",
    "test_voltage = (test_voltage - min(test_voltage))/(max(test_voltage) - min(test_voltage))"
   ]
  },
  {
   "cell_type": "code",
   "execution_count": 5,
   "id": "064d257a",
   "metadata": {},
   "outputs": [],
   "source": [
    "nouts = [300, len(test_stim)] #single layer neural network with 300 nodes (there are 199 test_voltage values)\n",
    "nin = len(test_voltage) #number of input nodes/values"
   ]
  },
  {
   "cell_type": "markdown",
   "id": "54904b44",
   "metadata": {},
   "source": [
    "### Initiate NN object and run"
   ]
  },
  {
   "cell_type": "code",
   "execution_count": 6,
   "id": "e32843d2",
   "metadata": {},
   "outputs": [
    {
     "name": "stdout",
     "output_type": "stream",
     "text": [
      "loss: 0.025488307559917968\n",
      "loss: 0.022383437199705918\n",
      "loss: 0.0194417930082718\n",
      "loss: 0.01674761625143805\n",
      "loss: 0.014309637130990548\n",
      "loss: 0.012129799876530463\n",
      "loss: 0.010203612217631983\n",
      "loss: 0.008520919525591223\n",
      "loss: 0.007066972651243584\n",
      "loss: 0.0058236570724440025\n",
      "loss: 0.004770749470874841\n",
      "loss: 0.003887087073695712\n",
      "loss: 0.003151567591072604\n",
      "loss: 0.002543934583211312\n",
      "loss: 0.0020453370510335467\n",
      "loss: 0.0016386781601623911\n",
      "loss: 0.001308784496089472\n",
      "loss: 0.0010424347308837438\n",
      "loss: 0.0008282870691499974\n"
     ]
    }
   ],
   "source": [
    "NN = Multilayers(nin, nouts) #initiate our NN class object\n",
    "stim_pred,loss = Run_NN(NN, test_stim, test_voltage, iter_lim=50, error_thresh=.001)"
   ]
  },
  {
   "cell_type": "code",
   "execution_count": 7,
   "id": "59be6acb",
   "metadata": {},
   "outputs": [
    {
     "data": {
      "text/plain": [
       "array([0.15888845])"
      ]
     },
     "execution_count": 7,
     "metadata": {},
     "output_type": "execute_result"
    }
   ],
   "source": [
    "stim_pred"
   ]
  },
  {
   "cell_type": "markdown",
   "id": "a974f9c5",
   "metadata": {},
   "source": [
    "#### If we go back to the original stimulus scale, we can see that the output is in the ballpark of our original stimulus: 1.9. To improve accuracy, the error threshold and iteration limits would have to be adjusted. To test this, increase iter_lim and reduce error_thresh in Run_NN()."
   ]
  },
  {
   "cell_type": "code",
   "execution_count": 8,
   "id": "d64e5d6e",
   "metadata": {},
   "outputs": [
    {
     "data": {
      "text/plain": [
       "array([1.66652182])"
      ]
     },
     "execution_count": 8,
     "metadata": {},
     "output_type": "execute_result"
    }
   ],
   "source": [
    "rescaled = np.log((1 / (stim_pred + 1e-8)) - 1) #should give you input stimulus at original scale\n",
    "rescaled"
   ]
  }
 ],
 "metadata": {
  "kernelspec": {
   "display_name": "Python 3 (ipykernel)",
   "language": "python",
   "name": "python3"
  },
  "language_info": {
   "codemirror_mode": {
    "name": "ipython",
    "version": 3
   },
   "file_extension": ".py",
   "mimetype": "text/x-python",
   "name": "python",
   "nbconvert_exporter": "python",
   "pygments_lexer": "ipython3",
   "version": "3.8.13"
  }
 },
 "nbformat": 4,
 "nbformat_minor": 5
}
