{
 "cells": [
  {
   "cell_type": "code",
   "execution_count": 1,
   "id": "e8b9fbfb-5cc5-40a9-aa1b-9dc840597157",
   "metadata": {},
   "outputs": [],
   "source": [
    "import autograd.numpy as np\n",
    "from autograd import grad, jacobian\n",
    "from scipy.integrate import solve_ivp\n",
    "from scipy import optimize\n",
    "import matplotlib.pyplot as plt\n"
   ]
  },
  {
   "cell_type": "code",
   "execution_count": 2,
   "id": "2cbc8aea-34bb-4822-a005-230f828abc48",
   "metadata": {
    "tags": []
   },
   "outputs": [],
   "source": [
    "\n",
    "\n",
    "# Define HH model parameters\n",
    "g_Na = 120.0  # Sodium conductance (mS/cm^2)\n",
    "g_K = 36.0   # Potassium conductance (mS/cm^2)\n",
    "g_L = 0.3    # Leak conductance (mS/cm^2)\n",
    "E_Na = 50.0  # Sodium reversal potential (mV)\n",
    "E_K = -77.0  # Potassium reversal potential (mV)\n",
    "E_L = -55.0  # Leak reversal potential (mV)\n",
    "C_m = 1.0    # Membrane capacitance (uF/cm^2)\n",
    "\n",
    "# Define the HH model equations\n",
    "def alpha_m(V):\n",
    "    return 0.1 * (V + 40.0) / (1.0 - np.exp(-(V + 40.0) / 10.0))\n",
    "\n",
    "def beta_m(V):\n",
    "    return 4.0 * np.exp(-(V + 65.0) / 18.0)\n",
    "\n",
    "def alpha_h(V):\n",
    "    return 0.07 * np.exp(-(V + 65.0) / 20.0)\n",
    "\n",
    "def beta_h(V):\n",
    "    return 1.0 / (1.0 + np.exp(-(V + 35.0) / 10.0))\n",
    "\n",
    "def alpha_n(V):\n",
    "    return 0.01 * (V + 55.0) / (1.0 - np.exp(-(V + 55.0) / 10.0))\n",
    "\n",
    "def beta_n(V):\n",
    "    return 0.125 * np.exp(-(V + 65) / 80.0)\n",
    "\n",
    "# Define the HH model differential equations\n",
    "def hodgkin_huxley_eq(V, m, h, n, I, t):\n",
    "    #I = I_params[0]*np.sin(I_params[1]*t)\n",
    "    dVdt = (I - g_Na * m**3 * h * (V - E_Na) - g_K * n**4 * (V - E_K) - g_L * (V - E_L)) / C_m\n",
    "    dmdt = alpha_m(V) * (1 - m) - beta_m(V) * m\n",
    "    dhdt = alpha_h(V) * (1 - h) - beta_h(V) * h\n",
    "    dndt = alpha_n(V) * (1 - n) - beta_n(V) * n\n",
    "    return dVdt, dmdt, dhdt, dndt\n",
    "\n",
    "# Define time parameters\n",
    "# dt = 0.01  # Time step (ms)\n",
    "# t = np.arange(0, 50, dt)  # Time vector (ms)\n",
    "dt = 0.025\n",
    "t = np.arange(0, 250, dt)\n",
    "\n",
    "\n",
    "# Initialize state variables\n",
    "V0 = -65.0  # Membrane voltage (mV)\n",
    "m, h, n = 0.05, 0.6, 0.32  # Initial values of gating variables\n"
   ]
  },
  {
   "cell_type": "code",
   "execution_count": 3,
   "id": "c0f15412",
   "metadata": {},
   "outputs": [],
   "source": [
    "def forward_model(I_params, V0, m, h, n, dt, t):\n",
    "        \n",
    "    V_record = []\n",
    "    V = V0\n",
    "    \n",
    "    I = np.zeros_like(t)\n",
    "    I[100:500] = I_params[0]\n",
    "    \n",
    "    for i in range(len(t)):\n",
    "        \n",
    "        # run forward step\n",
    "        V_record.append(V)\n",
    "        \n",
    "        dVdt, dmdt, dhdt, dndt = hodgkin_huxley_eq(V, m, h, n, I[i], t[i])\n",
    "        V += dVdt * dt\n",
    "        m += dmdt * dt\n",
    "        h += dhdt * dt\n",
    "        n += dndt * dt\n",
    "        \n",
    "    return V_record  "
   ]
  },
  {
   "cell_type": "code",
   "execution_count": null,
   "id": "1763c02e-5afc-465a-af2f-2d45b1662bbe",
   "metadata": {},
   "outputs": [],
   "source": []
  },
  {
   "cell_type": "markdown",
   "id": "072fe10c",
   "metadata": {},
   "source": [
    "## Adjoint"
   ]
  },
  {
   "cell_type": "markdown",
   "id": "e63385e5",
   "metadata": {},
   "source": [
    "### Import Data"
   ]
  },
  {
   "cell_type": "code",
   "execution_count": null,
   "id": "5f3922a5",
   "metadata": {},
   "outputs": [],
   "source": [
    "import zipfile\n",
    "import csv\n",
    "\n",
    "with zipfile.ZipFile('./sim_data/gt_multa.zip', 'r') as zip_ref:\n",
    "    zip_ref.extractall()\n",
    "    \n",
    "with open('gt_multa.csv', newline='') as csvfile:\n",
    "    data = list(csv.reader(csvfile))\n",
    "    \n",
    "data_steps = [row[0] for row in data][1:-1] # extract time data\n",
    "data_steps = np.array([float(i) for i in data_steps]) # convert to numpy array of floats\n",
    "\n",
    "V_data = [row[1] for row in data][1:-1]\n",
    "V_data = np.array([float(i) for i in V_data])\n",
    "\n",
    "I_data = [row[2] for row in data][1:-1]\n",
    "I_data = np.array([float(i) for i in I_data])\n",
    "\n",
    "len(V_data)"
   ]
  },
  {
   "cell_type": "code",
   "execution_count": null,
   "id": "cd07a462",
   "metadata": {},
   "outputs": [],
   "source": [
    "plt.plot(data_steps, V_data, label = 'V')\n",
    "plt.plot(data_steps, I_data, label = 'I')\n",
    "plt.xlabel('time')\n",
    "plt.legend()"
   ]
  },
  {
   "cell_type": "code",
   "execution_count": null,
   "id": "bcff2933",
   "metadata": {},
   "outputs": [],
   "source": []
  },
  {
   "cell_type": "markdown",
   "id": "f64921d2",
   "metadata": {},
   "source": [
    "#### Fake Data"
   ]
  },
  {
   "cell_type": "code",
   "execution_count": 4,
   "id": "7857b4d2",
   "metadata": {},
   "outputs": [
    {
     "data": {
      "text/plain": [
       "<matplotlib.legend.Legend at 0x7fee90e748b0>"
      ]
     },
     "execution_count": 4,
     "metadata": {},
     "output_type": "execute_result"
    },
    {
     "data": {
      "image/png": "[encoded data removed]",
      "text/plain": [
       "<Figure size 432x288 with 1 Axes>"
      ]
     },
     "metadata": {
      "needs_background": "light"
     },
     "output_type": "display_data"
    }
   ],
   "source": [
    "# run forward model to create fake data\n",
    "\n",
    "#A = 4.289\n",
    "#w = 0.1\n",
    "\n",
    "#A = 4.5\n",
    "#w = 0.1\n",
    "\n",
    "A = 10.0\n",
    "I_params = np.array([A])\n",
    "\n",
    "#I_params = np.array([A, w])\n",
    "\n",
    "V_record = forward_model(I_params, V0, m, h, n, dt, t)\n",
    "\n",
    "#I_stimulus = A*np.sin(w*t)\n",
    "I_stimulus = np.zeros_like(t)\n",
    "I_stimulus[100:500] = I_params[0]\n",
    "\n",
    "plt.plot(t, V_record, label = 'V')\n",
    "plt.plot(t, I_stimulus, label = 'I')\n",
    "plt.xlabel('time')\n",
    "plt.legend()\n",
    "\n"
   ]
  },
  {
   "cell_type": "code",
   "execution_count": 11,
   "id": "6a8d50cb",
   "metadata": {},
   "outputs": [],
   "source": [
    "V_subsamp = V_record#[::10]\n",
    "    \n",
    "mean = np.mean(V_record)\n",
    "stddev = np.std(V_record)\n",
    "\n",
    "#noise = np.random.normal(0, stddev, len(V_subsamp))\n",
    "noise = np.random.normal(0,1,len(V_subsamp))\n",
    "V_data = V_subsamp + noise\n",
    "\n",
    "data_steps = t#[::10]"
   ]
  },
  {
   "cell_type": "code",
   "execution_count": 12,
   "id": "bae72a52",
   "metadata": {},
   "outputs": [
    {
     "data": {
      "text/plain": [
       "<matplotlib.legend.Legend at 0x7fee60b40d60>"
      ]
     },
     "execution_count": 12,
     "metadata": {},
     "output_type": "execute_result"
    },
    {
     "data": {
      "image/png": "[encoded data removed]",
      "text/plain": [
       "<Figure size 432x288 with 1 Axes>"
      ]
     },
     "metadata": {
      "needs_background": "light"
     },
     "output_type": "display_data"
    }
   ],
   "source": [
    "plt.plot(t, V_record, label = 'model equivalent')\n",
    "plt.plot(data_steps, V_data, label = 'noisy data')\n",
    "plt.xlabel('time')\n",
    "plt.ylabel('V')\n",
    "plt.legend()"
   ]
  },
  {
   "cell_type": "markdown",
   "id": "ae1f83b3",
   "metadata": {},
   "source": [
    "### Define cost function"
   ]
  },
  {
   "cell_type": "code",
   "execution_count": 13,
   "id": "f8cdeb29",
   "metadata": {},
   "outputs": [],
   "source": [
    "def elu_norm(voltage, thresh, alpha = 0.001):\n",
    "    exponentiated_values = np.where(voltage <= np.ones(len(voltage))*thresh, alpha*(np.exp(voltage)-np.exp(thresh)), voltage)\n",
    "    return exponentiated_values\n",
    "\n",
    "\n",
    "def lagrange_seq(I_array, y_true, y_pred, alpha = .001, beta = 1e3, gamma = 1e2, thresh = -55):\n",
    "    \n",
    "    #penalty term for deviation from desired number of action potentials\n",
    "    #ap_true = ap_count(y_true, thresh)\n",
    "    #ap_pred = ap_count(y_pred, thresh)\n",
    "    #mse_ap = (ap_pred - ap_true)**2\n",
    "    normed_true = elu_norm(y_true, thresh, alpha)\n",
    "    normed_pred = elu_norm(y_pred, thresh)\n",
    "    mse_ap= normed_true-normed_pred\n",
    "    \n",
    "    #pred_ener = np.sum(np.square(input_current))\n",
    "    #true_ener = np.sum(np.square(current_true))\n",
    "   # mse_energy = np.mean(np.square(pred_ener-true_ener))\n",
    "    \n",
    "    loss = gamma * 1/len(y_true)* mse_ap + beta * np.linalg.norm(I_array)\n",
    "    return np.sum(loss)\n",
    "\n"
   ]
  },
  {
   "cell_type": "code",
   "execution_count": 14,
   "id": "349736fe",
   "metadata": {},
   "outputs": [
    {
     "data": {
      "text/plain": [
       "[<matplotlib.lines.Line2D at 0x7fee8033d2b0>]"
      ]
     },
     "execution_count": 14,
     "metadata": {},
     "output_type": "execute_result"
    },
    {
     "data": {
      "image/png": "[encoded data removed]",
      "text/plain": [
       "<Figure size 432x288 with 1 Axes>"
      ]
     },
     "metadata": {
      "needs_background": "light"
     },
     "output_type": "display_data"
    }
   ],
   "source": [
    "# # first guess\n",
    "# A = 2.0\n",
    "# w = 0.02\n",
    "\n",
    "# A = 4.5\n",
    "# w = 0.1\n",
    "\n",
    "# I_params = np.array([A, w])\n",
    "\n",
    "A = 7.0\n",
    "I_params = np.array([A])\n",
    "\n",
    "V_model = forward_model(I_params, V0, m, h, n, dt, t)\n",
    "plt.plot(t, V_model)     "
   ]
  },
  {
   "cell_type": "code",
   "execution_count": null,
   "id": "fa457024",
   "metadata": {},
   "outputs": [],
   "source": []
  },
  {
   "cell_type": "markdown",
   "id": "3b8b2fbb",
   "metadata": {},
   "source": [
    "#### Compute Gradient"
   ]
  },
  {
   "cell_type": "code",
   "execution_count": 15,
   "id": "136fba06",
   "metadata": {},
   "outputs": [],
   "source": [
    "# find gradient\n",
    "\n",
    "#grad_AD = grad(forward_model_cost, 0) # 0 indicates differentiation w.r.t. the first argument of f.\n",
    "grad_AD = grad(lagrange_seq, 0)"
   ]
  },
  {
   "cell_type": "code",
   "execution_count": 18,
   "id": "0be013ab",
   "metadata": {},
   "outputs": [
    {
     "data": {
      "text/plain": [
       "array([0., 0., 0., ..., 0., 0., 0.])"
      ]
     },
     "execution_count": 18,
     "metadata": {},
     "output_type": "execute_result"
    }
   ],
   "source": [
    "# test autograd with I_params used to create fake data\n",
    "\n",
    "#grad_AD(I_params, V0, m, h, n, dt, t, data_steps, V_data)\n",
    "I = np.zeros_like(t)\n",
    "I[100:500] = I_params[0]\n",
    "\n",
    "grad_AD(I, V_model, V_data)"
   ]
  },
  {
   "cell_type": "markdown",
   "id": "14708b1a",
   "metadata": {},
   "source": [
    "#### FD Check"
   ]
  },
  {
   "cell_type": "code",
   "execution_count": null,
   "id": "0b886b83",
   "metadata": {},
   "outputs": [],
   "source": [
    "# # # FD check wrt A\n",
    "\n",
    "# # A1 = np.random.uniform(0,5)\n",
    "# # L1 = forward_model_cost(np.array([A1, w]), V0, m, h, n, dt, t, data_steps, V_data)\n",
    "\n",
    "# # p = np.random.randint(0,5000)\n",
    "# # s = 1e-7 # step size\n",
    "# # A2 = A1 + s*p\n",
    "# # L2 = forward_model_cost(np.array([A2, w]), V0, m, h, n, dt, t, data_steps, V_data)\n",
    "# # dL_dV_p_diff = (L2 - L1) / s\n",
    "\n",
    "# # g = grad_AD(np.array([A1, w]), V0, m, h, n, dt, t, data_steps, V_data)[0]\n",
    "# # dL_dV_p = np.dot(g, p)\n",
    "\n",
    "# # grad_err = np.abs( (dL_dV_p - dL_dV_p_diff) / dL_dV_p_diff )\n",
    "# # print('step size=', s, ', gradient finite difference error=', grad_err)\n",
    "\n",
    "\n",
    "\n",
    "# # FD check wrt w\n",
    "\n",
    "# w1 = np.random.uniform(0, 1)\n",
    "# V1 = forward_model(np.array([A, w1]), V0, m, h, n, dt, t)\n",
    "# L1 = lagrange_seq(np.array([A, w1]), V1, V_data)\n",
    "\n",
    "# p = np.random.randint(0,5000)\n",
    "# s = 1e-7 # step size\n",
    "# w2 = w1 + s*p\n",
    "# V2 = forward_model(np.array([A, w2]), V0, m, h, n, dt, t)\n",
    "# L2 = lagrange_seq(np.array([A, w2]), V2, V_data)\n",
    "# dL_dV_p_diff = (L2 - L1) / s\n",
    "\n",
    "# g = grad_AD(np.array([A, w1]), V1, V_data)[1]\n",
    "# dL_dV_p = np.dot(g, p)\n",
    "\n",
    "# grad_err = np.abs( (dL_dV_p - dL_dV_p_diff) / dL_dV_p_diff )\n",
    "# print('step size=', s, ', gradient finite difference error=', grad_err)\n",
    "\n"
   ]
  },
  {
   "cell_type": "code",
   "execution_count": null,
   "id": "90cb3b11",
   "metadata": {},
   "outputs": [],
   "source": [
    "# step_sizes = [1e0, 1e-1, 1e-2, 1e-3, 1e-4, 1e-5, 1e-6, 1e-7, 1e-8, 1e-9, 1e-10, 1e-11, 1e-12, 1e-13]\n",
    "\n",
    "\n",
    "# # Make log-log plot of gradient finite difference error vs. step size\n",
    "\n",
    "# w1 = np.random.uniform(0, 1)\n",
    "# V1 = forward_model(np.array([A, w1]), V0, m, h, n, dt, t)\n",
    "# L1 = lagrange_seq(np.array([A, w1]), V1, V_data)\n",
    "\n",
    "\n",
    "# # compute gradient using autograd\n",
    "# g = grad_AD(np.array([A, w1]), V1, V_data)[1]\n",
    "# dL_dV_p = np.dot(g, p)\n",
    "\n",
    "\n",
    "# grad_errs = list()\n",
    "# for s in step_sizes:\n",
    "    \n",
    "#     # compute gradient using finite differences\n",
    "#     w2 = w1 + s*p\n",
    "\n",
    "#     V2 = forward_model(np.array([A, w2]), V0, m, h, n, dt, t)\n",
    "#     L2 = lagrange_seq(np.array([A, w2]), V2, V_data)\n",
    "#     dL_dV_p_diff = (L2 - L1) / s\n",
    "\n",
    "\n",
    "#     # compute gradient error\n",
    "#     grad_err = np.abs( (dL_dV_p - dL_dV_p_diff) / dL_dV_p_diff )\n",
    "#     print('step size=', s, ', example gradient finite difference error=', grad_err)\n",
    "    \n",
    "#     grad_errs.append(grad_err)\n",
    "\n",
    "# plt.loglog(step_sizes, grad_errs)\n",
    "# plt.title('Example finite difference gradient check')\n",
    "# plt.xlabel('step size')\n",
    "# plt.ylabel('error')\n"
   ]
  },
  {
   "cell_type": "code",
   "execution_count": 21,
   "id": "1098f63e",
   "metadata": {},
   "outputs": [
    {
     "data": {
      "text/plain": [
       "array([10000000.])"
      ]
     },
     "execution_count": 21,
     "metadata": {},
     "output_type": "execute_result"
    }
   ],
   "source": [
    "step_sizes = [1e0, 1e-1, 1e-2, 1e-3, 1e-4, 1e-5, 1e-6, 1e-7, 1e-8, 1e-9, 1e-10, 1e-11, 1e-12, 1e-13]\n",
    "p = np.random.randint(0,5000)\n",
    "\n",
    "# Make log-log plot of gradient finite difference error vs. step size\n",
    "\n",
    "A1 = np.random.uniform(0,20)\n",
    "V1 = forward_model(np.array([A1]), V0, m, h, n, dt, t)\n",
    "L1 = lagrange_seq(np.array([A1]), V1, V_data)\n",
    "\n",
    "# compute gradient using autograd\n",
    "g = grad_AD(np.array([A1]), V1, V_data)[0]\n",
    "# dL_dV_p = np.dot(g, p)\n",
    "\n",
    "# # j = jac_AD(V1, m, h, n, I_stimulus, dt, t, data_steps, V_data)\n",
    "# # dL_dV_p = np.dot(j, p)\n",
    "\n",
    "\n",
    "# grad_errs = list()\n",
    "# for s in step_sizes:\n",
    "    \n",
    "#     # compute gradient using finite differences\n",
    "#     A2 = A1 + s*p\n",
    "\n",
    "#     V2 = forward_model(np.array([A2]), V0, m, h, n, dt, t)\n",
    "#     L2 = lagrange_seq(np.array([A2]), V2, V_data)\n",
    "#     dL_dV_p_diff = (L2 - L1) / s\n",
    "\n",
    "\n",
    "#     # compute gradient error\n",
    "#     grad_err = np.abs( (dL_dV_p - dL_dV_p_diff) / dL_dV_p_diff )\n",
    "#     print('step size=', s, ', example gradient finite difference error=', grad_err)\n",
    "    \n",
    "#     grad_errs.append(grad_err)\n",
    "\n",
    "# plt.loglog(step_sizes, grad_errs)\n",
    "# plt.title('Example finite difference gradient check')\n",
    "# plt.xlabel('step size')\n",
    "# plt.ylabel('error')\n",
    "\n",
    "\n",
    "grad_AD(np.array([A1]), V1, V_data)"
   ]
  },
  {
   "cell_type": "markdown",
   "id": "d3117794",
   "metadata": {},
   "source": [
    "#### Find Minimizer"
   ]
  },
  {
   "cell_type": "code",
   "execution_count": null,
   "id": "18efa551",
   "metadata": {},
   "outputs": [],
   "source": [
    "A, w"
   ]
  },
  {
   "cell_type": "code",
   "execution_count": null,
   "id": "ea99b988",
   "metadata": {},
   "outputs": [],
   "source": [
    "# A = 4.289\n",
    "# w = 0.1\n",
    "\n",
    "\n",
    "#initial_guess = np.array([4.0, w])\n",
    "initial_guess = np.array([A, w])\n",
    "\n",
    "# optim = optimize.minimize(forward_model_cost, initial_guess, args = (V0, m, h, n, dt, t, data_steps, V_data), \n",
    "#                   jac = grad_AD, method = 'BFGS')\n",
    "\n",
    "optim = optimize.minimize(lagrange_seq, initial_guess, args = (V_model, V_data), \n",
    "                   jac = grad_AD, method = 'BFGS')\n",
    "\n",
    "optim\n"
   ]
  },
  {
   "cell_type": "code",
   "execution_count": null,
   "id": "b90bde80",
   "metadata": {},
   "outputs": [],
   "source": [
    "optim.x"
   ]
  },
  {
   "cell_type": "code",
   "execution_count": null,
   "id": "48cd05a2",
   "metadata": {},
   "outputs": [],
   "source": [
    "# norm_g = np.linalg.norm(g_func(Ak))\n",
    "# print('||g(u)|| / ||g(u_0)||=', norm_g / norm_g0) # should be less than 1e-6\n",
    "\n",
    "V_final = forward_model(optim.x, V0, m, h, n, dt, t)\n",
    "\n",
    "plt.figure()\n",
    "plt.plot(V_final, ls = 'dotted', label = 'with optimized I')\n",
    "plt.plot(V_data, label = 'original')\n",
    "#plt.title('V (steepest descent)')\n",
    "plt.xlabel('time')\n",
    "plt.ylabel('V')\n",
    "plt.legend()"
   ]
  },
  {
   "cell_type": "code",
   "execution_count": null,
   "id": "78a3cdc9",
   "metadata": {},
   "outputs": [],
   "source": []
  }
 ],
 "metadata": {
  "kernelspec": {
   "display_name": "Python 3 (ipykernel)",
   "language": "python",
   "name": "python3"
  },
  "language_info": {
   "codemirror_mode": {
    "name": "ipython",
    "version": 3
   },
   "file_extension": ".py",
   "mimetype": "text/x-python",
   "name": "python",
   "nbconvert_exporter": "python",
   "pygments_lexer": "ipython3",
   "version": "3.9.7"
  }
 },
 "nbformat": 4,
 "nbformat_minor": 5
}
