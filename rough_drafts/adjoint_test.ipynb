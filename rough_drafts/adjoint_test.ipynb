{
 "cells": [
  {
   "cell_type": "code",
   "execution_count": 1,
   "id": "e8b9fbfb-5cc5-40a9-aa1b-9dc840597157",
   "metadata": {},
   "outputs": [],
   "source": [
    "import autograd.numpy as np\n",
    "from autograd import grad, jacobian\n",
    "from scipy.integrate import solve_ivp\n",
    "from scipy import optimize\n",
    "import matplotlib.pyplot as plt\n"
   ]
  },
  {
   "cell_type": "code",
   "execution_count": 102,
   "id": "2cbc8aea-34bb-4822-a005-230f828abc48",
   "metadata": {
    "tags": []
   },
   "outputs": [],
   "source": [
    "\n",
    "\n",
    "# Define HH model parameters\n",
    "g_Na = 120.0  # Sodium conductance (mS/cm^2)\n",
    "g_K = 36.0   # Potassium conductance (mS/cm^2)\n",
    "g_L = 0.3    # Leak conductance (mS/cm^2)\n",
    "E_Na = 50.0  # Sodium reversal potential (mV)\n",
    "E_K = -77.0  # Potassium reversal potential (mV)\n",
    "E_L = -55.0  # Leak reversal potential (mV)\n",
    "C_m = 1.0    # Membrane capacitance (uF/cm^2)\n",
    "\n",
    "# Define the HH model equations\n",
    "def alpha_m(V):\n",
    "    return 0.1 * (V + 40.0) / (1.0 - np.exp(-(V + 40.0) / 10.0))\n",
    "\n",
    "def beta_m(V):\n",
    "    return 4.0 * np.exp(-(V + 65.0) / 18.0)\n",
    "\n",
    "def alpha_h(V):\n",
    "    return 0.07 * np.exp(-(V + 65.0) / 20.0)\n",
    "\n",
    "def beta_h(V):\n",
    "    return 1.0 / (1.0 + np.exp(-(V + 35.0) / 10.0))\n",
    "\n",
    "def alpha_n(V):\n",
    "    return 0.01 * (V + 55.0) / (1.0 - np.exp(-(V + 55.0) / 10.0))\n",
    "\n",
    "def beta_n(V):\n",
    "    return 0.125 * np.exp(-(V + 65) / 80.0)\n",
    "\n",
    "# Define the HH model differential equations\n",
    "def hodgkin_huxley_eq(V, m, h, n, I_params, t):\n",
    "    I = I_params[0]*np.sin(I_params[1]*t)\n",
    "    dVdt = (I - g_Na * m**3 * h * (V - E_Na) - g_K * n**4 * (V - E_K) - g_L * (V - E_L)) / C_m\n",
    "    dmdt = alpha_m(V) * (1 - m) - beta_m(V) * m\n",
    "    dhdt = alpha_h(V) * (1 - h) - beta_h(V) * h\n",
    "    dndt = alpha_n(V) * (1 - n) - beta_n(V) * n\n",
    "    return dVdt, dmdt, dhdt, dndt\n",
    "\n",
    "# Define time parameters\n",
    "# dt = 0.01  # Time step (ms)\n",
    "# t = np.arange(0, 50, dt)  # Time vector (ms)\n",
    "dt = 0.025\n",
    "t = np.arange(0, 250, dt)\n",
    "\n",
    "\n",
    "# Initialize state variables\n",
    "V0 = -65.0  # Membrane voltage (mV)\n",
    "m, h, n = 0.05, 0.6, 0.32  # Initial values of gating variables\n"
   ]
  },
  {
   "cell_type": "code",
   "execution_count": 103,
   "id": "c0f15412",
   "metadata": {},
   "outputs": [],
   "source": [
    "def integrate_HH(V0, m, h, n, I_params, dt, t):\n",
    "    \n",
    "    V_record = np.zeros_like(t)\n",
    "    V = V0\n",
    "    \n",
    "    for i in range(len(t)):\n",
    "        V_record[i] = V\n",
    "        dVdt, dmdt, dhdt, dndt = hodgkin_huxley_eq(V, m, h, n, I_params, t[i])\n",
    "        V += dVdt * dt\n",
    "        m += dmdt * dt\n",
    "        h += dhdt * dt\n",
    "        n += dndt * dt\n",
    "    return V_record\n",
    "\n",
    "\n",
    "    "
   ]
  },
  {
   "cell_type": "code",
   "execution_count": null,
   "id": "1763c02e-5afc-465a-af2f-2d45b1662bbe",
   "metadata": {},
   "outputs": [],
   "source": []
  },
  {
   "cell_type": "markdown",
   "id": "072fe10c",
   "metadata": {},
   "source": [
    "## Adjoint"
   ]
  },
  {
   "cell_type": "markdown",
   "id": "da7c2d98",
   "metadata": {},
   "source": [
    "### Import Data"
   ]
  },
  {
   "cell_type": "code",
   "execution_count": 66,
   "id": "5f3922a5",
   "metadata": {},
   "outputs": [
    {
     "data": {
      "text/plain": [
       "10000"
      ]
     },
     "execution_count": 66,
     "metadata": {},
     "output_type": "execute_result"
    }
   ],
   "source": [
    "import zipfile\n",
    "import csv\n",
    "\n",
    "with zipfile.ZipFile('./sim_data/gt_multa.zip', 'r') as zip_ref:\n",
    "    zip_ref.extractall()\n",
    "    \n",
    "with open('gt_multa.csv', newline='') as csvfile:\n",
    "    data = list(csv.reader(csvfile))\n",
    "    \n",
    "data_steps = [row[0] for row in data][1:-1] # extract time data\n",
    "data_steps = np.array([float(i) for i in data_steps]) # convert to numpy array of floats\n",
    "\n",
    "V_data = [row[1] for row in data][1:-1]\n",
    "V_data = np.array([float(i) for i in V_data])\n",
    "\n",
    "I_data = [row[2] for row in data][1:-1]\n",
    "I_data = np.array([float(i) for i in I_data])\n",
    "\n",
    "len(V_data)"
   ]
  },
  {
   "cell_type": "code",
   "execution_count": 67,
   "id": "0ead83fc",
   "metadata": {},
   "outputs": [
    {
     "data": {
      "text/plain": [
       "<matplotlib.legend.Legend at 0x7feb5938d3d0>"
      ]
     },
     "execution_count": 67,
     "metadata": {},
     "output_type": "execute_result"
    },
    {
     "data": {
      "image/png": "[encoded data removed]",
      "text/plain": [
       "<Figure size 432x288 with 1 Axes>"
      ]
     },
     "metadata": {
      "needs_background": "light"
     },
     "output_type": "display_data"
    }
   ],
   "source": [
    "plt.plot(data_steps, V_data, label = 'V')\n",
    "plt.plot(data_steps, I_data, label = 'I')\n",
    "plt.xlabel('time')\n",
    "plt.legend()"
   ]
  },
  {
   "cell_type": "code",
   "execution_count": null,
   "id": "0491e07e",
   "metadata": {},
   "outputs": [],
   "source": []
  },
  {
   "cell_type": "markdown",
   "id": "f64921d2",
   "metadata": {},
   "source": [
    "#### Fake Data"
   ]
  },
  {
   "cell_type": "code",
   "execution_count": 104,
   "id": "7857b4d2",
   "metadata": {},
   "outputs": [
    {
     "data": {
      "text/plain": [
       "<matplotlib.legend.Legend at 0x7feb5d6bc610>"
      ]
     },
     "execution_count": 104,
     "metadata": {},
     "output_type": "execute_result"
    },
    {
     "data": {
      "image/png": "[encoded data removed]",
      "text/plain": [
       "<Figure size 432x288 with 1 Axes>"
      ]
     },
     "metadata": {
      "needs_background": "light"
     },
     "output_type": "display_data"
    }
   ],
   "source": [
    "# run forward model to create fake data\n",
    "\n",
    "#A = 4.289\n",
    "#w = 0.1\n",
    "\n",
    "A = 4.5\n",
    "w = 0.1\n",
    "\n",
    "I_params = np.array([A, w])\n",
    "\n",
    "V_record = integrate_HH(V0, m, h, n, I_params, dt, t)\n",
    "\n",
    "I_stimulus = A*np.sin(w*t)\n",
    "\n",
    "plt.plot(t, V_record, label = 'V')\n",
    "plt.plot(t, I_stimulus, label = 'I')\n",
    "plt.xlabel('time')\n",
    "plt.legend()"
   ]
  },
  {
   "cell_type": "code",
   "execution_count": 111,
   "id": "6a8d50cb",
   "metadata": {},
   "outputs": [],
   "source": [
    "V_subsamp = V_record#[::10]\n",
    "    \n",
    "mean = np.mean(V_record)\n",
    "stddev = np.std(V_record)\n",
    "\n",
    "#noise = np.random.normal(0, stddev, len(V_subsamp))\n",
    "noise = np.random.normal(0,1,len(V_subsamp))\n",
    "V_data = V_subsamp + noise\n",
    "\n",
    "data_steps = t#[::10]"
   ]
  },
  {
   "cell_type": "code",
   "execution_count": 112,
   "id": "bae72a52",
   "metadata": {},
   "outputs": [
    {
     "data": {
      "text/plain": [
       "<matplotlib.legend.Legend at 0x7febb6ccd940>"
      ]
     },
     "execution_count": 112,
     "metadata": {},
     "output_type": "execute_result"
    },
    {
     "data": {
      "image/png": "[encoded data removed]",
      "text/plain": [
       "<Figure size 432x288 with 1 Axes>"
      ]
     },
     "metadata": {
      "needs_background": "light"
     },
     "output_type": "display_data"
    }
   ],
   "source": [
    "plt.plot(t, V_record, label = 'model equivalent')\n",
    "plt.plot(data_steps, V_data, label = 'noisy data')\n",
    "plt.xlabel('time')\n",
    "plt.ylabel('V')\n",
    "plt.legend()"
   ]
  },
  {
   "cell_type": "markdown",
   "id": "59db820b",
   "metadata": {},
   "source": [
    "### Define cost function"
   ]
  },
  {
   "cell_type": "code",
   "execution_count": 107,
   "id": "05c8ebff",
   "metadata": {},
   "outputs": [],
   "source": [
    "def elu_norm(voltage, thresh, alpha = 0.001):\n",
    "    exponentiated_values = np.where(voltage <= np.ones(len(voltage))*thresh, alpha*(np.exp(voltage)-np.exp(thresh)), voltage)\n",
    "    return exponentiated_values\n",
    "\n",
    "\n",
    "def lagrange_seq(I_array, y_true, y_pred, alpha = .001, beta = 1e3, gamma = 1e2, thresh = -55):\n",
    "    \n",
    "    #penalty term for deviation from desired number of action potentials\n",
    "    #ap_true = ap_count(y_true, thresh)\n",
    "    #ap_pred = ap_count(y_pred, thresh)\n",
    "    #mse_ap = (ap_pred - ap_true)**2\n",
    "    normed_true = elu_norm(y_true, thresh, alpha)\n",
    "    normed_pred = elu_norm(y_pred, thresh)\n",
    "    mse_ap= normed_true-normed_pred\n",
    "    \n",
    "    #pred_ener = np.sum(np.square(input_current))\n",
    "    #true_ener = np.sum(np.square(current_true))\n",
    "   # mse_energy = np.mean(np.square(pred_ener-true_ener))\n",
    "    \n",
    "    loss = gamma * 1/len(y_true)* mse_ap + beta * np.linalg.norm(I_array)\n",
    "    return np.sum(loss)\n",
    "\n",
    "def forward_model(I_params, V0, m, h, n, dt, t):\n",
    "        \n",
    "    V_record = []\n",
    "    V = V0\n",
    "    \n",
    "    for i in range(len(t)):\n",
    "        \n",
    "        # run forward step\n",
    "        V_record.append(V)\n",
    "        \n",
    "        dVdt, dmdt, dhdt, dndt = hodgkin_huxley_eq(V, m, h, n, I_params, t[i])\n",
    "        V += dVdt * dt\n",
    "        m += dmdt * dt\n",
    "        h += dhdt * dt\n",
    "        n += dndt * dt\n",
    "        \n",
    "    return V_record"
   ]
  },
  {
   "cell_type": "code",
   "execution_count": 113,
   "id": "a428864c",
   "metadata": {},
   "outputs": [],
   "source": [
    "# first guess\n",
    "A = 2.0\n",
    "w = 0.02\n",
    "\n",
    "I_params = np.array([A, w])\n",
    "\n",
    "V_model = forward_model(I_params, V0, m, h, n, dt, t)\n",
    "#V_model       "
   ]
  },
  {
   "cell_type": "code",
   "execution_count": 37,
   "id": "995be136",
   "metadata": {},
   "outputs": [],
   "source": [
    "def forward_model_cost(I_params, V0, m, h, n, dt, t, data_steps, V_data):\n",
    "\n",
    "    cost = 0\n",
    "        \n",
    "    V_record = []\n",
    "    V = V0\n",
    "    \n",
    "    for i in range(len(t)):\n",
    "        \n",
    "        # run forward step\n",
    "        V_record.append(V)\n",
    "        \n",
    "        dVdt, dmdt, dhdt, dndt = hodgkin_huxley_eq(V, m, h, n, I_params, t[i])\n",
    "        V += dVdt * dt\n",
    "        m += dmdt * dt\n",
    "        h += dhdt * dt\n",
    "        n += dndt * dt\n",
    "\n",
    "        # compute cost\n",
    "        if t[i] in data_steps:\n",
    "            j = np.where(data_steps == t[i])\n",
    "            cost += (V_record[i] - V_data[j])**2 # [elu(V_record) - elu(V_data)]**2\n",
    "            \n",
    "    # cost += l2norm(I)        \n",
    "    cost = cost/len(data_steps)\n",
    "\n",
    "            \n",
    "    #return V_record, cost\n",
    "    return cost\n",
    "\n",
    "\n",
    "\n",
    "\n",
    "# look at total cost before any optimization\n",
    "\n",
    "# first guess\n",
    "A = 2.0\n",
    "w = 0.02\n",
    "\n",
    "I_params = np.array([A, w])\n",
    "\n",
    "total_cost = forward_model_cost(I_params, V0, m, h, n, dt, t, data_steps, V_data)\n",
    "total_cost       "
   ]
  },
  {
   "cell_type": "code",
   "execution_count": null,
   "id": "fa457024",
   "metadata": {},
   "outputs": [],
   "source": []
  },
  {
   "cell_type": "markdown",
   "id": "3b8b2fbb",
   "metadata": {},
   "source": [
    "#### Compute Gradient"
   ]
  },
  {
   "cell_type": "code",
   "execution_count": 109,
   "id": "136fba06",
   "metadata": {},
   "outputs": [],
   "source": [
    "# find gradient\n",
    "\n",
    "#grad_AD = grad(forward_model_cost, 0) # 0 indicates differentiation w.r.t. the first argument of f.\n",
    "grad_AD = grad(lagrange_seq, 0)"
   ]
  },
  {
   "cell_type": "code",
   "execution_count": 110,
   "id": "0be013ab",
   "metadata": {},
   "outputs": [
    {
     "ename": "ValueError",
     "evalue": "operands could not be broadcast together with shapes (10000,) (1000,) ",
     "output_type": "error",
     "traceback": [
      "\u001b[0;31m---------------------------------------------------------------------------\u001b[0m",
      "\u001b[0;31mValueError\u001b[0m                                Traceback (most recent call last)",
      "\u001b[0;32m/var/folders/6j/fcfm9_6n3rg0rg4_4flv5ks00000gq/T/ipykernel_89052/3808367326.py\u001b[0m in \u001b[0;36m<module>\u001b[0;34m\u001b[0m\n\u001b[1;32m      3\u001b[0m \u001b[0;31m#grad_AD(I_params, V0, m, h, n, dt, t, data_steps, V_data)\u001b[0m\u001b[0;34m\u001b[0m\u001b[0;34m\u001b[0m\u001b[0m\n\u001b[1;32m      4\u001b[0m \u001b[0;34m\u001b[0m\u001b[0m\n\u001b[0;32m----> 5\u001b[0;31m \u001b[0mgrad_AD\u001b[0m\u001b[0;34m(\u001b[0m\u001b[0mI_params\u001b[0m\u001b[0;34m,\u001b[0m \u001b[0mV_model\u001b[0m\u001b[0;34m,\u001b[0m \u001b[0mV_data\u001b[0m\u001b[0;34m)\u001b[0m\u001b[0;34m\u001b[0m\u001b[0;34m\u001b[0m\u001b[0m\n\u001b[0m",
      "\u001b[0;32m~/opt/anaconda3/lib/python3.9/site-packages/autograd/wrap_util.py\u001b[0m in \u001b[0;36mnary_f\u001b[0;34m(*args, **kwargs)\u001b[0m\n\u001b[1;32m     18\u001b[0m             \u001b[0;32melse\u001b[0m\u001b[0;34m:\u001b[0m\u001b[0;34m\u001b[0m\u001b[0;34m\u001b[0m\u001b[0m\n\u001b[1;32m     19\u001b[0m                 \u001b[0mx\u001b[0m \u001b[0;34m=\u001b[0m \u001b[0mtuple\u001b[0m\u001b[0;34m(\u001b[0m\u001b[0margs\u001b[0m\u001b[0;34m[\u001b[0m\u001b[0mi\u001b[0m\u001b[0;34m]\u001b[0m \u001b[0;32mfor\u001b[0m \u001b[0mi\u001b[0m \u001b[0;32min\u001b[0m \u001b[0margnum\u001b[0m\u001b[0;34m)\u001b[0m\u001b[0;34m\u001b[0m\u001b[0;34m\u001b[0m\u001b[0m\n\u001b[0;32m---> 20\u001b[0;31m             \u001b[0;32mreturn\u001b[0m \u001b[0munary_operator\u001b[0m\u001b[0;34m(\u001b[0m\u001b[0munary_f\u001b[0m\u001b[0;34m,\u001b[0m \u001b[0mx\u001b[0m\u001b[0;34m,\u001b[0m \u001b[0;34m*\u001b[0m\u001b[0mnary_op_args\u001b[0m\u001b[0;34m,\u001b[0m \u001b[0;34m**\u001b[0m\u001b[0mnary_op_kwargs\u001b[0m\u001b[0;34m)\u001b[0m\u001b[0;34m\u001b[0m\u001b[0;34m\u001b[0m\u001b[0m\n\u001b[0m\u001b[1;32m     21\u001b[0m         \u001b[0;32mreturn\u001b[0m \u001b[0mnary_f\u001b[0m\u001b[0;34m\u001b[0m\u001b[0;34m\u001b[0m\u001b[0m\n\u001b[1;32m     22\u001b[0m     \u001b[0;32mreturn\u001b[0m \u001b[0mnary_operator\u001b[0m\u001b[0;34m\u001b[0m\u001b[0;34m\u001b[0m\u001b[0m\n",
      "\u001b[0;32m~/opt/anaconda3/lib/python3.9/site-packages/autograd/differential_operators.py\u001b[0m in \u001b[0;36mgrad\u001b[0;34m(fun, x)\u001b[0m\n\u001b[1;32m     26\u001b[0m     \u001b[0marguments\u001b[0m \u001b[0;32mas\u001b[0m\u001b[0;31m \u001b[0m\u001b[0;31m`\u001b[0m\u001b[0mfun\u001b[0m\u001b[0;31m`\u001b[0m\u001b[0;34m,\u001b[0m \u001b[0mbut\u001b[0m \u001b[0mreturns\u001b[0m \u001b[0mthe\u001b[0m \u001b[0mgradient\u001b[0m \u001b[0minstead\u001b[0m\u001b[0;34m.\u001b[0m \u001b[0mThe\u001b[0m \u001b[0mfunction\u001b[0m\u001b[0;31m \u001b[0m\u001b[0;31m`\u001b[0m\u001b[0mfun\u001b[0m\u001b[0;31m`\u001b[0m\u001b[0;34m\u001b[0m\u001b[0;34m\u001b[0m\u001b[0m\n\u001b[1;32m     27\u001b[0m     should be scalar-valued. The gradient has the same type as the argument.\"\"\"\n\u001b[0;32m---> 28\u001b[0;31m     \u001b[0mvjp\u001b[0m\u001b[0;34m,\u001b[0m \u001b[0mans\u001b[0m \u001b[0;34m=\u001b[0m \u001b[0m_make_vjp\u001b[0m\u001b[0;34m(\u001b[0m\u001b[0mfun\u001b[0m\u001b[0;34m,\u001b[0m \u001b[0mx\u001b[0m\u001b[0;34m)\u001b[0m\u001b[0;34m\u001b[0m\u001b[0;34m\u001b[0m\u001b[0m\n\u001b[0m\u001b[1;32m     29\u001b[0m     \u001b[0;32mif\u001b[0m \u001b[0;32mnot\u001b[0m \u001b[0mvspace\u001b[0m\u001b[0;34m(\u001b[0m\u001b[0mans\u001b[0m\u001b[0;34m)\u001b[0m\u001b[0;34m.\u001b[0m\u001b[0msize\u001b[0m \u001b[0;34m==\u001b[0m \u001b[0;36m1\u001b[0m\u001b[0;34m:\u001b[0m\u001b[0;34m\u001b[0m\u001b[0;34m\u001b[0m\u001b[0m\n\u001b[1;32m     30\u001b[0m         raise TypeError(\"Grad only applies to real scalar-output functions. \"\n",
      "\u001b[0;32m~/opt/anaconda3/lib/python3.9/site-packages/autograd/core.py\u001b[0m in \u001b[0;36mmake_vjp\u001b[0;34m(fun, x)\u001b[0m\n\u001b[1;32m      8\u001b[0m \u001b[0;32mdef\u001b[0m \u001b[0mmake_vjp\u001b[0m\u001b[0;34m(\u001b[0m\u001b[0mfun\u001b[0m\u001b[0;34m,\u001b[0m \u001b[0mx\u001b[0m\u001b[0;34m)\u001b[0m\u001b[0;34m:\u001b[0m\u001b[0;34m\u001b[0m\u001b[0;34m\u001b[0m\u001b[0m\n\u001b[1;32m      9\u001b[0m     \u001b[0mstart_node\u001b[0m \u001b[0;34m=\u001b[0m \u001b[0mVJPNode\u001b[0m\u001b[0;34m.\u001b[0m\u001b[0mnew_root\u001b[0m\u001b[0;34m(\u001b[0m\u001b[0;34m)\u001b[0m\u001b[0;34m\u001b[0m\u001b[0;34m\u001b[0m\u001b[0m\n\u001b[0;32m---> 10\u001b[0;31m     \u001b[0mend_value\u001b[0m\u001b[0;34m,\u001b[0m \u001b[0mend_node\u001b[0m \u001b[0;34m=\u001b[0m  \u001b[0mtrace\u001b[0m\u001b[0;34m(\u001b[0m\u001b[0mstart_node\u001b[0m\u001b[0;34m,\u001b[0m \u001b[0mfun\u001b[0m\u001b[0;34m,\u001b[0m \u001b[0mx\u001b[0m\u001b[0;34m)\u001b[0m\u001b[0;34m\u001b[0m\u001b[0;34m\u001b[0m\u001b[0m\n\u001b[0m\u001b[1;32m     11\u001b[0m     \u001b[0;32mif\u001b[0m \u001b[0mend_node\u001b[0m \u001b[0;32mis\u001b[0m \u001b[0;32mNone\u001b[0m\u001b[0;34m:\u001b[0m\u001b[0;34m\u001b[0m\u001b[0;34m\u001b[0m\u001b[0m\n\u001b[1;32m     12\u001b[0m         \u001b[0;32mdef\u001b[0m \u001b[0mvjp\u001b[0m\u001b[0;34m(\u001b[0m\u001b[0mg\u001b[0m\u001b[0;34m)\u001b[0m\u001b[0;34m:\u001b[0m \u001b[0;32mreturn\u001b[0m \u001b[0mvspace\u001b[0m\u001b[0;34m(\u001b[0m\u001b[0mx\u001b[0m\u001b[0;34m)\u001b[0m\u001b[0;34m.\u001b[0m\u001b[0mzeros\u001b[0m\u001b[0;34m(\u001b[0m\u001b[0;34m)\u001b[0m\u001b[0;34m\u001b[0m\u001b[0;34m\u001b[0m\u001b[0m\n",
      "\u001b[0;32m~/opt/anaconda3/lib/python3.9/site-packages/autograd/tracer.py\u001b[0m in \u001b[0;36mtrace\u001b[0;34m(start_node, fun, x)\u001b[0m\n\u001b[1;32m      8\u001b[0m     \u001b[0;32mwith\u001b[0m \u001b[0mtrace_stack\u001b[0m\u001b[0;34m.\u001b[0m\u001b[0mnew_trace\u001b[0m\u001b[0;34m(\u001b[0m\u001b[0;34m)\u001b[0m \u001b[0;32mas\u001b[0m \u001b[0mt\u001b[0m\u001b[0;34m:\u001b[0m\u001b[0;34m\u001b[0m\u001b[0;34m\u001b[0m\u001b[0m\n\u001b[1;32m      9\u001b[0m         \u001b[0mstart_box\u001b[0m \u001b[0;34m=\u001b[0m \u001b[0mnew_box\u001b[0m\u001b[0;34m(\u001b[0m\u001b[0mx\u001b[0m\u001b[0;34m,\u001b[0m \u001b[0mt\u001b[0m\u001b[0;34m,\u001b[0m \u001b[0mstart_node\u001b[0m\u001b[0;34m)\u001b[0m\u001b[0;34m\u001b[0m\u001b[0;34m\u001b[0m\u001b[0m\n\u001b[0;32m---> 10\u001b[0;31m         \u001b[0mend_box\u001b[0m \u001b[0;34m=\u001b[0m \u001b[0mfun\u001b[0m\u001b[0;34m(\u001b[0m\u001b[0mstart_box\u001b[0m\u001b[0;34m)\u001b[0m\u001b[0;34m\u001b[0m\u001b[0;34m\u001b[0m\u001b[0m\n\u001b[0m\u001b[1;32m     11\u001b[0m         \u001b[0;32mif\u001b[0m \u001b[0misbox\u001b[0m\u001b[0;34m(\u001b[0m\u001b[0mend_box\u001b[0m\u001b[0;34m)\u001b[0m \u001b[0;32mand\u001b[0m \u001b[0mend_box\u001b[0m\u001b[0;34m.\u001b[0m\u001b[0m_trace\u001b[0m \u001b[0;34m==\u001b[0m \u001b[0mstart_box\u001b[0m\u001b[0;34m.\u001b[0m\u001b[0m_trace\u001b[0m\u001b[0;34m:\u001b[0m\u001b[0;34m\u001b[0m\u001b[0;34m\u001b[0m\u001b[0m\n\u001b[1;32m     12\u001b[0m             \u001b[0;32mreturn\u001b[0m \u001b[0mend_box\u001b[0m\u001b[0;34m.\u001b[0m\u001b[0m_value\u001b[0m\u001b[0;34m,\u001b[0m \u001b[0mend_box\u001b[0m\u001b[0;34m.\u001b[0m\u001b[0m_node\u001b[0m\u001b[0;34m\u001b[0m\u001b[0;34m\u001b[0m\u001b[0m\n",
      "\u001b[0;32m~/opt/anaconda3/lib/python3.9/site-packages/autograd/wrap_util.py\u001b[0m in \u001b[0;36munary_f\u001b[0;34m(x)\u001b[0m\n\u001b[1;32m     13\u001b[0m                 \u001b[0;32melse\u001b[0m\u001b[0;34m:\u001b[0m\u001b[0;34m\u001b[0m\u001b[0;34m\u001b[0m\u001b[0m\n\u001b[1;32m     14\u001b[0m                     \u001b[0msubargs\u001b[0m \u001b[0;34m=\u001b[0m \u001b[0msubvals\u001b[0m\u001b[0;34m(\u001b[0m\u001b[0margs\u001b[0m\u001b[0;34m,\u001b[0m \u001b[0mzip\u001b[0m\u001b[0;34m(\u001b[0m\u001b[0margnum\u001b[0m\u001b[0;34m,\u001b[0m \u001b[0mx\u001b[0m\u001b[0;34m)\u001b[0m\u001b[0;34m)\u001b[0m\u001b[0;34m\u001b[0m\u001b[0;34m\u001b[0m\u001b[0m\n\u001b[0;32m---> 15\u001b[0;31m                 \u001b[0;32mreturn\u001b[0m \u001b[0mfun\u001b[0m\u001b[0;34m(\u001b[0m\u001b[0;34m*\u001b[0m\u001b[0msubargs\u001b[0m\u001b[0;34m,\u001b[0m \u001b[0;34m**\u001b[0m\u001b[0mkwargs\u001b[0m\u001b[0;34m)\u001b[0m\u001b[0;34m\u001b[0m\u001b[0;34m\u001b[0m\u001b[0m\n\u001b[0m\u001b[1;32m     16\u001b[0m             \u001b[0;32mif\u001b[0m \u001b[0misinstance\u001b[0m\u001b[0;34m(\u001b[0m\u001b[0margnum\u001b[0m\u001b[0;34m,\u001b[0m \u001b[0mint\u001b[0m\u001b[0;34m)\u001b[0m\u001b[0;34m:\u001b[0m\u001b[0;34m\u001b[0m\u001b[0;34m\u001b[0m\u001b[0m\n\u001b[1;32m     17\u001b[0m                 \u001b[0mx\u001b[0m \u001b[0;34m=\u001b[0m \u001b[0margs\u001b[0m\u001b[0;34m[\u001b[0m\u001b[0margnum\u001b[0m\u001b[0;34m]\u001b[0m\u001b[0;34m\u001b[0m\u001b[0;34m\u001b[0m\u001b[0m\n",
      "\u001b[0;32m/var/folders/6j/fcfm9_6n3rg0rg4_4flv5ks00000gq/T/ipykernel_89052/229933373.py\u001b[0m in \u001b[0;36mlagrange_seq\u001b[0;34m(I_array, y_true, y_pred, alpha, beta, gamma, thresh)\u001b[0m\n\u001b[1;32m     12\u001b[0m     \u001b[0mnormed_true\u001b[0m \u001b[0;34m=\u001b[0m \u001b[0melu_norm\u001b[0m\u001b[0;34m(\u001b[0m\u001b[0my_true\u001b[0m\u001b[0;34m,\u001b[0m \u001b[0mthresh\u001b[0m\u001b[0;34m,\u001b[0m \u001b[0malpha\u001b[0m\u001b[0;34m)\u001b[0m\u001b[0;34m\u001b[0m\u001b[0;34m\u001b[0m\u001b[0m\n\u001b[1;32m     13\u001b[0m     \u001b[0mnormed_pred\u001b[0m \u001b[0;34m=\u001b[0m \u001b[0melu_norm\u001b[0m\u001b[0;34m(\u001b[0m\u001b[0my_pred\u001b[0m\u001b[0;34m,\u001b[0m \u001b[0mthresh\u001b[0m\u001b[0;34m)\u001b[0m\u001b[0;34m\u001b[0m\u001b[0;34m\u001b[0m\u001b[0m\n\u001b[0;32m---> 14\u001b[0;31m     \u001b[0mmse_ap\u001b[0m\u001b[0;34m=\u001b[0m \u001b[0mnormed_true\u001b[0m\u001b[0;34m-\u001b[0m\u001b[0mnormed_pred\u001b[0m\u001b[0;34m\u001b[0m\u001b[0;34m\u001b[0m\u001b[0m\n\u001b[0m\u001b[1;32m     15\u001b[0m \u001b[0;34m\u001b[0m\u001b[0m\n\u001b[1;32m     16\u001b[0m     \u001b[0;31m#pred_ener = np.sum(np.square(input_current))\u001b[0m\u001b[0;34m\u001b[0m\u001b[0;34m\u001b[0m\u001b[0m\n",
      "\u001b[0;31mValueError\u001b[0m: operands could not be broadcast together with shapes (10000,) (1000,) "
     ]
    }
   ],
   "source": [
    "# test autograd with I_params used to create fake data\n",
    "\n",
    "#grad_AD(I_params, V0, m, h, n, dt, t, data_steps, V_data)\n",
    "\n",
    "grad_AD(I_params, V_model, V_data)"
   ]
  },
  {
   "cell_type": "markdown",
   "id": "14708b1a",
   "metadata": {},
   "source": [
    "#### FD Check"
   ]
  },
  {
   "cell_type": "code",
   "execution_count": 98,
   "id": "0b886b83",
   "metadata": {},
   "outputs": [
    {
     "name": "stdout",
     "output_type": "stream",
     "text": [
      "step size= 1e-07 , gradient finite difference error= 0.00040993532034417084\n"
     ]
    }
   ],
   "source": [
    "# # FD check wrt A\n",
    "\n",
    "# A1 = np.random.uniform(0,5)\n",
    "# L1 = forward_model_cost(np.array([A1, w]), V0, m, h, n, dt, t, data_steps, V_data)\n",
    "\n",
    "# p = np.random.randint(0,5000)\n",
    "# s = 1e-7 # step size\n",
    "# A2 = A1 + s*p\n",
    "# L2 = forward_model_cost(np.array([A2, w]), V0, m, h, n, dt, t, data_steps, V_data)\n",
    "# dL_dV_p_diff = (L2 - L1) / s\n",
    "\n",
    "# g = grad_AD(np.array([A1, w]), V0, m, h, n, dt, t, data_steps, V_data)[0]\n",
    "# dL_dV_p = np.dot(g, p)\n",
    "\n",
    "# grad_err = np.abs( (dL_dV_p - dL_dV_p_diff) / dL_dV_p_diff )\n",
    "# print('step size=', s, ', gradient finite difference error=', grad_err)\n",
    "\n",
    "\n",
    "# # FD check wrt w\n",
    "\n",
    "# w1 = np.random.uniform(0, 1)\n",
    "# L1 = forward_model_cost(np.array([A, w1]), V0, m, h, n, dt, t, data_steps, V_data)\n",
    "\n",
    "# p = np.random.randint(0,5000)\n",
    "# s = 1e-7 # step size\n",
    "# w2 = w1 + s*p\n",
    "# L2 = forward_model_cost(np.array([A, w2]), V0, m, h, n, dt, t, data_steps, V_data)\n",
    "# dL_dV_p_diff = (L2 - L1) / s\n",
    "\n",
    "# g = grad_AD(np.array([A, w1]), V0, m, h, n, dt, t, data_steps, V_data)[1]\n",
    "# dL_dV_p = np.dot(g, p)\n",
    "\n",
    "# grad_err = np.abs( (dL_dV_p - dL_dV_p_diff) / dL_dV_p_diff )\n",
    "# print('step size=', s, ', gradient finite difference error=', grad_err)\n",
    "\n",
    "# FD check wrt w\n",
    "\n",
    "w1 = np.random.uniform(0, 1)\n",
    "V1 = forward_model(np.array([A, w1]), V0, m, h, n, dt, t)\n",
    "L1 = lagrange_seq(np.array([A, w1]), V1, V_data)\n",
    "\n",
    "p = np.random.randint(0,5000)\n",
    "s = 1e-7 # step size\n",
    "w2 = w1 + s*p\n",
    "V2 = forward_model(np.array([A, w2]), V0, m, h, n, dt, t)\n",
    "L2 = lagrange_seq(np.array([A, w2]), V2, V_data)\n",
    "dL_dV_p_diff = (L2 - L1) / s\n",
    "\n",
    "g = grad_AD(np.array([A, w1]), V1, V_data)[1]\n",
    "dL_dV_p = np.dot(g, p)\n",
    "\n",
    "grad_err = np.abs( (dL_dV_p - dL_dV_p_diff) / dL_dV_p_diff )\n",
    "print('step size=', s, ', gradient finite difference error=', grad_err)\n",
    "\n"
   ]
  },
  {
   "cell_type": "code",
   "execution_count": 99,
   "id": "e29914ba",
   "metadata": {},
   "outputs": [
    {
     "name": "stdout",
     "output_type": "stream",
     "text": [
      "step size= 1.0 , example gradient finite difference error= 0.9960627930038473\n",
      "step size= 0.1 , example gradient finite difference error= 0.9959843779034556\n",
      "step size= 0.01 , example gradient finite difference error= 0.9951181857269136\n",
      "step size= 0.001 , example gradient finite difference error= 0.9821559089450084\n",
      "step size= 0.0001 , example gradient finite difference error= 0.8525154755564927\n",
      "step size= 1e-05 , example gradient finite difference error= 0.36645724328877294\n",
      "step size= 1e-06 , example gradient finite difference error= 0.05468082356645654\n",
      "step size= 1e-07 , example gradient finite difference error= 0.005751118362815327\n",
      "step size= 1e-08 , example gradient finite difference error= 0.0005781254674471699\n",
      "step size= 1e-09 , example gradient finite difference error= 5.802382264861289e-05\n",
      "step size= 1e-10 , example gradient finite difference error= 5.033556117340611e-06\n",
      "step size= 1e-11 , example gradient finite difference error= 3.528459303096053e-05\n",
      "step size= 1e-12 , example gradient finite difference error= 6.441453929480492e-06\n",
      "step size= 1e-13 , example gradient finite difference error= 0.0035278848464274427\n"
     ]
    },
    {
     "data": {
      "text/plain": [
       "Text(0, 0.5, 'error')"
      ]
     },
     "execution_count": 99,
     "metadata": {},
     "output_type": "execute_result"
    },
    {
     "data": {
      "image/png": "[encoded data removed]",
      "text/plain": [
       "<Figure size 432x288 with 1 Axes>"
      ]
     },
     "metadata": {
      "needs_background": "light"
     },
     "output_type": "display_data"
    }
   ],
   "source": [
    "step_sizes = [1e0, 1e-1, 1e-2, 1e-3, 1e-4, 1e-5, 1e-6, 1e-7, 1e-8, 1e-9, 1e-10, 1e-11, 1e-12, 1e-13]\n",
    "\n",
    "\n",
    "# Make log-log plot of gradient finite difference error vs. step size\n",
    "\n",
    "w1 = np.random.uniform(0, 1)\n",
    "V1 = forward_model(np.array([A, w1]), V0, m, h, n, dt, t)\n",
    "L1 = lagrange_seq(np.array([A, w1]), V1, V_data)\n",
    "\n",
    "\n",
    "# compute gradient using autograd\n",
    "g = grad_AD(np.array([A, w1]), V1, V_data)[1]\n",
    "dL_dV_p = np.dot(g, p)\n",
    "\n",
    "\n",
    "grad_errs = list()\n",
    "for s in step_sizes:\n",
    "    \n",
    "    # compute gradient using finite differences\n",
    "    w2 = w1 + s*p\n",
    "\n",
    "    V2 = forward_model(np.array([A, w2]), V0, m, h, n, dt, t)\n",
    "    L2 = lagrange_seq(np.array([A, w2]), V2, V_data)\n",
    "    dL_dV_p_diff = (L2 - L1) / s\n",
    "\n",
    "\n",
    "    # compute gradient error\n",
    "    grad_err = np.abs( (dL_dV_p - dL_dV_p_diff) / dL_dV_p_diff )\n",
    "    print('step size=', s, ', example gradient finite difference error=', grad_err)\n",
    "    \n",
    "    grad_errs.append(grad_err)\n",
    "\n",
    "plt.loglog(step_sizes, grad_errs)\n",
    "plt.title('Example finite difference gradient check')\n",
    "plt.xlabel('step size')\n",
    "plt.ylabel('error')\n"
   ]
  },
  {
   "cell_type": "code",
   "execution_count": 42,
   "id": "1098f63e",
   "metadata": {},
   "outputs": [
    {
     "name": "stdout",
     "output_type": "stream",
     "text": [
      "step size= 1.0 , example gradient finite difference error= [122087.58253758]\n",
      "step size= 0.1 , example gradient finite difference error= [12209.28593009]\n",
      "step size= 0.01 , example gradient finite difference error= [1221.51968511]\n",
      "step size= 0.001 , example gradient finite difference error= [123.45804789]\n",
      "step size= 0.0001 , example gradient finite difference error= [13.96251092]\n",
      "step size= 1e-05 , example gradient finite difference error= [3.26758779]\n",
      "step size= 1e-06 , example gradient finite difference error= [0.31921751]\n",
      "step size= 1e-07 , example gradient finite difference error= [0.05668666]\n",
      "step size= 1e-08 , example gradient finite difference error= [0.00609191]\n",
      "step size= 1e-09 , example gradient finite difference error= [0.00061373]\n",
      "step size= 1e-10 , example gradient finite difference error= [6.14243451e-05]\n",
      "step size= 1e-11 , example gradient finite difference error= [6.11626806e-06]\n",
      "step size= 1e-12 , example gradient finite difference error= [7.10797328e-07]\n",
      "step size= 1e-13 , example gradient finite difference error= [4.85760293e-06]\n"
     ]
    },
    {
     "data": {
      "text/plain": [
       "Text(0, 0.5, 'error')"
      ]
     },
     "execution_count": 42,
     "metadata": {},
     "output_type": "execute_result"
    },
    {
     "data": {
      "image/png": "[encoded data removed]",
      "text/plain": [
       "<Figure size 432x288 with 1 Axes>"
      ]
     },
     "metadata": {
      "needs_background": "light"
     },
     "output_type": "display_data"
    }
   ],
   "source": [
    "# step_sizes = [1e0, 1e-1, 1e-2, 1e-3, 1e-4, 1e-5, 1e-6, 1e-7, 1e-8, 1e-9, 1e-10, 1e-11, 1e-12, 1e-13]\n",
    "\n",
    "\n",
    "# # Make log-log plot of gradient finite difference error vs. step size\n",
    "\n",
    "# A1 = np.random.uniform(0,5)\n",
    "# L1 = forward_model_cost(np.array([A1, w]), V0, m, h, n, dt, t, data_steps, V_data)\n",
    "\n",
    "# # compute gradient using autograd\n",
    "# g = grad_AD(np.array([A1, w]), V0, m, h, n, dt, t, data_steps, V_data)[0]\n",
    "# dL_dV_p = np.dot(g, p)\n",
    "\n",
    "# # j = jac_AD(V1, m, h, n, I_stimulus, dt, t, data_steps, V_data)\n",
    "# # dL_dV_p = np.dot(j, p)\n",
    "\n",
    "\n",
    "# grad_errs = list()\n",
    "# for s in step_sizes:\n",
    "    \n",
    "#     # compute gradient using finite differences\n",
    "#     A2 = A1 + s*p\n",
    "\n",
    "#     L2 = forward_model_cost(np.array([A2, w]), V0, m, h, n, dt, t, data_steps, V_data)\n",
    "#     dL_dV_p_diff = (L2 - L1) / s\n",
    "\n",
    "\n",
    "#     # compute gradient error\n",
    "#     grad_err = np.abs( (dL_dV_p - dL_dV_p_diff) / dL_dV_p_diff )\n",
    "#     print('step size=', s, ', example gradient finite difference error=', grad_err)\n",
    "    \n",
    "#     grad_errs.append(grad_err)\n",
    "\n",
    "# plt.loglog(step_sizes, grad_errs)\n",
    "# plt.title('Example finite difference gradient check')\n",
    "# plt.xlabel('step size')\n",
    "# plt.ylabel('error')\n",
    "\n",
    "\n",
    "\n",
    "\n",
    "step_sizes = [1e0, 1e-1, 1e-2, 1e-3, 1e-4, 1e-5, 1e-6, 1e-7, 1e-8, 1e-9, 1e-10, 1e-11, 1e-12, 1e-13]\n",
    "\n",
    "\n",
    "# Make log-log plot of gradient finite difference error vs. step size\n",
    "\n",
    "w1 = np.random.uniform(0, 1)\n",
    "L1 = forward_model_cost(np.array([A, w1]), V0, m, h, n, dt, t, data_steps, V_data)\n",
    "\n",
    "\n",
    "# compute gradient using autograd\n",
    "g = grad_AD(np.array([A, w1]), V0, m, h, n, dt, t, data_steps, V_data)[1]\n",
    "dL_dV_p = np.dot(g, p)\n",
    "\n",
    "\n",
    "grad_errs = list()\n",
    "for s in step_sizes:\n",
    "    \n",
    "    # compute gradient using finite differences\n",
    "    w2 = w1 + s*p\n",
    "\n",
    "    L2 = forward_model_cost(np.array([A, w2]), V0, m, h, n, dt, t, data_steps, V_data)\n",
    "    dL_dV_p_diff = (L2 - L1) / s\n",
    "\n",
    "\n",
    "    # compute gradient error\n",
    "    grad_err = np.abs( (dL_dV_p - dL_dV_p_diff) / dL_dV_p_diff )\n",
    "    print('step size=', s, ', example gradient finite difference error=', grad_err)\n",
    "    \n",
    "    grad_errs.append(grad_err)\n",
    "\n",
    "plt.loglog(step_sizes, grad_errs)\n",
    "plt.title('Example finite difference gradient check')\n",
    "plt.xlabel('step size')\n",
    "plt.ylabel('error')\n",
    "\n"
   ]
  },
  {
   "cell_type": "markdown",
   "id": "d3117794",
   "metadata": {},
   "source": [
    "#### Find Minimizer"
   ]
  },
  {
   "cell_type": "code",
   "execution_count": 95,
   "id": "18efa551",
   "metadata": {},
   "outputs": [
    {
     "data": {
      "text/plain": [
       "(2.0, 0.02)"
      ]
     },
     "execution_count": 95,
     "metadata": {},
     "output_type": "execute_result"
    }
   ],
   "source": [
    "A, w"
   ]
  },
  {
   "cell_type": "code",
   "execution_count": 101,
   "id": "ea99b988",
   "metadata": {},
   "outputs": [
    {
     "data": {
      "text/plain": [
       "      fun: 20001133.469274856\n",
       " hess_inv: array([[1, 0],\n",
       "       [0, 1]])\n",
       "      jac: array([9999500.03749688,   99995.00037497])\n",
       "  message: 'Desired error not necessarily achieved due to precision loss.'\n",
       "     nfev: 53\n",
       "      nit: 0\n",
       "     njev: 47\n",
       "   status: 2\n",
       "  success: False\n",
       "        x: array([2.  , 0.02])"
      ]
     },
     "execution_count": 101,
     "metadata": {},
     "output_type": "execute_result"
    }
   ],
   "source": [
    "# A = 4.289\n",
    "# w = 0.1\n",
    "\n",
    "\n",
    "#initial_guess = np.array([4.0, w])\n",
    "initial_guess = np.array([A, w])\n",
    "\n",
    "# optim = optimize.minimize(forward_model_cost, initial_guess, args = (V0, m, h, n, dt, t, data_steps, V_data), \n",
    "#                   jac = grad_AD, method = 'BFGS')\n",
    "\n",
    "optim = optimize.minimize(lagrange_seq, initial_guess, args = (V_model, V_data), \n",
    "                   jac = grad_AD, method = 'BFGS')\n",
    "\n",
    "optim\n"
   ]
  },
  {
   "cell_type": "code",
   "execution_count": 97,
   "id": "b90bde80",
   "metadata": {},
   "outputs": [
    {
     "data": {
      "text/plain": [
       "array([2.  , 0.02])"
      ]
     },
     "execution_count": 97,
     "metadata": {},
     "output_type": "execute_result"
    }
   ],
   "source": [
    "optim.x"
   ]
  },
  {
   "cell_type": "code",
   "execution_count": 46,
   "id": "48cd05a2",
   "metadata": {},
   "outputs": [
    {
     "data": {
      "text/plain": [
       "<matplotlib.legend.Legend at 0x7feb5d71c760>"
      ]
     },
     "execution_count": 46,
     "metadata": {},
     "output_type": "execute_result"
    },
    {
     "data": {
      "image/png": "[encoded data removed]",
      "text/plain": [
       "<Figure size 432x288 with 1 Axes>"
      ]
     },
     "metadata": {
      "needs_background": "light"
     },
     "output_type": "display_data"
    }
   ],
   "source": [
    "# norm_g = np.linalg.norm(g_func(Ak))\n",
    "# print('||g(u)|| / ||g(u_0)||=', norm_g / norm_g0) # should be less than 1e-6\n",
    "\n",
    "V_final = integrate_HH(V0, m, h, n, optim.x, dt, t)\n",
    "\n",
    "plt.figure()\n",
    "plt.plot(V_final, ls = 'dotted', label = 'with optimized I')\n",
    "plt.plot(V_data, label = 'original')\n",
    "#plt.title('V (steepest descent)')\n",
    "plt.xlabel('time')\n",
    "plt.ylabel('V')\n",
    "plt.legend()"
   ]
  },
  {
   "cell_type": "code",
   "execution_count": null,
   "id": "78a3cdc9",
   "metadata": {
    "collapsed": true
   },
   "outputs": [],
   "source": []
  }
 ],
 "metadata": {
  "kernelspec": {
   "display_name": "Python 3 (ipykernel)",
   "language": "python",
   "name": "python3"
  },
  "language_info": {
   "codemirror_mode": {
    "name": "ipython",
    "version": 3
   },
   "file_extension": ".py",
   "mimetype": "text/x-python",
   "name": "python",
   "nbconvert_exporter": "python",
   "pygments_lexer": "ipython3",
   "version": "3.9.7"
  }
 },
 "nbformat": 4,
 "nbformat_minor": 5
}
