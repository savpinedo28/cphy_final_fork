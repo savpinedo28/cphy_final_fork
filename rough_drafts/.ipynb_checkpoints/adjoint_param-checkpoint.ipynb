{
 "cells": [
  {
   "cell_type": "code",
   "execution_count": 7,
   "id": "f63e9af4",
   "metadata": {},
   "outputs": [],
   "source": [
    "import numpy as np\n",
    "import matplotlib.pyplot as plt\n",
    "from scipy.integrate import odeint\n",
    "from scipy.optimize import minimize\n",
    "import zipfile\n",
    "import pandas as pd "
   ]
  },
  {
   "cell_type": "markdown",
   "id": "5f252805",
   "metadata": {},
   "source": [
    "Importing Simulation Data & Defining Variables"
   ]
  },
  {
   "cell_type": "code",
   "execution_count": 8,
   "id": "fb1d8e1f",
   "metadata": {},
   "outputs": [
    {
     "ename": "FileNotFoundError",
     "evalue": "[Errno 2] No such file or directory: './sim_data/gt_1a_100.zip'",
     "output_type": "error",
     "traceback": [
      "\u001b[0;31m---------------------------------------------------------------------------\u001b[0m",
      "\u001b[0;31mFileNotFoundError\u001b[0m                         Traceback (most recent call last)",
      "Cell \u001b[0;32mIn[8], line 2\u001b[0m\n\u001b[1;32m      1\u001b[0m zip_file_path \u001b[38;5;241m=\u001b[39m \u001b[38;5;124m'\u001b[39m\u001b[38;5;124m./sim_data/gt_1a_100.zip\u001b[39m\u001b[38;5;124m'\u001b[39m\n\u001b[0;32m----> 2\u001b[0m \u001b[38;5;28;01mwith\u001b[39;00m zipfile\u001b[38;5;241m.\u001b[39mZipFile(zip_file_path, \u001b[38;5;124m'\u001b[39m\u001b[38;5;124mr\u001b[39m\u001b[38;5;124m'\u001b[39m) \u001b[38;5;28;01mas\u001b[39;00m zip_ref:\n\u001b[1;32m      3\u001b[0m     \u001b[38;5;66;03m# Assume there is only one CSV file in the zip (you might need to modify this if there are multiple CSV files)\u001b[39;00m\n\u001b[1;32m      4\u001b[0m     csv_file_name \u001b[38;5;241m=\u001b[39m zip_ref\u001b[38;5;241m.\u001b[39mnamelist()[\u001b[38;5;241m0\u001b[39m]\n\u001b[1;32m      6\u001b[0m     \u001b[38;5;66;03m# Read the CSV file directly from the zip file into a pandas DataFrame\u001b[39;00m\n",
      "File \u001b[0;32m~/anaconda3/lib/python3.11/zipfile.py:1284\u001b[0m, in \u001b[0;36mZipFile.__init__\u001b[0;34m(self, file, mode, compression, allowZip64, compresslevel, strict_timestamps, metadata_encoding)\u001b[0m\n\u001b[1;32m   1282\u001b[0m \u001b[38;5;28;01mwhile\u001b[39;00m \u001b[38;5;28;01mTrue\u001b[39;00m:\n\u001b[1;32m   1283\u001b[0m     \u001b[38;5;28;01mtry\u001b[39;00m:\n\u001b[0;32m-> 1284\u001b[0m         \u001b[38;5;28mself\u001b[39m\u001b[38;5;241m.\u001b[39mfp \u001b[38;5;241m=\u001b[39m io\u001b[38;5;241m.\u001b[39mopen(file, filemode)\n\u001b[1;32m   1285\u001b[0m     \u001b[38;5;28;01mexcept\u001b[39;00m \u001b[38;5;167;01mOSError\u001b[39;00m:\n\u001b[1;32m   1286\u001b[0m         \u001b[38;5;28;01mif\u001b[39;00m filemode \u001b[38;5;129;01min\u001b[39;00m modeDict:\n",
      "\u001b[0;31mFileNotFoundError\u001b[0m: [Errno 2] No such file or directory: './sim_data/gt_1a_100.zip'"
     ]
    }
   ],
   "source": [
    "zip_file_path = './sim_data/gt_1a_100.zip'\n",
    "with zipfile.ZipFile(zip_file_path, 'r') as zip_ref:\n",
    "    # Assume there is only one CSV file in the zip (you might need to modify this if there are multiple CSV files)\n",
    "    csv_file_name = zip_ref.namelist()[0]\n",
    "\n",
    "    # Read the CSV file directly from the zip file into a pandas DataFrame\n",
    "    with zip_ref.open(csv_file_name) as csv_file:\n",
    "        df = pd.read_csv(csv_file)\n",
    "        \n"
   ]
  },
  {
   "cell_type": "code",
   "execution_count": 9,
   "id": "6444c91b",
   "metadata": {},
   "outputs": [
    {
     "ename": "NameError",
     "evalue": "name 'df' is not defined",
     "output_type": "error",
     "traceback": [
      "\u001b[0;31m---------------------------------------------------------------------------\u001b[0m",
      "\u001b[0;31mNameError\u001b[0m                                 Traceback (most recent call last)",
      "Cell \u001b[0;32mIn[9], line 1\u001b[0m\n\u001b[0;32m----> 1\u001b[0m plt\u001b[38;5;241m.\u001b[39mplot(df[\u001b[38;5;124m'\u001b[39m\u001b[38;5;124mtime\u001b[39m\u001b[38;5;124m'\u001b[39m], df[\u001b[38;5;124m'\u001b[39m\u001b[38;5;124mvoltage\u001b[39m\u001b[38;5;124m'\u001b[39m], label \u001b[38;5;241m=\u001b[39m \u001b[38;5;124m'\u001b[39m\u001b[38;5;124mactual_data\u001b[39m\u001b[38;5;124m'\u001b[39m)\n",
      "\u001b[0;31mNameError\u001b[0m: name 'df' is not defined"
     ]
    }
   ],
   "source": [
    "plt.plot(df['time'], df['voltage'], label = 'actual_data')"
   ]
  },
  {
   "cell_type": "code",
   "execution_count": null,
   "id": "8054127d",
   "metadata": {},
   "outputs": [],
   "source": [
    "def parameter_recovery(parameters, target_v, time, I_known):\n",
    "    # Define the HH model equations\n",
    "    def alpha_m(V):\n",
    "        return 0.1 * (V + 40.0) / (1.0 - np.exp(-(V + 40.0) / 10.0))\n",
    "\n",
    "    def beta_m(V):\n",
    "        return 4.0 * np.exp(-(V + 65.0) / 18.0)\n",
    "\n",
    "    def alpha_h(V):\n",
    "        return 0.07 * np.exp(-(V + 65.0) / 20.0)\n",
    "\n",
    "    def beta_h(V):\n",
    "        return 1.0 / (1.0 + np.exp(-(V + 35.0) / 10.0))\n",
    "\n",
    "    def alpha_n(V):\n",
    "        return 0.01 * (V + 55.0) / (1.0 - np.exp(-(V + 55.0) / 10.0))\n",
    "\n",
    "    def beta_n(V):\n",
    "        return 0.125 * np.exp(-(V + 65) / 80.0)\n",
    "\n",
    "    def model(y, t, I,  C_m, g_Na, g_K, g_L, E_Na, E_K, E_L):\n",
    "        V, m, h, n = y\n",
    "    \n",
    "        dVdt = (I - g_Na * m**3 * h * (V - E_Na) - g_K * n**4 * (V - E_K) - g_L * (V - E_L)) / C_m\n",
    "        dmdt = alpha_m(V) * (1 - m) - beta_m(V) * m\n",
    "        dhdt = alpha_h(V) * (1 - h) - beta_h(V) * h\n",
    "        dndt = alpha_n(V) * (1 - n) - beta_n(V) * n\n",
    "    \n",
    "        return [dVdt, dmdt, dhdt, dndt]\n",
    "    \n",
    "    def objective_fnct(parameters, target_v, time, I_known): \n",
    "        C_m, g_Na, g_K, g_L, E_Na, E_K, E_L = parameters\n",
    "    \n",
    "        sol = odeint(model, [-65, 0.05, 0.6, 0.32], time, args = (I_known, C_m, g_Na, g_K, g_L, E_Na, E_K, E_L))\n",
    "    \n",
    "        mse = np.mean((solution[:,0]-target_v)**2)\n",
    "    \n",
    "        return mse\n",
    "    \n",
    "    def adjoint_model(parameters, target_v, time, I_known):\n",
    "        C_m, g_Na, g_K, g_L, E_Na, E_K, E_L = parameters\n",
    "\n",
    "        # Define the impulse function using the known impulse\n",
    "\n",
    "        # Compute the forward solution\n",
    "        solution = odeint(model, [-65, 0.05, 0.6, 0.32], time, args=(I_known, C_m, g_Na, g_K, g_L, E_Na, E_K, E_L))\n",
    "\n",
    "        # Compute the difference between the simulated and target potentials\n",
    "        error = solution[:, 0] - target_v\n",
    "\n",
    "        # Compute the adjoint variable (gradient of the objective function)\n",
    "        adjoint_variable = 2 * error\n",
    "\n",
    "        return adjoint_variable\n",
    "    \n",
    "    bounds = [(1e-6, 1), (1e-6, 100), (1e-6, 100), (1e-6, 10), (-100, 100), (-100, 100), (-100, 100)]\n",
    "\n",
    "    # Perform the optimization using the adjoint method with bounds\n",
    "    result = minimize(objective_function, parameters_guess,\n",
    "                      args=(target_v, time, I_known),\n",
    "                      method='L-BFGS-B', jac=adjoint_model, bounds=bounds, options={'disp': True})\n",
    "\n",
    "    # Extract the optimized parameters\n",
    "    optimized_parameters = result.x\n",
    "\n",
    "    return optimized_parameters"
   ]
  },
  {
   "cell_type": "code",
   "execution_count": null,
   "id": "0292c7fc",
   "metadata": {},
   "outputs": [],
   "source": [
    "\n"
   ]
  },
  {
   "cell_type": "code",
   "execution_count": 3,
   "id": "55f9a815",
   "metadata": {},
   "outputs": [],
   "source": [
    "\n",
    "    def adjoint_model(parameters, target_potential, time, known_impulse):\n",
    "        C_m, g_Na, g_K, g_L, E_Na, E_K, E_L = parameters\n",
    "\n",
    "        # Define the impulse function using the known impulse\n",
    "        def I_stim(t):\n",
    "            return np.interp(t, time, known_impulse, left=0, right=0)\n",
    "\n",
    "        # Compute the forward solution\n",
    "        solution = odeint(model, [-65, 0.05, 0.6, 0.32], time, args=(I_stim, C_m, g_Na, g_K, g_L, E_Na, E_K, E_L, lambda t: interp_known_impulse[np.searchsorted(time, t)]))\n",
    "\n",
    "        # Compute the difference between the simulated and target potentials\n",
    "        error = solution[:, 0] - target_potential\n",
    "\n",
    "        # Compute the adjoint variable (gradient of the objective function)\n",
    "        adjoint_variable = 2 * error\n"
   ]
  },
  {
   "cell_type": "code",
   "execution_count": 4,
   "id": "1713e2e1",
   "metadata": {},
   "outputs": [],
   "source": [
    "bounds = [(1e-6, 1), (1e-6, 100), (1e-6, 100), (1e-6, 10), (-100, 100), (-100, 100), (-100, 100)]"
   ]
  },
  {
   "cell_type": "code",
   "execution_count": null,
   "id": "ea5770ef",
   "metadata": {},
   "outputs": [],
   "source": [
    "\n",
    "                                                                            "
   ]
  },
  {
   "cell_type": "code",
   "execution_count": 5,
   "id": "e1255691",
   "metadata": {},
   "outputs": [
    {
     "ename": "NameError",
     "evalue": "name 'df' is not defined",
     "output_type": "error",
     "traceback": [
      "\u001b[0;31m---------------------------------------------------------------------------\u001b[0m",
      "\u001b[0;31mNameError\u001b[0m                                 Traceback (most recent call last)",
      "Cell \u001b[0;32mIn[5], line 2\u001b[0m\n\u001b[1;32m      1\u001b[0m initial_guess_parameters \u001b[38;5;241m=\u001b[39m [\u001b[38;5;241m1\u001b[39m, \u001b[38;5;241m50\u001b[39m, \u001b[38;5;241m20\u001b[39m, \u001b[38;5;241m0.5\u001b[39m, \u001b[38;5;241m50\u001b[39m, \u001b[38;5;241m-\u001b[39m\u001b[38;5;241m77\u001b[39m, \u001b[38;5;241m-\u001b[39m\u001b[38;5;241m54.387\u001b[39m]\n\u001b[0;32m----> 2\u001b[0m v_array \u001b[38;5;241m=\u001b[39m (df[\u001b[38;5;124m'\u001b[39m\u001b[38;5;124mvoltage\u001b[39m\u001b[38;5;124m'\u001b[39m]\u001b[38;5;241m.\u001b[39mto_numpy())\n\u001b[1;32m      3\u001b[0m i_array \u001b[38;5;241m=\u001b[39m (df[\u001b[38;5;124m'\u001b[39m\u001b[38;5;124mvoltage\u001b[39m\u001b[38;5;124m'\u001b[39m]\u001b[38;5;241m.\u001b[39mto_numpy())\n\u001b[1;32m      4\u001b[0m dt \u001b[38;5;241m=\u001b[39m df[\u001b[38;5;124m'\u001b[39m\u001b[38;5;124mtime\u001b[39m\u001b[38;5;124m'\u001b[39m][\u001b[38;5;241m1\u001b[39m]\u001b[38;5;241m-\u001b[39mdf[\u001b[38;5;124m'\u001b[39m\u001b[38;5;124mtime\u001b[39m\u001b[38;5;124m'\u001b[39m][\u001b[38;5;241m0\u001b[39m]\n",
      "\u001b[0;31mNameError\u001b[0m: name 'df' is not defined"
     ]
    }
   ],
   "source": [
    "initial_guess_parameters = [1, 50, 20, 0.5, 50, -77, -54.387]\n",
    "v_array = (df['voltage'].to_numpy())\n",
    "i_array = (df['voltage'].to_numpy())\n",
    "dt = df['time'][1]-df['time'][0]\n",
    "dur =(df['time'].to_numpy())[-1]\n",
    "time = np.arange(0, dur, dt)\n",
    "\n",
    "optimized_parameters = minimizer(v_array, time, i_array, initial_guess_parameters)\n"
   ]
  },
  {
   "cell_type": "code",
   "execution_count": null,
   "id": "95bd7918",
   "metadata": {},
   "outputs": [],
   "source": []
  }
 ],
 "metadata": {
  "kernelspec": {
   "display_name": "Python 3 (ipykernel)",
   "language": "python",
   "name": "python3"
  },
  "language_info": {
   "codemirror_mode": {
    "name": "ipython",
    "version": 3
   },
   "file_extension": ".py",
   "mimetype": "text/x-python",
   "name": "python",
   "nbconvert_exporter": "python",
   "pygments_lexer": "ipython3",
   "version": "3.11.4"
  }
 },
 "nbformat": 4,
 "nbformat_minor": 5
}
