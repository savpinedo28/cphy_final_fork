{
 "cells": [
  {
   "cell_type": "code",
   "execution_count": 2,
   "id": "3e669f28",
   "metadata": {},
   "outputs": [
    {
     "name": "stdout",
     "output_type": "stream",
     "text": [
      "Collecting autograd\n",
      "  Obtaining dependency information for autograd from https://files.pythonhosted.org/packages/81/70/d5c7c2a458b8be96495c8b1634c2155beab58cbe864b7a9a5c06c2e52520/autograd-1.6.2-py3-none-any.whl.metadata\n",
      "  Downloading autograd-1.6.2-py3-none-any.whl.metadata (706 bytes)\n",
      "Requirement already satisfied: numpy>=1.12 in /Users/sophiaepst/anaconda3/lib/python3.11/site-packages (from autograd) (1.24.3)\n",
      "Requirement already satisfied: future>=0.15.2 in /Users/sophiaepst/anaconda3/lib/python3.11/site-packages (from autograd) (0.18.3)\n",
      "Downloading autograd-1.6.2-py3-none-any.whl (49 kB)\n",
      "\u001b[2K   \u001b[90m━━━━━━━━━━━━━━━━━━━━━━━━━━━━━━━━━━━━━━━━\u001b[0m \u001b[32m49.3/49.3 kB\u001b[0m \u001b[31m964.3 kB/s\u001b[0m eta \u001b[36m0:00:00\u001b[0m\u001b[36m0:00:01\u001b[0m\n",
      "\u001b[?25hInstalling collected packages: autograd\n",
      "Successfully installed autograd-1.6.2\n",
      "Note: you may need to restart the kernel to use updated packages.\n"
     ]
    }
   ],
   "source": [
    "pip install autograd"
   ]
  },
  {
   "cell_type": "code",
   "execution_count": 6,
   "id": "255d14cc",
   "metadata": {},
   "outputs": [
    {
     "name": "stdout",
     "output_type": "stream",
     "text": [
      "\u001b[33mWARNING: Certificate did not match expected hostname: pypi.org. Certificate: {'subject': ((('commonName', 'portal.deepcoolclear.com'),),), 'issuer': ((('countryName', 'US'),), (('organizationName', 'DigiCert Inc'),), (('organizationalUnitName', 'www.digicert.com'),), (('commonName', 'RapidSSL TLS RSA CA G1'),)), 'version': 3, 'serialNumber': '0F053EC925502D98AC4839CFA9C7E430', 'notBefore': 'Sep 22 00:00:00 2023 GMT', 'notAfter': 'Oct 22 23:59:59 2024 GMT', 'subjectAltName': (('DNS', 'portal.deepcoolclear.com'), ('DNS', 'www.portal.deepcoolclear.com')), 'OCSP': ('http://status.rapidssl.com',), 'caIssuers': ('http://cacerts.rapidssl.com/RapidSSLTLSRSACAG1.crt',), 'crlDistributionPoints': ('http://cdp.rapidssl.com/RapidSSLTLSRSACAG1.crl',)}\u001b[0m\u001b[33m\n",
      "\u001b[0m\u001b[33mWARNING: Retrying (Retry(total=4, connect=None, read=None, redirect=None, status=None)) after connection broken by 'SSLError(CertificateError(\"hostname 'pypi.org' doesn't match either of 'portal.deepcoolclear.com', 'www.portal.deepcoolclear.com'\"))': /simple/import-ipynb/\u001b[0m\u001b[33m\n",
      "\u001b[0m\u001b[33mWARNING: Certificate did not match expected hostname: pypi.org. Certificate: {'subject': ((('commonName', 'portal.deepcoolclear.com'),),), 'issuer': ((('countryName', 'US'),), (('organizationName', 'DigiCert Inc'),), (('organizationalUnitName', 'www.digicert.com'),), (('commonName', 'RapidSSL TLS RSA CA G1'),)), 'version': 3, 'serialNumber': '0F053EC925502D98AC4839CFA9C7E430', 'notBefore': 'Sep 22 00:00:00 2023 GMT', 'notAfter': 'Oct 22 23:59:59 2024 GMT', 'subjectAltName': (('DNS', 'portal.deepcoolclear.com'), ('DNS', 'www.portal.deepcoolclear.com')), 'OCSP': ('http://status.rapidssl.com',), 'caIssuers': ('http://cacerts.rapidssl.com/RapidSSLTLSRSACAG1.crt',), 'crlDistributionPoints': ('http://cdp.rapidssl.com/RapidSSLTLSRSACAG1.crl',)}\u001b[0m\u001b[33m\n",
      "\u001b[0m\u001b[33mWARNING: Retrying (Retry(total=3, connect=None, read=None, redirect=None, status=None)) after connection broken by 'SSLError(CertificateError(\"hostname 'pypi.org' doesn't match either of 'portal.deepcoolclear.com', 'www.portal.deepcoolclear.com'\"))': /simple/import-ipynb/\u001b[0m\u001b[33m\n",
      "\u001b[0m\u001b[33mWARNING: Certificate did not match expected hostname: pypi.org. Certificate: {'subject': ((('commonName', 'portal.deepcoolclear.com'),),), 'issuer': ((('countryName', 'US'),), (('organizationName', 'DigiCert Inc'),), (('organizationalUnitName', 'www.digicert.com'),), (('commonName', 'RapidSSL TLS RSA CA G1'),)), 'version': 3, 'serialNumber': '0F053EC925502D98AC4839CFA9C7E430', 'notBefore': 'Sep 22 00:00:00 2023 GMT', 'notAfter': 'Oct 22 23:59:59 2024 GMT', 'subjectAltName': (('DNS', 'portal.deepcoolclear.com'), ('DNS', 'www.portal.deepcoolclear.com')), 'OCSP': ('http://status.rapidssl.com',), 'caIssuers': ('http://cacerts.rapidssl.com/RapidSSLTLSRSACAG1.crt',), 'crlDistributionPoints': ('http://cdp.rapidssl.com/RapidSSLTLSRSACAG1.crl',)}\u001b[0m\u001b[33m\n",
      "\u001b[0m\u001b[33mWARNING: Retrying (Retry(total=2, connect=None, read=None, redirect=None, status=None)) after connection broken by 'SSLError(CertificateError(\"hostname 'pypi.org' doesn't match either of 'portal.deepcoolclear.com', 'www.portal.deepcoolclear.com'\"))': /simple/import-ipynb/\u001b[0m\u001b[33m\n",
      "\u001b[0m\u001b[33mWARNING: Certificate did not match expected hostname: pypi.org. Certificate: {'subject': ((('commonName', 'portal.deepcoolclear.com'),),), 'issuer': ((('countryName', 'US'),), (('organizationName', 'DigiCert Inc'),), (('organizationalUnitName', 'www.digicert.com'),), (('commonName', 'RapidSSL TLS RSA CA G1'),)), 'version': 3, 'serialNumber': '0F053EC925502D98AC4839CFA9C7E430', 'notBefore': 'Sep 22 00:00:00 2023 GMT', 'notAfter': 'Oct 22 23:59:59 2024 GMT', 'subjectAltName': (('DNS', 'portal.deepcoolclear.com'), ('DNS', 'www.portal.deepcoolclear.com')), 'OCSP': ('http://status.rapidssl.com',), 'caIssuers': ('http://cacerts.rapidssl.com/RapidSSLTLSRSACAG1.crt',), 'crlDistributionPoints': ('http://cdp.rapidssl.com/RapidSSLTLSRSACAG1.crl',)}\u001b[0m\u001b[33m\n",
      "\u001b[0m\u001b[33mWARNING: Retrying (Retry(total=1, connect=None, read=None, redirect=None, status=None)) after connection broken by 'SSLError(CertificateError(\"hostname 'pypi.org' doesn't match either of 'portal.deepcoolclear.com', 'www.portal.deepcoolclear.com'\"))': /simple/import-ipynb/\u001b[0m\u001b[33m\n",
      "\u001b[0m\u001b[33mWARNING: Certificate did not match expected hostname: pypi.org. Certificate: {'subject': ((('commonName', 'portal.deepcoolclear.com'),),), 'issuer': ((('countryName', 'US'),), (('organizationName', 'DigiCert Inc'),), (('organizationalUnitName', 'www.digicert.com'),), (('commonName', 'RapidSSL TLS RSA CA G1'),)), 'version': 3, 'serialNumber': '0F053EC925502D98AC4839CFA9C7E430', 'notBefore': 'Sep 22 00:00:00 2023 GMT', 'notAfter': 'Oct 22 23:59:59 2024 GMT', 'subjectAltName': (('DNS', 'portal.deepcoolclear.com'), ('DNS', 'www.portal.deepcoolclear.com')), 'OCSP': ('http://status.rapidssl.com',), 'caIssuers': ('http://cacerts.rapidssl.com/RapidSSLTLSRSACAG1.crt',), 'crlDistributionPoints': ('http://cdp.rapidssl.com/RapidSSLTLSRSACAG1.crl',)}\u001b[0m\u001b[33m\n",
      "\u001b[0m\u001b[33mWARNING: Retrying (Retry(total=0, connect=None, read=None, redirect=None, status=None)) after connection broken by 'SSLError(CertificateError(\"hostname 'pypi.org' doesn't match either of 'portal.deepcoolclear.com', 'www.portal.deepcoolclear.com'\"))': /simple/import-ipynb/\u001b[0m\u001b[33m\n",
      "\u001b[0m\u001b[33mWARNING: Certificate did not match expected hostname: pypi.org. Certificate: {'subject': ((('commonName', 'portal.deepcoolclear.com'),),), 'issuer': ((('countryName', 'US'),), (('organizationName', 'DigiCert Inc'),), (('organizationalUnitName', 'www.digicert.com'),), (('commonName', 'RapidSSL TLS RSA CA G1'),)), 'version': 3, 'serialNumber': '0F053EC925502D98AC4839CFA9C7E430', 'notBefore': 'Sep 22 00:00:00 2023 GMT', 'notAfter': 'Oct 22 23:59:59 2024 GMT', 'subjectAltName': (('DNS', 'portal.deepcoolclear.com'), ('DNS', 'www.portal.deepcoolclear.com')), 'OCSP': ('http://status.rapidssl.com',), 'caIssuers': ('http://cacerts.rapidssl.com/RapidSSLTLSRSACAG1.crt',), 'crlDistributionPoints': ('http://cdp.rapidssl.com/RapidSSLTLSRSACAG1.crl',)}\u001b[0m\u001b[33m\n",
      "\u001b[0mCould not fetch URL https://pypi.org/simple/import-ipynb/: There was a problem confirming the ssl certificate: HTTPSConnectionPool(host='pypi.org', port=443): Max retries exceeded with url: /simple/import-ipynb/ (Caused by SSLError(CertificateError(\"hostname 'pypi.org' doesn't match either of 'portal.deepcoolclear.com', 'www.portal.deepcoolclear.com'\"))) - skipping\n",
      "\u001b[31mERROR: Could not find a version that satisfies the requirement import-ipynb (from versions: none)\u001b[0m\u001b[31m\n",
      "\u001b[0m\u001b[31mERROR: No matching distribution found for import-ipynb\u001b[0m\u001b[31m\n",
      "\u001b[0mNote: you may need to restart the kernel to use updated packages.\n"
     ]
    }
   ],
   "source": [
    "pip install import-ipynb"
   ]
  },
  {
   "cell_type": "code",
   "execution_count": 33,
   "id": "e8b9fbfb-5cc5-40a9-aa1b-9dc840597157",
   "metadata": {},
   "outputs": [
    {
     "ename": "ModuleNotFoundError",
     "evalue": "No module named 'import_ipynb'",
     "output_type": "error",
     "traceback": [
      "\u001b[0;31m---------------------------------------------------------------------------\u001b[0m",
      "\u001b[0;31mModuleNotFoundError\u001b[0m                       Traceback (most recent call last)",
      "Cell \u001b[0;32mIn[33], line 8\u001b[0m\n\u001b[1;32m      6\u001b[0m \u001b[38;5;28;01mimport\u001b[39;00m \u001b[38;5;21;01mos\u001b[39;00m \n\u001b[1;32m      7\u001b[0m \u001b[38;5;28;01mimport\u001b[39;00m \u001b[38;5;21;01msys\u001b[39;00m\n\u001b[0;32m----> 8\u001b[0m \u001b[38;5;28;01mimport\u001b[39;00m \u001b[38;5;21;01mimport_ipynb\u001b[39;00m\n\u001b[1;32m      9\u001b[0m \u001b[38;5;28;01mfrom\u001b[39;00m \u001b[38;5;21;01mloss\u001b[39;00m \u001b[38;5;28;01mimport\u001b[39;00m \u001b[38;5;241m*\u001b[39m\n",
      "\u001b[0;31mModuleNotFoundError\u001b[0m: No module named 'import_ipynb'"
     ]
    }
   ],
   "source": [
    "import autograd.numpy as np\n",
    "from autograd import grad, jacobian\n",
    "from scipy.integrate import solve_ivp\n",
    "from scipy import optimize\n",
    "import matplotlib.pyplot as plt\n",
    "import os \n",
    "import sys\n",
    "import import_ipynb\n",
    "from loss import *"
   ]
  },
  {
   "cell_type": "code",
   "execution_count": 34,
   "id": "2cbc8aea-34bb-4822-a005-230f828abc48",
   "metadata": {
    "tags": []
   },
   "outputs": [],
   "source": [
    "\n",
    "\n",
    "# Define HH model parameters\n",
    "g_Na = 120.0  # Sodium conductance (mS/cm^2)\n",
    "g_K = 36.0   # Potassium conductance (mS/cm^2)\n",
    "g_L = 0.3    # Leak conductance (mS/cm^2)\n",
    "E_Na = 50.0  # Sodium reversal potential (mV)\n",
    "E_K = -77.0  # Potassium reversal potential (mV)\n",
    "E_L = -55.0  # Leak reversal potential (mV)\n",
    "C_m = 1.0    # Membrane capacitance (uF/cm^2)\n",
    "\n",
    "# Define the HH model equations\n",
    "def alpha_m(V):\n",
    "    return 0.1 * (V + 40.0) / (1.0 - np.exp(-(V + 40.0) / 10.0))\n",
    "\n",
    "def beta_m(V):\n",
    "    return 4.0 * np.exp(-(V + 65.0) / 18.0)\n",
    "\n",
    "def alpha_h(V):\n",
    "    return 0.07 * np.exp(-(V + 65.0) / 20.0)\n",
    "\n",
    "def beta_h(V):\n",
    "    return 1.0 / (1.0 + np.exp(-(V + 35.0) / 10.0))\n",
    "\n",
    "def alpha_n(V):\n",
    "    return 0.01 * (V + 55.0) / (1.0 - np.exp(-(V + 55.0) / 10.0))\n",
    "\n",
    "def beta_n(V):\n",
    "    return 0.125 * np.exp(-(V + 65) / 80.0)\n",
    "\n",
    "# Define the HH model differential equations\n",
    "def hodgkin_huxley_eq(V, m, h, n, I_params, t):\n",
    "    I = I_params[0]*np.sin(I_params[1]*t)\n",
    "    dVdt = (I - g_Na * m**3 * h * (V - E_Na) - g_K * n**4 * (V - E_K) - g_L * (V - E_L)) / C_m\n",
    "    dmdt = alpha_m(V) * (1 - m) - beta_m(V) * m\n",
    "    dhdt = alpha_h(V) * (1 - h) - beta_h(V) * h\n",
    "    dndt = alpha_n(V) * (1 - n) - beta_n(V) * n\n",
    "    return dVdt, dmdt, dhdt, dndt\n",
    "\n",
    "# Define time parameters\n",
    "dt = 0.0125  # Time step (ms)\n",
    "t = np.arange(0, 100, dt)  # Time vector (ms)\n",
    "\n",
    "\n",
    "# Initialize state variables\n",
    "V0 = -65.0  # Membrane voltage (mV)\n",
    "m, h, n = 0.05, 0.6, 0.32  # Initial values of gating variables\n"
   ]
  },
  {
   "cell_type": "code",
   "execution_count": 35,
   "id": "c0f15412",
   "metadata": {},
   "outputs": [],
   "source": [
    "def integrate_HH(V0, m, h, n, I_params, dt, t):\n",
    "    \n",
    "    V_record = np.zeros_like(t)\n",
    "    V = V0\n",
    "    \n",
    "    for i in range(len(t)):\n",
    "        V_record[i] = V\n",
    "        dVdt, dmdt, dhdt, dndt = hodgkin_huxley_eq(V, m, h, n, I_params, t[i])\n",
    "        V += dVdt * dt\n",
    "        m += dmdt * dt\n",
    "        h += dhdt * dt\n",
    "        n += dndt * dt\n",
    "    return V_record\n",
    "\n",
    "\n",
    "    "
   ]
  },
  {
   "cell_type": "code",
   "execution_count": null,
   "id": "1763c02e-5afc-465a-af2f-2d45b1662bbe",
   "metadata": {},
   "outputs": [],
   "source": []
  },
  {
   "cell_type": "markdown",
   "id": "072fe10c",
   "metadata": {},
   "source": [
    "## Adjoint"
   ]
  },
  {
   "cell_type": "markdown",
   "id": "f64921d2",
   "metadata": {},
   "source": [
    "#### Fake Data"
   ]
  },
  {
   "cell_type": "code",
   "execution_count": 36,
   "id": "5f3922a5",
   "metadata": {},
   "outputs": [],
   "source": [
    "# #np.load('./sim_data/t_vec.p', allow_pickle = True)\n",
    "# import pickle\n",
    "\n",
    "# import neuron.hoc39\n",
    "# #from neuron import h, gui\n",
    "# t_file = './sim_data/t_vec.p'\n",
    "\n",
    "\n",
    "# with open(t_file, mode='rb') as f:\n",
    "#     t_data = pickle.load(f)\n"
   ]
  },
  {
   "cell_type": "code",
   "execution_count": 37,
   "id": "7857b4d2",
   "metadata": {},
   "outputs": [
    {
     "data": {
      "text/plain": [
       "<matplotlib.legend.Legend at 0x1a3ca6890>"
      ]
     },
     "execution_count": 37,
     "metadata": {},
     "output_type": "execute_result"
    },
    {
     "data": {
      "image/png": "[encoded data removed]",
      "text/plain": [
       "<Figure size 640x480 with 1 Axes>"
      ]
     },
     "metadata": {},
     "output_type": "display_data"
    }
   ],
   "source": [
    "# run forward model to create fake data\n",
    "\n",
    "#A = 4.289\n",
    "#w = 0.1\n",
    "\n",
    "A = 1.0\n",
    "w = 0.1\n",
    "\n",
    "I_params = np.array([A, w])\n",
    "\n",
    "V_record = integrate_HH(V0, m, h, n, I_params, dt, t)\n",
    "\n",
    "I_stimulus = A*np.sin(w*t)\n",
    "\n",
    "plt.plot(t, V_record, label = 'V')\n",
    "plt.plot(t, I_stimulus, label = 'I')\n",
    "plt.xlabel('time')\n",
    "plt.legend()"
   ]
  },
  {
   "cell_type": "code",
   "execution_count": 38,
   "id": "766f8978",
   "metadata": {},
   "outputs": [
    {
     "data": {
      "text/html": [
       "<div>\n",
       "<style scoped>\n",
       "    .dataframe tbody tr th:only-of-type {\n",
       "        vertical-align: middle;\n",
       "    }\n",
       "\n",
       "    .dataframe tbody tr th {\n",
       "        vertical-align: top;\n",
       "    }\n",
       "\n",
       "    .dataframe thead th {\n",
       "        text-align: right;\n",
       "    }\n",
       "</style>\n",
       "<table border=\"1\" class=\"dataframe\">\n",
       "  <thead>\n",
       "    <tr style=\"text-align: right;\">\n",
       "      <th></th>\n",
       "      <th>time</th>\n",
       "      <th>voltage</th>\n",
       "      <th>stim</th>\n",
       "    </tr>\n",
       "  </thead>\n",
       "  <tbody>\n",
       "    <tr>\n",
       "      <th>0</th>\n",
       "      <td>0.0000</td>\n",
       "      <td>-80.000000</td>\n",
       "      <td>0.0</td>\n",
       "    </tr>\n",
       "    <tr>\n",
       "      <th>1</th>\n",
       "      <td>0.0125</td>\n",
       "      <td>-80.001144</td>\n",
       "      <td>0.0</td>\n",
       "    </tr>\n",
       "    <tr>\n",
       "      <th>2</th>\n",
       "      <td>0.0250</td>\n",
       "      <td>-80.002170</td>\n",
       "      <td>0.0</td>\n",
       "    </tr>\n",
       "    <tr>\n",
       "      <th>3</th>\n",
       "      <td>0.0375</td>\n",
       "      <td>-80.003110</td>\n",
       "      <td>0.0</td>\n",
       "    </tr>\n",
       "    <tr>\n",
       "      <th>4</th>\n",
       "      <td>0.0500</td>\n",
       "      <td>-80.004005</td>\n",
       "      <td>0.0</td>\n",
       "    </tr>\n",
       "    <tr>\n",
       "      <th>...</th>\n",
       "      <td>...</td>\n",
       "      <td>...</td>\n",
       "      <td>...</td>\n",
       "    </tr>\n",
       "    <tr>\n",
       "      <th>7996</th>\n",
       "      <td>99.9500</td>\n",
       "      <td>-61.703910</td>\n",
       "      <td>0.0</td>\n",
       "    </tr>\n",
       "    <tr>\n",
       "      <th>7997</th>\n",
       "      <td>99.9625</td>\n",
       "      <td>-61.707645</td>\n",
       "      <td>0.0</td>\n",
       "    </tr>\n",
       "    <tr>\n",
       "      <th>7998</th>\n",
       "      <td>99.9750</td>\n",
       "      <td>-61.711388</td>\n",
       "      <td>0.0</td>\n",
       "    </tr>\n",
       "    <tr>\n",
       "      <th>7999</th>\n",
       "      <td>99.9875</td>\n",
       "      <td>-61.715145</td>\n",
       "      <td>0.0</td>\n",
       "    </tr>\n",
       "    <tr>\n",
       "      <th>8000</th>\n",
       "      <td>100.0000</td>\n",
       "      <td>-61.718914</td>\n",
       "      <td>0.0</td>\n",
       "    </tr>\n",
       "  </tbody>\n",
       "</table>\n",
       "<p>8001 rows × 3 columns</p>\n",
       "</div>"
      ],
      "text/plain": [
       "          time    voltage  stim\n",
       "0       0.0000 -80.000000   0.0\n",
       "1       0.0125 -80.001144   0.0\n",
       "2       0.0250 -80.002170   0.0\n",
       "3       0.0375 -80.003110   0.0\n",
       "4       0.0500 -80.004005   0.0\n",
       "...        ...        ...   ...\n",
       "7996   99.9500 -61.703910   0.0\n",
       "7997   99.9625 -61.707645   0.0\n",
       "7998   99.9750 -61.711388   0.0\n",
       "7999   99.9875 -61.715145   0.0\n",
       "8000  100.0000 -61.718914   0.0\n",
       "\n",
       "[8001 rows x 3 columns]"
      ]
     },
     "execution_count": 38,
     "metadata": {},
     "output_type": "execute_result"
    }
   ],
   "source": [
    "import zipfile\n",
    "import pandas as pd \n",
    "\n",
    "zip_file_path = './sim_data/gt_multa_100.zip'\n",
    "with zipfile.ZipFile(zip_file_path, 'r') as zip_ref:\n",
    "    # Assume there is only one CSV file in the zip (you might need to modify this if there are multiple CSV files)\n",
    "    csv_file_name = zip_ref.namelist()[0]\n",
    "\n",
    "    # Read the CSV file directly from the zip file into a pandas DataFrame\n",
    "    with zip_ref.open(csv_file_name) as csv_file:\n",
    "        df = pd.read_csv(csv_file)\n",
    "        \n",
    "df"
   ]
  },
  {
   "cell_type": "code",
   "execution_count": 39,
   "id": "c7b9c141",
   "metadata": {},
   "outputs": [
    {
     "data": {
      "text/plain": [
       "<matplotlib.legend.Legend at 0x1a4440790>"
      ]
     },
     "execution_count": 39,
     "metadata": {},
     "output_type": "execute_result"
    },
    {
     "data": {
      "image/png": "[encoded data removed]",
      "text/plain": [
       "<Figure size 640x480 with 1 Axes>"
      ]
     },
     "metadata": {},
     "output_type": "display_data"
    }
   ],
   "source": [
    "plt.plot(df['time'], df['voltage'], label = 'actual_data')\n",
    "plt.plot(t, V_record, label = 'simulated')\n",
    "#plt.plot(data_steps, V_data, label = 'noisy data')\n",
    "plt.xlabel('time')\n",
    "plt.ylabel('V')\n",
    "plt.legend()"
   ]
  },
  {
   "cell_type": "code",
   "execution_count": 40,
   "id": "6a8d50cb",
   "metadata": {},
   "outputs": [],
   "source": [
    "# V_subsamp = V_record[::10]\n",
    "    \n",
    "# mean = np.mean(V_record)\n",
    "# stddev = np.std(V_record)\n",
    "\n",
    "# #noise = np.random.normal(0, stddev, len(V_subsamp))\n",
    "# noise = np.random.normal(0,1,len(V_subsamp))\n",
    "# V_data = V_subsamp + noise\n",
    "\n",
    "# data_steps = t[::10]"
   ]
  },
  {
   "cell_type": "code",
   "execution_count": 41,
   "id": "bae72a52",
   "metadata": {},
   "outputs": [],
   "source": [
    "# plt.plot(t, V_record, label = 'model equivalent')\n",
    "# plt.plot(data_steps, V_data, label = 'noisy data')\n",
    "# plt.xlabel('time')\n",
    "# plt.ylabel('V')\n",
    "# plt.legend()"
   ]
  },
  {
   "cell_type": "markdown",
   "id": "3b8b2fbb",
   "metadata": {},
   "source": [
    "#### Compute Gradient"
   ]
  },
  {
   "cell_type": "code",
   "execution_count": 42,
   "id": "995be136",
   "metadata": {},
   "outputs": [],
   "source": [
    "def forward_model_cost(I_params, V0, m, h, n, dt, t, data_steps, V_data):\n",
    "\n",
    "    cost = 0\n",
    "        \n",
    "    V_record = []\n",
    "    V = V0\n",
    "    \n",
    "    for i in range(len(t)):\n",
    "        \n",
    "        # run forward step\n",
    "        V_record.append(V)\n",
    "        \n",
    "        dVdt, dmdt, dhdt, dndt = hodgkin_huxley_eq(V, m, h, n, I_params, t[i])\n",
    "        V += dVdt * dt\n",
    "        m += dmdt * dt\n",
    "        h += dhdt * dt\n",
    "        n += dndt * dt\n",
    "\n",
    "        # compute model-data misfit\n",
    "        if t[i] in data_steps:\n",
    "            j = np.where(data_steps == t[i])\n",
    "            cost += (V_record[i] - V_data[j])**2 # [elu(V_record) - elu(V_data)]**2\n",
    "            \n",
    "    # cost += l2norm(I)        \n",
    "    cost = cost/len(data_steps)\n",
    "            \n",
    "    #return V_record, cost\n",
    "    return cost\n",
    "\n",
    "     \n",
    "        "
   ]
  },
  {
   "cell_type": "code",
   "execution_count": 43,
   "id": "351774ec",
   "metadata": {},
   "outputs": [
    {
     "data": {
      "text/plain": [
       "numpy.ndarray"
      ]
     },
     "execution_count": 43,
     "metadata": {},
     "output_type": "execute_result"
    }
   ],
   "source": [
    "type(df['voltage'].to_numpy())"
   ]
  },
  {
   "cell_type": "code",
   "execution_count": 44,
   "id": "fa457024",
   "metadata": {},
   "outputs": [
    {
     "data": {
      "text/plain": [
       "array([149.68490378])"
      ]
     },
     "execution_count": 44,
     "metadata": {},
     "output_type": "execute_result"
    }
   ],
   "source": [
    "# look at total cost before any optimization\n",
    "\n",
    "total_cost = forward_model_cost(I_params, V0, m, h, n, dt, t, df['time'].to_numpy(), df['voltage'].to_numpy())\n",
    "total_cost\n",
    "\n"
   ]
  },
  {
   "cell_type": "code",
   "execution_count": 45,
   "id": "136fba06",
   "metadata": {},
   "outputs": [],
   "source": [
    "# find gradient\n",
    "\n",
    "grad_AD = grad(forward_model_cost, 0) # 0 indicates differentiation w.r.t. the first argument of f.\n"
   ]
  },
  {
   "cell_type": "code",
   "execution_count": 46,
   "id": "0be013ab",
   "metadata": {},
   "outputs": [
    {
     "data": {
      "text/plain": [
       "array([-2.52301053, 66.39539643])"
      ]
     },
     "execution_count": 46,
     "metadata": {},
     "output_type": "execute_result"
    }
   ],
   "source": [
    "# test autograd with I_params used to create fake data\n",
    "\n",
    "grad_AD(I_params, V0, m, h, n, dt, t,  df['time'].to_numpy(), df['voltage'].to_numpy())\n",
    "#jac_AD(V, m, h, n, I_stimulus, dt, t, data_steps, V_data)"
   ]
  },
  {
   "cell_type": "markdown",
   "id": "14708b1a",
   "metadata": {},
   "source": [
    "#### FD Check"
   ]
  },
  {
   "cell_type": "code",
   "execution_count": 47,
   "id": "0b886b83",
   "metadata": {},
   "outputs": [
    {
     "name": "stdout",
     "output_type": "stream",
     "text": [
      "step size= 1e-07 , gradient finite difference error= [7.06846895e-06]\n"
     ]
    }
   ],
   "source": [
    "# FD check wrt A\n",
    "\n",
    "A1 = np.random.uniform(0,5)\n",
    "L1 = forward_model_cost(np.array([A1, w]), V0, m, h, n, dt, t,  df['time'].to_numpy(), df['voltage'].to_numpy())\n",
    "\n",
    "p = np.random.randint(0,5000)\n",
    "s = 1e-7 # step size\n",
    "A2 = A1 + s*p\n",
    "L2 = forward_model_cost(np.array([A2, w]), V0, m, h, n, dt, t,  df['time'].to_numpy(), df['voltage'].to_numpy())\n",
    "dL_dV_p_diff = (L2 - L1) / s\n",
    "\n",
    "g = grad_AD(np.array([A1, w]), V0, m, h, n, dt, t,  df['time'].to_numpy(), df['voltage'].to_numpy())[0]\n",
    "dL_dV_p = np.dot(g, p)\n",
    "\n",
    "grad_err = np.abs( (dL_dV_p - dL_dV_p_diff) / dL_dV_p_diff )\n",
    "print('step size=', s, ', gradient finite difference error=', grad_err)\n",
    "\n",
    "\n",
    "# # FD check wrt w\n",
    "\n",
    "# w1 = np.random.uniform(0, 1)\n",
    "# L1 = forward_model_cost(V0, m, h, n, np.array([A, w1]), dt, t, data_steps, V_data)\n",
    "\n",
    "# p = np.random.randint(0,5000)\n",
    "# s = 1e-7 # step size\n",
    "# w2 = w1 + s*p\n",
    "# L2 = forward_model_cost(V0, m, h, n, np.array([A, w2]), dt, t, data_steps, V_data)\n",
    "# dL_dV_p_diff = (L2 - L1) / s\n",
    "\n",
    "# g = grad_AD(V, m, h, n, np.array([A, w1]), dt, t, data_steps, V_data)[1]\n",
    "# dL_dV_p = np.dot(g, p)\n",
    "\n",
    "# grad_err = np.abs( (dL_dV_p - dL_dV_p_diff) / dL_dV_p_diff )\n",
    "# print('step size=', s, ', gradient finite difference error=', grad_err)\n",
    "\n",
    "\n",
    "\n"
   ]
  },
  {
   "cell_type": "code",
   "execution_count": 48,
   "id": "1098f63e",
   "metadata": {},
   "outputs": [
    {
     "name": "stderr",
     "output_type": "stream",
     "text": [
      "/Users/sophiaepst/anaconda3/lib/python3.11/site-packages/autograd/tracer.py:48: RuntimeWarning: overflow encountered in exp\n",
      "  return f_raw(*args, **kwargs)\n",
      "/var/folders/y5/qy3mtncn089941sxdcnsvzn80000gn/T/ipykernel_29068/2674949824.py:33: RuntimeWarning: invalid value encountered in scalar multiply\n",
      "  dmdt = alpha_m(V) * (1 - m) - beta_m(V) * m\n",
      "/var/folders/y5/qy3mtncn089941sxdcnsvzn80000gn/T/ipykernel_29068/2674949824.py:34: RuntimeWarning: invalid value encountered in scalar multiply\n",
      "  dhdt = alpha_h(V) * (1 - h) - beta_h(V) * h\n",
      "/var/folders/y5/qy3mtncn089941sxdcnsvzn80000gn/T/ipykernel_29068/2674949824.py:35: RuntimeWarning: invalid value encountered in scalar multiply\n",
      "  dndt = alpha_n(V) * (1 - n) - beta_n(V) * n\n",
      "/var/folders/y5/qy3mtncn089941sxdcnsvzn80000gn/T/ipykernel_29068/2674949824.py:32: RuntimeWarning: overflow encountered in scalar power\n",
      "  dVdt = (I - g_Na * m**3 * h * (V - E_Na) - g_K * n**4 * (V - E_K) - g_L * (V - E_L)) / C_m\n",
      "/var/folders/y5/qy3mtncn089941sxdcnsvzn80000gn/T/ipykernel_29068/2674949824.py:32: RuntimeWarning: invalid value encountered in scalar subtract\n",
      "  dVdt = (I - g_Na * m**3 * h * (V - E_Na) - g_K * n**4 * (V - E_K) - g_L * (V - E_L)) / C_m\n"
     ]
    },
    {
     "name": "stdout",
     "output_type": "stream",
     "text": [
      "step size= 1.0 , example gradient finite difference error= [nan]\n",
      "step size= 0.1 , example gradient finite difference error= [nan]\n",
      "step size= 0.01 , example gradient finite difference error= [1.0764178]\n",
      "step size= 0.001 , example gradient finite difference error= [0.07531582]\n",
      "step size= 0.0001 , example gradient finite difference error= [0.00696467]\n",
      "step size= 1e-05 , example gradient finite difference error= [0.00069666]\n",
      "step size= 1e-06 , example gradient finite difference error= [6.96713078e-05]\n",
      "step size= 1e-07 , example gradient finite difference error= [6.96889619e-06]\n",
      "step size= 1e-08 , example gradient finite difference error= [7.10985096e-07]\n",
      "step size= 1e-09 , example gradient finite difference error= [1.06971754e-07]\n",
      "step size= 1e-10 , example gradient finite difference error= [1.64358313e-06]\n",
      "step size= 1e-11 , example gradient finite difference error= [6.95894192e-06]\n",
      "step size= 1e-12 , example gradient finite difference error= [3.26632824e-05]\n",
      "step size= 1e-13 , example gradient finite difference error= [0.00101209]\n"
     ]
    },
    {
     "data": {
      "text/plain": [
       "Text(0, 0.5, 'error')"
      ]
     },
     "execution_count": 48,
     "metadata": {},
     "output_type": "execute_result"
    },
    {
     "data": {
      "image/png": "[encoded data removed]",
      "text/plain": [
       "<Figure size 640x480 with 1 Axes>"
      ]
     },
     "metadata": {},
     "output_type": "display_data"
    }
   ],
   "source": [
    "step_sizes = [1e0, 1e-1, 1e-2, 1e-3, 1e-4, 1e-5, 1e-6, 1e-7, 1e-8, 1e-9, 1e-10, 1e-11, 1e-12, 1e-13]\n",
    "\n",
    "\n",
    "# Make log-log plot of gradient finite difference error vs. step size\n",
    "\n",
    "A1 = np.random.uniform(0,5)\n",
    "L1 = forward_model_cost(np.array([A1, w]), V0, m, h, n, dt, t,  df['time'].to_numpy(), df['voltage'].to_numpy())\n",
    "\n",
    "# compute gradient using autograd\n",
    "g = grad_AD(np.array([A1, w]), V0, m, h, n, dt, t,  df['time'].to_numpy(), df['voltage'].to_numpy())[0]\n",
    "dL_dV_p = np.dot(g, p)\n",
    "\n",
    "# j = jac_AD(V1, m, h, n, I_stimulus, dt, t, data_steps, V_data)\n",
    "# dL_dV_p = np.dot(j, p)\n",
    "\n",
    "\n",
    "grad_errs = list()\n",
    "for s in step_sizes:\n",
    "    \n",
    "    # compute gradient using finite differences\n",
    "    A2 = A1 + s*p\n",
    "\n",
    "    L2 = forward_model_cost(np.array([A2, w]), V0, m, h, n, dt, t,  df['time'].to_numpy(), df['voltage'].to_numpy())\n",
    "    dL_dV_p_diff = (L2 - L1) / s\n",
    "\n",
    "\n",
    "    # compute gradient error\n",
    "    grad_err = np.abs( (dL_dV_p - dL_dV_p_diff) / dL_dV_p_diff )\n",
    "    print('step size=', s, ', example gradient finite difference error=', grad_err)\n",
    "    \n",
    "    grad_errs.append(grad_err)\n",
    "\n",
    "plt.loglog(step_sizes, grad_errs)\n",
    "plt.title('Example finite difference gradient check')\n",
    "plt.xlabel('step size')\n",
    "plt.ylabel('error')\n",
    "\n",
    "\n",
    "\n",
    "\n",
    "# step_sizes = [1e0, 1e-1, 1e-2, 1e-3, 1e-4, 1e-5, 1e-6, 1e-7, 1e-8, 1e-9, 1e-10, 1e-11, 1e-12, 1e-13]\n",
    "\n",
    "\n",
    "# # Make log-log plot of gradient finite difference error vs. step size\n",
    "\n",
    "# w1 = np.random.uniform(0, 1)\n",
    "# L1 = forward_model_cost(V0, m, h, n, np.array([A, w1]), dt, t, data_steps, V_data)\n",
    "\n",
    "\n",
    "# # compute gradient using autograd\n",
    "# g = grad_AD(V, m, h, n, np.array([A, w1]), dt, t, data_steps, V_data)[1]\n",
    "# dL_dV_p = np.dot(g, p)\n",
    "\n",
    "\n",
    "# grad_errs = list()\n",
    "# for s in step_sizes:\n",
    "    \n",
    "#     # compute gradient using finite differences\n",
    "#     w2 = w1 + s*p\n",
    "\n",
    "#     L2 = forward_model_cost(V0, m, h, n, np.array([A, w2]), dt, t, data_steps, V_data)\n",
    "#     dL_dV_p_diff = (L2 - L1) / s\n",
    "\n",
    "\n",
    "#     # compute gradient error\n",
    "#     grad_err = np.abs( (dL_dV_p - dL_dV_p_diff) / dL_dV_p_diff )\n",
    "#     print('step size=', s, ', example gradient finite difference error=', grad_err)\n",
    "    \n",
    "#     grad_errs.append(grad_err)\n",
    "\n",
    "# plt.loglog(step_sizes, grad_errs)\n",
    "# plt.title('Example finite difference gradient check')\n",
    "# plt.xlabel('step size')\n",
    "# plt.ylabel('error')\n",
    "\n"
   ]
  },
  {
   "cell_type": "markdown",
   "id": "d3117794",
   "metadata": {},
   "source": [
    "#### Find Minimizer"
   ]
  },
  {
   "cell_type": "code",
   "execution_count": 49,
   "id": "18efa551",
   "metadata": {},
   "outputs": [
    {
     "data": {
      "text/plain": [
       "(1.0, 0.1)"
      ]
     },
     "execution_count": 49,
     "metadata": {},
     "output_type": "execute_result"
    }
   ],
   "source": [
    "A, w"
   ]
  },
  {
   "cell_type": "code",
   "execution_count": 50,
   "id": "ea99b988",
   "metadata": {},
   "outputs": [
    {
     "data": {
      "text/plain": [
       "  message: Optimization terminated successfully.\n",
       "  success: True\n",
       "   status: 0\n",
       "      fun: 144.36766610865055\n",
       "        x: [ 3.561e+00  1.028e-01]\n",
       "      nit: 13\n",
       "      jac: [-6.303e-08 -5.187e-07]\n",
       " hess_inv: [[ 2.815e-02  1.314e-04]\n",
       "            [ 1.314e-04  1.148e-05]]\n",
       "     nfev: 29\n",
       "     njev: 29"
      ]
     },
     "execution_count": 50,
     "metadata": {},
     "output_type": "execute_result"
    }
   ],
   "source": [
    "# A = 4.289\n",
    "# w = 0.1\n",
    "\n",
    "\n",
    "initial_guess = np.array([1.0, w])\n",
    "\n",
    "optim = optimize.minimize(forward_model_cost, initial_guess, args = (V0, m, h, n, dt, t, df['time'].to_numpy(), df['voltage'].to_numpy()), \n",
    "                  jac = grad_AD, method = 'BFGS')\n",
    "\n",
    "optim\n"
   ]
  },
  {
   "cell_type": "code",
   "execution_count": 51,
   "id": "b90bde80",
   "metadata": {},
   "outputs": [
    {
     "data": {
      "text/plain": [
       "array([3.56095413, 0.10284764])"
      ]
     },
     "execution_count": 51,
     "metadata": {},
     "output_type": "execute_result"
    }
   ],
   "source": [
    "optim.x"
   ]
  },
  {
   "cell_type": "code",
   "execution_count": 52,
   "id": "48cd05a2",
   "metadata": {},
   "outputs": [
    {
     "data": {
      "text/plain": [
       "<matplotlib.legend.Legend at 0x17f920650>"
      ]
     },
     "execution_count": 52,
     "metadata": {},
     "output_type": "execute_result"
    },
    {
     "data": {
      "image/png": "[encoded data removed]",
      "text/plain": [
       "<Figure size 640x480 with 1 Axes>"
      ]
     },
     "metadata": {},
     "output_type": "display_data"
    }
   ],
   "source": [
    "# norm_g = np.linalg.norm(g_func(Ak))\n",
    "# print('||g(u)|| / ||g(u_0)||=', norm_g / norm_g0) # should be less than 1e-6\n",
    "\n",
    "V_final = integrate_HH(V0, m, h, n, optim.x, dt, t)\n",
    "\n",
    "plt.figure()\n",
    "plt.plot(V_final, ls = 'dotted', label = 'with optimized I')\n",
    "plt.plot(df['voltage'].to_numpy(), label = 'original')\n",
    "plt.title('V (steepest descent)')\n",
    "plt.xlabel('steps')\n",
    "plt.ylabel('V')\n",
    "plt.legend()"
   ]
  },
  {
   "cell_type": "code",
   "execution_count": 53,
   "id": "78a3cdc9",
   "metadata": {},
   "outputs": [],
   "source": [
    "#LOSS STUFF \n",
    "#step simplified case\n",
    "def initial_stim(t, I_max, I_duration): \n",
    "    return I_max if 0 <= t <= I_duration else 0.0\n",
    "\n",
    "#defining the cost function\n",
    "\n",
    "#energy calculation \n",
    "def calc_energy(t, wvfrm): \n",
    "    power = wvfrm**2\n",
    "    energy = simps(power, t)\n",
    "    return energy \n",
    "\n",
    "#step simplified case\n",
    "#def initial_stim(t, I_max, I_duration): \n",
    "    #return I_max if 0 <= t <= I_duration else 0.0\n",
    "\n",
    "#binary loss function for if we measure \"firing\" as if threshold is met -- binary firing instance \n",
    "#y_true will be generated by NEURON instance, will add call to this when I clean up all code \n",
    "\n",
    "def lagrangian_bin(stim, y_true, t_span, dt, alpha, beta, thresh=-55.0,):\n",
    "    #call hodgkin huxley model\n",
    "    fired = bin_firing(stim, t_span, dt, thresh)\n",
    "    \n",
    "    if fired:\n",
    "        loss = calc_energy(t_span, stim) \n",
    "    else: \n",
    "        #penalize if no firing via adding penalty\n",
    "        penalty = 1e6\n",
    "        loss = calc_energy(t_span, stim) + penalty\n",
    "    return loss\n",
    "\n",
    "#alternative generation of loss function -- we use NEURON to create are targetted behavior -- how many firings we want to see \n",
    "#train loss function using recovery -- want as many action potentials as seen by NEURON -- ground truth\n",
    "def ap_count(voltage, thresh = -55):\n",
    "    #counts the number of action potentials from the np array \n",
    "    crossings = np.where(np.diff((voltage_trace >= threshold).astype(int)) == 1)[0]\n",
    "    #an action potential will cross the threshold twice one in the depolarization phase and one in the repolarization\n",
    "    return len(crossings) // 2\n",
    "\n",
    "def elu_norm(voltage, thresh, alpha = 0.001):\n",
    "    exponentiated_values = np.where(voltage <= thresh, alpha*(np.exp(voltage)-np.exp(thresh)), voltage)\n",
    "    return exponentiated_values\n",
    "\n",
    "\n",
    "def lagrange_seq(I_array, y_true, y_pred, alpha = .001, beta = 1e3, gamma = 1e2, thresh = -55):\n",
    "    \n",
    "    #penalty term for deviation from desired number of action potentials\n",
    "    #ap_true = ap_count(y_true, thresh)\n",
    "    #ap_pred = ap_count(y_pred, thresh)\n",
    "    #mse_ap = (ap_pred - ap_true)**2\n",
    "    normed_true = elu_norm(y_true, alpha)\n",
    "    normed_pred = elu_norm(y_pred)\n",
    "    mse_ap= (normed_true-normed_pred, alpha)\n",
    "    \n",
    "    #pred_ener = np.sum(np.square(input_current))\n",
    "    #true_ener = np.sum(np.square(current_true))\n",
    "   # mse_energy = np.mean(np.square(pred_ener-true_ener))\n",
    "    \n",
    "    loss = gamma * 1/len(y_true)* mse_ap + beta * np.linalg.norm(I_array)\n",
    "    return loss\n",
    "    \n",
    "\n",
    "\n",
    "    "
   ]
  },
  {
   "cell_type": "code",
   "execution_count": null,
   "id": "d741eb45",
   "metadata": {},
   "outputs": [],
   "source": []
  }
 ],
 "metadata": {
  "kernelspec": {
   "display_name": "Python 3 (ipykernel)",
   "language": "python",
   "name": "python3"
  },
  "language_info": {
   "codemirror_mode": {
    "name": "ipython",
    "version": 3
   },
   "file_extension": ".py",
   "mimetype": "text/x-python",
   "name": "python",
   "nbconvert_exporter": "python",
   "pygments_lexer": "ipython3",
   "version": "3.11.4"
  }
 },
 "nbformat": 4,
 "nbformat_minor": 5
}
