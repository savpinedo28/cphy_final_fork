{
 "cells": [
  {
   "cell_type": "code",
   "execution_count": 3,
   "id": "f63e9af4",
   "metadata": {},
   "outputs": [],
   "source": [
    "import numpy as np\n",
    "import matplotlib.pyplot as plt\n",
    "from scipy.integrate import odeint\n",
    "from scipy.optimize import minimize\n",
    "import zipfile\n",
    "import pandas as pd "
   ]
  },
  {
   "cell_type": "markdown",
   "id": "5f252805",
   "metadata": {},
   "source": [
    "Importing Simulation Data & Defining Variables"
   ]
  },
  {
   "cell_type": "code",
   "execution_count": 20,
   "id": "fb1d8e1f",
   "metadata": {},
   "outputs": [],
   "source": [
    "zip_file_path = './sim_data/gt_1a_100.zip'\n",
    "with zipfile.ZipFile(zip_file_path, 'r') as zip_ref:\n",
    "    # Assume there is only one CSV file in the zip (you might need to modify this if there are multiple CSV files)\n",
    "    csv_file_name = zip_ref.namelist()[0]\n",
    "\n",
    "    # Read the CSV file directly from the zip file into a pandas DataFrame\n",
    "    with zip_ref.open(csv_file_name) as csv_file:\n",
    "        df = pd.read_csv(csv_file)\n",
    "        \n"
   ]
  },
  {
   "cell_type": "code",
   "execution_count": 21,
   "id": "6444c91b",
   "metadata": {},
   "outputs": [
    {
     "data": {
      "text/plain": [
       "[<matplotlib.lines.Line2D at 0x1557e9850>]"
      ]
     },
     "execution_count": 21,
     "metadata": {},
     "output_type": "execute_result"
    },
    {
     "data": {
      "image/png": "[encoded data removed]",
      "text/plain": [
       "<Figure size 640x480 with 1 Axes>"
      ]
     },
     "metadata": {},
     "output_type": "display_data"
    }
   ],
   "source": [
    "plt.plot(df['time'], df['voltage'], label = 'actual_data')"
   ]
  },
  {
   "cell_type": "code",
   "execution_count": 37,
   "id": "8054127d",
   "metadata": {},
   "outputs": [],
   "source": [
    "def parameter_recovery(parameters, target_v, time, I_known):\n",
    "    # Define the HH model equations\n",
    "    def alpha_m(V):\n",
    "        return 0.1 * (V + 40.0) / (1.0 - np.exp(-(V + 40.0) / 10.0))\n",
    "\n",
    "    def beta_m(V):\n",
    "        return 4.0 * np.exp(-(V + 65.0) / 18.0)\n",
    "\n",
    "    def alpha_h(V):\n",
    "        return 0.07 * np.exp(-(V + 65.0) / 20.0)\n",
    "\n",
    "    def beta_h(V):\n",
    "        return 1.0 / (1.0 + np.exp(-(V + 35.0) / 10.0))\n",
    "\n",
    "    def alpha_n(V):\n",
    "        return 0.01 * (V + 55.0) / (1.0 - np.exp(-(V + 55.0) / 10.0))\n",
    "\n",
    "    def beta_n(V):\n",
    "        return 0.125 * np.exp(-(V + 65) / 80.0)\n",
    "\n",
    "    def model(y, t, I,  C_m, g_Na, g_K, g_L, E_Na, E_K, E_L):\n",
    "        V, m, h, n = y\n",
    "    \n",
    "        dVdt = (I - g_Na * m**3 * h * (V - E_Na) - g_K * n**4 * (V - E_K) - g_L * (V - E_L)) / C_m\n",
    "        dmdt = alpha_m(V) * (1 - m) - beta_m(V) * m\n",
    "        dhdt = alpha_h(V) * (1 - h) - beta_h(V) * h\n",
    "        dndt = alpha_n(V) * (1 - n) - beta_n(V) * n\n",
    "    \n",
    "        return [dVdt, dmdt, dhdt, dndt]\n",
    "    \n",
    "    def objective_fnct(parameters, target_v, time, I_known): \n",
    "        C_m, g_Na, g_K, g_L, E_Na, E_K, E_L = parameters\n",
    "    \n",
    "        sol = odeint(model, [-65, 0.05, 0.6, 0.32], time, args = (I_known, C_m, g_Na, g_K, g_L, E_Na, E_K, E_L))\n",
    "    \n",
    "        mse = np.mean((solution[:,0]-target_v)**2)\n",
    "    \n",
    "        return mse\n",
    "    \n",
    "    def adjoint_model(parameters, target_v, time, I_known):\n",
    "        C_m, g_Na, g_K, g_L, E_Na, E_K, E_L = parameters\n",
    "\n",
    "        # Define the impulse function using the known impulse\n",
    "\n",
    "        # Compute the forward solution\n",
    "        solution = odeint(model, [-65, 0.05, 0.6, 0.32], time, args=(I_known, C_m, g_Na, g_K, g_L, E_Na, E_K, E_L))\n",
    "\n",
    "        # Compute the difference between the simulated and target potentials\n",
    "        error = solution[:, 0] - target_v\n",
    "\n",
    "        # Compute the adjoint variable (gradient of the objective function)\n",
    "        adjoint_variable = 2 * error\n",
    "\n",
    "        return adjoint_variable\n",
    "    \n",
    "    bounds = [(1e-6, 1), (1e-6, 100), (1e-6, 100), (1e-6, 10), (-100, 100), (-100, 100), (-100, 100)]\n",
    "\n",
    "    # Perform the optimization using the adjoint method with bounds\n",
    "    result = minimize(objective_function, parameters_guess,\n",
    "                      args=(target_v, time, I_known),\n",
    "                      method='L-BFGS-B', jac=adjoint_model, bounds=bounds, options={'disp': True})\n",
    "\n",
    "    # Extract the optimized parameters\n",
    "    optimized_parameters = result.x\n",
    "\n",
    "    return optimized_parameters"
   ]
  },
  {
   "cell_type": "code",
   "execution_count": null,
   "id": "0292c7fc",
   "metadata": {},
   "outputs": [],
   "source": [
    "\n"
   ]
  },
  {
   "cell_type": "code",
   "execution_count": 34,
   "id": "55f9a815",
   "metadata": {},
   "outputs": [],
   "source": [
    "\n",
    "    def adjoint_model(parameters, target_potential, time, known_impulse):\n",
    "        C_m, g_Na, g_K, g_L, E_Na, E_K, E_L = parameters\n",
    "\n",
    "        # Define the impulse function using the known impulse\n",
    "        def I_stim(t):\n",
    "            return np.interp(t, time, known_impulse, left=0, right=0)\n",
    "\n",
    "        # Compute the forward solution\n",
    "        solution = odeint(model, [-65, 0.05, 0.6, 0.32], time, args=(I_stim, C_m, g_Na, g_K, g_L, E_Na, E_K, E_L, lambda t: interp_known_impulse[np.searchsorted(time, t)]))\n",
    "\n",
    "        # Compute the difference between the simulated and target potentials\n",
    "        error = solution[:, 0] - target_potential\n",
    "\n",
    "        # Compute the adjoint variable (gradient of the objective function)\n",
    "        adjoint_variable = 2 * error\n"
   ]
  },
  {
   "cell_type": "code",
   "execution_count": 35,
   "id": "1713e2e1",
   "metadata": {},
   "outputs": [],
   "source": [
    "bounds = [(1e-6, 1), (1e-6, 100), (1e-6, 100), (1e-6, 10), (-100, 100), (-100, 100), (-100, 100)]"
   ]
  },
  {
   "cell_type": "code",
   "execution_count": null,
   "id": "ea5770ef",
   "metadata": {},
   "outputs": [],
   "source": [
    "\n",
    "                                                                            "
   ]
  },
  {
   "cell_type": "code",
   "execution_count": 38,
   "id": "e1255691",
   "metadata": {},
   "outputs": [
    {
     "ename": "TypeError",
     "evalue": "model() missing 7 required positional arguments: 'C_m', 'g_Na', 'g_K', 'g_L', 'E_Na', 'E_K', and 'E_L'",
     "output_type": "error",
     "traceback": [
      "\u001b[0;31m---------------------------------------------------------------------------\u001b[0m",
      "\u001b[0;31mTypeError\u001b[0m                                 Traceback (most recent call last)",
      "Cell \u001b[0;32mIn[38], line 8\u001b[0m\n\u001b[1;32m      5\u001b[0m dur \u001b[38;5;241m=\u001b[39m(df[\u001b[38;5;124m'\u001b[39m\u001b[38;5;124mtime\u001b[39m\u001b[38;5;124m'\u001b[39m]\u001b[38;5;241m.\u001b[39mto_numpy())[\u001b[38;5;241m-\u001b[39m\u001b[38;5;241m1\u001b[39m]\n\u001b[1;32m      6\u001b[0m time \u001b[38;5;241m=\u001b[39m np\u001b[38;5;241m.\u001b[39marange(\u001b[38;5;241m0\u001b[39m, dur, dt)\n\u001b[0;32m----> 8\u001b[0m optimized_parameters \u001b[38;5;241m=\u001b[39m minimizer(v_array, time, i_array, initial_guess_parameters)\n",
      "Cell \u001b[0;32mIn[26], line 2\u001b[0m, in \u001b[0;36mminimizer\u001b[0;34m(target_potential, time, known_impulse, parameters_guess)\u001b[0m\n\u001b[1;32m      1\u001b[0m \u001b[38;5;28;01mdef\u001b[39;00m \u001b[38;5;21mminimizer\u001b[39m(target_potential, time, known_impulse, parameters_guess):\n\u001b[0;32m----> 2\u001b[0m     result \u001b[38;5;241m=\u001b[39m minimize(objective_function, parameters_guess, args\u001b[38;5;241m=\u001b[39m(v_array, time, known_impulse),\n\u001b[1;32m      3\u001b[0m                       method\u001b[38;5;241m=\u001b[39m\u001b[38;5;124m'\u001b[39m\u001b[38;5;124mL-BFGS-B\u001b[39m\u001b[38;5;124m'\u001b[39m, jac\u001b[38;5;241m=\u001b[39madjoint_model, bounds\u001b[38;5;241m=\u001b[39mbounds, options\u001b[38;5;241m=\u001b[39m{\u001b[38;5;124m'\u001b[39m\u001b[38;5;124mdisp\u001b[39m\u001b[38;5;124m'\u001b[39m: \u001b[38;5;28;01mTrue\u001b[39;00m})\n\u001b[1;32m      4\u001b[0m     optimized_parameters \u001b[38;5;241m=\u001b[39m result\u001b[38;5;241m.\u001b[39mx\n\u001b[1;32m      5\u001b[0m     \u001b[38;5;28;01mreturn\u001b[39;00m optimized_parameters\n",
      "File \u001b[0;32m~/anaconda3/lib/python3.11/site-packages/scipy/optimize/_minimize.py:696\u001b[0m, in \u001b[0;36mminimize\u001b[0;34m(fun, x0, args, method, jac, hess, hessp, bounds, constraints, tol, callback, options)\u001b[0m\n\u001b[1;32m    693\u001b[0m     res \u001b[38;5;241m=\u001b[39m _minimize_newtoncg(fun, x0, args, jac, hess, hessp, callback,\n\u001b[1;32m    694\u001b[0m                              \u001b[38;5;241m*\u001b[39m\u001b[38;5;241m*\u001b[39moptions)\n\u001b[1;32m    695\u001b[0m \u001b[38;5;28;01melif\u001b[39;00m meth \u001b[38;5;241m==\u001b[39m \u001b[38;5;124m'\u001b[39m\u001b[38;5;124ml-bfgs-b\u001b[39m\u001b[38;5;124m'\u001b[39m:\n\u001b[0;32m--> 696\u001b[0m     res \u001b[38;5;241m=\u001b[39m _minimize_lbfgsb(fun, x0, args, jac, bounds,\n\u001b[1;32m    697\u001b[0m                            callback\u001b[38;5;241m=\u001b[39mcallback, \u001b[38;5;241m*\u001b[39m\u001b[38;5;241m*\u001b[39moptions)\n\u001b[1;32m    698\u001b[0m \u001b[38;5;28;01melif\u001b[39;00m meth \u001b[38;5;241m==\u001b[39m \u001b[38;5;124m'\u001b[39m\u001b[38;5;124mtnc\u001b[39m\u001b[38;5;124m'\u001b[39m:\n\u001b[1;32m    699\u001b[0m     res \u001b[38;5;241m=\u001b[39m _minimize_tnc(fun, x0, args, jac, bounds, callback\u001b[38;5;241m=\u001b[39mcallback,\n\u001b[1;32m    700\u001b[0m                         \u001b[38;5;241m*\u001b[39m\u001b[38;5;241m*\u001b[39moptions)\n",
      "File \u001b[0;32m~/anaconda3/lib/python3.11/site-packages/scipy/optimize/_lbfgsb_py.py:305\u001b[0m, in \u001b[0;36m_minimize_lbfgsb\u001b[0;34m(fun, x0, args, jac, bounds, disp, maxcor, ftol, gtol, eps, maxfun, maxiter, iprint, callback, maxls, finite_diff_rel_step, **unknown_options)\u001b[0m\n\u001b[1;32m    302\u001b[0m     \u001b[38;5;28;01melse\u001b[39;00m:\n\u001b[1;32m    303\u001b[0m         iprint \u001b[38;5;241m=\u001b[39m disp\n\u001b[0;32m--> 305\u001b[0m sf \u001b[38;5;241m=\u001b[39m _prepare_scalar_function(fun, x0, jac\u001b[38;5;241m=\u001b[39mjac, args\u001b[38;5;241m=\u001b[39margs, epsilon\u001b[38;5;241m=\u001b[39meps,\n\u001b[1;32m    306\u001b[0m                               bounds\u001b[38;5;241m=\u001b[39mnew_bounds,\n\u001b[1;32m    307\u001b[0m                               finite_diff_rel_step\u001b[38;5;241m=\u001b[39mfinite_diff_rel_step)\n\u001b[1;32m    309\u001b[0m func_and_grad \u001b[38;5;241m=\u001b[39m sf\u001b[38;5;241m.\u001b[39mfun_and_grad\n\u001b[1;32m    311\u001b[0m fortran_int \u001b[38;5;241m=\u001b[39m _lbfgsb\u001b[38;5;241m.\u001b[39mtypes\u001b[38;5;241m.\u001b[39mintvar\u001b[38;5;241m.\u001b[39mdtype\n",
      "File \u001b[0;32m~/anaconda3/lib/python3.11/site-packages/scipy/optimize/_optimize.py:332\u001b[0m, in \u001b[0;36m_prepare_scalar_function\u001b[0;34m(fun, x0, jac, args, bounds, epsilon, finite_diff_rel_step, hess)\u001b[0m\n\u001b[1;32m    328\u001b[0m     bounds \u001b[38;5;241m=\u001b[39m (\u001b[38;5;241m-\u001b[39mnp\u001b[38;5;241m.\u001b[39minf, np\u001b[38;5;241m.\u001b[39minf)\n\u001b[1;32m    330\u001b[0m \u001b[38;5;66;03m# ScalarFunction caches. Reuse of fun(x) during grad\u001b[39;00m\n\u001b[1;32m    331\u001b[0m \u001b[38;5;66;03m# calculation reduces overall function evaluations.\u001b[39;00m\n\u001b[0;32m--> 332\u001b[0m sf \u001b[38;5;241m=\u001b[39m ScalarFunction(fun, x0, args, grad, hess,\n\u001b[1;32m    333\u001b[0m                     finite_diff_rel_step, bounds, epsilon\u001b[38;5;241m=\u001b[39mepsilon)\n\u001b[1;32m    335\u001b[0m \u001b[38;5;28;01mreturn\u001b[39;00m sf\n",
      "File \u001b[0;32m~/anaconda3/lib/python3.11/site-packages/scipy/optimize/_differentiable_functions.py:158\u001b[0m, in \u001b[0;36mScalarFunction.__init__\u001b[0;34m(self, fun, x0, args, grad, hess, finite_diff_rel_step, finite_diff_bounds, epsilon)\u001b[0m\n\u001b[1;32m    155\u001b[0m     \u001b[38;5;28mself\u001b[39m\u001b[38;5;241m.\u001b[39mf \u001b[38;5;241m=\u001b[39m fun_wrapped(\u001b[38;5;28mself\u001b[39m\u001b[38;5;241m.\u001b[39mx)\n\u001b[1;32m    157\u001b[0m \u001b[38;5;28mself\u001b[39m\u001b[38;5;241m.\u001b[39m_update_fun_impl \u001b[38;5;241m=\u001b[39m update_fun\n\u001b[0;32m--> 158\u001b[0m \u001b[38;5;28mself\u001b[39m\u001b[38;5;241m.\u001b[39m_update_fun()\n\u001b[1;32m    160\u001b[0m \u001b[38;5;66;03m# Gradient evaluation\u001b[39;00m\n\u001b[1;32m    161\u001b[0m \u001b[38;5;28;01mif\u001b[39;00m \u001b[38;5;28mcallable\u001b[39m(grad):\n",
      "File \u001b[0;32m~/anaconda3/lib/python3.11/site-packages/scipy/optimize/_differentiable_functions.py:251\u001b[0m, in \u001b[0;36mScalarFunction._update_fun\u001b[0;34m(self)\u001b[0m\n\u001b[1;32m    249\u001b[0m \u001b[38;5;28;01mdef\u001b[39;00m \u001b[38;5;21m_update_fun\u001b[39m(\u001b[38;5;28mself\u001b[39m):\n\u001b[1;32m    250\u001b[0m     \u001b[38;5;28;01mif\u001b[39;00m \u001b[38;5;129;01mnot\u001b[39;00m \u001b[38;5;28mself\u001b[39m\u001b[38;5;241m.\u001b[39mf_updated:\n\u001b[0;32m--> 251\u001b[0m         \u001b[38;5;28mself\u001b[39m\u001b[38;5;241m.\u001b[39m_update_fun_impl()\n\u001b[1;32m    252\u001b[0m         \u001b[38;5;28mself\u001b[39m\u001b[38;5;241m.\u001b[39mf_updated \u001b[38;5;241m=\u001b[39m \u001b[38;5;28;01mTrue\u001b[39;00m\n",
      "File \u001b[0;32m~/anaconda3/lib/python3.11/site-packages/scipy/optimize/_differentiable_functions.py:155\u001b[0m, in \u001b[0;36mScalarFunction.__init__.<locals>.update_fun\u001b[0;34m()\u001b[0m\n\u001b[1;32m    154\u001b[0m \u001b[38;5;28;01mdef\u001b[39;00m \u001b[38;5;21mupdate_fun\u001b[39m():\n\u001b[0;32m--> 155\u001b[0m     \u001b[38;5;28mself\u001b[39m\u001b[38;5;241m.\u001b[39mf \u001b[38;5;241m=\u001b[39m fun_wrapped(\u001b[38;5;28mself\u001b[39m\u001b[38;5;241m.\u001b[39mx)\n",
      "File \u001b[0;32m~/anaconda3/lib/python3.11/site-packages/scipy/optimize/_differentiable_functions.py:137\u001b[0m, in \u001b[0;36mScalarFunction.__init__.<locals>.fun_wrapped\u001b[0;34m(x)\u001b[0m\n\u001b[1;32m    133\u001b[0m \u001b[38;5;28mself\u001b[39m\u001b[38;5;241m.\u001b[39mnfev \u001b[38;5;241m+\u001b[39m\u001b[38;5;241m=\u001b[39m \u001b[38;5;241m1\u001b[39m\n\u001b[1;32m    134\u001b[0m \u001b[38;5;66;03m# Send a copy because the user may overwrite it.\u001b[39;00m\n\u001b[1;32m    135\u001b[0m \u001b[38;5;66;03m# Overwriting results in undefined behaviour because\u001b[39;00m\n\u001b[1;32m    136\u001b[0m \u001b[38;5;66;03m# fun(self.x) will change self.x, with the two no longer linked.\u001b[39;00m\n\u001b[0;32m--> 137\u001b[0m fx \u001b[38;5;241m=\u001b[39m fun(np\u001b[38;5;241m.\u001b[39mcopy(x), \u001b[38;5;241m*\u001b[39margs)\n\u001b[1;32m    138\u001b[0m \u001b[38;5;66;03m# Make sure the function returns a true scalar\u001b[39;00m\n\u001b[1;32m    139\u001b[0m \u001b[38;5;28;01mif\u001b[39;00m \u001b[38;5;129;01mnot\u001b[39;00m np\u001b[38;5;241m.\u001b[39misscalar(fx):\n",
      "Cell \u001b[0;32mIn[11], line 48\u001b[0m, in \u001b[0;36mobjective_function\u001b[0;34m(Impulse, target_potential, time, y0)\u001b[0m\n\u001b[1;32m     45\u001b[0m     \u001b[38;5;28;01mreturn\u001b[39;00m np\u001b[38;5;241m.\u001b[39minterp(t, time, Impulse)\n\u001b[1;32m     47\u001b[0m \u001b[38;5;66;03m# Solve the Hodgkin-Huxley equations with the given impulse\u001b[39;00m\n\u001b[0;32m---> 48\u001b[0m solution \u001b[38;5;241m=\u001b[39m odeint(model, y0, time, args\u001b[38;5;241m=\u001b[39m(impulse_function,))\n\u001b[1;32m     50\u001b[0m \u001b[38;5;66;03m# Calculate the mean squared difference from the target potential\u001b[39;00m\n\u001b[1;32m     51\u001b[0m mse \u001b[38;5;241m=\u001b[39m np\u001b[38;5;241m.\u001b[39mmean((solution[:, \u001b[38;5;241m0\u001b[39m] \u001b[38;5;241m-\u001b[39m target_potential)\u001b[38;5;241m*\u001b[39m\u001b[38;5;241m*\u001b[39m\u001b[38;5;241m2\u001b[39m)\n",
      "File \u001b[0;32m~/anaconda3/lib/python3.11/site-packages/scipy/integrate/_odepack_py.py:242\u001b[0m, in \u001b[0;36modeint\u001b[0;34m(func, y0, t, args, Dfun, col_deriv, full_output, ml, mu, rtol, atol, tcrit, h0, hmax, hmin, ixpr, mxstep, mxhnil, mxordn, mxords, printmessg, tfirst)\u001b[0m\n\u001b[1;32m    240\u001b[0m t \u001b[38;5;241m=\u001b[39m copy(t)\n\u001b[1;32m    241\u001b[0m y0 \u001b[38;5;241m=\u001b[39m copy(y0)\n\u001b[0;32m--> 242\u001b[0m output \u001b[38;5;241m=\u001b[39m _odepack\u001b[38;5;241m.\u001b[39modeint(func, y0, t, args, Dfun, col_deriv, ml, mu,\n\u001b[1;32m    243\u001b[0m                          full_output, rtol, atol, tcrit, h0, hmax, hmin,\n\u001b[1;32m    244\u001b[0m                          ixpr, mxstep, mxhnil, mxordn, mxords,\n\u001b[1;32m    245\u001b[0m                          \u001b[38;5;28mint\u001b[39m(\u001b[38;5;28mbool\u001b[39m(tfirst)))\n\u001b[1;32m    246\u001b[0m \u001b[38;5;28;01mif\u001b[39;00m output[\u001b[38;5;241m-\u001b[39m\u001b[38;5;241m1\u001b[39m] \u001b[38;5;241m<\u001b[39m \u001b[38;5;241m0\u001b[39m:\n\u001b[1;32m    247\u001b[0m     warning_msg \u001b[38;5;241m=\u001b[39m _msgs[output[\u001b[38;5;241m-\u001b[39m\u001b[38;5;241m1\u001b[39m]] \u001b[38;5;241m+\u001b[39m \u001b[38;5;124m\"\u001b[39m\u001b[38;5;124m Run with full_output = 1 to get quantitative information.\u001b[39m\u001b[38;5;124m\"\u001b[39m\n",
      "\u001b[0;31mTypeError\u001b[0m: model() missing 7 required positional arguments: 'C_m', 'g_Na', 'g_K', 'g_L', 'E_Na', 'E_K', and 'E_L'"
     ]
    }
   ],
   "source": [
    "initial_guess_parameters = [1, 50, 20, 0.5, 50, -77, -54.387]\n",
    "v_array = (df['voltage'].to_numpy())\n",
    "i_array = (df['voltage'].to_numpy())\n",
    "dt = df['time'][1]-df['time'][0]\n",
    "dur =(df['time'].to_numpy())[-1]\n",
    "time = np.arange(0, dur, dt)\n",
    "\n",
    "optimized_parameters = minimizer(v_array, time, i_array, initial_guess_parameters)\n"
   ]
  },
  {
   "cell_type": "code",
   "execution_count": null,
   "id": "95bd7918",
   "metadata": {},
   "outputs": [],
   "source": []
  }
 ],
 "metadata": {
  "kernelspec": {
   "display_name": "Python 3 (ipykernel)",
   "language": "python",
   "name": "python3"
  },
  "language_info": {
   "codemirror_mode": {
    "name": "ipython",
    "version": 3
   },
   "file_extension": ".py",
   "mimetype": "text/x-python",
   "name": "python",
   "nbconvert_exporter": "python",
   "pygments_lexer": "ipython3",
   "version": "3.11.4"
  }
 },
 "nbformat": 4,
 "nbformat_minor": 5
}
