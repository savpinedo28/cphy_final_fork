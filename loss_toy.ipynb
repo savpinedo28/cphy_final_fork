{
 "cells": [
  {
   "cell_type": "code",
   "execution_count": null,
   "id": "8569d664",
   "metadata": {},
   "outputs": [],
   "source": [
    "import shutil\n",
    "import os \n",
    "\n",
    "#import noahs waveform generator\n",
    "#import HH class, for now lets just input the data directly into funtion"
   ]
  },
  {
   "cell_type": "code",
   "execution_count": null,
   "id": "7177eb75",
   "metadata": {},
   "outputs": [],
   "source": [
    "def toy_loss(stim_array, test_array, target, targetnum_spike = 1):\n",
    "    '''Args: \n",
    "    Output: MSE expected versus gt '''\n",
    "    extracted_dir ='../simdata' \n",
    "    if targetspike >= 2:\n",
    "        zip_file_path = '../simdata/gt_multa.zip'\n",
    "        shutil.unpack_archive(zip_file_path, extracted_dir, 'zip')\n",
    "        df = pd.read_csv('../simdata/gt_multa.csv')\n",
    "        target_v = df['voltage']\n",
    "        test_v = test_array['voltage']\n",
    "        \n",
    "        mse = np.mean((target_v))\n",
    "    elif targetspike is None: \n",
    "        zip_file_path = '../simdata/gt_na.zip'\n",
    "        shutil.unpack_archive(zip_file_path, extracted_dir, 'zip')\n",
    "        df = pd.read_csv('../simdata/gt_na.csv')\n",
    "    else targetspike == 1: \n",
    "        zip_file_path = '../simdata/gt_1a.zip'\n",
    "        shutil.unpack_archive(zip_file_path, extracted_dir, 'zip')\n",
    "        df = pd.read_csv('../simdata/gt_1a.csv')\n",
    "        \n",
    "    waveform = #"
   ]
  }
 ],
 "metadata": {
  "kernelspec": {
   "display_name": "Python 3 (ipykernel)",
   "language": "python",
   "name": "python3"
  },
  "language_info": {
   "codemirror_mode": {
    "name": "ipython",
    "version": 3
   },
   "file_extension": ".py",
   "mimetype": "text/x-python",
   "name": "python",
   "nbconvert_exporter": "python",
   "pygments_lexer": "ipython3",
   "version": "3.11.4"
  }
 },
 "nbformat": 4,
 "nbformat_minor": 5
}
