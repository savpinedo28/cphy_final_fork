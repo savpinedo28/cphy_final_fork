{
 "cells": [
  {
   "cell_type": "code",
   "execution_count": 1,
   "metadata": {},
   "outputs": [],
   "source": [
    "from __future__ import division\n",
    "from neuron import h\n",
    "from neuron import gui\n",
    "import matplotlib.pyplot as plt\n",
    "import numpy as np\n",
    "plt.ion()"
   ]
  },
  {
   "cell_type": "markdown",
   "metadata": {},
   "source": [
    "## creating cell object"
   ]
  },
  {
   "cell_type": "code",
   "execution_count": 2,
   "metadata": {},
   "outputs": [],
   "source": [
    "h.load_file(\"import3d.hoc\")\n",
    "morphology_file = \"morphologies/cell1.asc\"\n",
    "h.load_file(\"models/L5PCbiophys3.hoc\")\n",
    "h.load_file(\"models/L5PCtemplate.hoc\")\n",
    "L5PC = h.L5PCtemplate(morphology_file)"
   ]
  },
  {
   "cell_type": "markdown",
   "metadata": {},
   "source": [
    "## stimulus settings"
   ]
  },
  {
   "cell_type": "code",
   "execution_count": 3,
   "metadata": {},
   "outputs": [],
   "source": [
    "stim = h.IClamp(L5PC.soma[0](0.5))\n",
    "stim.dur   = 1000\n",
    "stim.delay = 400\n",
    "stim.amp   = 0.793"
   ]
  },
  {
   "cell_type": "markdown",
   "metadata": {},
   "source": [
    "## recording settings"
   ]
  },
  {
   "cell_type": "code",
   "execution_count": 4,
   "metadata": {},
   "outputs": [],
   "source": [
    "t = h.Vector()\n",
    "t.record(h._ref_t)\n",
    "\n",
    "soma_v = h.Vector()\n",
    "soma_v.record(L5PC.soma[0](0.5)._ref_v)\n",
    "\n",
    "nexus_v = h.Vector()\n",
    "nexus_v.record(L5PC.apic[36](0.9)._ref_v)\n",
    "\n",
    "stim_current = h.Vector()\n",
    "stim_current.record(stim._ref_i);"
   ]
  },
  {
   "cell_type": "markdown",
   "metadata": {},
   "source": [
    "# run simulation"
   ]
  },
  {
   "cell_type": "code",
   "execution_count": 5,
   "metadata": {},
   "outputs": [],
   "source": [
    "h.v_init = -80\n",
    "h.tstop = 1500\n",
    "h.celsius = 37\n",
    "h.run();"
   ]
  },
  {
   "cell_type": "markdown",
   "metadata": {},
   "source": [
    "# plotting"
   ]
  },
  {
   "cell_type": "code",
   "execution_count": 6,
   "metadata": {},
   "outputs": [
    {
     "data": {
      "image/png": "[encoded data removed]",
      "text/plain": [
       "<matplotlib.figure.Figure at 0x10a9d7a50>"
      ]
     },
     "metadata": {},
     "output_type": "display_data"
    }
   ],
   "source": [
    "f, (ax0, ax1) = plt.subplots(2,1, figsize=(5,4), gridspec_kw = {'height_ratios':[3, 1]})\n",
    "ax0.plot(t,soma_v, 'k', label = 'soma')\n",
    "ax0.plot(t,nexus_v, 'orange', label = 'apic[36]')\n",
    "ax0.legend(frameon=False)\n",
    "ax1.plot(t,stim_current)\n",
    "\n",
    "ax0.set_ylabel('Voltage (mV)')\n",
    "#ax0.set_ylim(-80,20)\n",
    "ax0.spines['right'].set_visible(False)\n",
    "ax0.spines['top'].set_visible(False)\n",
    "ax0.spines['bottom'].set_visible(False)\n",
    "ax0.get_xaxis().set_visible(False)\n",
    "\n",
    "\n",
    "ax1.plot([50,50],[0.1,0.35],'k')\n",
    "ax1.text(80,0.2,'250 pA',va='center')\n",
    "ax1.set_ylabel('I (nA)')\n",
    "ax1.set_xlabel('t (ms)')\n",
    "#ax1.set_ylim(-0.01,0.02)\n",
    "ax1.spines['right'].set_visible(False)\n",
    "ax1.spines['top'].set_visible(False)\n",
    "ax1.spines['left'].set_visible(False)\n",
    "ax1.get_yaxis().set_visible(False)\n",
    "plt.tight_layout()"
   ]
  },
  {
   "cell_type": "code",
   "execution_count": null,
   "metadata": {},
   "outputs": [],
   "source": []
  }
 ],
 "metadata": {
  "kernelspec": {
   "display_name": "Python [conda root]",
   "language": "python",
   "name": "conda-root-py"
  },
  "language_info": {
   "codemirror_mode": {
    "name": "ipython",
    "version": 2
   },
   "file_extension": ".py",
   "mimetype": "text/x-python",
   "name": "python",
   "nbconvert_exporter": "python",
   "pygments_lexer": "ipython2",
   "version": "2.7.14"
  }
 },
 "nbformat": 4,
 "nbformat_minor": 2
}
