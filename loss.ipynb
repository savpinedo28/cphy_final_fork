{
 "cells": [
  {
   "cell_type": "markdown",
   "id": "63eff6f9-9460-4037-bd70-dae2e6c61871",
   "metadata": {},
   "source": [
    "### Defining the loss function.\n",
    "\n",
    "We want our loss function to combine two aspects: firing correctness (HH firing event) and energy consumption.\n",
    "\n",
    "1. Firing term: $F(t)$ to be observed firing rate and $F_{targ}(t)$ to be target firing time at t s.t. $T$ is total time of simulation. We can measure our \"correctness\" as $L_{fire} = \\frac{1}{T}\\int_0^T (F(t)-F_{targ}(t))^2 dt$. \n",
    "\n",
    "2. Energy Consumption: Encourages waveform to be as energy efficient as possible. Suppose we simplify our problem ot step current input, then we are looking at duration and amplitude of the step.Suppose we have some input described as I, $L_{energy} = I_{max} \\times I_{dur}$. \n",
    "\n",
    "Combining these terms, we can create our lagrangian. \n",
    "\n",
    "$$\\mathcal{L} = \\alpha L_{fire} + \\beta I_{dur}$$\n",
    "\n",
    "s.t. $\\alpha, \\beta$ are weighting coefficients "
   ]
  },
  {
   "cell_type": "code",
   "execution_count": 1,
   "id": "4a0728ad-852e-40c8-80e1-496ce1d11b8d",
   "metadata": {
    "tags": []
   },
   "outputs": [],
   "source": [
    "#defining loss\n",
    "\n",
    "#defining targetted firing rate: how do we want to quantify this: do we want to reproduce a certain dynamics?\n",
    "    #can use biological data to reproduce or data from NEURON\n",
    "    \n",
    "#defining input stimuli waveform\n",
    "\n",
    "#step simplified case\n",
    "def initial_stim(t, I_max, I_duration): \n",
    "    return I_max if 0 <= t <= I_duration else 0.0\n",
    "\n",
    "#defining the cost function\n",
    "\n",
    "def lagrangian(stim, t_span, target_dfyn, I_max "
   ]
  },
  {
   "cell_type": "code",
   "execution_count": null,
   "id": "fbd2429f-3720-4e6b-9736-f46ce4f29017",
   "metadata": {},
   "outputs": [],
   "source": [
    "\n"
   ]
  }
 ],
 "metadata": {
  "kernelspec": {
   "display_name": "Python 3 (ipykernel)",
   "language": "python",
   "name": "python3"
  },
  "language_info": {
   "codemirror_mode": {
    "name": "ipython",
    "version": 3
   },
   "file_extension": ".py",
   "mimetype": "text/x-python",
   "name": "python",
   "nbconvert_exporter": "python",
   "pygments_lexer": "ipython3",
   "version": "3.11.4"
  }
 },
 "nbformat": 4,
 "nbformat_minor": 5
}
