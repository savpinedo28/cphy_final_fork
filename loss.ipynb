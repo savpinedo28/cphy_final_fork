{
 "cells": [
  {
   "cell_type": "markdown",
   "id": "63eff6f9-9460-4037-bd70-dae2e6c61871",
   "metadata": {},
   "source": [
    "### Defining the loss function.\n",
    "\n",
    "We want our loss function to combine two aspects: firing correctness (HH firing event) and energy consumption.\n",
    "\n",
    "1. Firing term: $F(t)$ to be observed firing rate and $F_{targ}(t)$ to be target firing time at t s.t. $T$ is total time of simulation. We can measure our \"correctness\" as $L_{fire} = \\frac{1}{T}\\int_0^T (F(t)-F_{targ}(t))^2 dt$. \n",
    "\n",
    "2. Energy Consumption: Encourages waveform to be as energy efficient as possible. Suppose we simplify our problem ot step current input, then we are looking at duration and amplitude of the step.Suppose we have some input described as I, $L_{energy} = I_{max} \\times I_{dur}$. \n",
    "\n",
    "Combining these terms, we can create our lagrangian. \n",
    "\n",
    "$$\\mathcal{L} = \\alpha L_{fire} + \\beta I_{dur}$$\n",
    "\n",
    "s.t. $\\alpha, \\beta$ are weighting coefficients "
   ]
  },
  {
   "cell_type": "code",
   "execution_count": 2,
   "id": "4a0728ad-852e-40c8-80e1-496ce1d11b8d",
   "metadata": {
    "tags": []
   },
   "outputs": [
    {
     "ename": "SyntaxError",
     "evalue": "incomplete input (3010376630.py, line 14)",
     "output_type": "error",
     "traceback": [
      "\u001b[0;36m  Cell \u001b[0;32mIn[2], line 14\u001b[0;36m\u001b[0m\n\u001b[0;31m    def lagrangian(stim, t_span, target_dfyn, I_max\u001b[0m\n\u001b[0m                                                    ^\u001b[0m\n\u001b[0;31mSyntaxError\u001b[0m\u001b[0;31m:\u001b[0m incomplete input\n"
     ]
    }
   ],
   "source": [
    "import numpy as np\n",
    "import scipy.integrate import simps\n",
    "\n",
    "\n",
    "#step simplified case\n",
    "def initial_stim(t, I_max, I_duration): \n",
    "    return I_max if 0 <= t <= I_duration else 0.0\n",
    "\n",
    "#defining the cost function\n",
    "\n",
    "#energy calculation \n",
    "def calc_energy(t, wvfrm): \n",
    "    power = wvfrm**2\n",
    "    energy = simps(power, t)\n",
    "    return energy \n",
    "\n",
    "#step simplified case\n",
    "def initial_stim(t, I_max, I_duration): \n",
    "    return I_max if 0 <= t <= I_duration else 0.0\n",
    "\n",
    "#binary loss function for if we measure \"firing\" as if threshold is met -- binary firing instance \n",
    "def lagrangian_bin(stim, y_true, t_span, thresh=-55.0, I_max, I_duration, alpha, beta):\n",
    "    #call hodgkin huxley model\n",
    "    fired = bin_firing(input_current, duration, dt, threshold)\n",
    "    \n",
    "    if fired:\n",
    "        loss = calc_energy(t_span, stim) \n",
    "    else: \n",
    "        #penalize if no firing via adding penalty\n",
    "        penalty = 1e6\n",
    "        loss = calc_energy(t_span, stim) + penalty\n",
    "    return loss\n",
    "\n",
    "#alternative generation of loss function -- we use NEURON to create are targetted behavior -- how many firings we want to see \n",
    "#train loss function using recovery -- want as many action potentials as seen by NEURON -- ground truth\n",
    "def \n",
    "\n"
   ]
  },
  {
   "cell_type": "code",
   "execution_count": null,
   "id": "fbd2429f-3720-4e6b-9736-f46ce4f29017",
   "metadata": {},
   "outputs": [],
   "source": [
    "\n"
   ]
  }
 ],
 "metadata": {
  "kernelspec": {
   "display_name": "Python 3 (ipykernel)",
   "language": "python",
   "name": "python3"
  },
  "language_info": {
   "codemirror_mode": {
    "name": "ipython",
    "version": 3
   },
   "file_extension": ".py",
   "mimetype": "text/x-python",
   "name": "python",
   "nbconvert_exporter": "python",
   "pygments_lexer": "ipython3",
   "version": "3.11.4"
  }
 },
 "nbformat": 4,
 "nbformat_minor": 5
}
