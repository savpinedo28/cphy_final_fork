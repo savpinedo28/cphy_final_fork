{
 "cells": [
  {
   "cell_type": "code",
   "execution_count": 1,
   "id": "8e566738",
   "metadata": {},
   "outputs": [],
   "source": [
    "import autograd.numpy as np\n",
    "from autograd import grad, jacobian\n",
    "\n",
    "import matplotlib.pyplot as plt\n",
    "from scipy import optimize, interpolate"
   ]
  },
  {
   "cell_type": "code",
   "execution_count": 2,
   "id": "202bb9cf",
   "metadata": {},
   "outputs": [],
   "source": [
    "# Note: [] = what we're inverting for (I itself, its amplitude A, its angular frequency w, etc.)\n",
    "#\n",
    "# function (ic's/initial guess, A (or I), other parameters)\n",
    "#    Integration\n",
    "#        - call Euler step and compute for all time, generate trajectories\n",
    "#    Cost Function Accumulation\n",
    "#        - energy of wave\n",
    "#        - what else? \n",
    "#        - how do you define the energy of a more general waveform and not just like a sine wave\n",
    "#\n",
    "#\n",
    "# Compute the gradient\n",
    "#    - Use automatic differentiation on function above\n",
    "#        - can use autograd (also jax, torch, etc.)\n",
    "#    - gives us dL/d[] where L is the Lagrangian and [] can be any of the inputs in function (so A or I)\n",
    "#\n",
    "#\n",
    "# Side Task: Finite Difference Check\n",
    "#    If this shows that our gradient is correct and trustworthy,\n",
    "#    then we're all good to go. \n",
    "#    If not, we'll have to compute the gradient by hand, which is messy.\n",
    "#\n",
    "#\n",
    "# Steepest Descent (SD)\n",
    "#    []_old = inital guess (step function?)\n",
    "#    []_new = []_old - gamma * grad\n",
    "#    can use scipy.optimize.line_search(gamma) to find optimal step length (akin to learning rate)\n",
    "#    the results of this gives us the optimal [] to minimize the energy"
   ]
  },
  {
   "cell_type": "code",
   "execution_count": 3,
   "id": "795016a2",
   "metadata": {},
   "outputs": [],
   "source": [
    "# IMPORTANT NOTES\n",
    "#\n",
    "# 1) We really need to decide on a cost function to make sure our gradient is correct\n",
    "#    a) This is the part I'm most worried about because if this doesn't work,\n",
    "#    we'll have to compute the gradient by hand rather than using AD.\n",
    "#     Things get really messy really quickly when doing it by hand.\n",
    "#     If we do end up having to do it by hand, things that will make our lives easier are:\n",
    "#             - making the cost function depend on []\n",
    "#             - inverting for A or w (i.e. option 2a and NOT 2b)\n",
    "#    I (Shoshi) will get started on computing the gradient and doing the FD check as soon as I can\n",
    "#\n",
    "#\n",
    "# 2) Thoughts on deciding what [] should be:\n",
    "#    a) If we assume I = Asin(wt), where A is amplitude and w is angular frequency,\n",
    "#    then we can invert for a constant (A or w) and recreate A from this.\n",
    "#    This is the simplest option. \n",
    "#    b) If we assume 'I' can be more general, we can invert for I=I(t) itself.\n",
    "#    This means that we'll have to invert for I(t_i) at each timestep t_i\n",
    "#    and then reconstruct the timeseries from that. \n",
    "#    This also means we're doing SD t_i times, and that our gradient is higher dimensional\n",
    "#    than in case (a) since each I(t_i) is a parameter we're inverting for. \n",
    "#    This is more computationally expensive than option (a), but probably not prohibitively so. \n"
   ]
  },
  {
   "cell_type": "code",
   "execution_count": null,
   "id": "5bc6790f",
   "metadata": {},
   "outputs": [],
   "source": []
  }
 ],
 "metadata": {
  "kernelspec": {
   "display_name": "Python 3 (ipykernel)",
   "language": "python",
   "name": "python3"
  },
  "language_info": {
   "codemirror_mode": {
    "name": "ipython",
    "version": 3
   },
   "file_extension": ".py",
   "mimetype": "text/x-python",
   "name": "python",
   "nbconvert_exporter": "python",
   "pygments_lexer": "ipython3",
   "version": "3.11.4"
  }
 },
 "nbformat": 4,
 "nbformat_minor": 5
}
