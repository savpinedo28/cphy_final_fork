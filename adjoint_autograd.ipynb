{
 "cells": [
  {
   "cell_type": "code",
   "execution_count": null,
   "id": "ae07cdb5-9b8c-4260-8a2d-f3c05102a19b",
   "metadata": {
    "tags": []
   },
   "outputs": [],
   "source": [
    "pip install torch"
   ]
  },
  {
   "cell_type": "code",
   "execution_count": null,
   "id": "1999eb56-a36d-4645-abe8-757a06121fc3",
   "metadata": {
    "tags": []
   },
   "outputs": [],
   "source": [
    "pip install torchdiffeq"
   ]
  },
  {
   "cell_type": "code",
   "execution_count": 1,
   "id": "e8b9fbfb-5cc5-40a9-aa1b-9dc840597157",
   "metadata": {},
   "outputs": [],
   "source": [
    "import autograd.numpy as np\n",
    "from autograd import grad, jacobian\n",
    "from scipy.integrate import solve_ivp\n",
    "import matplotlib.pyplot as plt\n",
    "#import torch\n",
    "#from torchdiffeq import odeint"
   ]
  },
  {
   "cell_type": "code",
   "execution_count": 2,
   "id": "2cbc8aea-34bb-4822-a005-230f828abc48",
   "metadata": {
    "tags": []
   },
   "outputs": [],
   "source": [
    "\n",
    "\n",
    "# Define HH model parameters\n",
    "g_Na = 120.0  # Sodium conductance (mS/cm^2)\n",
    "g_K = 36.0   # Potassium conductance (mS/cm^2)\n",
    "g_L = 0.3    # Leak conductance (mS/cm^2)\n",
    "E_Na = 50.0  # Sodium reversal potential (mV)\n",
    "E_K = -77.0  # Potassium reversal potential (mV)\n",
    "E_L = -55.0  # Leak reversal potential (mV)\n",
    "C_m = 1.0    # Membrane capacitance (uF/cm^2)\n",
    "\n",
    "# Define the HH model equations\n",
    "def alpha_m(V):\n",
    "    return 0.1 * (V + 40.0) / (1.0 - np.exp(-(V + 40.0) / 10.0))\n",
    "\n",
    "def beta_m(V):\n",
    "    return 4.0 * np.exp(-(V + 65.0) / 18.0)\n",
    "\n",
    "def alpha_h(V):\n",
    "    return 0.07 * np.exp(-(V + 65.0) / 20.0)\n",
    "\n",
    "def beta_h(V):\n",
    "    return 1.0 / (1.0 + np.exp(-(V + 35.0) / 10.0))\n",
    "\n",
    "def alpha_n(V):\n",
    "    return 0.01 * (V + 55.0) / (1.0 - np.exp(-(V + 55.0) / 10.0))\n",
    "\n",
    "def beta_n(V):\n",
    "    return 0.125 * np.exp(-(V + 65) / 80.0)\n",
    "\n",
    "# Define the HH model differential equations\n",
    "def hodgkin_huxley_eq(V, m, h, n, I_params, t):\n",
    "    I = I_params[0]*np.sin(I_params[1]*t)\n",
    "    dVdt = (I - g_Na * m**3 * h * (V - E_Na) - g_K * n**4 * (V - E_K) - g_L * (V - E_L)) / C_m\n",
    "    dmdt = alpha_m(V) * (1 - m) - beta_m(V) * m\n",
    "    dhdt = alpha_h(V) * (1 - h) - beta_h(V) * h\n",
    "    dndt = alpha_n(V) * (1 - n) - beta_n(V) * n\n",
    "    return dVdt, dmdt, dhdt, dndt\n",
    "\n",
    "# Define time parameters\n",
    "dt = 0.01  # Time step (ms)\n",
    "t = np.arange(0, 50, dt)  # Time vector (ms)\n",
    "\n",
    "# Define input stimulus waveform (e.g., a step current)\n",
    "I_stimulus = np.zeros_like(t)\n",
    "I_stimulus[100:500] = 10.0  # Apply a current step from 100 ms to 500 ms\n",
    "\n",
    "# Initialize state variables\n",
    "V0 = -65.0  # Membrane voltage (mV)\n",
    "m, h, n = 0.05, 0.6, 0.32  # Initial values of gating variables\n",
    "\n",
    "# Simulate the HH model and record data\n",
    "V_record = np.zeros_like(t)\n",
    "V = V0\n",
    "\n",
    "A = 1.0\n",
    "w = 1.0\n",
    "\n",
    "I_params = np.array([A, w])\n",
    "\n",
    "for i in range(len(t)):\n",
    "    V_record[i] = V\n",
    "    dVdt, dmdt, dhdt, dndt = hodgkin_huxley_eq(V, m, h, n, I_params, t[i])\n",
    "    V += dVdt * dt\n",
    "    m += dmdt * dt\n",
    "    h += dhdt * dt\n",
    "    n += dndt * dt\n",
    "\n",
    "  "
   ]
  },
  {
   "cell_type": "code",
   "execution_count": 3,
   "id": "c0f15412",
   "metadata": {},
   "outputs": [],
   "source": [
    "def integrate_HH(V0, m, h, n, I_params, dt, t):\n",
    "    \n",
    "    V_record = np.zeros_like(t)\n",
    "    V = V0\n",
    "    \n",
    "    for i in range(len(t)):\n",
    "        V_record[i] = V\n",
    "        dVdt, dmdt, dhdt, dndt = hodgkin_huxley_eq(V, m, h, n, I_params, t[i])\n",
    "        V += dVdt * dt\n",
    "        m += dmdt * dt\n",
    "        h += dhdt * dt\n",
    "        n += dndt * dt\n",
    "    return V_record\n",
    "\n",
    "\n",
    "    "
   ]
  },
  {
   "cell_type": "code",
   "execution_count": 57,
   "id": "7857b4d2",
   "metadata": {},
   "outputs": [
    {
     "data": {
      "text/plain": [
       "<matplotlib.legend.Legend at 0x7fb8448a71f0>"
      ]
     },
     "execution_count": 57,
     "metadata": {},
     "output_type": "execute_result"
    },
    {
     "data": {
      "image/png": "[encoded data removed]",
      "text/plain": [
       "<Figure size 432x288 with 1 Axes>"
      ]
     },
     "metadata": {
      "needs_background": "light"
     },
     "output_type": "display_data"
    }
   ],
   "source": [
    "A = 4.289\n",
    "w = 0.1\n",
    "\n",
    "I_params = np.array([A, w])\n",
    "\n",
    "V_record = integrate_HH(V0, m, h, n, I_params, dt, t)\n",
    "\n",
    "I_stimulus = A*np.sin(w*t)\n",
    "\n",
    "plt.plot(t, V_record, label = 'V')\n",
    "plt.plot(t, I_stimulus, label = 'I')\n",
    "plt.xlabel('time')\n",
    "plt.legend()"
   ]
  },
  {
   "cell_type": "code",
   "execution_count": 5,
   "id": "6ddde20c-6037-4df9-90f4-83aee164da92",
   "metadata": {
    "tags": []
   },
   "outputs": [],
   "source": [
    "\n",
    "\n",
    "def hodgkin_huxley_neural_ode(t, z, I_stimulus):\n",
    "    V, m, h, n = z\n",
    "    dVdt, dmdt, dhdt, dndt = hodgkin_huxley_eq(V, m, h, n, I_stimulus)\n",
    "    return [dVdt, dmdt, dhdt, dndt]\n",
    "\n",
    "# Create a function to solve the neural ODE\n",
    "def solve_neural_ode(I_stimulus, t_span):\n",
    "    z0 = [-65.0, 0.05, 0.6, 0.32]  # Initial conditions for V, m, h, n\n",
    "    return odeint(hodgkin_huxley_neural_ode, torch.tensor(z0), t_span, args=(I_stimulus,))\n"
   ]
  },
  {
   "cell_type": "code",
   "execution_count": null,
   "id": "1763c02e-5afc-465a-af2f-2d45b1662bbe",
   "metadata": {},
   "outputs": [],
   "source": []
  },
  {
   "cell_type": "markdown",
   "id": "072fe10c",
   "metadata": {},
   "source": [
    "## Adjoint"
   ]
  },
  {
   "cell_type": "markdown",
   "id": "f64921d2",
   "metadata": {},
   "source": [
    "#### Fake Data"
   ]
  },
  {
   "cell_type": "code",
   "execution_count": null,
   "id": "5f3922a5",
   "metadata": {},
   "outputs": [],
   "source": [
    "# #np.load('./sim_data/t_vec.p', allow_pickle = True)\n",
    "# import pickle\n",
    "\n",
    "# import neuron.hoc39\n",
    "# #from neuron import h, gui\n",
    "# t_file = './sim_data/t_vec.p'\n",
    "\n",
    "\n",
    "# with open(t_file, mode='rb') as f:\n",
    "#     t_data = pickle.load(f)\n"
   ]
  },
  {
   "cell_type": "code",
   "execution_count": 58,
   "id": "6a8d50cb",
   "metadata": {},
   "outputs": [],
   "source": [
    "# run forward model to create fake data to test adjoint\n",
    "\n",
    "# Initialize state variables\n",
    "V = -65.0  # Membrane voltage (mV)\n",
    "m, h, n = 0.05, 0.6, 0.32  # Initial values of gating variables\n",
    "\n",
    "\n",
    "V_subsamp = V_record[::10]\n",
    "    \n",
    "mean = np.mean(V_record)\n",
    "stddev = np.std(V_record)\n",
    "\n",
    "noise = np.random.normal(0, stddev, len(V_subsamp))\n",
    "#noise = np.random.normal(0,1,len(V_subsamp))\n",
    "V_data = V_subsamp + noise\n",
    "\n",
    "data_steps = t[::10]"
   ]
  },
  {
   "cell_type": "code",
   "execution_count": null,
   "id": "0764ca9e",
   "metadata": {},
   "outputs": [],
   "source": []
  },
  {
   "cell_type": "code",
   "execution_count": 59,
   "id": "bae72a52",
   "metadata": {},
   "outputs": [
    {
     "data": {
      "text/plain": [
       "<matplotlib.legend.Legend at 0x7fb844601370>"
      ]
     },
     "execution_count": 59,
     "metadata": {},
     "output_type": "execute_result"
    },
    {
     "data": {
      "image/png": "[encoded data removed]",
      "text/plain": [
       "<Figure size 432x288 with 1 Axes>"
      ]
     },
     "metadata": {
      "needs_background": "light"
     },
     "output_type": "display_data"
    }
   ],
   "source": [
    "plt.plot(t, V_record, label = 'model equivalent')\n",
    "plt.plot(data_steps, V_data, label = 'noisy data')\n",
    "plt.xlabel('time')\n",
    "plt.ylabel('V')\n",
    "plt.legend()"
   ]
  },
  {
   "cell_type": "markdown",
   "id": "3b8b2fbb",
   "metadata": {},
   "source": [
    "#### Compute Gradient"
   ]
  },
  {
   "cell_type": "code",
   "execution_count": 75,
   "id": "995be136",
   "metadata": {},
   "outputs": [],
   "source": [
    "def forward_model_cost(I_params, V0, m, h, n, dt, t, data_steps, V_data):\n",
    "\n",
    "    cost = 0\n",
    "        \n",
    "    #V_record = np.zeros(len(t), dtype=t.dtype)\n",
    "    V_record = []\n",
    "    V = V0\n",
    "    \n",
    "    for i in range(len(t)):\n",
    "        \n",
    "        # run forward step\n",
    "        V_record.append(V)\n",
    "        #V_record[i] = V\n",
    "        \n",
    "        #I = A*np.sin(w*t[i])\n",
    "        #I = I_stimulus[i]\n",
    "        \n",
    "        dVdt, dmdt, dhdt, dndt = hodgkin_huxley_eq(V, m, h, n, I_params, t[i])\n",
    "        V += dVdt * dt\n",
    "        m += dmdt * dt\n",
    "        h += dhdt * dt\n",
    "        n += dndt * dt\n",
    "\n",
    "        # compute model-data misfit\n",
    "        if t[i] in data_steps:\n",
    "            j = np.where(data_steps == t[i])\n",
    "            cost += (V_record[i] - V_data[j])**2\n",
    "            \n",
    "    #return V_record, cost\n",
    "    return cost\n",
    "\n",
    "\n",
    "        \n",
    "        "
   ]
  },
  {
   "cell_type": "code",
   "execution_count": 76,
   "id": "fa457024",
   "metadata": {},
   "outputs": [
    {
     "data": {
      "text/plain": [
       "array([9198.96005794])"
      ]
     },
     "execution_count": 76,
     "metadata": {},
     "output_type": "execute_result"
    }
   ],
   "source": [
    "# Initialize state variables\n",
    "# V0 = np.float64(-65.0)  # Membrane voltage (mV)\n",
    "# m, h, n = 0.05, 0.6, 0.32  # Initial values of gating variables\n",
    "\n",
    "\n",
    "total_cost = forward_model_cost(I_params, V0, m, h, n, dt, t, data_steps, V_data)\n",
    "\n",
    "total_cost\n",
    "\n"
   ]
  },
  {
   "cell_type": "code",
   "execution_count": 77,
   "id": "136fba06",
   "metadata": {},
   "outputs": [],
   "source": [
    "import autograd.numpy as np\n",
    "from autograd import grad, jacobian\n",
    "\n",
    "grad_AD = grad(forward_model_cost, 0) # 4 indicates differentiation w.r.t. the fourth argument of f.\n",
    "# second argument indicates differentiation wrt to that number argument of the fn to differentiate\n"
   ]
  },
  {
   "cell_type": "code",
   "execution_count": 87,
   "id": "0be013ab",
   "metadata": {},
   "outputs": [
    {
     "data": {
      "text/plain": [
       "array([ 21793.44283367, 681148.58995116])"
      ]
     },
     "execution_count": 87,
     "metadata": {},
     "output_type": "execute_result"
    }
   ],
   "source": [
    "# test autograd\n",
    "\n",
    "grad_AD(I_params, V0, m, h, n, dt, t, data_steps, V_data)\n",
    "#jac_AD(V, m, h, n, I_stimulus, dt, t, data_steps, V_data)"
   ]
  },
  {
   "cell_type": "markdown",
   "id": "14708b1a",
   "metadata": {},
   "source": [
    "#### FD Check"
   ]
  },
  {
   "cell_type": "code",
   "execution_count": 80,
   "id": "0b886b83",
   "metadata": {},
   "outputs": [
    {
     "name": "stdout",
     "output_type": "stream",
     "text": [
      "step size= 1e-07 , gradient finite difference error= [6.91287703e-05]\n"
     ]
    }
   ],
   "source": [
    "# FD check wrt A\n",
    "\n",
    "A1 = np.random.uniform(0,5)\n",
    "L1 = forward_model_cost(np.array([A1, w]), V0, m, h, n, dt, t, data_steps, V_data)\n",
    "\n",
    "p = np.random.randint(0,5000)\n",
    "s = 1e-7 # step size\n",
    "A2 = A1 + s*p\n",
    "L2 = forward_model_cost(np.array([A2, w]), V0, m, h, n, dt, t, data_steps, V_data)\n",
    "dL_dV_p_diff = (L2 - L1) / s\n",
    "\n",
    "g = grad_AD(np.array([A1, w]), V, m, h, n, dt, t, data_steps, V_data)[0]\n",
    "dL_dV_p = np.dot(g, p)\n",
    "\n",
    "grad_err = np.abs( (dL_dV_p - dL_dV_p_diff) / dL_dV_p_diff )\n",
    "print('step size=', s, ', gradient finite difference error=', grad_err)\n",
    "\n",
    "\n",
    "\n",
    "\n",
    "# # FD check wrt w\n",
    "\n",
    "# w1 = np.random.uniform(0, 1)\n",
    "# L1 = forward_model_cost(V0, m, h, n, np.array([A, w1]), dt, t, data_steps, V_data)\n",
    "\n",
    "# p = np.random.randint(0,5000)\n",
    "# s = 1e-7 # step size\n",
    "# w2 = w1 + s*p\n",
    "# L2 = forward_model_cost(V0, m, h, n, np.array([A, w2]), dt, t, data_steps, V_data)\n",
    "# dL_dV_p_diff = (L2 - L1) / s\n",
    "\n",
    "# g = grad_AD(V, m, h, n, np.array([A, w1]), dt, t, data_steps, V_data)[1]\n",
    "# dL_dV_p = np.dot(g, p)\n",
    "\n",
    "# grad_err = np.abs( (dL_dV_p - dL_dV_p_diff) / dL_dV_p_diff )\n",
    "# print('step size=', s, ', gradient finite difference error=', grad_err)\n",
    "\n",
    "\n",
    "\n"
   ]
  },
  {
   "cell_type": "code",
   "execution_count": 82,
   "id": "1098f63e",
   "metadata": {},
   "outputs": [
    {
     "name": "stderr",
     "output_type": "stream",
     "text": [
      "/var/folders/6j/fcfm9_6n3rg0rg4_4flv5ks00000gq/T/ipykernel_59888/2018758815.py:32: RuntimeWarning: invalid value encountered in scalar subtract\n",
      "  dVdt = (I - g_Na * m**3 * h * (V - E_Na) - g_K * n**4 * (V - E_K) - g_L * (V - E_L)) / C_m\n",
      "/var/folders/6j/fcfm9_6n3rg0rg4_4flv5ks00000gq/T/ipykernel_59888/2018758815.py:33: RuntimeWarning: invalid value encountered in scalar multiply\n",
      "  dmdt = alpha_m(V) * (1 - m) - beta_m(V) * m\n",
      "/var/folders/6j/fcfm9_6n3rg0rg4_4flv5ks00000gq/T/ipykernel_59888/2018758815.py:34: RuntimeWarning: invalid value encountered in scalar multiply\n",
      "  dhdt = alpha_h(V) * (1 - h) - beta_h(V) * h\n",
      "/var/folders/6j/fcfm9_6n3rg0rg4_4flv5ks00000gq/T/ipykernel_59888/2018758815.py:35: RuntimeWarning: invalid value encountered in scalar multiply\n",
      "  dndt = alpha_n(V) * (1 - n) - beta_n(V) * n\n",
      "/var/folders/6j/fcfm9_6n3rg0rg4_4flv5ks00000gq/T/ipykernel_59888/2018758815.py:32: RuntimeWarning: overflow encountered in scalar multiply\n",
      "  dVdt = (I - g_Na * m**3 * h * (V - E_Na) - g_K * n**4 * (V - E_K) - g_L * (V - E_L)) / C_m\n",
      "/var/folders/6j/fcfm9_6n3rg0rg4_4flv5ks00000gq/T/ipykernel_59888/4010863676.py:19: RuntimeWarning: invalid value encountered in scalar add\n",
      "  V += dVdt * dt\n"
     ]
    },
    {
     "name": "stdout",
     "output_type": "stream",
     "text": [
      "step size= 1.0 , example gradient finite difference error= [nan]\n",
      "step size= 0.1 , example gradient finite difference error= [nan]\n",
      "step size= 0.01 , example gradient finite difference error= [nan]\n",
      "step size= 0.001 , example gradient finite difference error= [1.04576852]\n",
      "step size= 0.0001 , example gradient finite difference error= [0.20685541]\n",
      "step size= 1e-05 , example gradient finite difference error= [0.01746349]\n",
      "step size= 1e-06 , example gradient finite difference error= [0.00171606]\n",
      "step size= 1e-07 , example gradient finite difference error= [0.00017131]\n",
      "step size= 1e-08 , example gradient finite difference error= [1.71268167e-05]\n",
      "step size= 1e-09 , example gradient finite difference error= [1.70335343e-06]\n",
      "step size= 1e-10 , example gradient finite difference error= [7.37549512e-08]\n",
      "step size= 1e-11 , example gradient finite difference error= [7.11165832e-07]\n",
      "step size= 1e-12 , example gradient finite difference error= [2.79721057e-06]\n",
      "step size= 1e-13 , example gradient finite difference error= [0.00011345]\n"
     ]
    },
    {
     "data": {
      "text/plain": [
       "Text(0, 0.5, 'error')"
      ]
     },
     "execution_count": 82,
     "metadata": {},
     "output_type": "execute_result"
    },
    {
     "data": {
      "image/png": "[encoded data removed]",
      "text/plain": [
       "<Figure size 432x288 with 1 Axes>"
      ]
     },
     "metadata": {
      "needs_background": "light"
     },
     "output_type": "display_data"
    }
   ],
   "source": [
    "# step_sizes = [1e0, 1e-1, 1e-2, 1e-3, 1e-4, 1e-5, 1e-6, 1e-7, 1e-8, 1e-9, 1e-10, 1e-11, 1e-12, 1e-13]\n",
    "\n",
    "\n",
    "# Make log-log plot of gradient finite difference error vs. step size\n",
    "\n",
    "A1 = np.random.uniform(0,5)\n",
    "L1 = forward_model_cost(np.array([A1, w]), V0, m, h, n, dt, t, data_steps, V_data)\n",
    "\n",
    "# compute gradient using autograd\n",
    "g = grad_AD(np.array([A1, w]), V, m, h, n, dt, t, data_steps, V_data)[0]\n",
    "dL_dV_p = np.dot(g, p)\n",
    "\n",
    "# j = jac_AD(V1, m, h, n, I_stimulus, dt, t, data_steps, V_data)\n",
    "# dL_dV_p = np.dot(j, p)\n",
    "\n",
    "\n",
    "grad_errs = list()\n",
    "for s in step_sizes:\n",
    "    \n",
    "    # compute gradient using finite differences\n",
    "    A2 = A1 + s*p\n",
    "\n",
    "    L2 = forward_model_cost(np.array([A2, w]), V0, m, h, n, dt, t, data_steps, V_data)\n",
    "    dL_dV_p_diff = (L2 - L1) / s\n",
    "\n",
    "\n",
    "    # compute gradient error\n",
    "    grad_err = np.abs( (dL_dV_p - dL_dV_p_diff) / dL_dV_p_diff )\n",
    "    print('step size=', s, ', example gradient finite difference error=', grad_err)\n",
    "    \n",
    "    grad_errs.append(grad_err)\n",
    "\n",
    "plt.loglog(step_sizes, grad_errs)\n",
    "plt.title('Example finite difference gradient check')\n",
    "plt.xlabel('step size')\n",
    "plt.ylabel('error')\n",
    "\n",
    "\n",
    "\n",
    "\n",
    "# step_sizes = [1e0, 1e-1, 1e-2, 1e-3, 1e-4, 1e-5, 1e-6, 1e-7, 1e-8, 1e-9, 1e-10, 1e-11, 1e-12, 1e-13]\n",
    "\n",
    "\n",
    "# # Make log-log plot of gradient finite difference error vs. step size\n",
    "\n",
    "# w1 = np.random.uniform(0, 1)\n",
    "# L1 = forward_model_cost(V0, m, h, n, np.array([A, w1]), dt, t, data_steps, V_data)\n",
    "\n",
    "\n",
    "# # compute gradient using autograd\n",
    "# g = grad_AD(V, m, h, n, np.array([A, w1]), dt, t, data_steps, V_data)[1]\n",
    "# dL_dV_p = np.dot(g, p)\n",
    "\n",
    "\n",
    "# grad_errs = list()\n",
    "# for s in step_sizes:\n",
    "    \n",
    "#     # compute gradient using finite differences\n",
    "#     w2 = w1 + s*p\n",
    "\n",
    "#     L2 = forward_model_cost(V0, m, h, n, np.array([A, w2]), dt, t, data_steps, V_data)\n",
    "#     dL_dV_p_diff = (L2 - L1) / s\n",
    "\n",
    "\n",
    "#     # compute gradient error\n",
    "#     grad_err = np.abs( (dL_dV_p - dL_dV_p_diff) / dL_dV_p_diff )\n",
    "#     print('step size=', s, ', example gradient finite difference error=', grad_err)\n",
    "    \n",
    "#     grad_errs.append(grad_err)\n",
    "\n",
    "# plt.loglog(step_sizes, grad_errs)\n",
    "# plt.title('Example finite difference gradient check')\n",
    "# plt.xlabel('step size')\n",
    "# plt.ylabel('error')\n",
    "\n"
   ]
  },
  {
   "cell_type": "markdown",
   "id": "d3117794",
   "metadata": {},
   "source": [
    "#### Find Minimizer"
   ]
  },
  {
   "cell_type": "code",
   "execution_count": 86,
   "id": "a9342728",
   "metadata": {},
   "outputs": [
    {
     "data": {
      "text/plain": [
       "      fun: 9189.044151073544\n",
       " hess_inv: array([[ 1.54559372e-04, -4.83114860e-06],\n",
       "       [-4.83114860e-06,  1.51013537e-07]])\n",
       "      jac: array([0.00015149, 0.00484575])\n",
       "  message: 'Desired error not necessarily achieved due to precision loss.'\n",
       "     nfev: 30\n",
       "      nit: 18\n",
       "     njev: 30\n",
       "   status: 2\n",
       "  success: False\n",
       "        x: array([4.3420088, 0.0983082])"
      ]
     },
     "execution_count": 86,
     "metadata": {},
     "output_type": "execute_result"
    }
   ],
   "source": [
    "# A = 4.289\n",
    "# w = 0.1\n",
    "\n",
    "initial_guess =\n",
    "\n",
    "optimize.minimize(forward_model_cost, np.array([A, w]), args = (V0, m, h, n, dt, t, data_steps, V_data), \n",
    "                  jac = grad_AD, method = 'BFGS')\n",
    "\n",
    "\n",
    "\n",
    "\n",
    "\n"
   ]
  },
  {
   "cell_type": "code",
   "execution_count": 70,
   "id": "ea1c2756",
   "metadata": {},
   "outputs": [
    {
     "name": "stdout",
     "output_type": "stream",
     "text": [
      "4.289\n",
      "0.0001\n",
      "21793.44283367085\n",
      "2.1096557166329144\n",
      "0.0001\n",
      "-1677.103744546458\n",
      "2.1096557166329144\n",
      "0.0001\n",
      "-1677.103744546458\n",
      "2.2773660910875604\n",
      "0.0001\n",
      "-1571.5559529844288\n",
      "2.2773660910875604\n",
      "0.0001\n",
      "-1571.5559529844288\n",
      "2.4345216863860033\n",
      "0.0001\n",
      "-1468.9964265785015\n",
      "2.4345216863860033\n",
      "0.0001\n",
      "-1468.9964265785015\n",
      "2.5814213290438532\n",
      "0.0001\n",
      "-1369.6492288103777\n",
      "2.5814213290438532\n",
      "0.0001\n",
      "-1369.6492288103777\n",
      "2.718386251924891\n",
      "0.0001\n",
      "-1273.849540227273\n",
      "2.718386251924891\n",
      "0.0001\n",
      "-1273.849540227273\n",
      "2.845771205947618\n",
      "0.0001\n",
      "-1182.0174795077846\n",
      "2.845771205947618\n",
      "0.0001\n",
      "-1182.0174795077846\n",
      "2.9639729538983968\n",
      "0.0001\n",
      "-1094.63222337898\n",
      "2.9639729538983968\n",
      "0.0001\n",
      "-1094.63222337898\n",
      "3.073436176236295\n",
      "0.0001\n",
      "-1012.2082461268014\n",
      "3.073436176236295\n",
      "0.0001\n",
      "-1012.2082461268014\n",
      "3.174657000848975\n",
      "0.0001\n",
      "-935.276245081098\n",
      "3.174657000848975\n",
      "0.0001\n",
      "-935.276245081098\n",
      "3.2681846253570845\n",
      "0.0001\n",
      "-864.3721348558125\n",
      "3.2681846253570845\n",
      "0.0001\n",
      "-864.3721348558125\n",
      "3.354621838842666\n",
      "0.0001\n",
      "-800.0386591835279\n",
      "3.354621838842666\n",
      "0.0001\n",
      "-800.0386591835279\n",
      "3.4346257047610185\n",
      "0.0001\n",
      "-742.8462429305738\n",
      "3.4346257047610185\n",
      "0.0001\n",
      "-742.8462429305738\n",
      "3.5089103290540757\n",
      "0.0001\n",
      "-693.4438665320471\n",
      "3.5089103290540757\n",
      "0.0001\n",
      "-693.4438665320471\n",
      "3.5782547157072804\n",
      "0.0001\n",
      "-652.6596718741463\n",
      "3.5782547157072804\n",
      "0.0001\n",
      "-652.6596718741463\n",
      "3.643520682894695\n",
      "0.0001\n",
      "-621.6912935246892\n",
      "3.643520682894695\n",
      "0.0001\n",
      "-621.6912935246892\n",
      "3.705689812247164\n",
      "0.0001\n",
      "-602.4752312366836\n",
      "3.705689812247164\n",
      "0.0001\n",
      "-602.4752312366836\n",
      "3.7659373353708325\n",
      "0.0001\n",
      "-598.4557395664203\n",
      "3.7659373353708325\n",
      "0.0001\n",
      "-598.4557395664203\n",
      "3.8257829093274744\n",
      "0.0001\n",
      "-616.367462560856\n",
      "3.8257829093274744\n",
      "0.0001\n",
      "-616.367462560856\n",
      "3.88741965558356\n",
      "0.0001\n",
      "-671.0429831047483\n",
      "3.88741965558356\n",
      "0.0001\n",
      "-671.0429831047483\n",
      "3.954523953894035\n",
      "0.0001\n",
      "-801.5645524710841\n",
      "3.954523953894035\n",
      "0.0001\n",
      "-801.5645524710841\n",
      "4.034680409141143\n",
      "0.0001\n",
      "-1149.0916786678997\n",
      "4.034680409141143\n",
      "0.0001\n",
      "-1149.0916786678997\n",
      "4.149589577007933\n",
      "0.0001\n",
      "-2787.8996551729374\n",
      "4.149589577007933\n",
      "0.0001\n",
      "-2787.8996551729374\n",
      "4.428379542525226\n",
      "0.0001\n",
      "43356.38630189987\n",
      "4.428379542525226\n",
      "0.0001\n",
      "43356.38630189987\n",
      "0.0927409123352394\n",
      "0.0001\n",
      "-2798.8003539578103\n",
      "0.0927409123352394\n",
      "0.0001\n",
      "-2798.8003539578103\n",
      "0.37262094773102045\n",
      "0.0001\n",
      "-2645.3594392469845\n",
      "0.37262094773102045\n",
      "0.0001\n",
      "-2645.3594392469845\n",
      "0.6371568916557189\n",
      "0.0001\n",
      "-2502.658604195249\n",
      "0.6371568916557189\n",
      "0.0001\n",
      "-2502.658604195249\n",
      "0.8874227520752438\n",
      "0.0001\n",
      "-2368.36382608605\n",
      "0.8874227520752438\n",
      "0.0001\n",
      "-2368.36382608605\n",
      "1.1242591346838489\n",
      "0.0001\n",
      "-2240.7159048335666\n",
      "1.1242591346838489\n",
      "0.0001\n"
     ]
    },
    {
     "ename": "KeyboardInterrupt",
     "evalue": "",
     "output_type": "error",
     "traceback": [
      "\u001b[0;31m---------------------------------------------------------------------------\u001b[0m",
      "\u001b[0;31mKeyboardInterrupt\u001b[0m                         Traceback (most recent call last)",
      "\u001b[0;32m/var/folders/6j/fcfm9_6n3rg0rg4_4flv5ks00000gq/T/ipykernel_59888/3246546695.py\u001b[0m in \u001b[0;36m<module>\u001b[0;34m\u001b[0m\n\u001b[1;32m     29\u001b[0m     \u001b[0mprint\u001b[0m\u001b[0;34m(\u001b[0m\u001b[0mAk\u001b[0m\u001b[0;34m)\u001b[0m\u001b[0;34m\u001b[0m\u001b[0;34m\u001b[0m\u001b[0m\n\u001b[1;32m     30\u001b[0m     \u001b[0mprint\u001b[0m\u001b[0;34m(\u001b[0m\u001b[0mbk\u001b[0m\u001b[0;34m)\u001b[0m\u001b[0;34m\u001b[0m\u001b[0;34m\u001b[0m\u001b[0m\n\u001b[0;32m---> 31\u001b[0;31m     \u001b[0mprint\u001b[0m\u001b[0;34m(\u001b[0m\u001b[0mg_func\u001b[0m\u001b[0;34m(\u001b[0m\u001b[0mAk\u001b[0m\u001b[0;34m)\u001b[0m\u001b[0;34m)\u001b[0m\u001b[0;34m\u001b[0m\u001b[0;34m\u001b[0m\u001b[0m\n\u001b[0m\u001b[1;32m     32\u001b[0m \u001b[0;34m\u001b[0m\u001b[0m\n\u001b[1;32m     33\u001b[0m     \u001b[0mAk\u001b[0m \u001b[0;34m=\u001b[0m \u001b[0mAk\u001b[0m \u001b[0;34m-\u001b[0m \u001b[0mbk\u001b[0m \u001b[0;34m*\u001b[0m \u001b[0mg_func\u001b[0m\u001b[0;34m(\u001b[0m\u001b[0mAk\u001b[0m\u001b[0;34m)\u001b[0m\u001b[0;34m\u001b[0m\u001b[0;34m\u001b[0m\u001b[0m\n",
      "\u001b[0;32m/var/folders/6j/fcfm9_6n3rg0rg4_4flv5ks00000gq/T/ipykernel_59888/3246546695.py\u001b[0m in \u001b[0;36m<lambda>\u001b[0;34m(A)\u001b[0m\n\u001b[1;32m      2\u001b[0m \u001b[0;34m\u001b[0m\u001b[0m\n\u001b[1;32m      3\u001b[0m \u001b[0mL_func\u001b[0m \u001b[0;34m=\u001b[0m \u001b[0;32mlambda\u001b[0m \u001b[0mA\u001b[0m\u001b[0;34m:\u001b[0m \u001b[0mforward_model_cost\u001b[0m\u001b[0;34m(\u001b[0m\u001b[0mV\u001b[0m\u001b[0;34m,\u001b[0m \u001b[0mm\u001b[0m\u001b[0;34m,\u001b[0m \u001b[0mh\u001b[0m\u001b[0;34m,\u001b[0m \u001b[0mn\u001b[0m\u001b[0;34m,\u001b[0m \u001b[0mnp\u001b[0m\u001b[0;34m.\u001b[0m\u001b[0marray\u001b[0m\u001b[0;34m(\u001b[0m\u001b[0;34m[\u001b[0m\u001b[0mA\u001b[0m\u001b[0;34m,\u001b[0m \u001b[0mw\u001b[0m\u001b[0;34m]\u001b[0m\u001b[0;34m)\u001b[0m\u001b[0;34m,\u001b[0m \u001b[0mdt\u001b[0m\u001b[0;34m,\u001b[0m \u001b[0mt\u001b[0m\u001b[0;34m,\u001b[0m \u001b[0mdata_steps\u001b[0m\u001b[0;34m,\u001b[0m \u001b[0mV_data\u001b[0m\u001b[0;34m)\u001b[0m\u001b[0;34m\u001b[0m\u001b[0;34m\u001b[0m\u001b[0m\n\u001b[0;32m----> 4\u001b[0;31m \u001b[0mg_func\u001b[0m \u001b[0;34m=\u001b[0m \u001b[0;32mlambda\u001b[0m \u001b[0mA\u001b[0m\u001b[0;34m:\u001b[0m \u001b[0mgrad_AD\u001b[0m\u001b[0;34m(\u001b[0m\u001b[0mV\u001b[0m\u001b[0;34m,\u001b[0m \u001b[0mm\u001b[0m\u001b[0;34m,\u001b[0m \u001b[0mh\u001b[0m\u001b[0;34m,\u001b[0m \u001b[0mn\u001b[0m\u001b[0;34m,\u001b[0m \u001b[0mnp\u001b[0m\u001b[0;34m.\u001b[0m\u001b[0marray\u001b[0m\u001b[0;34m(\u001b[0m\u001b[0;34m[\u001b[0m\u001b[0mA\u001b[0m\u001b[0;34m,\u001b[0m \u001b[0mw\u001b[0m\u001b[0;34m]\u001b[0m\u001b[0;34m)\u001b[0m\u001b[0;34m,\u001b[0m \u001b[0mdt\u001b[0m\u001b[0;34m,\u001b[0m \u001b[0mt\u001b[0m\u001b[0;34m,\u001b[0m \u001b[0mdata_steps\u001b[0m\u001b[0;34m,\u001b[0m \u001b[0mV_data\u001b[0m\u001b[0;34m)\u001b[0m\u001b[0;34m[\u001b[0m\u001b[0;36m0\u001b[0m\u001b[0;34m]\u001b[0m\u001b[0;34m\u001b[0m\u001b[0;34m\u001b[0m\u001b[0m\n\u001b[0m\u001b[1;32m      5\u001b[0m \u001b[0;31m#j_func = lambda V: jac_AD(V, m, h, n, I_stimulus, dt, t, data_steps, V_data)\u001b[0m\u001b[0;34m\u001b[0m\u001b[0;34m\u001b[0m\u001b[0m\n\u001b[1;32m      6\u001b[0m \u001b[0;34m\u001b[0m\u001b[0m\n",
      "\u001b[0;32m~/opt/anaconda3/lib/python3.9/site-packages/autograd/wrap_util.py\u001b[0m in \u001b[0;36mnary_f\u001b[0;34m(*args, **kwargs)\u001b[0m\n\u001b[1;32m     18\u001b[0m             \u001b[0;32melse\u001b[0m\u001b[0;34m:\u001b[0m\u001b[0;34m\u001b[0m\u001b[0;34m\u001b[0m\u001b[0m\n\u001b[1;32m     19\u001b[0m                 \u001b[0mx\u001b[0m \u001b[0;34m=\u001b[0m \u001b[0mtuple\u001b[0m\u001b[0;34m(\u001b[0m\u001b[0margs\u001b[0m\u001b[0;34m[\u001b[0m\u001b[0mi\u001b[0m\u001b[0;34m]\u001b[0m \u001b[0;32mfor\u001b[0m \u001b[0mi\u001b[0m \u001b[0;32min\u001b[0m \u001b[0margnum\u001b[0m\u001b[0;34m)\u001b[0m\u001b[0;34m\u001b[0m\u001b[0;34m\u001b[0m\u001b[0m\n\u001b[0;32m---> 20\u001b[0;31m             \u001b[0;32mreturn\u001b[0m \u001b[0munary_operator\u001b[0m\u001b[0;34m(\u001b[0m\u001b[0munary_f\u001b[0m\u001b[0;34m,\u001b[0m \u001b[0mx\u001b[0m\u001b[0;34m,\u001b[0m \u001b[0;34m*\u001b[0m\u001b[0mnary_op_args\u001b[0m\u001b[0;34m,\u001b[0m \u001b[0;34m**\u001b[0m\u001b[0mnary_op_kwargs\u001b[0m\u001b[0;34m)\u001b[0m\u001b[0;34m\u001b[0m\u001b[0;34m\u001b[0m\u001b[0m\n\u001b[0m\u001b[1;32m     21\u001b[0m         \u001b[0;32mreturn\u001b[0m \u001b[0mnary_f\u001b[0m\u001b[0;34m\u001b[0m\u001b[0;34m\u001b[0m\u001b[0m\n\u001b[1;32m     22\u001b[0m     \u001b[0;32mreturn\u001b[0m \u001b[0mnary_operator\u001b[0m\u001b[0;34m\u001b[0m\u001b[0;34m\u001b[0m\u001b[0m\n",
      "\u001b[0;32m~/opt/anaconda3/lib/python3.9/site-packages/autograd/differential_operators.py\u001b[0m in \u001b[0;36mgrad\u001b[0;34m(fun, x)\u001b[0m\n\u001b[1;32m     26\u001b[0m     \u001b[0marguments\u001b[0m \u001b[0;32mas\u001b[0m\u001b[0;31m \u001b[0m\u001b[0;31m`\u001b[0m\u001b[0mfun\u001b[0m\u001b[0;31m`\u001b[0m\u001b[0;34m,\u001b[0m \u001b[0mbut\u001b[0m \u001b[0mreturns\u001b[0m \u001b[0mthe\u001b[0m \u001b[0mgradient\u001b[0m \u001b[0minstead\u001b[0m\u001b[0;34m.\u001b[0m \u001b[0mThe\u001b[0m \u001b[0mfunction\u001b[0m\u001b[0;31m \u001b[0m\u001b[0;31m`\u001b[0m\u001b[0mfun\u001b[0m\u001b[0;31m`\u001b[0m\u001b[0;34m\u001b[0m\u001b[0;34m\u001b[0m\u001b[0m\n\u001b[1;32m     27\u001b[0m     should be scalar-valued. The gradient has the same type as the argument.\"\"\"\n\u001b[0;32m---> 28\u001b[0;31m     \u001b[0mvjp\u001b[0m\u001b[0;34m,\u001b[0m \u001b[0mans\u001b[0m \u001b[0;34m=\u001b[0m \u001b[0m_make_vjp\u001b[0m\u001b[0;34m(\u001b[0m\u001b[0mfun\u001b[0m\u001b[0;34m,\u001b[0m \u001b[0mx\u001b[0m\u001b[0;34m)\u001b[0m\u001b[0;34m\u001b[0m\u001b[0;34m\u001b[0m\u001b[0m\n\u001b[0m\u001b[1;32m     29\u001b[0m     \u001b[0;32mif\u001b[0m \u001b[0;32mnot\u001b[0m \u001b[0mvspace\u001b[0m\u001b[0;34m(\u001b[0m\u001b[0mans\u001b[0m\u001b[0;34m)\u001b[0m\u001b[0;34m.\u001b[0m\u001b[0msize\u001b[0m \u001b[0;34m==\u001b[0m \u001b[0;36m1\u001b[0m\u001b[0;34m:\u001b[0m\u001b[0;34m\u001b[0m\u001b[0;34m\u001b[0m\u001b[0m\n\u001b[1;32m     30\u001b[0m         raise TypeError(\"Grad only applies to real scalar-output functions. \"\n",
      "\u001b[0;32m~/opt/anaconda3/lib/python3.9/site-packages/autograd/core.py\u001b[0m in \u001b[0;36mmake_vjp\u001b[0;34m(fun, x)\u001b[0m\n\u001b[1;32m      8\u001b[0m \u001b[0;32mdef\u001b[0m \u001b[0mmake_vjp\u001b[0m\u001b[0;34m(\u001b[0m\u001b[0mfun\u001b[0m\u001b[0;34m,\u001b[0m \u001b[0mx\u001b[0m\u001b[0;34m)\u001b[0m\u001b[0;34m:\u001b[0m\u001b[0;34m\u001b[0m\u001b[0;34m\u001b[0m\u001b[0m\n\u001b[1;32m      9\u001b[0m     \u001b[0mstart_node\u001b[0m \u001b[0;34m=\u001b[0m \u001b[0mVJPNode\u001b[0m\u001b[0;34m.\u001b[0m\u001b[0mnew_root\u001b[0m\u001b[0;34m(\u001b[0m\u001b[0;34m)\u001b[0m\u001b[0;34m\u001b[0m\u001b[0;34m\u001b[0m\u001b[0m\n\u001b[0;32m---> 10\u001b[0;31m     \u001b[0mend_value\u001b[0m\u001b[0;34m,\u001b[0m \u001b[0mend_node\u001b[0m \u001b[0;34m=\u001b[0m  \u001b[0mtrace\u001b[0m\u001b[0;34m(\u001b[0m\u001b[0mstart_node\u001b[0m\u001b[0;34m,\u001b[0m \u001b[0mfun\u001b[0m\u001b[0;34m,\u001b[0m \u001b[0mx\u001b[0m\u001b[0;34m)\u001b[0m\u001b[0;34m\u001b[0m\u001b[0;34m\u001b[0m\u001b[0m\n\u001b[0m\u001b[1;32m     11\u001b[0m     \u001b[0;32mif\u001b[0m \u001b[0mend_node\u001b[0m \u001b[0;32mis\u001b[0m \u001b[0;32mNone\u001b[0m\u001b[0;34m:\u001b[0m\u001b[0;34m\u001b[0m\u001b[0;34m\u001b[0m\u001b[0m\n\u001b[1;32m     12\u001b[0m         \u001b[0;32mdef\u001b[0m \u001b[0mvjp\u001b[0m\u001b[0;34m(\u001b[0m\u001b[0mg\u001b[0m\u001b[0;34m)\u001b[0m\u001b[0;34m:\u001b[0m \u001b[0;32mreturn\u001b[0m \u001b[0mvspace\u001b[0m\u001b[0;34m(\u001b[0m\u001b[0mx\u001b[0m\u001b[0;34m)\u001b[0m\u001b[0;34m.\u001b[0m\u001b[0mzeros\u001b[0m\u001b[0;34m(\u001b[0m\u001b[0;34m)\u001b[0m\u001b[0;34m\u001b[0m\u001b[0;34m\u001b[0m\u001b[0m\n",
      "\u001b[0;32m~/opt/anaconda3/lib/python3.9/site-packages/autograd/tracer.py\u001b[0m in \u001b[0;36mtrace\u001b[0;34m(start_node, fun, x)\u001b[0m\n\u001b[1;32m      8\u001b[0m     \u001b[0;32mwith\u001b[0m \u001b[0mtrace_stack\u001b[0m\u001b[0;34m.\u001b[0m\u001b[0mnew_trace\u001b[0m\u001b[0;34m(\u001b[0m\u001b[0;34m)\u001b[0m \u001b[0;32mas\u001b[0m \u001b[0mt\u001b[0m\u001b[0;34m:\u001b[0m\u001b[0;34m\u001b[0m\u001b[0;34m\u001b[0m\u001b[0m\n\u001b[1;32m      9\u001b[0m         \u001b[0mstart_box\u001b[0m \u001b[0;34m=\u001b[0m \u001b[0mnew_box\u001b[0m\u001b[0;34m(\u001b[0m\u001b[0mx\u001b[0m\u001b[0;34m,\u001b[0m \u001b[0mt\u001b[0m\u001b[0;34m,\u001b[0m \u001b[0mstart_node\u001b[0m\u001b[0;34m)\u001b[0m\u001b[0;34m\u001b[0m\u001b[0;34m\u001b[0m\u001b[0m\n\u001b[0;32m---> 10\u001b[0;31m         \u001b[0mend_box\u001b[0m \u001b[0;34m=\u001b[0m \u001b[0mfun\u001b[0m\u001b[0;34m(\u001b[0m\u001b[0mstart_box\u001b[0m\u001b[0;34m)\u001b[0m\u001b[0;34m\u001b[0m\u001b[0;34m\u001b[0m\u001b[0m\n\u001b[0m\u001b[1;32m     11\u001b[0m         \u001b[0;32mif\u001b[0m \u001b[0misbox\u001b[0m\u001b[0;34m(\u001b[0m\u001b[0mend_box\u001b[0m\u001b[0;34m)\u001b[0m \u001b[0;32mand\u001b[0m \u001b[0mend_box\u001b[0m\u001b[0;34m.\u001b[0m\u001b[0m_trace\u001b[0m \u001b[0;34m==\u001b[0m \u001b[0mstart_box\u001b[0m\u001b[0;34m.\u001b[0m\u001b[0m_trace\u001b[0m\u001b[0;34m:\u001b[0m\u001b[0;34m\u001b[0m\u001b[0;34m\u001b[0m\u001b[0m\n\u001b[1;32m     12\u001b[0m             \u001b[0;32mreturn\u001b[0m \u001b[0mend_box\u001b[0m\u001b[0;34m.\u001b[0m\u001b[0m_value\u001b[0m\u001b[0;34m,\u001b[0m \u001b[0mend_box\u001b[0m\u001b[0;34m.\u001b[0m\u001b[0m_node\u001b[0m\u001b[0;34m\u001b[0m\u001b[0;34m\u001b[0m\u001b[0m\n",
      "\u001b[0;32m~/opt/anaconda3/lib/python3.9/site-packages/autograd/wrap_util.py\u001b[0m in \u001b[0;36munary_f\u001b[0;34m(x)\u001b[0m\n\u001b[1;32m     13\u001b[0m                 \u001b[0;32melse\u001b[0m\u001b[0;34m:\u001b[0m\u001b[0;34m\u001b[0m\u001b[0;34m\u001b[0m\u001b[0m\n\u001b[1;32m     14\u001b[0m                     \u001b[0msubargs\u001b[0m \u001b[0;34m=\u001b[0m \u001b[0msubvals\u001b[0m\u001b[0;34m(\u001b[0m\u001b[0margs\u001b[0m\u001b[0;34m,\u001b[0m \u001b[0mzip\u001b[0m\u001b[0;34m(\u001b[0m\u001b[0margnum\u001b[0m\u001b[0;34m,\u001b[0m \u001b[0mx\u001b[0m\u001b[0;34m)\u001b[0m\u001b[0;34m)\u001b[0m\u001b[0;34m\u001b[0m\u001b[0;34m\u001b[0m\u001b[0m\n\u001b[0;32m---> 15\u001b[0;31m                 \u001b[0;32mreturn\u001b[0m \u001b[0mfun\u001b[0m\u001b[0;34m(\u001b[0m\u001b[0;34m*\u001b[0m\u001b[0msubargs\u001b[0m\u001b[0;34m,\u001b[0m \u001b[0;34m**\u001b[0m\u001b[0mkwargs\u001b[0m\u001b[0;34m)\u001b[0m\u001b[0;34m\u001b[0m\u001b[0;34m\u001b[0m\u001b[0m\n\u001b[0m\u001b[1;32m     16\u001b[0m             \u001b[0;32mif\u001b[0m \u001b[0misinstance\u001b[0m\u001b[0;34m(\u001b[0m\u001b[0margnum\u001b[0m\u001b[0;34m,\u001b[0m \u001b[0mint\u001b[0m\u001b[0;34m)\u001b[0m\u001b[0;34m:\u001b[0m\u001b[0;34m\u001b[0m\u001b[0;34m\u001b[0m\u001b[0m\n\u001b[1;32m     17\u001b[0m                 \u001b[0mx\u001b[0m \u001b[0;34m=\u001b[0m \u001b[0margs\u001b[0m\u001b[0;34m[\u001b[0m\u001b[0margnum\u001b[0m\u001b[0;34m]\u001b[0m\u001b[0;34m\u001b[0m\u001b[0;34m\u001b[0m\u001b[0m\n",
      "\u001b[0;32m/var/folders/6j/fcfm9_6n3rg0rg4_4flv5ks00000gq/T/ipykernel_59888/1993203623.py\u001b[0m in \u001b[0;36mforward_model_cost\u001b[0;34m(V0, m, h, n, I_params, dt, t, data_steps, V_data)\u001b[0m\n\u001b[1;32m     20\u001b[0m         \u001b[0mm\u001b[0m \u001b[0;34m+=\u001b[0m \u001b[0mdmdt\u001b[0m \u001b[0;34m*\u001b[0m \u001b[0mdt\u001b[0m\u001b[0;34m\u001b[0m\u001b[0;34m\u001b[0m\u001b[0m\n\u001b[1;32m     21\u001b[0m         \u001b[0mh\u001b[0m \u001b[0;34m+=\u001b[0m \u001b[0mdhdt\u001b[0m \u001b[0;34m*\u001b[0m \u001b[0mdt\u001b[0m\u001b[0;34m\u001b[0m\u001b[0;34m\u001b[0m\u001b[0m\n\u001b[0;32m---> 22\u001b[0;31m         \u001b[0mn\u001b[0m \u001b[0;34m+=\u001b[0m \u001b[0mdndt\u001b[0m \u001b[0;34m*\u001b[0m \u001b[0mdt\u001b[0m\u001b[0;34m\u001b[0m\u001b[0;34m\u001b[0m\u001b[0m\n\u001b[0m\u001b[1;32m     23\u001b[0m \u001b[0;34m\u001b[0m\u001b[0m\n\u001b[1;32m     24\u001b[0m         \u001b[0;31m# compute model-data misfit\u001b[0m\u001b[0;34m\u001b[0m\u001b[0;34m\u001b[0m\u001b[0m\n",
      "\u001b[0;32m~/opt/anaconda3/lib/python3.9/site-packages/autograd/numpy/numpy_boxes.py\u001b[0m in \u001b[0;36m__mul__\u001b[0;34m(self, other)\u001b[0m\n\u001b[1;32m     25\u001b[0m     \u001b[0;32mdef\u001b[0m \u001b[0m__add__\u001b[0m\u001b[0;34m(\u001b[0m\u001b[0mself\u001b[0m\u001b[0;34m,\u001b[0m \u001b[0mother\u001b[0m\u001b[0;34m)\u001b[0m\u001b[0;34m:\u001b[0m \u001b[0;32mreturn\u001b[0m \u001b[0manp\u001b[0m\u001b[0;34m.\u001b[0m\u001b[0madd\u001b[0m\u001b[0;34m(\u001b[0m     \u001b[0mself\u001b[0m\u001b[0;34m,\u001b[0m \u001b[0mother\u001b[0m\u001b[0;34m)\u001b[0m\u001b[0;34m\u001b[0m\u001b[0;34m\u001b[0m\u001b[0m\n\u001b[1;32m     26\u001b[0m     \u001b[0;32mdef\u001b[0m \u001b[0m__sub__\u001b[0m\u001b[0;34m(\u001b[0m\u001b[0mself\u001b[0m\u001b[0;34m,\u001b[0m \u001b[0mother\u001b[0m\u001b[0;34m)\u001b[0m\u001b[0;34m:\u001b[0m \u001b[0;32mreturn\u001b[0m \u001b[0manp\u001b[0m\u001b[0;34m.\u001b[0m\u001b[0msubtract\u001b[0m\u001b[0;34m(\u001b[0m\u001b[0mself\u001b[0m\u001b[0;34m,\u001b[0m \u001b[0mother\u001b[0m\u001b[0;34m)\u001b[0m\u001b[0;34m\u001b[0m\u001b[0;34m\u001b[0m\u001b[0m\n\u001b[0;32m---> 27\u001b[0;31m     \u001b[0;32mdef\u001b[0m \u001b[0m__mul__\u001b[0m\u001b[0;34m(\u001b[0m\u001b[0mself\u001b[0m\u001b[0;34m,\u001b[0m \u001b[0mother\u001b[0m\u001b[0;34m)\u001b[0m\u001b[0;34m:\u001b[0m \u001b[0;32mreturn\u001b[0m \u001b[0manp\u001b[0m\u001b[0;34m.\u001b[0m\u001b[0mmultiply\u001b[0m\u001b[0;34m(\u001b[0m\u001b[0mself\u001b[0m\u001b[0;34m,\u001b[0m \u001b[0mother\u001b[0m\u001b[0;34m)\u001b[0m\u001b[0;34m\u001b[0m\u001b[0;34m\u001b[0m\u001b[0m\n\u001b[0m\u001b[1;32m     28\u001b[0m     \u001b[0;32mdef\u001b[0m \u001b[0m__pow__\u001b[0m\u001b[0;34m(\u001b[0m\u001b[0mself\u001b[0m\u001b[0;34m,\u001b[0m \u001b[0mother\u001b[0m\u001b[0;34m)\u001b[0m\u001b[0;34m:\u001b[0m \u001b[0;32mreturn\u001b[0m \u001b[0manp\u001b[0m\u001b[0;34m.\u001b[0m\u001b[0mpower\u001b[0m   \u001b[0;34m(\u001b[0m\u001b[0mself\u001b[0m\u001b[0;34m,\u001b[0m \u001b[0mother\u001b[0m\u001b[0;34m)\u001b[0m\u001b[0;34m\u001b[0m\u001b[0;34m\u001b[0m\u001b[0m\n\u001b[1;32m     29\u001b[0m     \u001b[0;32mdef\u001b[0m \u001b[0m__div__\u001b[0m\u001b[0;34m(\u001b[0m\u001b[0mself\u001b[0m\u001b[0;34m,\u001b[0m \u001b[0mother\u001b[0m\u001b[0;34m)\u001b[0m\u001b[0;34m:\u001b[0m \u001b[0;32mreturn\u001b[0m \u001b[0manp\u001b[0m\u001b[0;34m.\u001b[0m\u001b[0mdivide\u001b[0m\u001b[0;34m(\u001b[0m  \u001b[0mself\u001b[0m\u001b[0;34m,\u001b[0m \u001b[0mother\u001b[0m\u001b[0;34m)\u001b[0m\u001b[0;34m\u001b[0m\u001b[0;34m\u001b[0m\u001b[0m\n",
      "\u001b[0;32m~/opt/anaconda3/lib/python3.9/site-packages/autograd/tracer.py\u001b[0m in \u001b[0;36mf_wrapped\u001b[0;34m(*args, **kwargs)\u001b[0m\n\u001b[1;32m     42\u001b[0m             \u001b[0mparents\u001b[0m \u001b[0;34m=\u001b[0m \u001b[0mtuple\u001b[0m\u001b[0;34m(\u001b[0m\u001b[0mbox\u001b[0m\u001b[0;34m.\u001b[0m\u001b[0m_node\u001b[0m \u001b[0;32mfor\u001b[0m \u001b[0m_\u001b[0m     \u001b[0;34m,\u001b[0m \u001b[0mbox\u001b[0m \u001b[0;32min\u001b[0m \u001b[0mboxed_args\u001b[0m\u001b[0;34m)\u001b[0m\u001b[0;34m\u001b[0m\u001b[0;34m\u001b[0m\u001b[0m\n\u001b[1;32m     43\u001b[0m             \u001b[0margnums\u001b[0m \u001b[0;34m=\u001b[0m \u001b[0mtuple\u001b[0m\u001b[0;34m(\u001b[0m\u001b[0margnum\u001b[0m    \u001b[0;32mfor\u001b[0m \u001b[0margnum\u001b[0m\u001b[0;34m,\u001b[0m \u001b[0m_\u001b[0m   \u001b[0;32min\u001b[0m \u001b[0mboxed_args\u001b[0m\u001b[0;34m)\u001b[0m\u001b[0;34m\u001b[0m\u001b[0;34m\u001b[0m\u001b[0m\n\u001b[0;32m---> 44\u001b[0;31m             \u001b[0mans\u001b[0m \u001b[0;34m=\u001b[0m \u001b[0mf_wrapped\u001b[0m\u001b[0;34m(\u001b[0m\u001b[0;34m*\u001b[0m\u001b[0margvals\u001b[0m\u001b[0;34m,\u001b[0m \u001b[0;34m**\u001b[0m\u001b[0mkwargs\u001b[0m\u001b[0;34m)\u001b[0m\u001b[0;34m\u001b[0m\u001b[0;34m\u001b[0m\u001b[0m\n\u001b[0m\u001b[1;32m     45\u001b[0m             \u001b[0mnode\u001b[0m \u001b[0;34m=\u001b[0m \u001b[0mnode_constructor\u001b[0m\u001b[0;34m(\u001b[0m\u001b[0mans\u001b[0m\u001b[0;34m,\u001b[0m \u001b[0mf_wrapped\u001b[0m\u001b[0;34m,\u001b[0m \u001b[0margvals\u001b[0m\u001b[0;34m,\u001b[0m \u001b[0mkwargs\u001b[0m\u001b[0;34m,\u001b[0m \u001b[0margnums\u001b[0m\u001b[0;34m,\u001b[0m \u001b[0mparents\u001b[0m\u001b[0;34m)\u001b[0m\u001b[0;34m\u001b[0m\u001b[0;34m\u001b[0m\u001b[0m\n\u001b[1;32m     46\u001b[0m             \u001b[0;32mreturn\u001b[0m \u001b[0mnew_box\u001b[0m\u001b[0;34m(\u001b[0m\u001b[0mans\u001b[0m\u001b[0;34m,\u001b[0m \u001b[0mtrace\u001b[0m\u001b[0;34m,\u001b[0m \u001b[0mnode\u001b[0m\u001b[0;34m)\u001b[0m\u001b[0;34m\u001b[0m\u001b[0;34m\u001b[0m\u001b[0m\n",
      "\u001b[0;32m~/opt/anaconda3/lib/python3.9/site-packages/autograd/tracer.py\u001b[0m in \u001b[0;36mf_wrapped\u001b[0;34m(*args, **kwargs)\u001b[0m\n\u001b[1;32m     46\u001b[0m             \u001b[0;32mreturn\u001b[0m \u001b[0mnew_box\u001b[0m\u001b[0;34m(\u001b[0m\u001b[0mans\u001b[0m\u001b[0;34m,\u001b[0m \u001b[0mtrace\u001b[0m\u001b[0;34m,\u001b[0m \u001b[0mnode\u001b[0m\u001b[0;34m)\u001b[0m\u001b[0;34m\u001b[0m\u001b[0;34m\u001b[0m\u001b[0m\n\u001b[1;32m     47\u001b[0m         \u001b[0;32melse\u001b[0m\u001b[0;34m:\u001b[0m\u001b[0;34m\u001b[0m\u001b[0;34m\u001b[0m\u001b[0m\n\u001b[0;32m---> 48\u001b[0;31m             \u001b[0;32mreturn\u001b[0m \u001b[0mf_raw\u001b[0m\u001b[0;34m(\u001b[0m\u001b[0;34m*\u001b[0m\u001b[0margs\u001b[0m\u001b[0;34m,\u001b[0m \u001b[0;34m**\u001b[0m\u001b[0mkwargs\u001b[0m\u001b[0;34m)\u001b[0m\u001b[0;34m\u001b[0m\u001b[0;34m\u001b[0m\u001b[0m\n\u001b[0m\u001b[1;32m     49\u001b[0m     \u001b[0mf_wrapped\u001b[0m\u001b[0;34m.\u001b[0m\u001b[0mfun\u001b[0m \u001b[0;34m=\u001b[0m \u001b[0mf_raw\u001b[0m\u001b[0;34m\u001b[0m\u001b[0;34m\u001b[0m\u001b[0m\n\u001b[1;32m     50\u001b[0m     \u001b[0mf_wrapped\u001b[0m\u001b[0;34m.\u001b[0m\u001b[0m_is_autograd_primitive\u001b[0m \u001b[0;34m=\u001b[0m \u001b[0;32mTrue\u001b[0m\u001b[0;34m\u001b[0m\u001b[0;34m\u001b[0m\u001b[0m\n",
      "\u001b[0;31mKeyboardInterrupt\u001b[0m: "
     ]
    }
   ],
   "source": [
    "# Steepdest Descent\n",
    "\n",
    "from scipy import optimize\n",
    "\n",
    "L_func = lambda A: forward_model_cost(V, m, h, n, np.array([A, w]), dt, t, data_steps, V_data)\n",
    "g_func = lambda A: grad_AD(V, m, h, n, np.array([A, w]), dt, t, data_steps, V_data)[0]\n",
    "#j_func = lambda V: jac_AD(V, m, h, n, I_stimulus, dt, t, data_steps, V_data)\n",
    "\n",
    "L0 = L_func(A)\n",
    "g0 = g_func(A)\n",
    "norm_g0 = np.linalg.norm(g0)\n",
    "\n",
    "LL_sd = list()\n",
    "LL_sd.append(L0) # Keep appending the value of J to this list each iteration\n",
    "\n",
    "gradnorms_sd = list()\n",
    "gradnorms_sd.append(norm_g0) # keep appending the value of ||g|| each iteration\n",
    "\n",
    "\n",
    "\n",
    "# Solve optimization problem using method of steepest descent. \n",
    "\n",
    "Ak = A\n",
    "#Ak = 10.0\n",
    "norm_gk = norm_g0\n",
    "\n",
    "while norm_gk >= 1e-6 * norm_g0:\n",
    "    \n",
    "    #bk = optimize.line_search(L_func, g_func, Ak, -g_func(Ak))[0]\n",
    "    bk = 1e-4\n",
    "    print(Ak)\n",
    "    print(bk)\n",
    "    print(g_func(Ak))\n",
    "    \n",
    "    Ak = Ak - bk * g_func(Ak)\n",
    "    g_k = g_func(Ak)\n",
    "    norm_gk = np.linalg.norm(g_k)\n",
    "    \n",
    "    print(Ak)\n",
    "    print(bk)\n",
    "    print(g_func(Ak))\n",
    "    \n",
    "    LL_sd.append(L_func(Ak))\n",
    "    gradnorms_sd.append(norm_gk)\n",
    "\n",
    "\n",
    "    \n",
    "# Now the solution should be in the variable u\n",
    "# and LL_sd should be a list, with LL[k] = L(V_k)\n",
    "\n",
    "LL_sd = np.array(LL_sd) # Make JJ_sd into array instead of list\n",
    "gradnorms_sd = np.array(gradnorms_sd)\n",
    "#jacnorms_sd = np.array(jacnorms_sd)\n",
    "\n",
    "\n",
    "\n",
    "\n",
    "# L_func = lambda w: forward_model_cost(V, m, h, n, np.array([A, w]), dt, t, data_steps, V_data)\n",
    "# g_func = lambda w: grad_AD(V, m, h, n, np.array([A, w]), dt, t, data_steps, V_data)[1]\n",
    "\n",
    "# L0 = L_func(w)\n",
    "# g0 = g_func(w)\n",
    "# norm_g0 = np.linalg.norm(g0)\n",
    "\n",
    "# LL_sd = list()\n",
    "# LL_sd.append(L0) # Keep appending the value of J to this list each iteration\n",
    "\n",
    "# gradnorms_sd = list()\n",
    "# gradnorms_sd.append(norm_g0) # keep appending the value of ||g|| each iteration\n",
    "\n",
    "\n",
    "\n",
    "# # Solve optimization problem using method of steepest descent. \n",
    "\n",
    "# #Ak = A\n",
    "# wk = w\n",
    "# norm_gk = norm_g0\n",
    "# count = 0\n",
    "\n",
    "# while norm_gk >= 1e-6 * norm_g0:\n",
    "    \n",
    "#     bk = optimize.line_search(L_func, g_func, wk, -g_func(wk))[0]\n",
    "    \n",
    "#     wk = wk - bk * g_func(wk)\n",
    "#     g_k = g_func(wk)\n",
    "#     norm_gk = np.linalg.norm(g_k)\n",
    "    \n",
    "#     LL_sd.append(L_func(wk))\n",
    "#     gradnorms_sd.append(norm_gk)\n",
    "#     count += 1\n",
    "\n",
    "\n",
    "    \n",
    "# # Now the solution should be in the variable u\n",
    "# # and LL_sd should be a list, with LL[k] = L(V_k)\n",
    "\n",
    "# LL_sd = np.array(LL_sd) # Make JJ_sd into array instead of list\n",
    "# gradnorms_sd = np.array(gradnorms_sd)\n",
    "# #jacnorms_sd = np.array(jacnorms_sd)\n",
    "\n",
    "\n"
   ]
  },
  {
   "cell_type": "code",
   "execution_count": 68,
   "id": "f652791e",
   "metadata": {},
   "outputs": [
    {
     "data": {
      "text/plain": [
       "(1.0, array([21793.44283367,            nan]), 1024.0, nan, -22316481.17267895)"
      ]
     },
     "execution_count": 68,
     "metadata": {},
     "output_type": "execute_result"
    }
   ],
   "source": [
    "wk, gradnorms_sd, bk, g_func(Ak), Ak\n",
    "\n",
    "#wk - bk * g_func(wk)\n",
    "\n",
    "# L0, g0, norm_g0\n",
    "# count\n"
   ]
  },
  {
   "cell_type": "code",
   "execution_count": null,
   "id": "3f60f0ff",
   "metadata": {},
   "outputs": [],
   "source": [
    "#grad_AD(V, m, h, n, np.array([10.0, w]), dt, t, data_steps, V_data)[0]\n",
    "temp = integrate_HH(V0, m, h, n, np.array([10.0, w]), dt, t)\n",
    "plt.plot(temp)"
   ]
  },
  {
   "cell_type": "code",
   "execution_count": null,
   "id": "48cd05a2",
   "metadata": {},
   "outputs": [],
   "source": [
    "norm_g = np.linalg.norm(g_func(Ak))\n",
    "print('||g(u)|| / ||g(u_0)||=', norm_g / norm_g0) # should be less than 1e-6\n",
    "\n",
    "#u_including_endpoints = np.concatenate([[0], uk, [0]])\n",
    "\n",
    "V_final = integrate_HH(V0, m, h, n, np.array([Ak, w]), dt, t)\n",
    "\n",
    "plt.figure()\n",
    "plt.plot(V_final)\n",
    "plt.title('V (steepest descent)')\n",
    "plt.xlabel('time')\n",
    "plt.ylabel('V')"
   ]
  },
  {
   "cell_type": "code",
   "execution_count": null,
   "id": "78a3cdc9",
   "metadata": {},
   "outputs": [],
   "source": []
  }
 ],
 "metadata": {
  "kernelspec": {
   "display_name": "Python 3 (ipykernel)",
   "language": "python",
   "name": "python3"
  },
  "language_info": {
   "codemirror_mode": {
    "name": "ipython",
    "version": 3
   },
   "file_extension": ".py",
   "mimetype": "text/x-python",
   "name": "python",
   "nbconvert_exporter": "python",
   "pygments_lexer": "ipython3",
   "version": "3.9.7"
  }
 },
 "nbformat": 4,
 "nbformat_minor": 5
}
