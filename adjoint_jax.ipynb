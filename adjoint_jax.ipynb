{
 "cells": [
  {
   "cell_type": "code",
   "execution_count": null,
   "id": "ae07cdb5-9b8c-4260-8a2d-f3c05102a19b",
   "metadata": {
    "tags": []
   },
   "outputs": [],
   "source": [
    "pip install torch"
   ]
  },
  {
   "cell_type": "code",
   "execution_count": null,
   "id": "1999eb56-a36d-4645-abe8-757a06121fc3",
   "metadata": {
    "tags": []
   },
   "outputs": [],
   "source": [
    "pip install torchdiffeq"
   ]
  },
  {
   "cell_type": "code",
   "execution_count": 103,
   "id": "e8b9fbfb-5cc5-40a9-aa1b-9dc840597157",
   "metadata": {},
   "outputs": [],
   "source": [
    "#import numpy as np\n",
    "from scipy.integrate import solve_ivp\n",
    "import matplotlib.pyplot as plt\n",
    "\n",
    "import jax\n",
    "import jax.numpy as jnp\n",
    "#import torch\n",
    "#from torchdiffeq import odeint"
   ]
  },
  {
   "cell_type": "code",
   "execution_count": 126,
   "id": "2cbc8aea-34bb-4822-a005-230f828abc48",
   "metadata": {
    "tags": []
   },
   "outputs": [],
   "source": [
    "jax.config.update(\"jax_enable_x64\", True)\n",
    "\n",
    "# Define HH model parameters\n",
    "g_Na = 120.0  # Sodium conductance (mS/cm^2)\n",
    "g_K = 36.0   # Potassium conductance (mS/cm^2)\n",
    "g_L = 0.3    # Leak conductance (mS/cm^2)\n",
    "E_Na = 50.0  # Sodium reversal potential (mV)\n",
    "E_K = -77.0  # Potassium reversal potential (mV)\n",
    "E_L = -55.0  # Leak reversal potential (mV)\n",
    "C_m = 1.0    # Membrane capacitance (uF/cm^2)\n",
    "\n",
    "# Define the HH model equations\n",
    "def alpha_m(V):\n",
    "    return 0.1 * (V + 40.0) / (1.0 - jnp.exp(-(V + 40.0) / 10.0))\n",
    "\n",
    "def beta_m(V):\n",
    "    return 4.0 * jnp.exp(-(V + 65.0) / 18.0)\n",
    "\n",
    "def alpha_h(V):\n",
    "    return 0.07 * jnp.exp(-(V + 65.0) / 20.0)\n",
    "\n",
    "def beta_h(V):\n",
    "    return 1.0 / (1.0 + jnp.exp(-(V + 35.0) / 10.0))\n",
    "\n",
    "def alpha_n(V):\n",
    "    return 0.01 * (V + 55.0) / (1.0 - jnp.exp(-(V + 55.0) / 10.0))\n",
    "\n",
    "def beta_n(V):\n",
    "    return 0.125 * jnp.exp(-(V + 65) / 80.0)\n",
    "\n",
    "# Define the HH model differential equations\n",
    "def hodgkin_huxley_eq(V, m, h, n, A, w, t):\n",
    "    I = A*np.sin(w*t)\n",
    "    dVdt = (I - g_Na * m**3 * h * (V - E_Na) - g_K * n**4 * (V - E_K) - g_L * (V - E_L)) / C_m\n",
    "    dmdt = alpha_m(V) * (1 - m) - beta_m(V) * m\n",
    "    dhdt = alpha_h(V) * (1 - h) - beta_h(V) * h\n",
    "    dndt = alpha_n(V) * (1 - n) - beta_n(V) * n\n",
    "    return dVdt, dmdt, dhdt, dndt\n",
    "\n",
    "# Define time parameters\n",
    "dt = 0.01  # Time step (ms)\n",
    "t = jnp.arange(0, 50, dt)  # Time vector (ms)\n",
    "\n",
    "# Define input stimulus waveform (e.g., a step current)\n",
    "I_stimulus = jnp.zeros_like(t)\n",
    "#I_stimulus[100:500] = 10.0  # Apply a current step from 100 ms to 500 ms\n",
    "I_stimulus = I_stimulus.at[100:500].set(10.0)\n",
    "\n",
    "# Initialize state variables\n",
    "V0 = -65.0  # Membrane voltage (mV)\n",
    "m, h, n = 0.05, 0.6, 0.32  # Initial values of gating variables\n",
    "\n",
    "# Simulate the HH model and record data\n",
    "#V_record = []\n",
    "V_record = jnp.zeros_like(t)\n",
    "V = V0\n",
    "\n",
    "A = 10.0\n",
    "w = 0.5\n",
    "\n",
    "I_params = np.array([A, w])\n",
    "\n",
    "#for time in t:\n",
    "for i in range(len(t)):\n",
    "    V_record = V_record.at[i].set(V)\n",
    "    dVdt, dmdt, dhdt, dndt = hodgkin_huxley_eq(V, m, h, n, A, w, time)\n",
    "    V += dVdt * dt\n",
    "    m += dmdt * dt\n",
    "    h += dhdt * dt\n",
    "    n += dndt * dt\n",
    "    \n",
    "\n"
   ]
  },
  {
   "cell_type": "code",
   "execution_count": 127,
   "id": "c0f15412",
   "metadata": {},
   "outputs": [],
   "source": [
    "def integrate_HH(V0, m, h, n, A, w, dt, t):\n",
    "    V_record = jnp.zeros_like(t)\n",
    "    V = V0\n",
    "    for i in range(len(t)):\n",
    "        V_record = V_record.at[i].set(V)\n",
    "        dVdt, dmdt, dhdt, dndt = hodgkin_huxley_eq(V, m, h, n, A, w, t[i])\n",
    "        V += dVdt * dt\n",
    "        m += dmdt * dt\n",
    "        h += dhdt * dt\n",
    "        n += dndt * dt\n",
    "    return V_record\n",
    "\n",
    "\n",
    "    "
   ]
  },
  {
   "cell_type": "code",
   "execution_count": 128,
   "id": "7857b4d2",
   "metadata": {},
   "outputs": [
    {
     "data": {
      "text/plain": [
       "Text(0.5, 0, 'time')"
      ]
     },
     "execution_count": 128,
     "metadata": {},
     "output_type": "execute_result"
    },
    {
     "data": {
      "image/png": "[encoded data removed]",
      "text/plain": [
       "<Figure size 432x288 with 1 Axes>"
      ]
     },
     "metadata": {
      "needs_background": "light"
     },
     "output_type": "display_data"
    }
   ],
   "source": [
    "I_params = np.array([A, w])\n",
    "V_record = integrate_HH(V0, m, h, n, A, w, dt, t)\n",
    "\n",
    "I_stimulus = A*np.sin(w*t)\n",
    "\n",
    "plt.plot(t, V_record, label = 'V')\n",
    "plt.plot(t, I_stimulus, label = 'I')\n",
    "plt.xlabel('time')\n"
   ]
  },
  {
   "cell_type": "code",
   "execution_count": 90,
   "id": "6ddde20c-6037-4df9-90f4-83aee164da92",
   "metadata": {
    "tags": []
   },
   "outputs": [],
   "source": [
    "\n",
    "\n",
    "def hodgkin_huxley_neural_ode(t, z, I_stimulus):\n",
    "    V, m, h, n = z\n",
    "    dVdt, dmdt, dhdt, dndt = hodgkin_huxley_eq(V, m, h, n, I_stimulus)\n",
    "    return [dVdt, dmdt, dhdt, dndt]\n",
    "\n",
    "# Create a function to solve the neural ODE\n",
    "def solve_neural_ode(I_stimulus, t_span):\n",
    "    z0 = [-65.0, 0.05, 0.6, 0.32]  # Initial conditions for V, m, h, n\n",
    "    return odeint(hodgkin_huxley_neural_ode, torch.tensor(z0), t_span, args=(I_stimulus,))\n"
   ]
  },
  {
   "cell_type": "code",
   "execution_count": null,
   "id": "1763c02e-5afc-465a-af2f-2d45b1662bbe",
   "metadata": {},
   "outputs": [],
   "source": []
  },
  {
   "cell_type": "markdown",
   "id": "072fe10c",
   "metadata": {},
   "source": [
    "## Adjoint"
   ]
  },
  {
   "cell_type": "code",
   "execution_count": 6,
   "id": "5f3922a5",
   "metadata": {},
   "outputs": [],
   "source": [
    "# #np.load('./sim_data/t_vec.p', allow_pickle = True)\n",
    "# import pickle\n",
    "\n",
    "# import neuron.hoc39\n",
    "# #from neuron import h, gui\n",
    "# t_file = './sim_data/t_vec.p'\n",
    "\n",
    "\n",
    "# with open(t_file, mode='rb') as f:\n",
    "#     t_data = pickle.load(f)\n"
   ]
  },
  {
   "cell_type": "markdown",
   "id": "f64921d2",
   "metadata": {},
   "source": [
    "#### Fake Data"
   ]
  },
  {
   "cell_type": "code",
   "execution_count": 129,
   "id": "6a8d50cb",
   "metadata": {},
   "outputs": [],
   "source": [
    "# run forward model to create fake data to test adjoint\n",
    "\n",
    "from jax import random\n",
    "\n",
    "# Initialize state variables\n",
    "V0 = -65.0  # Membrane voltage (mV)\n",
    "m, h, n = 0.05, 0.6, 0.32  # Initial values of gating variables\n",
    "\n",
    "V_subsamp = V_record[::10]\n",
    "    \n",
    "mean = jnp.mean(V_subsamp)\n",
    "stddev = jnp.std(V_subsamp)\n",
    "\n",
    "key = random.PRNGKey(1701)\n",
    "noise = mean + stddev * random.normal(key, shape=(len(V_subsamp),))\n",
    "\n",
    "V_data = V_subsamp + noise\n",
    "\n",
    "data_steps = t[::10]"
   ]
  },
  {
   "cell_type": "code",
   "execution_count": 130,
   "id": "bae72a52",
   "metadata": {},
   "outputs": [
    {
     "data": {
      "text/plain": [
       "<matplotlib.legend.Legend at 0x7f8ab902b4f0>"
      ]
     },
     "execution_count": 130,
     "metadata": {},
     "output_type": "execute_result"
    },
    {
     "data": {
      "image/png": "[encoded data removed]",
      "text/plain": [
       "<Figure size 432x288 with 1 Axes>"
      ]
     },
     "metadata": {
      "needs_background": "light"
     },
     "output_type": "display_data"
    }
   ],
   "source": [
    "plt.plot(t, V_record, label = 'model equivalent')\n",
    "plt.plot(data_steps, V_data, label = 'noisy data')\n",
    "plt.xlabel('time')\n",
    "plt.ylabel('V')\n",
    "plt.legend()"
   ]
  },
  {
   "cell_type": "markdown",
   "id": "3b8b2fbb",
   "metadata": {},
   "source": [
    "#### Compute Gradient"
   ]
  },
  {
   "cell_type": "code",
   "execution_count": 131,
   "id": "995be136",
   "metadata": {},
   "outputs": [],
   "source": [
    "def forward_model_cost(V0, m, h, n, A, w, dt, t, data_steps, V_data):\n",
    "    \n",
    "    V_record = jnp.zeros_like(t)\n",
    "    V = V0\n",
    "    cost = 0\n",
    "\n",
    "    for i in range(len(t)):\n",
    "\n",
    "        # run forward step\n",
    "        V_record = V_record.at[i].set(V)\n",
    "        #I = A*jnp.sin(w*time)\n",
    "        #I = I_stimulus[i]\n",
    "        \n",
    "        dVdt, dmdt, dhdt, dndt = hodgkin_huxley_eq(V, m, h, n, A, w, t[i])\n",
    "        V += dVdt * dt\n",
    "        m += dmdt * dt\n",
    "        h += dhdt * dt\n",
    "        n += dndt * dt\n",
    "\n",
    "\n",
    "        # compute model-data misfit\n",
    "        if t[i] in data_steps:\n",
    "            j = jnp.where(data_steps == t[i])\n",
    "            cost += (V_record[i] - V_data[j])**2\n",
    "            \n",
    "    #return V_record, cost\n",
    "    return cost\n",
    "\n",
    "            "
   ]
  },
  {
   "cell_type": "code",
   "execution_count": 11,
   "id": "fa457024",
   "metadata": {},
   "outputs": [],
   "source": [
    "# # Initialize state variables\n",
    "# V = -65.0  # Membrane voltage (mV)\n",
    "# m, h, n = 0.05, 0.6, 0.32  # Initial values of gating variables\n",
    "\n",
    "# A = 10\n",
    "# w = 0.5\n",
    "\n",
    "# total_cost = forward_model_cost(V, m, h, n, I_stimulus, dt, t, data_steps, V_data)"
   ]
  },
  {
   "cell_type": "code",
   "execution_count": 132,
   "id": "136fba06",
   "metadata": {},
   "outputs": [],
   "source": [
    "jac_AD = jax.jacobian(forward_model_cost, argnums=4)"
   ]
  },
  {
   "cell_type": "code",
   "execution_count": 133,
   "id": "0be013ab",
   "metadata": {},
   "outputs": [],
   "source": [
    "# test jax\n",
    "\n",
    "test = jac_AD(V0, m, h, n, A, w, dt, t, data_steps, V_data)"
   ]
  },
  {
   "cell_type": "code",
   "execution_count": 134,
   "id": "62615f31",
   "metadata": {},
   "outputs": [
    {
     "data": {
      "text/plain": [
       "Array([-81659.93629551], dtype=float64, weak_type=True)"
      ]
     },
     "execution_count": 134,
     "metadata": {},
     "output_type": "execute_result"
    }
   ],
   "source": [
    "#len(test[0]), len(test[1])\n",
    "\n",
    "test"
   ]
  },
  {
   "cell_type": "markdown",
   "id": "14708b1a",
   "metadata": {},
   "source": [
    "#### FD Check"
   ]
  },
  {
   "cell_type": "code",
   "execution_count": 140,
   "id": "041969aa",
   "metadata": {},
   "outputs": [],
   "source": [
    "# FD check wrt I\n",
    "\n",
    "# I1 = np.random.randint(0,10,5000)\n",
    "# L1 = forward_model_cost(V, m, h, n, I1, dt, t, data_steps, V_data)\n",
    "\n",
    "# p = np.random.randint(0,10,5000)\n",
    "# s = 1e-7 # step size\n",
    "# I2 = I1 + s*p\n",
    "# L2 = forward_model_cost(V, m, h, n, I2, dt, t, data_steps, V_data)\n",
    "# dL_dI_p_diff = (L2[0] - L1[0]) / s\n",
    "\n",
    "# g = grad_AD(V, m, h, n, I1, dt, t, data_steps, V_data)\n",
    "# dJ_du_p = np.dot(g, p)"
   ]
  },
  {
   "cell_type": "code",
   "execution_count": 162,
   "id": "0b886b83",
   "metadata": {},
   "outputs": [
    {
     "name": "stdout",
     "output_type": "stream",
     "text": [
      "step size= 1e-07 , gradient finite difference error= [1.0003158]\n"
     ]
    }
   ],
   "source": [
    "# FD check wrt V\n",
    "\n",
    "import numpy as np\n",
    "A1 = np.random.uniform(5,15)\n",
    "#V1 = random.uniform(key, shape=(), minval = -100, maxval = 0)\n",
    "L1 = forward_model_cost(V0, m, h, n, A1, w, dt, t, data_steps, V_data)\n",
    "\n",
    "p = np.random.randint(0,5000)\n",
    "s = 1e-7 # step size\n",
    "A2 = A1 + s*p\n",
    "L2 = forward_model_cost(V0, m, h, n, A2, w, dt, t, data_steps, V_data)\n",
    "dL_dV_p_diff = (L2 - L1) / s\n",
    "\n",
    "j = jac_AD(V, m, h, n, A, w, dt, t, data_steps, V_data)\n",
    "dL_dV_p = np.dot(j, p)\n",
    "\n",
    "grad_err = np.abs( (dL_dV_p - dL_dV_p_diff) / dL_dV_p_diff )\n",
    "print('step size=', s, ', gradient finite difference error=', grad_err)"
   ]
  },
  {
   "cell_type": "code",
   "execution_count": 161,
   "id": "4f592600",
   "metadata": {},
   "outputs": [
    {
     "data": {
      "text/plain": [
       "(Array([2384487.62775384], dtype=float64), Array([nan], dtype=float64))"
      ]
     },
     "execution_count": 161,
     "metadata": {},
     "output_type": "execute_result"
    }
   ],
   "source": [
    "# print(A1)\n",
    "# print(A2)\n",
    "# print(p)\n",
    "\n",
    "# I1 = A1*np.sin(w*t)\n",
    "# I2 = A1*np.sin(w*t)\n",
    "\n",
    "# #plt.plot(t, V_record, label = 'V')\n",
    "# plt.plot(t, I1, label = 'I1')\n",
    "# plt.plot(t, I2, label = 'I2')\n",
    "# plt.xlabel('time')\n",
    "\n",
    "\n",
    "# x1 = np.random.randn(2)\n",
    "# p = np.random.randn(2)\n",
    "\n",
    "# p\n"
   ]
  },
  {
   "cell_type": "code",
   "execution_count": 163,
   "id": "1098f63e",
   "metadata": {},
   "outputs": [
    {
     "name": "stdout",
     "output_type": "stream",
     "text": [
      "step size= 1.0 , example gradient finite difference error= [nan]\n",
      "step size= 0.1 , example gradient finite difference error= [nan]\n",
      "step size= 0.01 , example gradient finite difference error= [12.81776011]\n",
      "step size= 0.001 , example gradient finite difference error= [5.16365188]\n",
      "step size= 0.0001 , example gradient finite difference error= [0.42083343]\n",
      "step size= 1e-05 , example gradient finite difference error= [0.03222428]\n",
      "step size= 1e-06 , example gradient finite difference error= [0.00314262]\n",
      "step size= 1e-07 , example gradient finite difference error= [0.00031348]\n",
      "step size= 1e-08 , example gradient finite difference error= [3.13391542e-05]\n",
      "step size= 1e-09 , example gradient finite difference error= [3.13008459e-06]\n",
      "step size= 1e-10 , example gradient finite difference error= [2.62421389e-07]\n",
      "step size= 1e-11 , example gradient finite difference error= [2.0660642e-06]\n",
      "step size= 1e-12 , example gradient finite difference error= [1.78795565e-05]\n",
      "step size= 1e-13 , example gradient finite difference error= [3.03307732e-05]\n"
     ]
    },
    {
     "data": {
      "text/plain": [
       "Text(0, 0.5, 'error')"
      ]
     },
     "execution_count": 163,
     "metadata": {},
     "output_type": "execute_result"
    },
    {
     "data": {
      "image/png": "[encoded data removed]",
      "text/plain": [
       "<Figure size 432x288 with 1 Axes>"
      ]
     },
     "metadata": {
      "needs_background": "light"
     },
     "output_type": "display_data"
    }
   ],
   "source": [
    "step_sizes = [1e0, 1e-1, 1e-2, 1e-3, 1e-4, 1e-5, 1e-6, 1e-7, 1e-8, 1e-9, 1e-10, 1e-11, 1e-12, 1e-13]\n",
    "\n",
    "\n",
    "# Make log-log plot of gradient finite difference error vs. step size\n",
    "\n",
    "A1 = np.random.uniform(5, 15)\n",
    "L1 = forward_model_cost(V0, m, h, n, A1, w, dt, t, data_steps, V_data)\n",
    "\n",
    "# compute gradient using autograd\n",
    "# g = grad_AD(V1, m, h, n, I_stimulus, dt, t, data_steps, V_data)\n",
    "# dL_dV_p = np.dot(g, p)\n",
    "\n",
    "j = jac_AD(V0, m, h, n, A1, w, dt, t, data_steps, V_data)\n",
    "dL_dV_p = np.dot(j, p)\n",
    "\n",
    "\n",
    "grad_errs = list()\n",
    "for s in step_sizes:\n",
    "    \n",
    "    # compute gradient using finite differences\n",
    "    A2 = A1 + s*p\n",
    "\n",
    "    L2 = forward_model_cost(V0, m, h, n, A2, w, dt, t, data_steps, V_data)\n",
    "    dL_dV_p_diff = (L2 - L1) / s\n",
    "\n",
    "\n",
    "    # compute gradient error\n",
    "    grad_err = np.abs( (dL_dV_p - dL_dV_p_diff) / dL_dV_p_diff )\n",
    "    print('step size=', s, ', example gradient finite difference error=', grad_err)\n",
    "    \n",
    "    grad_errs.append(grad_err)\n",
    "\n",
    "plt.loglog(step_sizes, grad_errs)\n",
    "plt.title('Example finite difference gradient check')\n",
    "plt.xlabel('step size')\n",
    "plt.ylabel('error')\n",
    "\n"
   ]
  },
  {
   "cell_type": "markdown",
   "id": "d3117794",
   "metadata": {},
   "source": [
    "#### Steepest Descent"
   ]
  },
  {
   "cell_type": "code",
   "execution_count": 165,
   "id": "ea1c2756",
   "metadata": {},
   "outputs": [
    {
     "ename": "ValueError",
     "evalue": "safe_zip() argument 2 is shorter than argument 1",
     "output_type": "error",
     "traceback": [
      "\u001b[0;31m---------------------------------------------------------------------------\u001b[0m",
      "\u001b[0;31mValueError\u001b[0m                                Traceback (most recent call last)",
      "\u001b[0;32m/var/folders/6j/fcfm9_6n3rg0rg4_4flv5ks00000gq/T/ipykernel_33882/1055856388.py\u001b[0m in \u001b[0;36m<module>\u001b[0;34m\u001b[0m\n\u001b[1;32m     24\u001b[0m \u001b[0;34m\u001b[0m\u001b[0m\n\u001b[1;32m     25\u001b[0m \u001b[0;32mwhile\u001b[0m \u001b[0mnorm_jk\u001b[0m \u001b[0;34m>=\u001b[0m \u001b[0;36m1e-6\u001b[0m \u001b[0;34m*\u001b[0m \u001b[0mnorm_j0\u001b[0m\u001b[0;34m:\u001b[0m\u001b[0;34m\u001b[0m\u001b[0;34m\u001b[0m\u001b[0m\n\u001b[0;32m---> 26\u001b[0;31m     \u001b[0mbk\u001b[0m \u001b[0;34m=\u001b[0m \u001b[0moptimize\u001b[0m\u001b[0;34m.\u001b[0m\u001b[0mline_search\u001b[0m\u001b[0;34m(\u001b[0m\u001b[0mL_func\u001b[0m\u001b[0;34m,\u001b[0m \u001b[0mj_func\u001b[0m\u001b[0;34m,\u001b[0m \u001b[0mAk\u001b[0m\u001b[0;34m,\u001b[0m \u001b[0;34m-\u001b[0m\u001b[0mj_func\u001b[0m\u001b[0;34m(\u001b[0m\u001b[0mAk\u001b[0m\u001b[0;34m)\u001b[0m\u001b[0;34m)\u001b[0m\u001b[0;34m[\u001b[0m\u001b[0;36m0\u001b[0m\u001b[0;34m]\u001b[0m\u001b[0;34m\u001b[0m\u001b[0;34m\u001b[0m\u001b[0m\n\u001b[0m\u001b[1;32m     27\u001b[0m \u001b[0;34m\u001b[0m\u001b[0m\n\u001b[1;32m     28\u001b[0m     \u001b[0mAk\u001b[0m \u001b[0;34m=\u001b[0m \u001b[0mAk\u001b[0m \u001b[0;34m-\u001b[0m \u001b[0mbk\u001b[0m \u001b[0;34m*\u001b[0m \u001b[0mj_func\u001b[0m\u001b[0;34m(\u001b[0m\u001b[0mAk\u001b[0m\u001b[0;34m)\u001b[0m\u001b[0;34m\u001b[0m\u001b[0;34m\u001b[0m\u001b[0m\n",
      "\u001b[0;32m~/opt/anaconda3/lib/python3.9/site-packages/scipy/optimize/_linesearch.py\u001b[0m in \u001b[0;36mline_search_wolfe2\u001b[0;34m(f, myfprime, xk, pk, gfk, old_fval, old_old_fval, args, c1, c2, amax, extra_condition, maxiter)\u001b[0m\n\u001b[1;32m    298\u001b[0m         \u001b[0mextra_condition2\u001b[0m \u001b[0;34m=\u001b[0m \u001b[0;32mNone\u001b[0m\u001b[0;34m\u001b[0m\u001b[0;34m\u001b[0m\u001b[0m\n\u001b[1;32m    299\u001b[0m \u001b[0;34m\u001b[0m\u001b[0m\n\u001b[0;32m--> 300\u001b[0;31m     alpha_star, phi_star, old_fval, derphi_star = scalar_search_wolfe2(\n\u001b[0m\u001b[1;32m    301\u001b[0m             \u001b[0mphi\u001b[0m\u001b[0;34m,\u001b[0m \u001b[0mderphi\u001b[0m\u001b[0;34m,\u001b[0m \u001b[0mold_fval\u001b[0m\u001b[0;34m,\u001b[0m \u001b[0mold_old_fval\u001b[0m\u001b[0;34m,\u001b[0m \u001b[0mderphi0\u001b[0m\u001b[0;34m,\u001b[0m \u001b[0mc1\u001b[0m\u001b[0;34m,\u001b[0m \u001b[0mc2\u001b[0m\u001b[0;34m,\u001b[0m \u001b[0mamax\u001b[0m\u001b[0;34m,\u001b[0m\u001b[0;34m\u001b[0m\u001b[0;34m\u001b[0m\u001b[0m\n\u001b[1;32m    302\u001b[0m             extra_condition2, maxiter=maxiter)\n",
      "\u001b[0;32m~/opt/anaconda3/lib/python3.9/site-packages/scipy/optimize/_linesearch.py\u001b[0m in \u001b[0;36mscalar_search_wolfe2\u001b[0;34m(phi, derphi, phi0, old_phi0, derphi0, c1, c2, amax, extra_condition, maxiter)\u001b[0m\n\u001b[1;32m    372\u001b[0m \u001b[0;34m\u001b[0m\u001b[0m\n\u001b[1;32m    373\u001b[0m     \u001b[0;32mif\u001b[0m \u001b[0mphi0\u001b[0m \u001b[0;32mis\u001b[0m \u001b[0;32mNone\u001b[0m\u001b[0;34m:\u001b[0m\u001b[0;34m\u001b[0m\u001b[0;34m\u001b[0m\u001b[0m\n\u001b[0;32m--> 374\u001b[0;31m         \u001b[0mphi0\u001b[0m \u001b[0;34m=\u001b[0m \u001b[0mphi\u001b[0m\u001b[0;34m(\u001b[0m\u001b[0;36m0.\u001b[0m\u001b[0;34m)\u001b[0m\u001b[0;34m\u001b[0m\u001b[0;34m\u001b[0m\u001b[0m\n\u001b[0m\u001b[1;32m    375\u001b[0m \u001b[0;34m\u001b[0m\u001b[0m\n\u001b[1;32m    376\u001b[0m     \u001b[0;32mif\u001b[0m \u001b[0mderphi0\u001b[0m \u001b[0;32mis\u001b[0m \u001b[0;32mNone\u001b[0m\u001b[0;34m:\u001b[0m\u001b[0;34m\u001b[0m\u001b[0;34m\u001b[0m\u001b[0m\n",
      "\u001b[0;32m~/opt/anaconda3/lib/python3.9/site-packages/scipy/optimize/_linesearch.py\u001b[0m in \u001b[0;36mphi\u001b[0;34m(alpha)\u001b[0m\n\u001b[1;32m    273\u001b[0m     \u001b[0;32mdef\u001b[0m \u001b[0mphi\u001b[0m\u001b[0;34m(\u001b[0m\u001b[0malpha\u001b[0m\u001b[0;34m)\u001b[0m\u001b[0;34m:\u001b[0m\u001b[0;34m\u001b[0m\u001b[0;34m\u001b[0m\u001b[0m\n\u001b[1;32m    274\u001b[0m         \u001b[0mfc\u001b[0m\u001b[0;34m[\u001b[0m\u001b[0;36m0\u001b[0m\u001b[0;34m]\u001b[0m \u001b[0;34m+=\u001b[0m \u001b[0;36m1\u001b[0m\u001b[0;34m\u001b[0m\u001b[0;34m\u001b[0m\u001b[0m\n\u001b[0;32m--> 275\u001b[0;31m         \u001b[0;32mreturn\u001b[0m \u001b[0mf\u001b[0m\u001b[0;34m(\u001b[0m\u001b[0mxk\u001b[0m \u001b[0;34m+\u001b[0m \u001b[0malpha\u001b[0m \u001b[0;34m*\u001b[0m \u001b[0mpk\u001b[0m\u001b[0;34m,\u001b[0m \u001b[0;34m*\u001b[0m\u001b[0margs\u001b[0m\u001b[0;34m)\u001b[0m\u001b[0;34m\u001b[0m\u001b[0;34m\u001b[0m\u001b[0m\n\u001b[0m\u001b[1;32m    276\u001b[0m \u001b[0;34m\u001b[0m\u001b[0m\n\u001b[1;32m    277\u001b[0m     \u001b[0mfprime\u001b[0m \u001b[0;34m=\u001b[0m \u001b[0mmyfprime\u001b[0m\u001b[0;34m\u001b[0m\u001b[0;34m\u001b[0m\u001b[0m\n",
      "\u001b[0;32m/var/folders/6j/fcfm9_6n3rg0rg4_4flv5ks00000gq/T/ipykernel_33882/1055856388.py\u001b[0m in \u001b[0;36m<lambda>\u001b[0;34m(A)\u001b[0m\n\u001b[1;32m      1\u001b[0m \u001b[0;32mfrom\u001b[0m \u001b[0mscipy\u001b[0m \u001b[0;32mimport\u001b[0m \u001b[0moptimize\u001b[0m\u001b[0;34m\u001b[0m\u001b[0;34m\u001b[0m\u001b[0m\n\u001b[1;32m      2\u001b[0m \u001b[0;34m\u001b[0m\u001b[0m\n\u001b[0;32m----> 3\u001b[0;31m \u001b[0mL_func\u001b[0m \u001b[0;34m=\u001b[0m \u001b[0;32mlambda\u001b[0m \u001b[0mA\u001b[0m\u001b[0;34m:\u001b[0m \u001b[0mforward_model_cost\u001b[0m\u001b[0;34m(\u001b[0m\u001b[0mV\u001b[0m\u001b[0;34m,\u001b[0m \u001b[0mm\u001b[0m\u001b[0;34m,\u001b[0m \u001b[0mh\u001b[0m\u001b[0;34m,\u001b[0m \u001b[0mn\u001b[0m\u001b[0;34m,\u001b[0m \u001b[0mA\u001b[0m\u001b[0;34m,\u001b[0m \u001b[0mw\u001b[0m\u001b[0;34m,\u001b[0m \u001b[0mdt\u001b[0m\u001b[0;34m,\u001b[0m \u001b[0mt\u001b[0m\u001b[0;34m,\u001b[0m \u001b[0mdata_steps\u001b[0m\u001b[0;34m,\u001b[0m \u001b[0mV_data\u001b[0m\u001b[0;34m)\u001b[0m\u001b[0;34m\u001b[0m\u001b[0;34m\u001b[0m\u001b[0m\n\u001b[0m\u001b[1;32m      4\u001b[0m \u001b[0mj_func\u001b[0m \u001b[0;34m=\u001b[0m \u001b[0;32mlambda\u001b[0m \u001b[0mA\u001b[0m\u001b[0;34m:\u001b[0m \u001b[0mjac_AD\u001b[0m\u001b[0;34m(\u001b[0m\u001b[0mV\u001b[0m\u001b[0;34m,\u001b[0m \u001b[0mm\u001b[0m\u001b[0;34m,\u001b[0m \u001b[0mh\u001b[0m\u001b[0;34m,\u001b[0m \u001b[0mn\u001b[0m\u001b[0;34m,\u001b[0m \u001b[0mA\u001b[0m\u001b[0;34m,\u001b[0m \u001b[0mw\u001b[0m\u001b[0;34m,\u001b[0m \u001b[0mdt\u001b[0m\u001b[0;34m,\u001b[0m \u001b[0mt\u001b[0m\u001b[0;34m,\u001b[0m \u001b[0mdata_steps\u001b[0m\u001b[0;34m,\u001b[0m \u001b[0mV_data\u001b[0m\u001b[0;34m)\u001b[0m\u001b[0;34m\u001b[0m\u001b[0;34m\u001b[0m\u001b[0m\n\u001b[1;32m      5\u001b[0m \u001b[0;34m\u001b[0m\u001b[0m\n",
      "\u001b[0;32m/var/folders/6j/fcfm9_6n3rg0rg4_4flv5ks00000gq/T/ipykernel_33882/2128999653.py\u001b[0m in \u001b[0;36mforward_model_cost\u001b[0;34m(V0, m, h, n, A, w, dt, t, data_steps, V_data)\u001b[0m\n\u001b[1;32m      8\u001b[0m \u001b[0;34m\u001b[0m\u001b[0m\n\u001b[1;32m      9\u001b[0m         \u001b[0;31m# run forward step\u001b[0m\u001b[0;34m\u001b[0m\u001b[0;34m\u001b[0m\u001b[0m\n\u001b[0;32m---> 10\u001b[0;31m         \u001b[0mV_record\u001b[0m \u001b[0;34m=\u001b[0m \u001b[0mV_record\u001b[0m\u001b[0;34m.\u001b[0m\u001b[0mat\u001b[0m\u001b[0;34m[\u001b[0m\u001b[0mi\u001b[0m\u001b[0;34m]\u001b[0m\u001b[0;34m.\u001b[0m\u001b[0mset\u001b[0m\u001b[0;34m(\u001b[0m\u001b[0mV\u001b[0m\u001b[0;34m)\u001b[0m\u001b[0;34m\u001b[0m\u001b[0;34m\u001b[0m\u001b[0m\n\u001b[0m\u001b[1;32m     11\u001b[0m         \u001b[0;31m#I = A*jnp.sin(w*time)\u001b[0m\u001b[0;34m\u001b[0m\u001b[0;34m\u001b[0m\u001b[0m\n\u001b[1;32m     12\u001b[0m         \u001b[0;31m#I = I_stimulus[i]\u001b[0m\u001b[0;34m\u001b[0m\u001b[0;34m\u001b[0m\u001b[0m\n",
      "\u001b[0;32m~/opt/anaconda3/lib/python3.9/site-packages/jax/_src/numpy/array_methods.py\u001b[0m in \u001b[0;36mset\u001b[0;34m(self, values, indices_are_sorted, unique_indices, mode)\u001b[0m\n\u001b[1;32m    480\u001b[0m     \u001b[0mSee\u001b[0m \u001b[0;34m:\u001b[0m\u001b[0mmod\u001b[0m\u001b[0;34m:\u001b[0m\u001b[0;31m`\u001b[0m\u001b[0mjax\u001b[0m\u001b[0;34m.\u001b[0m\u001b[0mops\u001b[0m\u001b[0;31m`\u001b[0m \u001b[0;32mfor\u001b[0m \u001b[0mdetails\u001b[0m\u001b[0;34m.\u001b[0m\u001b[0;34m\u001b[0m\u001b[0;34m\u001b[0m\u001b[0m\n\u001b[1;32m    481\u001b[0m     \"\"\"\n\u001b[0;32m--> 482\u001b[0;31m     return scatter._scatter_update(self.array, self.index, values, lax.scatter,\n\u001b[0m\u001b[1;32m    483\u001b[0m                                    \u001b[0mindices_are_sorted\u001b[0m\u001b[0;34m=\u001b[0m\u001b[0mindices_are_sorted\u001b[0m\u001b[0;34m,\u001b[0m\u001b[0;34m\u001b[0m\u001b[0;34m\u001b[0m\u001b[0m\n\u001b[1;32m    484\u001b[0m                                    unique_indices=unique_indices, mode=mode)\n",
      "\u001b[0;32m~/opt/anaconda3/lib/python3.9/site-packages/jax/_src/ops/scatter.py\u001b[0m in \u001b[0;36m_scatter_update\u001b[0;34m(x, idx, y, scatter_op, indices_are_sorted, unique_indices, mode, normalize_indices)\u001b[0m\n\u001b[1;32m     76\u001b[0m   \u001b[0;31m# is more or less a transpose of the gather equivalent.\u001b[0m\u001b[0;34m\u001b[0m\u001b[0;34m\u001b[0m\u001b[0m\n\u001b[1;32m     77\u001b[0m   \u001b[0mtreedef\u001b[0m\u001b[0;34m,\u001b[0m \u001b[0mstatic_idx\u001b[0m\u001b[0;34m,\u001b[0m \u001b[0mdynamic_idx\u001b[0m \u001b[0;34m=\u001b[0m \u001b[0mjnp\u001b[0m\u001b[0;34m.\u001b[0m\u001b[0m_split_index_for_jit\u001b[0m\u001b[0;34m(\u001b[0m\u001b[0midx\u001b[0m\u001b[0;34m,\u001b[0m \u001b[0mx\u001b[0m\u001b[0;34m.\u001b[0m\u001b[0mshape\u001b[0m\u001b[0;34m)\u001b[0m\u001b[0;34m\u001b[0m\u001b[0;34m\u001b[0m\u001b[0m\n\u001b[0;32m---> 78\u001b[0;31m   return _scatter_impl(x, y, scatter_op, treedef, static_idx, dynamic_idx,\n\u001b[0m\u001b[1;32m     79\u001b[0m                        \u001b[0mindices_are_sorted\u001b[0m\u001b[0;34m,\u001b[0m \u001b[0munique_indices\u001b[0m\u001b[0;34m,\u001b[0m \u001b[0mmode\u001b[0m\u001b[0;34m,\u001b[0m\u001b[0;34m\u001b[0m\u001b[0;34m\u001b[0m\u001b[0m\n\u001b[1;32m     80\u001b[0m                        normalize_indices)\n",
      "\u001b[0;32m~/opt/anaconda3/lib/python3.9/site-packages/jax/_src/ops/scatter.py\u001b[0m in \u001b[0;36m_scatter_impl\u001b[0;34m(x, y, scatter_op, treedef, static_idx, dynamic_idx, indices_are_sorted, unique_indices, mode, normalize_indices)\u001b[0m\n\u001b[1;32m    111\u001b[0m \u001b[0;34m\u001b[0m\u001b[0m\n\u001b[1;32m    112\u001b[0m   \u001b[0;31m# Broadcast `y` to the slice output shape.\u001b[0m\u001b[0;34m\u001b[0m\u001b[0;34m\u001b[0m\u001b[0m\n\u001b[0;32m--> 113\u001b[0;31m   \u001b[0my\u001b[0m \u001b[0;34m=\u001b[0m \u001b[0mjnp\u001b[0m\u001b[0;34m.\u001b[0m\u001b[0mbroadcast_to\u001b[0m\u001b[0;34m(\u001b[0m\u001b[0my\u001b[0m\u001b[0;34m,\u001b[0m \u001b[0mtuple\u001b[0m\u001b[0;34m(\u001b[0m\u001b[0mindexer\u001b[0m\u001b[0;34m.\u001b[0m\u001b[0mslice_shape\u001b[0m\u001b[0;34m)\u001b[0m\u001b[0;34m)\u001b[0m\u001b[0;34m\u001b[0m\u001b[0;34m\u001b[0m\u001b[0m\n\u001b[0m\u001b[1;32m    114\u001b[0m   \u001b[0;31m# Collapse any `None`/`jnp.newaxis` dimensions.\u001b[0m\u001b[0;34m\u001b[0m\u001b[0;34m\u001b[0m\u001b[0m\n\u001b[1;32m    115\u001b[0m   \u001b[0my\u001b[0m \u001b[0;34m=\u001b[0m \u001b[0mjnp\u001b[0m\u001b[0;34m.\u001b[0m\u001b[0msqueeze\u001b[0m\u001b[0;34m(\u001b[0m\u001b[0my\u001b[0m\u001b[0;34m,\u001b[0m \u001b[0maxis\u001b[0m\u001b[0;34m=\u001b[0m\u001b[0mindexer\u001b[0m\u001b[0;34m.\u001b[0m\u001b[0mnewaxis_dims\u001b[0m\u001b[0;34m)\u001b[0m\u001b[0;34m\u001b[0m\u001b[0;34m\u001b[0m\u001b[0m\n",
      "\u001b[0;32m~/opt/anaconda3/lib/python3.9/site-packages/jax/_src/numpy/lax_numpy.py\u001b[0m in \u001b[0;36mbroadcast_to\u001b[0;34m(array, shape)\u001b[0m\n\u001b[1;32m   1188\u001b[0m \"\"\")\n\u001b[1;32m   1189\u001b[0m \u001b[0;32mdef\u001b[0m \u001b[0mbroadcast_to\u001b[0m\u001b[0;34m(\u001b[0m\u001b[0marray\u001b[0m\u001b[0;34m:\u001b[0m \u001b[0mArrayLike\u001b[0m\u001b[0;34m,\u001b[0m \u001b[0mshape\u001b[0m\u001b[0;34m:\u001b[0m \u001b[0mDimSize\u001b[0m \u001b[0;34m|\u001b[0m \u001b[0mShape\u001b[0m\u001b[0;34m)\u001b[0m \u001b[0;34m->\u001b[0m \u001b[0mArray\u001b[0m\u001b[0;34m:\u001b[0m\u001b[0;34m\u001b[0m\u001b[0;34m\u001b[0m\u001b[0m\n\u001b[0;32m-> 1190\u001b[0;31m   \u001b[0;32mreturn\u001b[0m \u001b[0mutil\u001b[0m\u001b[0;34m.\u001b[0m\u001b[0m_broadcast_to\u001b[0m\u001b[0;34m(\u001b[0m\u001b[0marray\u001b[0m\u001b[0;34m,\u001b[0m \u001b[0mshape\u001b[0m\u001b[0;34m)\u001b[0m\u001b[0;34m\u001b[0m\u001b[0;34m\u001b[0m\u001b[0m\n\u001b[0m\u001b[1;32m   1191\u001b[0m \u001b[0;34m\u001b[0m\u001b[0m\n\u001b[1;32m   1192\u001b[0m \u001b[0;34m\u001b[0m\u001b[0m\n",
      "\u001b[0;32m~/opt/anaconda3/lib/python3.9/site-packages/jax/_src/numpy/util.py\u001b[0m in \u001b[0;36m_broadcast_to\u001b[0;34m(arr, shape)\u001b[0m\n\u001b[1;32m    403\u001b[0m     \u001b[0mshape_tail\u001b[0m \u001b[0;34m=\u001b[0m \u001b[0mshape\u001b[0m\u001b[0;34m[\u001b[0m\u001b[0mnlead\u001b[0m\u001b[0;34m:\u001b[0m\u001b[0;34m]\u001b[0m\u001b[0;34m\u001b[0m\u001b[0;34m\u001b[0m\u001b[0m\n\u001b[1;32m    404\u001b[0m     compatible = all(core.definitely_equal_one_of_dim(arr_d, [1, shape_d])\n\u001b[0;32m--> 405\u001b[0;31m                      for arr_d, shape_d in safe_zip(arr_shape, shape_tail))\n\u001b[0m\u001b[1;32m    406\u001b[0m     \u001b[0;32mif\u001b[0m \u001b[0mnlead\u001b[0m \u001b[0;34m<\u001b[0m \u001b[0;36m0\u001b[0m \u001b[0;32mor\u001b[0m \u001b[0;32mnot\u001b[0m \u001b[0mcompatible\u001b[0m\u001b[0;34m:\u001b[0m\u001b[0;34m\u001b[0m\u001b[0;34m\u001b[0m\u001b[0m\n\u001b[1;32m    407\u001b[0m       \u001b[0mmsg\u001b[0m \u001b[0;34m=\u001b[0m \u001b[0;34m\"Incompatible shapes for broadcasting: {} and requested shape {}\"\u001b[0m\u001b[0;34m\u001b[0m\u001b[0;34m\u001b[0m\u001b[0m\n",
      "\u001b[0;31mValueError\u001b[0m: safe_zip() argument 2 is shorter than argument 1"
     ]
    }
   ],
   "source": [
    "from scipy import optimize\n",
    "\n",
    "L_func = lambda A: forward_model_cost(V, m, h, n, A, w, dt, t, data_steps, V_data)\n",
    "j_func = lambda A: jac_AD(V, m, h, n, A, w, dt, t, data_steps, V_data)\n",
    "\n",
    "L0 = L_func(A)\n",
    "j0 = j_func(A)\n",
    "\n",
    "norm_j0 = np.linalg.norm(j0)\n",
    "\n",
    "\n",
    "LL_sd = list()\n",
    "LL_sd.append(L0) # Keep appending the value of J to this list each iteration\n",
    "\n",
    "jacnorms_sd = list()\n",
    "jacnorms_sd.append(norm_j0)\n",
    "\n",
    "\n",
    "# Solve optimization problem using method of steepest descent. \n",
    "\n",
    "Ak = A\n",
    "norm_jk = norm_j0\n",
    "count = 0\n",
    "\n",
    "\n",
    "\n"
   ]
  },
  {
   "cell_type": "code",
   "execution_count": 168,
   "id": "0626645c",
   "metadata": {},
   "outputs": [
    {
     "ename": "ValueError",
     "evalue": "safe_zip() argument 2 is shorter than argument 1",
     "output_type": "error",
     "traceback": [
      "\u001b[0;31m---------------------------------------------------------------------------\u001b[0m",
      "\u001b[0;31mValueError\u001b[0m                                Traceback (most recent call last)",
      "\u001b[0;32m/var/folders/6j/fcfm9_6n3rg0rg4_4flv5ks00000gq/T/ipykernel_33882/1796206756.py\u001b[0m in \u001b[0;36m<module>\u001b[0;34m\u001b[0m\n\u001b[1;32m      1\u001b[0m \u001b[0;32mwhile\u001b[0m \u001b[0mnorm_jk\u001b[0m \u001b[0;34m>=\u001b[0m \u001b[0;36m1e-6\u001b[0m \u001b[0;34m*\u001b[0m \u001b[0mnorm_j0\u001b[0m\u001b[0;34m:\u001b[0m\u001b[0;34m\u001b[0m\u001b[0;34m\u001b[0m\u001b[0m\n\u001b[0;32m----> 2\u001b[0;31m     \u001b[0mbk\u001b[0m \u001b[0;34m=\u001b[0m \u001b[0moptimize\u001b[0m\u001b[0;34m.\u001b[0m\u001b[0mline_search\u001b[0m\u001b[0;34m(\u001b[0m\u001b[0mL_func\u001b[0m\u001b[0;34m,\u001b[0m \u001b[0mj_func\u001b[0m\u001b[0;34m,\u001b[0m \u001b[0mAk\u001b[0m\u001b[0;34m,\u001b[0m \u001b[0;34m-\u001b[0m\u001b[0mj_func\u001b[0m\u001b[0;34m(\u001b[0m\u001b[0mAk\u001b[0m\u001b[0;34m)\u001b[0m\u001b[0;34m)\u001b[0m\u001b[0;34m[\u001b[0m\u001b[0;36m0\u001b[0m\u001b[0;34m]\u001b[0m\u001b[0;34m\u001b[0m\u001b[0;34m\u001b[0m\u001b[0m\n\u001b[0m\u001b[1;32m      3\u001b[0m \u001b[0;34m\u001b[0m\u001b[0m\n\u001b[1;32m      4\u001b[0m     \u001b[0mAk\u001b[0m \u001b[0;34m=\u001b[0m \u001b[0mAk\u001b[0m \u001b[0;34m-\u001b[0m \u001b[0mbk\u001b[0m \u001b[0;34m*\u001b[0m \u001b[0mj_func\u001b[0m\u001b[0;34m(\u001b[0m\u001b[0mAk\u001b[0m\u001b[0;34m)\u001b[0m\u001b[0;34m\u001b[0m\u001b[0;34m\u001b[0m\u001b[0m\n\u001b[1;32m      5\u001b[0m     \u001b[0mj_k\u001b[0m \u001b[0;34m=\u001b[0m \u001b[0mj_func\u001b[0m\u001b[0;34m(\u001b[0m\u001b[0mAk\u001b[0m\u001b[0;34m)\u001b[0m\u001b[0;34m\u001b[0m\u001b[0;34m\u001b[0m\u001b[0m\n",
      "\u001b[0;32m~/opt/anaconda3/lib/python3.9/site-packages/scipy/optimize/_linesearch.py\u001b[0m in \u001b[0;36mline_search_wolfe2\u001b[0;34m(f, myfprime, xk, pk, gfk, old_fval, old_old_fval, args, c1, c2, amax, extra_condition, maxiter)\u001b[0m\n\u001b[1;32m    298\u001b[0m         \u001b[0mextra_condition2\u001b[0m \u001b[0;34m=\u001b[0m \u001b[0;32mNone\u001b[0m\u001b[0;34m\u001b[0m\u001b[0;34m\u001b[0m\u001b[0m\n\u001b[1;32m    299\u001b[0m \u001b[0;34m\u001b[0m\u001b[0m\n\u001b[0;32m--> 300\u001b[0;31m     alpha_star, phi_star, old_fval, derphi_star = scalar_search_wolfe2(\n\u001b[0m\u001b[1;32m    301\u001b[0m             \u001b[0mphi\u001b[0m\u001b[0;34m,\u001b[0m \u001b[0mderphi\u001b[0m\u001b[0;34m,\u001b[0m \u001b[0mold_fval\u001b[0m\u001b[0;34m,\u001b[0m \u001b[0mold_old_fval\u001b[0m\u001b[0;34m,\u001b[0m \u001b[0mderphi0\u001b[0m\u001b[0;34m,\u001b[0m \u001b[0mc1\u001b[0m\u001b[0;34m,\u001b[0m \u001b[0mc2\u001b[0m\u001b[0;34m,\u001b[0m \u001b[0mamax\u001b[0m\u001b[0;34m,\u001b[0m\u001b[0;34m\u001b[0m\u001b[0;34m\u001b[0m\u001b[0m\n\u001b[1;32m    302\u001b[0m             extra_condition2, maxiter=maxiter)\n",
      "\u001b[0;32m~/opt/anaconda3/lib/python3.9/site-packages/scipy/optimize/_linesearch.py\u001b[0m in \u001b[0;36mscalar_search_wolfe2\u001b[0;34m(phi, derphi, phi0, old_phi0, derphi0, c1, c2, amax, extra_condition, maxiter)\u001b[0m\n\u001b[1;32m    372\u001b[0m \u001b[0;34m\u001b[0m\u001b[0m\n\u001b[1;32m    373\u001b[0m     \u001b[0;32mif\u001b[0m \u001b[0mphi0\u001b[0m \u001b[0;32mis\u001b[0m \u001b[0;32mNone\u001b[0m\u001b[0;34m:\u001b[0m\u001b[0;34m\u001b[0m\u001b[0;34m\u001b[0m\u001b[0m\n\u001b[0;32m--> 374\u001b[0;31m         \u001b[0mphi0\u001b[0m \u001b[0;34m=\u001b[0m \u001b[0mphi\u001b[0m\u001b[0;34m(\u001b[0m\u001b[0;36m0.\u001b[0m\u001b[0;34m)\u001b[0m\u001b[0;34m\u001b[0m\u001b[0;34m\u001b[0m\u001b[0m\n\u001b[0m\u001b[1;32m    375\u001b[0m \u001b[0;34m\u001b[0m\u001b[0m\n\u001b[1;32m    376\u001b[0m     \u001b[0;32mif\u001b[0m \u001b[0mderphi0\u001b[0m \u001b[0;32mis\u001b[0m \u001b[0;32mNone\u001b[0m\u001b[0;34m:\u001b[0m\u001b[0;34m\u001b[0m\u001b[0;34m\u001b[0m\u001b[0m\n",
      "\u001b[0;32m~/opt/anaconda3/lib/python3.9/site-packages/scipy/optimize/_linesearch.py\u001b[0m in \u001b[0;36mphi\u001b[0;34m(alpha)\u001b[0m\n\u001b[1;32m    273\u001b[0m     \u001b[0;32mdef\u001b[0m \u001b[0mphi\u001b[0m\u001b[0;34m(\u001b[0m\u001b[0malpha\u001b[0m\u001b[0;34m)\u001b[0m\u001b[0;34m:\u001b[0m\u001b[0;34m\u001b[0m\u001b[0;34m\u001b[0m\u001b[0m\n\u001b[1;32m    274\u001b[0m         \u001b[0mfc\u001b[0m\u001b[0;34m[\u001b[0m\u001b[0;36m0\u001b[0m\u001b[0;34m]\u001b[0m \u001b[0;34m+=\u001b[0m \u001b[0;36m1\u001b[0m\u001b[0;34m\u001b[0m\u001b[0;34m\u001b[0m\u001b[0m\n\u001b[0;32m--> 275\u001b[0;31m         \u001b[0;32mreturn\u001b[0m \u001b[0mf\u001b[0m\u001b[0;34m(\u001b[0m\u001b[0mxk\u001b[0m \u001b[0;34m+\u001b[0m \u001b[0malpha\u001b[0m \u001b[0;34m*\u001b[0m \u001b[0mpk\u001b[0m\u001b[0;34m,\u001b[0m \u001b[0;34m*\u001b[0m\u001b[0margs\u001b[0m\u001b[0;34m)\u001b[0m\u001b[0;34m\u001b[0m\u001b[0;34m\u001b[0m\u001b[0m\n\u001b[0m\u001b[1;32m    276\u001b[0m \u001b[0;34m\u001b[0m\u001b[0m\n\u001b[1;32m    277\u001b[0m     \u001b[0mfprime\u001b[0m \u001b[0;34m=\u001b[0m \u001b[0mmyfprime\u001b[0m\u001b[0;34m\u001b[0m\u001b[0;34m\u001b[0m\u001b[0m\n",
      "\u001b[0;32m/var/folders/6j/fcfm9_6n3rg0rg4_4flv5ks00000gq/T/ipykernel_33882/1055856388.py\u001b[0m in \u001b[0;36m<lambda>\u001b[0;34m(A)\u001b[0m\n\u001b[1;32m      1\u001b[0m \u001b[0;32mfrom\u001b[0m \u001b[0mscipy\u001b[0m \u001b[0;32mimport\u001b[0m \u001b[0moptimize\u001b[0m\u001b[0;34m\u001b[0m\u001b[0;34m\u001b[0m\u001b[0m\n\u001b[1;32m      2\u001b[0m \u001b[0;34m\u001b[0m\u001b[0m\n\u001b[0;32m----> 3\u001b[0;31m \u001b[0mL_func\u001b[0m \u001b[0;34m=\u001b[0m \u001b[0;32mlambda\u001b[0m \u001b[0mA\u001b[0m\u001b[0;34m:\u001b[0m \u001b[0mforward_model_cost\u001b[0m\u001b[0;34m(\u001b[0m\u001b[0mV\u001b[0m\u001b[0;34m,\u001b[0m \u001b[0mm\u001b[0m\u001b[0;34m,\u001b[0m \u001b[0mh\u001b[0m\u001b[0;34m,\u001b[0m \u001b[0mn\u001b[0m\u001b[0;34m,\u001b[0m \u001b[0mA\u001b[0m\u001b[0;34m,\u001b[0m \u001b[0mw\u001b[0m\u001b[0;34m,\u001b[0m \u001b[0mdt\u001b[0m\u001b[0;34m,\u001b[0m \u001b[0mt\u001b[0m\u001b[0;34m,\u001b[0m \u001b[0mdata_steps\u001b[0m\u001b[0;34m,\u001b[0m \u001b[0mV_data\u001b[0m\u001b[0;34m)\u001b[0m\u001b[0;34m\u001b[0m\u001b[0;34m\u001b[0m\u001b[0m\n\u001b[0m\u001b[1;32m      4\u001b[0m \u001b[0mj_func\u001b[0m \u001b[0;34m=\u001b[0m \u001b[0;32mlambda\u001b[0m \u001b[0mA\u001b[0m\u001b[0;34m:\u001b[0m \u001b[0mjac_AD\u001b[0m\u001b[0;34m(\u001b[0m\u001b[0mV\u001b[0m\u001b[0;34m,\u001b[0m \u001b[0mm\u001b[0m\u001b[0;34m,\u001b[0m \u001b[0mh\u001b[0m\u001b[0;34m,\u001b[0m \u001b[0mn\u001b[0m\u001b[0;34m,\u001b[0m \u001b[0mA\u001b[0m\u001b[0;34m,\u001b[0m \u001b[0mw\u001b[0m\u001b[0;34m,\u001b[0m \u001b[0mdt\u001b[0m\u001b[0;34m,\u001b[0m \u001b[0mt\u001b[0m\u001b[0;34m,\u001b[0m \u001b[0mdata_steps\u001b[0m\u001b[0;34m,\u001b[0m \u001b[0mV_data\u001b[0m\u001b[0;34m)\u001b[0m\u001b[0;34m\u001b[0m\u001b[0;34m\u001b[0m\u001b[0m\n\u001b[1;32m      5\u001b[0m \u001b[0;34m\u001b[0m\u001b[0m\n",
      "\u001b[0;32m/var/folders/6j/fcfm9_6n3rg0rg4_4flv5ks00000gq/T/ipykernel_33882/2128999653.py\u001b[0m in \u001b[0;36mforward_model_cost\u001b[0;34m(V0, m, h, n, A, w, dt, t, data_steps, V_data)\u001b[0m\n\u001b[1;32m      8\u001b[0m \u001b[0;34m\u001b[0m\u001b[0m\n\u001b[1;32m      9\u001b[0m         \u001b[0;31m# run forward step\u001b[0m\u001b[0;34m\u001b[0m\u001b[0;34m\u001b[0m\u001b[0m\n\u001b[0;32m---> 10\u001b[0;31m         \u001b[0mV_record\u001b[0m \u001b[0;34m=\u001b[0m \u001b[0mV_record\u001b[0m\u001b[0;34m.\u001b[0m\u001b[0mat\u001b[0m\u001b[0;34m[\u001b[0m\u001b[0mi\u001b[0m\u001b[0;34m]\u001b[0m\u001b[0;34m.\u001b[0m\u001b[0mset\u001b[0m\u001b[0;34m(\u001b[0m\u001b[0mV\u001b[0m\u001b[0;34m)\u001b[0m\u001b[0;34m\u001b[0m\u001b[0;34m\u001b[0m\u001b[0m\n\u001b[0m\u001b[1;32m     11\u001b[0m         \u001b[0;31m#I = A*jnp.sin(w*time)\u001b[0m\u001b[0;34m\u001b[0m\u001b[0;34m\u001b[0m\u001b[0m\n\u001b[1;32m     12\u001b[0m         \u001b[0;31m#I = I_stimulus[i]\u001b[0m\u001b[0;34m\u001b[0m\u001b[0;34m\u001b[0m\u001b[0m\n",
      "\u001b[0;32m~/opt/anaconda3/lib/python3.9/site-packages/jax/_src/numpy/array_methods.py\u001b[0m in \u001b[0;36mset\u001b[0;34m(self, values, indices_are_sorted, unique_indices, mode)\u001b[0m\n\u001b[1;32m    480\u001b[0m     \u001b[0mSee\u001b[0m \u001b[0;34m:\u001b[0m\u001b[0mmod\u001b[0m\u001b[0;34m:\u001b[0m\u001b[0;31m`\u001b[0m\u001b[0mjax\u001b[0m\u001b[0;34m.\u001b[0m\u001b[0mops\u001b[0m\u001b[0;31m`\u001b[0m \u001b[0;32mfor\u001b[0m \u001b[0mdetails\u001b[0m\u001b[0;34m.\u001b[0m\u001b[0;34m\u001b[0m\u001b[0;34m\u001b[0m\u001b[0m\n\u001b[1;32m    481\u001b[0m     \"\"\"\n\u001b[0;32m--> 482\u001b[0;31m     return scatter._scatter_update(self.array, self.index, values, lax.scatter,\n\u001b[0m\u001b[1;32m    483\u001b[0m                                    \u001b[0mindices_are_sorted\u001b[0m\u001b[0;34m=\u001b[0m\u001b[0mindices_are_sorted\u001b[0m\u001b[0;34m,\u001b[0m\u001b[0;34m\u001b[0m\u001b[0;34m\u001b[0m\u001b[0m\n\u001b[1;32m    484\u001b[0m                                    unique_indices=unique_indices, mode=mode)\n",
      "\u001b[0;32m~/opt/anaconda3/lib/python3.9/site-packages/jax/_src/ops/scatter.py\u001b[0m in \u001b[0;36m_scatter_update\u001b[0;34m(x, idx, y, scatter_op, indices_are_sorted, unique_indices, mode, normalize_indices)\u001b[0m\n\u001b[1;32m     76\u001b[0m   \u001b[0;31m# is more or less a transpose of the gather equivalent.\u001b[0m\u001b[0;34m\u001b[0m\u001b[0;34m\u001b[0m\u001b[0m\n\u001b[1;32m     77\u001b[0m   \u001b[0mtreedef\u001b[0m\u001b[0;34m,\u001b[0m \u001b[0mstatic_idx\u001b[0m\u001b[0;34m,\u001b[0m \u001b[0mdynamic_idx\u001b[0m \u001b[0;34m=\u001b[0m \u001b[0mjnp\u001b[0m\u001b[0;34m.\u001b[0m\u001b[0m_split_index_for_jit\u001b[0m\u001b[0;34m(\u001b[0m\u001b[0midx\u001b[0m\u001b[0;34m,\u001b[0m \u001b[0mx\u001b[0m\u001b[0;34m.\u001b[0m\u001b[0mshape\u001b[0m\u001b[0;34m)\u001b[0m\u001b[0;34m\u001b[0m\u001b[0;34m\u001b[0m\u001b[0m\n\u001b[0;32m---> 78\u001b[0;31m   return _scatter_impl(x, y, scatter_op, treedef, static_idx, dynamic_idx,\n\u001b[0m\u001b[1;32m     79\u001b[0m                        \u001b[0mindices_are_sorted\u001b[0m\u001b[0;34m,\u001b[0m \u001b[0munique_indices\u001b[0m\u001b[0;34m,\u001b[0m \u001b[0mmode\u001b[0m\u001b[0;34m,\u001b[0m\u001b[0;34m\u001b[0m\u001b[0;34m\u001b[0m\u001b[0m\n\u001b[1;32m     80\u001b[0m                        normalize_indices)\n",
      "\u001b[0;32m~/opt/anaconda3/lib/python3.9/site-packages/jax/_src/ops/scatter.py\u001b[0m in \u001b[0;36m_scatter_impl\u001b[0;34m(x, y, scatter_op, treedef, static_idx, dynamic_idx, indices_are_sorted, unique_indices, mode, normalize_indices)\u001b[0m\n\u001b[1;32m    111\u001b[0m \u001b[0;34m\u001b[0m\u001b[0m\n\u001b[1;32m    112\u001b[0m   \u001b[0;31m# Broadcast `y` to the slice output shape.\u001b[0m\u001b[0;34m\u001b[0m\u001b[0;34m\u001b[0m\u001b[0m\n\u001b[0;32m--> 113\u001b[0;31m   \u001b[0my\u001b[0m \u001b[0;34m=\u001b[0m \u001b[0mjnp\u001b[0m\u001b[0;34m.\u001b[0m\u001b[0mbroadcast_to\u001b[0m\u001b[0;34m(\u001b[0m\u001b[0my\u001b[0m\u001b[0;34m,\u001b[0m \u001b[0mtuple\u001b[0m\u001b[0;34m(\u001b[0m\u001b[0mindexer\u001b[0m\u001b[0;34m.\u001b[0m\u001b[0mslice_shape\u001b[0m\u001b[0;34m)\u001b[0m\u001b[0;34m)\u001b[0m\u001b[0;34m\u001b[0m\u001b[0;34m\u001b[0m\u001b[0m\n\u001b[0m\u001b[1;32m    114\u001b[0m   \u001b[0;31m# Collapse any `None`/`jnp.newaxis` dimensions.\u001b[0m\u001b[0;34m\u001b[0m\u001b[0;34m\u001b[0m\u001b[0m\n\u001b[1;32m    115\u001b[0m   \u001b[0my\u001b[0m \u001b[0;34m=\u001b[0m \u001b[0mjnp\u001b[0m\u001b[0;34m.\u001b[0m\u001b[0msqueeze\u001b[0m\u001b[0;34m(\u001b[0m\u001b[0my\u001b[0m\u001b[0;34m,\u001b[0m \u001b[0maxis\u001b[0m\u001b[0;34m=\u001b[0m\u001b[0mindexer\u001b[0m\u001b[0;34m.\u001b[0m\u001b[0mnewaxis_dims\u001b[0m\u001b[0;34m)\u001b[0m\u001b[0;34m\u001b[0m\u001b[0;34m\u001b[0m\u001b[0m\n",
      "\u001b[0;32m~/opt/anaconda3/lib/python3.9/site-packages/jax/_src/numpy/lax_numpy.py\u001b[0m in \u001b[0;36mbroadcast_to\u001b[0;34m(array, shape)\u001b[0m\n\u001b[1;32m   1188\u001b[0m \"\"\")\n\u001b[1;32m   1189\u001b[0m \u001b[0;32mdef\u001b[0m \u001b[0mbroadcast_to\u001b[0m\u001b[0;34m(\u001b[0m\u001b[0marray\u001b[0m\u001b[0;34m:\u001b[0m \u001b[0mArrayLike\u001b[0m\u001b[0;34m,\u001b[0m \u001b[0mshape\u001b[0m\u001b[0;34m:\u001b[0m \u001b[0mDimSize\u001b[0m \u001b[0;34m|\u001b[0m \u001b[0mShape\u001b[0m\u001b[0;34m)\u001b[0m \u001b[0;34m->\u001b[0m \u001b[0mArray\u001b[0m\u001b[0;34m:\u001b[0m\u001b[0;34m\u001b[0m\u001b[0;34m\u001b[0m\u001b[0m\n\u001b[0;32m-> 1190\u001b[0;31m   \u001b[0;32mreturn\u001b[0m \u001b[0mutil\u001b[0m\u001b[0;34m.\u001b[0m\u001b[0m_broadcast_to\u001b[0m\u001b[0;34m(\u001b[0m\u001b[0marray\u001b[0m\u001b[0;34m,\u001b[0m \u001b[0mshape\u001b[0m\u001b[0;34m)\u001b[0m\u001b[0;34m\u001b[0m\u001b[0;34m\u001b[0m\u001b[0m\n\u001b[0m\u001b[1;32m   1191\u001b[0m \u001b[0;34m\u001b[0m\u001b[0m\n\u001b[1;32m   1192\u001b[0m \u001b[0;34m\u001b[0m\u001b[0m\n",
      "\u001b[0;32m~/opt/anaconda3/lib/python3.9/site-packages/jax/_src/numpy/util.py\u001b[0m in \u001b[0;36m_broadcast_to\u001b[0;34m(arr, shape)\u001b[0m\n\u001b[1;32m    403\u001b[0m     \u001b[0mshape_tail\u001b[0m \u001b[0;34m=\u001b[0m \u001b[0mshape\u001b[0m\u001b[0;34m[\u001b[0m\u001b[0mnlead\u001b[0m\u001b[0;34m:\u001b[0m\u001b[0;34m]\u001b[0m\u001b[0;34m\u001b[0m\u001b[0;34m\u001b[0m\u001b[0m\n\u001b[1;32m    404\u001b[0m     compatible = all(core.definitely_equal_one_of_dim(arr_d, [1, shape_d])\n\u001b[0;32m--> 405\u001b[0;31m                      for arr_d, shape_d in safe_zip(arr_shape, shape_tail))\n\u001b[0m\u001b[1;32m    406\u001b[0m     \u001b[0;32mif\u001b[0m \u001b[0mnlead\u001b[0m \u001b[0;34m<\u001b[0m \u001b[0;36m0\u001b[0m \u001b[0;32mor\u001b[0m \u001b[0;32mnot\u001b[0m \u001b[0mcompatible\u001b[0m\u001b[0;34m:\u001b[0m\u001b[0;34m\u001b[0m\u001b[0;34m\u001b[0m\u001b[0m\n\u001b[1;32m    407\u001b[0m       \u001b[0mmsg\u001b[0m \u001b[0;34m=\u001b[0m \u001b[0;34m\"Incompatible shapes for broadcasting: {} and requested shape {}\"\u001b[0m\u001b[0;34m\u001b[0m\u001b[0;34m\u001b[0m\u001b[0m\n",
      "\u001b[0;31mValueError\u001b[0m: safe_zip() argument 2 is shorter than argument 1"
     ]
    }
   ],
   "source": [
    "while norm_jk >= 1e-6 * norm_j0:\n",
    "    bk = optimize.line_search(L_func, j_func, Ak, -j_func(Ak))[0]\n",
    "    \n",
    "    Ak = Ak - bk * j_func(Ak)\n",
    "    j_k = j_func(Ak)\n",
    "    norm_jk = np.linalg.norm(j_k)\n",
    "    \n",
    "    LL_sd.append(L_func(Ak))\n",
    "    jacnorms_sd.append(norm_jk)\n",
    "    \n",
    "    count +=1 \n",
    "    print(count)\n",
    "    print(norm_jk)\n",
    "\n",
    "\n",
    "    \n",
    "# Now the solution should be in the variable A (or Ak)\n",
    "# and LL_sd should be a list, with LL[k] = L(V_k)\n",
    "\n",
    "LL_sd = np.array(LL_sd) # Make JJ_sd into array instead of list\n",
    "jacnorms_sd = np.array(jacnorms_sd)"
   ]
  },
  {
   "cell_type": "code",
   "execution_count": 167,
   "id": "f652791e",
   "metadata": {},
   "outputs": [
    {
     "data": {
      "text/plain": [
       "0"
      ]
     },
     "execution_count": 167,
     "metadata": {},
     "output_type": "execute_result"
    }
   ],
   "source": []
  },
  {
   "cell_type": "code",
   "execution_count": null,
   "id": "48cd05a2",
   "metadata": {},
   "outputs": [],
   "source": [
    "norm_g = np.linalg.norm(g_func(Ak))\n",
    "print('||g(u)|| / ||g(u_0)||=', norm_g / norm_g0) # should be less than 1e-6\n",
    "\n",
    "#u_including_endpoints = np.concatenate([[0], uk, [0]])\n",
    "\n",
    "V_final = integrate_HH(V, m, h, n, Ak, w, dt)\n",
    "\n",
    "plt.figure()\n",
    "plt.plot(V_final)\n",
    "plt.title('V (steepest descent)')\n",
    "plt.xlabel('time')\n",
    "plt.ylabel('V')"
   ]
  },
  {
   "cell_type": "code",
   "execution_count": null,
   "id": "78a3cdc9",
   "metadata": {},
   "outputs": [],
   "source": []
  }
 ],
 "metadata": {
  "kernelspec": {
   "display_name": "Python 3 (ipykernel)",
   "language": "python",
   "name": "python3"
  },
  "language_info": {
   "codemirror_mode": {
    "name": "ipython",
    "version": 3
   },
   "file_extension": ".py",
   "mimetype": "text/x-python",
   "name": "python",
   "nbconvert_exporter": "python",
   "pygments_lexer": "ipython3",
   "version": "3.9.7"
  }
 },
 "nbformat": 4,
 "nbformat_minor": 5
}
