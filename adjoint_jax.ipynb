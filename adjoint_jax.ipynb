{
 "cells": [
  {
   "cell_type": "code",
   "execution_count": null,
   "id": "ae07cdb5-9b8c-4260-8a2d-f3c05102a19b",
   "metadata": {
    "tags": []
   },
   "outputs": [],
   "source": [
    "pip install torch"
   ]
  },
  {
   "cell_type": "code",
   "execution_count": null,
   "id": "1999eb56-a36d-4645-abe8-757a06121fc3",
   "metadata": {
    "tags": []
   },
   "outputs": [],
   "source": [
    "pip install torchdiffeq"
   ]
  },
  {
   "cell_type": "code",
   "execution_count": 86,
   "id": "e8b9fbfb-5cc5-40a9-aa1b-9dc840597157",
   "metadata": {},
   "outputs": [],
   "source": [
    "#import numpy as np\n",
    "from scipy.integrate import solve_ivp\n",
    "import matplotlib.pyplot as plt\n",
    "\n",
    "import jax\n",
    "import jax.numpy as jnp\n",
    "#import torch\n",
    "#from torchdiffeq import odeint"
   ]
  },
  {
   "cell_type": "code",
   "execution_count": 87,
   "id": "2cbc8aea-34bb-4822-a005-230f828abc48",
   "metadata": {
    "tags": []
   },
   "outputs": [],
   "source": [
    "jax.config.update(\"jax_enable_x64\", True)\n",
    "\n",
    "# Define HH model parameters\n",
    "g_Na = 120.0  # Sodium conductance (mS/cm^2)\n",
    "g_K = 36.0   # Potassium conductance (mS/cm^2)\n",
    "g_L = 0.3    # Leak conductance (mS/cm^2)\n",
    "E_Na = 50.0  # Sodium reversal potential (mV)\n",
    "E_K = -77.0  # Potassium reversal potential (mV)\n",
    "E_L = -55.0  # Leak reversal potential (mV)\n",
    "C_m = 1.0    # Membrane capacitance (uF/cm^2)\n",
    "\n",
    "# Define the HH model equations\n",
    "def alpha_m(V):\n",
    "    return 0.1 * (V + 40.0) / (1.0 - jnp.exp(-(V + 40.0) / 10.0))\n",
    "\n",
    "def beta_m(V):\n",
    "    return 4.0 * jnp.exp(-(V + 65.0) / 18.0)\n",
    "\n",
    "def alpha_h(V):\n",
    "    return 0.07 * jnp.exp(-(V + 65.0) / 20.0)\n",
    "\n",
    "def beta_h(V):\n",
    "    return 1.0 / (1.0 + jnp.exp(-(V + 35.0) / 10.0))\n",
    "\n",
    "def alpha_n(V):\n",
    "    return 0.01 * (V + 55.0) / (1.0 - jnp.exp(-(V + 55.0) / 10.0))\n",
    "\n",
    "def beta_n(V):\n",
    "    return 0.125 * jnp.exp(-(V + 65) / 80.0)\n",
    "\n",
    "# Define the HH model differential equations\n",
    "def hodgkin_huxley_eq(V, m, h, n, I):\n",
    "    dVdt = (I - g_Na * m**3 * h * (V - E_Na) - g_K * n**4 * (V - E_K) - g_L * (V - E_L)) / C_m\n",
    "    dmdt = alpha_m(V) * (1 - m) - beta_m(V) * m\n",
    "    dhdt = alpha_h(V) * (1 - h) - beta_h(V) * h\n",
    "    dndt = alpha_n(V) * (1 - n) - beta_n(V) * n\n",
    "    return dVdt, dmdt, dhdt, dndt\n",
    "\n",
    "# Define time parameters\n",
    "dt = 0.01  # Time step (ms)\n",
    "t = jnp.arange(0, 50, dt)  # Time vector (ms)\n",
    "\n",
    "# Define input stimulus waveform (e.g., a step current)\n",
    "I_stimulus = jnp.zeros_like(t)\n",
    "#I_stimulus[100:500] = 10.0  # Apply a current step from 100 ms to 500 ms\n",
    "I_stimulus = I_stimulus.at[100:500].set(10.0)\n",
    "\n",
    "# Initialize state variables\n",
    "V = -65.0  # Membrane voltage (mV)\n",
    "m, h, n = 0.05, 0.6, 0.32  # Initial values of gating variables\n",
    "\n",
    "# Simulate the HH model and record data\n",
    "#V_record = []\n",
    "V_record = jnp.zeros_like(t)\n",
    "for i,I in enumerate(I_stimulus):\n",
    "    V_record = V_record.at[i].set(V)\n",
    "    dVdt, dmdt, dhdt, dndt = hodgkin_huxley_eq(V, m, h, n, I)\n",
    "    V += dVdt * dt\n",
    "    m += dmdt * dt\n",
    "    h += dhdt * dt\n",
    "    n += dndt * dt\n",
    "\n",
    "    "
   ]
  },
  {
   "cell_type": "code",
   "execution_count": 88,
   "id": "c0f15412",
   "metadata": {},
   "outputs": [],
   "source": [
    "def integrate_HH(V, m, h, n, I, dt):\n",
    "    V_record = jnp.zeros_like(t)\n",
    "    for i,I in enumerate(I_stimulus):\n",
    "        V_record = V_record.at[i].set(V)\n",
    "        dVdt, dmdt, dhdt, dndt = hodgkin_huxley_eq(V, m, h, n, I)\n",
    "        V += dVdt * dt\n",
    "        m += dmdt * dt\n",
    "        h += dhdt * dt\n",
    "        n += dndt * dt\n",
    "    return V_record\n",
    "\n",
    "\n",
    "    "
   ]
  },
  {
   "cell_type": "code",
   "execution_count": 89,
   "id": "7857b4d2",
   "metadata": {},
   "outputs": [
    {
     "data": {
      "text/plain": [
       "<matplotlib.legend.Legend at 0x7f8a6f32d250>"
      ]
     },
     "execution_count": 89,
     "metadata": {},
     "output_type": "execute_result"
    },
    {
     "data": {
      "image/png": "[encoded data removed]",
      "text/plain": [
       "<Figure size 432x288 with 1 Axes>"
      ]
     },
     "metadata": {
      "needs_background": "light"
     },
     "output_type": "display_data"
    }
   ],
   "source": [
    "plt.plot(t, V_record, label = 'V')\n",
    "plt.plot(t, I_stimulus, label = 'I')\n",
    "plt.xlabel('time')\n",
    "plt.legend()"
   ]
  },
  {
   "cell_type": "code",
   "execution_count": 90,
   "id": "6ddde20c-6037-4df9-90f4-83aee164da92",
   "metadata": {
    "tags": []
   },
   "outputs": [],
   "source": [
    "\n",
    "\n",
    "def hodgkin_huxley_neural_ode(t, z, I_stimulus):\n",
    "    V, m, h, n = z\n",
    "    dVdt, dmdt, dhdt, dndt = hodgkin_huxley_eq(V, m, h, n, I_stimulus)\n",
    "    return [dVdt, dmdt, dhdt, dndt]\n",
    "\n",
    "# Create a function to solve the neural ODE\n",
    "def solve_neural_ode(I_stimulus, t_span):\n",
    "    z0 = [-65.0, 0.05, 0.6, 0.32]  # Initial conditions for V, m, h, n\n",
    "    return odeint(hodgkin_huxley_neural_ode, torch.tensor(z0), t_span, args=(I_stimulus,))\n"
   ]
  },
  {
   "cell_type": "code",
   "execution_count": null,
   "id": "1763c02e-5afc-465a-af2f-2d45b1662bbe",
   "metadata": {},
   "outputs": [],
   "source": []
  },
  {
   "cell_type": "markdown",
   "id": "072fe10c",
   "metadata": {},
   "source": [
    "## Adjoint"
   ]
  },
  {
   "cell_type": "code",
   "execution_count": 6,
   "id": "5f3922a5",
   "metadata": {},
   "outputs": [],
   "source": [
    "# #np.load('./sim_data/t_vec.p', allow_pickle = True)\n",
    "# import pickle\n",
    "\n",
    "# import neuron.hoc39\n",
    "# #from neuron import h, gui\n",
    "# t_file = './sim_data/t_vec.p'\n",
    "\n",
    "\n",
    "# with open(t_file, mode='rb') as f:\n",
    "#     t_data = pickle.load(f)\n"
   ]
  },
  {
   "cell_type": "markdown",
   "id": "f64921d2",
   "metadata": {},
   "source": [
    "#### Fake Data"
   ]
  },
  {
   "cell_type": "code",
   "execution_count": 91,
   "id": "6a8d50cb",
   "metadata": {},
   "outputs": [],
   "source": [
    "# run forward model to create fake data to test adjoint\n",
    "\n",
    "from jax import random\n",
    "\n",
    "# Initialize state variables\n",
    "V = -65.0  # Membrane voltage (mV)\n",
    "m, h, n = 0.05, 0.6, 0.32  # Initial values of gating variables\n",
    "\n",
    "V_record = jnp.zeros_like(t)\n",
    "for i,I in enumerate(I_stimulus):\n",
    "    V_record = V_record.at[i].set(V)\n",
    "    dVdt, dmdt, dhdt, dndt = hodgkin_huxley_eq(V, m, h, n, I)\n",
    "    V += dVdt * dt\n",
    "    m += dmdt * dt\n",
    "    h += dhdt * dt\n",
    "    n += dndt * dt\n",
    "\n",
    "V_subsamp = V_record[::10]\n",
    "    \n",
    "mean = jnp.mean(V_subsamp)\n",
    "stddev = jnp.std(V_subsamp)\n",
    "\n",
    "key = random.PRNGKey(1701)\n",
    "noise = mean + stddev * random.normal(key, shape=(len(V_subsamp),))\n",
    "\n",
    "V_data = V_subsamp + noise\n",
    "\n",
    "data_steps = t[::10]"
   ]
  },
  {
   "cell_type": "code",
   "execution_count": 92,
   "id": "bae72a52",
   "metadata": {},
   "outputs": [
    {
     "data": {
      "text/plain": [
       "<matplotlib.legend.Legend at 0x7f8a6fe98b50>"
      ]
     },
     "execution_count": 92,
     "metadata": {},
     "output_type": "execute_result"
    },
    {
     "data": {
      "image/png": "[encoded data removed]",
      "text/plain": [
       "<Figure size 432x288 with 1 Axes>"
      ]
     },
     "metadata": {
      "needs_background": "light"
     },
     "output_type": "display_data"
    }
   ],
   "source": [
    "plt.plot(t, V_record, label = 'model equivalent')\n",
    "plt.plot(data_steps, V_data, label = 'noisy data')\n",
    "plt.xlabel('time')\n",
    "plt.ylabel('V')\n",
    "plt.legend()"
   ]
  },
  {
   "cell_type": "markdown",
   "id": "3b8b2fbb",
   "metadata": {},
   "source": [
    "#### Compute Gradient"
   ]
  },
  {
   "cell_type": "code",
   "execution_count": 93,
   "id": "995be136",
   "metadata": {},
   "outputs": [],
   "source": [
    "def forward_model_cost(V, m, h, n, I_stimulus, dt, t, data_steps, V_data):\n",
    "    \n",
    "    V_record = jnp.zeros_like(t)\n",
    "    cost = 0\n",
    "\n",
    "    for i, time in enumerate(t):\n",
    "\n",
    "        # run forward step\n",
    "        V_record = V_record.at[i].set(V)\n",
    "        #I = A*jnp.sin(w*time)\n",
    "        I = I_stimulus[i]\n",
    "        \n",
    "        dVdt, dmdt, dhdt, dndt = hodgkin_huxley_eq(V, m, h, n, I)\n",
    "        V += dVdt * dt\n",
    "        m += dmdt * dt\n",
    "        h += dhdt * dt\n",
    "        n += dndt * dt\n",
    "\n",
    "\n",
    "        # compute model-data misfit\n",
    "        if time in data_steps:\n",
    "            j = jnp.where(data_steps == time)\n",
    "            cost += (V_record[i] - V_data[j])**2\n",
    "            \n",
    "    #return V_record, cost\n",
    "    #return cost\n",
    "    return V_record, cost\n",
    "\n",
    "        \n",
    "        "
   ]
  },
  {
   "cell_type": "code",
   "execution_count": 10,
   "id": "35f25242",
   "metadata": {},
   "outputs": [
    {
     "data": {
      "text/plain": [
       "[<matplotlib.lines.Line2D at 0x7f8ae80803d0>]"
      ]
     },
     "execution_count": 10,
     "metadata": {},
     "output_type": "execute_result"
    },
    {
     "data": {
      "image/png": "[encoded data removed]",
      "text/plain": [
       "<Figure size 432x288 with 1 Axes>"
      ]
     },
     "metadata": {
      "needs_background": "light"
     },
     "output_type": "display_data"
    }
   ],
   "source": [
    "A = 10\n",
    "w = 0.5\n",
    "I = A*jnp.sin(w*t)\n",
    "\n",
    "plt.plot(t, I)"
   ]
  },
  {
   "cell_type": "code",
   "execution_count": 11,
   "id": "fa457024",
   "metadata": {},
   "outputs": [],
   "source": [
    "# # Initialize state variables\n",
    "# V = -65.0  # Membrane voltage (mV)\n",
    "# m, h, n = 0.05, 0.6, 0.32  # Initial values of gating variables\n",
    "\n",
    "# A = 10\n",
    "# w = 0.5\n",
    "\n",
    "# total_cost = forward_model_cost(V, m, h, n, I_stimulus, dt, t, data_steps, V_data)"
   ]
  },
  {
   "cell_type": "code",
   "execution_count": 94,
   "id": "136fba06",
   "metadata": {},
   "outputs": [],
   "source": [
    "jac_AD = jax.jacobian(forward_model_cost, argnums=0)"
   ]
  },
  {
   "cell_type": "code",
   "execution_count": 95,
   "id": "0be013ab",
   "metadata": {},
   "outputs": [],
   "source": [
    "# test jax\n",
    "\n",
    "test = jac_AD(V, m, h, n, I_stimulus, dt, t, data_steps, V_data)"
   ]
  },
  {
   "cell_type": "code",
   "execution_count": 96,
   "id": "0faf983b",
   "metadata": {},
   "outputs": [
    {
     "data": {
      "text/plain": [
       "(5000, 1)"
      ]
     },
     "execution_count": 96,
     "metadata": {},
     "output_type": "execute_result"
    }
   ],
   "source": [
    "len(test[0]), len(test[1])"
   ]
  },
  {
   "cell_type": "markdown",
   "id": "14708b1a",
   "metadata": {},
   "source": [
    "#### FD Check"
   ]
  },
  {
   "cell_type": "code",
   "execution_count": 140,
   "id": "041969aa",
   "metadata": {},
   "outputs": [],
   "source": [
    "# FD check wrt I\n",
    "\n",
    "# I1 = np.random.randint(0,10,5000)\n",
    "# L1 = forward_model_cost(V, m, h, n, I1, dt, t, data_steps, V_data)\n",
    "\n",
    "# p = np.random.randint(0,10,5000)\n",
    "# s = 1e-7 # step size\n",
    "# I2 = I1 + s*p\n",
    "# L2 = forward_model_cost(V, m, h, n, I2, dt, t, data_steps, V_data)\n",
    "# dL_dI_p_diff = (L2[0] - L1[0]) / s\n",
    "\n",
    "# g = grad_AD(V, m, h, n, I1, dt, t, data_steps, V_data)\n",
    "# dJ_du_p = np.dot(g, p)"
   ]
  },
  {
   "cell_type": "code",
   "execution_count": 97,
   "id": "0b886b83",
   "metadata": {},
   "outputs": [
    {
     "name": "stdout",
     "output_type": "stream",
     "text": [
      "step size= 1e-07 , gradient finite difference error= [1.49079025]\n"
     ]
    }
   ],
   "source": [
    "# FD check wrt V\n",
    "\n",
    "import numpy as np\n",
    "V1 = np.random.uniform(-100,0)\n",
    "#V1 = random.uniform(key, shape=(), minval = -100, maxval = 0)\n",
    "L1 = forward_model_cost(V1, m, h, n, I_stimulus, dt, t, data_steps, V_data)\n",
    "\n",
    "p = np.random.randint(0,5000)\n",
    "s = 1e-7 # step size\n",
    "V2 = V1 + s*p\n",
    "L2 = forward_model_cost(V2, m, h, n, I_stimulus, dt, t, data_steps, V_data)\n",
    "dL_dV_p_diff = (L2[1] - L1[1]) / s\n",
    "\n",
    "j = jac_AD(V, m, h, n, I_stimulus, dt, t, data_steps, V_data)\n",
    "dL_dV_p = np.dot(j[1], p)\n",
    "\n",
    "grad_err = np.abs( (dL_dV_p - dL_dV_p_diff) / dL_dV_p_diff )\n",
    "print('step size=', s, ', gradient finite difference error=', grad_err)"
   ]
  },
  {
   "cell_type": "code",
   "execution_count": 99,
   "id": "613005e8",
   "metadata": {},
   "outputs": [
    {
     "data": {
      "text/plain": [
       "(Array([2121889.58904813], dtype=float64),\n",
       " Array([2121890.81394638], dtype=float64))"
      ]
     },
     "execution_count": 99,
     "metadata": {},
     "output_type": "execute_result"
    }
   ],
   "source": [
    "L2[1], L1[1]"
   ]
  },
  {
   "cell_type": "code",
   "execution_count": 100,
   "id": "1098f63e",
   "metadata": {},
   "outputs": [
    {
     "name": "stdout",
     "output_type": "stream",
     "text": [
      "step size= 1.0 , example gradient finite difference error= [nan]\n",
      "step size= 0.1 , example gradient finite difference error= [0.83398375]\n",
      "step size= 0.01 , example gradient finite difference error= [0.53503856]\n",
      "step size= 0.001 , example gradient finite difference error= [0.15061204]\n",
      "step size= 0.0001 , example gradient finite difference error= [0.01623565]\n",
      "step size= 1e-05 , example gradient finite difference error= [0.00164044]\n",
      "step size= 1e-06 , example gradient finite difference error= [0.00016423]\n",
      "step size= 1e-07 , example gradient finite difference error= [1.64280239e-05]\n",
      "step size= 1e-08 , example gradient finite difference error= [1.67885022e-06]\n",
      "step size= 1e-09 , example gradient finite difference error= [8.53394017e-08]\n",
      "step size= 1e-10 , example gradient finite difference error= [4.53487035e-06]\n",
      "step size= 1e-11 , example gradient finite difference error= [1.24375384e-05]\n",
      "step size= 1e-12 , example gradient finite difference error= [0.00023879]\n",
      "step size= 1e-13 , example gradient finite difference error= [0.00336158]\n"
     ]
    },
    {
     "data": {
      "text/plain": [
       "Text(0, 0.5, 'error')"
      ]
     },
     "execution_count": 100,
     "metadata": {},
     "output_type": "execute_result"
    },
    {
     "data": {
      "image/png": "[encoded data removed]",
      "text/plain": [
       "<Figure size 432x288 with 1 Axes>"
      ]
     },
     "metadata": {
      "needs_background": "light"
     },
     "output_type": "display_data"
    }
   ],
   "source": [
    "step_sizes = [1e0, 1e-1, 1e-2, 1e-3, 1e-4, 1e-5, 1e-6, 1e-7, 1e-8, 1e-9, 1e-10, 1e-11, 1e-12, 1e-13]\n",
    "\n",
    "\n",
    "# Make log-log plot of gradient finite difference error vs. step size\n",
    "\n",
    "V1 = np.random.uniform(-100,0)\n",
    "L1 = forward_model_cost(V1, m, h, n, I_stimulus, dt, t, data_steps, V_data)\n",
    "\n",
    "# compute gradient using autograd\n",
    "# g = grad_AD(V1, m, h, n, I_stimulus, dt, t, data_steps, V_data)\n",
    "# dL_dV_p = np.dot(g, p)\n",
    "\n",
    "j = jac_AD(V1, m, h, n, I_stimulus, dt, t, data_steps, V_data)\n",
    "dL_dV_p = np.dot(j[1], p)\n",
    "\n",
    "\n",
    "grad_errs = list()\n",
    "for s in step_sizes:\n",
    "    \n",
    "    # compute gradient using finite differences\n",
    "    V2 = V1 + s*p\n",
    "\n",
    "    L2 = forward_model_cost(V2, m, h, n, I_stimulus, dt, t, data_steps, V_data)\n",
    "    dL_dV_p_diff = (L2[1] - L1[1]) / s\n",
    "\n",
    "\n",
    "    # compute gradient error\n",
    "    grad_err = np.abs( (dL_dV_p - dL_dV_p_diff) / dL_dV_p_diff )\n",
    "    print('step size=', s, ', example gradient finite difference error=', grad_err)\n",
    "    \n",
    "    grad_errs.append(grad_err)\n",
    "\n",
    "plt.loglog(step_sizes, grad_errs)\n",
    "plt.title('Example finite difference gradient check')\n",
    "plt.xlabel('step size')\n",
    "plt.ylabel('error')\n",
    "\n"
   ]
  },
  {
   "cell_type": "markdown",
   "id": "d3117794",
   "metadata": {},
   "source": [
    "#### Steepest Descent"
   ]
  },
  {
   "cell_type": "code",
   "execution_count": 102,
   "id": "ea1c2756",
   "metadata": {},
   "outputs": [
    {
     "ename": "TypeError",
     "evalue": "bad operand type for unary -: 'tuple'",
     "output_type": "error",
     "traceback": [
      "\u001b[0;31m---------------------------------------------------------------------------\u001b[0m",
      "\u001b[0;31mTypeError\u001b[0m                                 Traceback (most recent call last)",
      "\u001b[0;32m/var/folders/6j/fcfm9_6n3rg0rg4_4flv5ks00000gq/T/ipykernel_33882/215061528.py\u001b[0m in \u001b[0;36m<module>\u001b[0;34m\u001b[0m\n\u001b[1;32m     24\u001b[0m \u001b[0;34m\u001b[0m\u001b[0m\n\u001b[1;32m     25\u001b[0m \u001b[0;32mwhile\u001b[0m \u001b[0mnorm_jk\u001b[0m \u001b[0;34m>=\u001b[0m \u001b[0;36m1e-6\u001b[0m \u001b[0;34m*\u001b[0m \u001b[0mnorm_j0\u001b[0m\u001b[0;34m:\u001b[0m\u001b[0;34m\u001b[0m\u001b[0;34m\u001b[0m\u001b[0m\n\u001b[0;32m---> 26\u001b[0;31m     \u001b[0mbk\u001b[0m \u001b[0;34m=\u001b[0m \u001b[0moptimize\u001b[0m\u001b[0;34m.\u001b[0m\u001b[0mline_search\u001b[0m\u001b[0;34m(\u001b[0m\u001b[0mL_func\u001b[0m\u001b[0;34m,\u001b[0m \u001b[0mj_func\u001b[0m\u001b[0;34m,\u001b[0m \u001b[0mVk\u001b[0m\u001b[0;34m,\u001b[0m \u001b[0;34m-\u001b[0m\u001b[0mj_func\u001b[0m\u001b[0;34m(\u001b[0m\u001b[0mVk\u001b[0m\u001b[0;34m)\u001b[0m\u001b[0;34m)\u001b[0m\u001b[0;34m[\u001b[0m\u001b[0;36m0\u001b[0m\u001b[0;34m]\u001b[0m\u001b[0;34m\u001b[0m\u001b[0;34m\u001b[0m\u001b[0m\n\u001b[0m\u001b[1;32m     27\u001b[0m \u001b[0;34m\u001b[0m\u001b[0m\n\u001b[1;32m     28\u001b[0m     \u001b[0mVk\u001b[0m \u001b[0;34m=\u001b[0m \u001b[0mVk\u001b[0m \u001b[0;34m-\u001b[0m \u001b[0mbk\u001b[0m \u001b[0;34m*\u001b[0m \u001b[0mj_func\u001b[0m\u001b[0;34m(\u001b[0m\u001b[0mVk\u001b[0m\u001b[0;34m)\u001b[0m\u001b[0;34m\u001b[0m\u001b[0;34m\u001b[0m\u001b[0m\n",
      "\u001b[0;31mTypeError\u001b[0m: bad operand type for unary -: 'tuple'"
     ]
    }
   ],
   "source": [
    "from scipy import optimize\n",
    "\n",
    "L_func = lambda V: forward_model_cost(V, m, h, n, I_stimulus, dt, t, data_steps, V_data)\n",
    "j_func = lambda V: jac_AD(V, m, h, n, I_stimulus, dt, t, data_steps, V_data)\n",
    "\n",
    "L0 = L_func(V)\n",
    "j0 = j_func(V)[1]\n",
    "\n",
    "norm_j0 = np.linalg.norm(j0)\n",
    "\n",
    "\n",
    "LL_sd = list()\n",
    "LL_sd.append(L0) # Keep appending the value of J to this list each iteration\n",
    "\n",
    "jacnorms_sd = list()\n",
    "jacnorms_sd.append(norm_j0)\n",
    "\n",
    "\n",
    "# Solve optimization problem using method of steepest descent. \n",
    "\n",
    "Vk = V\n",
    "norm_jk = norm_j0\n",
    "\n",
    "\n",
    "while norm_jk >= 1e-6 * norm_j0:\n",
    "    bk = optimize.line_search(L_func, j_func, Vk, -j_func(Vk))[0]\n",
    "    \n",
    "    Vk = Vk - bk * j_func(Vk)\n",
    "    j_k = j_func(Vk)\n",
    "    norm_jk = np.linalg.norm(j_k)\n",
    "    \n",
    "    LL_sd.append(L_func(Vk))\n",
    "    jacnorms_sd.append(norm_jk)\n",
    "\n",
    "\n",
    "    \n",
    "# Now the solution should be in the variable u\n",
    "# and LL_sd should be a list, with LL[k] = L(V_k)\n",
    "\n",
    "LL_sd = np.array(LL_sd) # Make JJ_sd into array instead of list\n",
    "jacnorms_sd = np.array(jacnorms_sd)\n",
    "\n"
   ]
  },
  {
   "cell_type": "code",
   "execution_count": null,
   "id": "f652791e",
   "metadata": {},
   "outputs": [],
   "source": [
    "Vk"
   ]
  },
  {
   "cell_type": "code",
   "execution_count": 20,
   "id": "48cd05a2",
   "metadata": {},
   "outputs": [
    {
     "name": "stdout",
     "output_type": "stream",
     "text": [
      "||g(u)|| / ||g(u_0)||= nan\n"
     ]
    },
    {
     "name": "stderr",
     "output_type": "stream",
     "text": [
      "/var/folders/6j/fcfm9_6n3rg0rg4_4flv5ks00000gq/T/ipykernel_31894/2811535109.py:31: RuntimeWarning: invalid value encountered in double_scalars\n",
      "  dVdt = (I - g_Na * m**3 * h * (V - E_Na) - g_K * n**4 * (V - E_K) - g_L * (V - E_L)) / C_m\n",
      "/var/folders/6j/fcfm9_6n3rg0rg4_4flv5ks00000gq/T/ipykernel_31894/2811535109.py:32: RuntimeWarning: invalid value encountered in double_scalars\n",
      "  dmdt = alpha_m(V) * (1 - m) - beta_m(V) * m\n",
      "/var/folders/6j/fcfm9_6n3rg0rg4_4flv5ks00000gq/T/ipykernel_31894/2811535109.py:33: RuntimeWarning: invalid value encountered in double_scalars\n",
      "  dhdt = alpha_h(V) * (1 - h) - beta_h(V) * h\n",
      "/var/folders/6j/fcfm9_6n3rg0rg4_4flv5ks00000gq/T/ipykernel_31894/2811535109.py:34: RuntimeWarning: invalid value encountered in double_scalars\n",
      "  dndt = alpha_n(V) * (1 - n) - beta_n(V) * n\n"
     ]
    },
    {
     "data": {
      "text/plain": [
       "Text(0, 0.5, 'V')"
      ]
     },
     "execution_count": 20,
     "metadata": {},
     "output_type": "execute_result"
    },
    {
     "data": {
      "image/png": "[encoded data removed]",
      "text/plain": [
       "<Figure size 432x288 with 1 Axes>"
      ]
     },
     "metadata": {
      "needs_background": "light"
     },
     "output_type": "display_data"
    }
   ],
   "source": [
    "norm_g = np.linalg.norm(g_func(Vk))\n",
    "print('||g(u)|| / ||g(u_0)||=', norm_g / norm_g0) # should be less than 1e-6\n",
    "\n",
    "#u_including_endpoints = np.concatenate([[0], uk, [0]])\n",
    "\n",
    "V_final = integrate_HH(Vk, m, h, n, I_stimulus, dt)\n",
    "\n",
    "plt.figure()\n",
    "plt.plot(V_final)\n",
    "plt.title('V (steepest descent)')\n",
    "plt.xlabel('time')\n",
    "plt.ylabel('V')"
   ]
  },
  {
   "cell_type": "code",
   "execution_count": null,
   "id": "78a3cdc9",
   "metadata": {},
   "outputs": [],
   "source": []
  }
 ],
 "metadata": {
  "kernelspec": {
   "display_name": "Python 3 (ipykernel)",
   "language": "python",
   "name": "python3"
  },
  "language_info": {
   "codemirror_mode": {
    "name": "ipython",
    "version": 3
   },
   "file_extension": ".py",
   "mimetype": "text/x-python",
   "name": "python",
   "nbconvert_exporter": "python",
   "pygments_lexer": "ipython3",
   "version": "3.9.7"
  }
 },
 "nbformat": 4,
 "nbformat_minor": 5
}
