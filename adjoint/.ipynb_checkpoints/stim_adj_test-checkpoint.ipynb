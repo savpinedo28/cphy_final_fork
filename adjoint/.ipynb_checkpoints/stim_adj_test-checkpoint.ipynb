{
 "cells": [
  {
   "cell_type": "code",
   "execution_count": 1,
   "id": "c64ad8eb",
   "metadata": {},
   "outputs": [],
   "source": [
    "import sys\n",
    "import os\n",
    "sys.path.append('../')\n",
    "import autograd.numpy as np \n",
    "from autograd import grad\n",
    "from scipy import optimize\n",
    "import matplotlib.pyplot as plt\n",
    "\n",
    "from stim_adj import stim_adj\n",
    "from upload import retrieve_file"
   ]
  },
  {
   "cell_type": "markdown",
   "id": "c9df8dee",
   "metadata": {},
   "source": [
    "In this example, we use data from an L5PC neuron with one action potential to invert for the impulse used to stimulate a Hodgkin-Huxley neuron. We assume this impulse is a Gaussian, determine the center of Gaussian from the action potential data, and invert for the height and duration of the impulse. \n"
   ]
  },
  {
   "cell_type": "markdown",
   "id": "748e9581",
   "metadata": {},
   "source": [
    "## Load Data"
   ]
  },
  {
   "cell_type": "code",
   "execution_count": 2,
   "id": "6c35ef2b",
   "metadata": {},
   "outputs": [],
   "source": [
    "retrieve_file?"
   ]
  },
  {
   "cell_type": "code",
   "execution_count": 3,
   "id": "096d36a2",
   "metadata": {},
   "outputs": [
    {
     "name": "stdout",
     "output_type": "stream",
     "text": [
      "Default chosen of 1 Action Potential\n"
     ]
    }
   ],
   "source": [
    "# creating instance to load specific neuron data\n",
    "neuron_type= 'L5PC'\n",
    "num_ap = 1\n",
    "inst_file = retrieve_file(neuron_type, num_ap)\n",
    "\n",
    "#initialize variables dependent on ground truth data (from upload.py)\n",
    "V_data, I_data, t_data, V0, dt, b = inst_file.load()\n"
   ]
  },
  {
   "cell_type": "markdown",
   "id": "64783c3e",
   "metadata": {},
   "source": [
    "## Invert for Parameters"
   ]
  },
  {
   "cell_type": "code",
   "execution_count": 4,
   "id": "393f2f40",
   "metadata": {},
   "outputs": [],
   "source": [
    "# set Hodgkin-Huxley model parameters and initial guess for impulse height and duration\n",
    "HH_params = 120.0, 36.0, 0.3, 50.0, -77.0, -55.0, 1.0, 0.05, 0.6, 0.32\n",
    "guess_a = 5.0\n",
    "guess_c = 2.0\n",
    "\n",
    "# creating instance to run the adjoint model\n",
    "instance = stim_adj(V_data, t_data, dt, HH_params, guess_a, guess_c)\n"
   ]
  },
  {
   "cell_type": "code",
   "execution_count": null,
   "id": "f03ba982",
   "metadata": {},
   "outputs": [],
   "source": [
    "# determine the optimal impulse parameters (X) and save the corresponding voltage (V)\n",
    "I_params, V = instance.recovery()"
   ]
  },
  {
   "cell_type": "code",
   "execution_count": null,
   "id": "06c75ef1",
   "metadata": {},
   "outputs": [],
   "source": [
    "# reconstruct impulse from optimized parameters\n",
    "t = np.arange(0, t_data[-1], dt)\n",
    "I = I_params[0]*np.exp(-(t-b)**2/(2*I_params[1]**2))\n",
    "\n",
    "plt.figure()\n",
    "plt.plot(t, V, ls = 'dotted', label = 'HH Neuron with optimized I')\n",
    "plt.plot(t_data, V_data, label = 'L5PC Neuron')\n",
    "plt.xlabel('Time')\n",
    "plt.ylabel('Voltage')\n",
    "plt.title('Model-Data Comparison')\n",
    "plt.legend()\n",
    "\n",
    "\n",
    "plt.figure(figsize = [12, 4.8])\n",
    "plt.subplot(1,2,1)\n",
    "plt.plot(t_data, I_data, label = 'I')\n",
    "plt.plot(t_data, V_data, label = 'V')\n",
    "plt.xlabel('Time')\n",
    "plt.ylabel('Voltage')\n",
    "plt.title('L5PC Neuron')\n",
    "plt.legend()\n",
    "\n",
    "plt.subplot(1,2,2)\n",
    "plt.plot(t, I, label = 'I')\n",
    "plt.plot(t, V, label = 'V')\n",
    "plt.xlabel('Time')\n",
    "plt.ylabel('Voltage')\n",
    "plt.title('Hodgkin-Huxley Neuron with Optimized Impulse')\n",
    "plt.legend()"
   ]
  },
  {
   "cell_type": "markdown",
   "id": "4ed37584",
   "metadata": {},
   "source": [
    "## Testing\n",
    "\n",
    "Perform a finite difference check to ensure gradient is computed correctly."
   ]
  },
  {
   "cell_type": "code",
   "execution_count": null,
   "id": "035354f2",
   "metadata": {},
   "outputs": [],
   "source": [
    "instance.fd_check?"
   ]
  },
  {
   "cell_type": "code",
   "execution_count": null,
   "id": "abf142e2",
   "metadata": {},
   "outputs": [],
   "source": [
    "# see docstrings for argument options\n",
    "instance.fd_check(1, 0)"
   ]
  },
  {
   "cell_type": "code",
   "execution_count": null,
   "id": "ed6120bf",
   "metadata": {},
   "outputs": [],
   "source": []
  }
 ],
 "metadata": {
  "kernelspec": {
   "display_name": "Python 3 (ipykernel)",
   "language": "python",
   "name": "python3"
  },
  "language_info": {
   "codemirror_mode": {
    "name": "ipython",
    "version": 3
   },
   "file_extension": ".py",
   "mimetype": "text/x-python",
   "name": "python",
   "nbconvert_exporter": "python",
   "pygments_lexer": "ipython3",
   "version": "3.11.4"
  }
 },
 "nbformat": 4,
 "nbformat_minor": 5
}
