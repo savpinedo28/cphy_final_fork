{
 "cells": [
  {
   "cell_type": "code",
   "execution_count": 40,
   "id": "ba964b1d",
   "metadata": {},
   "outputs": [],
   "source": [
    "import warnings \n",
    "import zipfile\n",
    "import numpy as np\n",
    "import pandas as pd\n",
    "\n",
    "class recovery_file:\n",
    "    def __init__(self, neuron_type= 'L5PC', num_ap = 1, V_data = None, I_data = None, t_data = None ):\n",
    "        self.neuron = neuron_type\n",
    "        self.num_ap = num_ap\n",
    "        self.V_data  = V_data\n",
    "        self.I_data = I_data\n",
    "        self.t_data = t_data\n",
    "    def load(self):\n",
    "        if self.neuron == 'L5PC':\n",
    "            if self.num_ap >= 2:\n",
    "                warnings.warn(\"For multiple action potentials, defaulted to general repetitive firing\")\n",
    "                fname = 'gt_multa'\n",
    "            elif self.num_ap == 0:\n",
    "                fname = 'gt_noa'\n",
    "            else:\n",
    "                print('Default choosen of 1 Action Potential')\n",
    "                fname = 'gt_1a'\n",
    "            with zipfile.ZipFile('./sim_data/' + fname + '.zip', 'r') as zip_ref:\n",
    "                zip_ref.extractall()\n",
    "            with open(fname + '.csv') as csvfile:\n",
    "                df = pd.read_csv(csvfile)\n",
    "            self.I_data = df['stim'].to_numpy()\n",
    "            self.V_data = df['voltage'].to_numpy()\n",
    "            self.t_data = df['time'].to_numpy() \n",
    "            self.dt = df['time'][1]-df['time'][0]\n",
    "            self.V0 = df['voltage'][0]\n",
    "        elif self.neuron == 'HH':\n",
    "            if self.num_ap >= 2: \n",
    "                warnings.warn(\"For multiple action potentials, defaulted to general repetitive firing\")\n",
    "                fname = 'hh_multap'\n",
    "            elif self.num_ap == 0:\n",
    "                fname = 'hh_noap'\n",
    "            else: \n",
    "                fname = 'hh_1ap'\n",
    "            with zipfile.ZipFile('./sim_data/' + fname + '.zip', 'r') as zip_ref:\n",
    "                csv_file_name = zip_ref.namelist()[0]\n",
    "                with zip_ref.open(csv_file_name) as csv_file:\n",
    "                    df = pd.read_csv(csv_file)\n",
    "            self.V_data = df['voltage'].to_numpy()\n",
    "            self.I_data = df['stim'].to_numpy()\n",
    "            self.t_data = df['time'].to_numpy() \n",
    "            self.dt = df['time'][1]-df['time'][0]\n",
    "            self.V0 = df['voltage'][0]\n",
    "        elif self.neuron == 'manual':\n",
    "            if self.V_data is None or self.I_data is None or self.t_data is None:\n",
    "                raise Exception(\"Missing parameter, argument requires voltage, time, and input stim array \")\n",
    "                pass\n",
    "            else:\n",
    "                self.V_data  = self.V_data.to_numpy()\n",
    "                self.I_data = self.I_data.to_numpy()\n",
    "                self.t_data = self.t_data.to_numpy()\n",
    "                self.V0 = self.V_data[0]\n",
    "                self.dt = self.t_data[1]-self.t_data[0]\n",
    "        else:\n",
    "            raise Exception(\"Sorry this is not a valid choice of neuron model for this problem, please choose HH, L5PC, or manually insert your data \")\n",
    "            pass #raise warning here to input valid input"
   ]
  },
  {
   "cell_type": "code",
   "execution_count": 41,
   "id": "71f9698f",
   "metadata": {},
   "outputs": [
    {
     "name": "stdout",
     "output_type": "stream",
     "text": [
      "[-80.       -80.000114 -80.00022  ... -81.551445 -81.55139  -81.55134 ]\n",
      "[0. 0. 0. ... 0. 0. 0.]\n",
      "[0.00000e+00 1.00000e-03 2.00000e-03 ... 2.49998e+02 2.49999e+02\n",
      " 2.50000e+02]\n",
      "0.001\n",
      "-80.0\n"
     ]
    },
    {
     "name": "stderr",
     "output_type": "stream",
     "text": [
      "/var/folders/y5/qy3mtncn089941sxdcnsvzn80000gn/T/ipykernel_13395/2417480605.py:16: UserWarning: For multiple action potentials, defaulted to general repetitive firing\n",
      "  warnings.warn(\"For multiple action potentials, defaulted to general repetitive firing\")\n"
     ]
    }
   ],
   "source": [
    "test_L5 = recovery_file('L5PC', 3)\n",
    "test_L5.load()\n",
    "print(test_L5.V_data)\n",
    "print(test_L5.I_data)\n",
    "print(test_L5.t_data)\n",
    "print(test_L5.dt)\n",
    "print(test_L5.V0)"
   ]
  },
  {
   "cell_type": "code",
   "execution_count": 42,
   "id": "9f645f04",
   "metadata": {},
   "outputs": [
    {
     "name": "stdout",
     "output_type": "stream",
     "text": [
      "[-65.         -64.98267944 -64.96518996 ... -64.19355688 -64.19355688\n",
      " -64.19355688]\n",
      "[1. 1. 1. ... 1. 1. 1.]\n",
      "[0.00000e+00 2.50000e-02 5.00000e-02 ... 2.49925e+02 2.49950e+02\n",
      " 2.49975e+02]\n",
      "0.025\n",
      "-65.0\n"
     ]
    }
   ],
   "source": [
    "test_HH = recovery_file('HH', 0)\n",
    "test_HH.load()\n",
    "print(test_HH.V_data)\n",
    "print(test_HH.I_data)\n",
    "print(test_HH.t_data)\n",
    "print(test_HH.dt)\n",
    "print(test_HH.V0)"
   ]
  },
  {
   "cell_type": "code",
   "execution_count": 43,
   "id": "af0a0d04",
   "metadata": {},
   "outputs": [],
   "source": [
    "zip_file_path = './sim_data/gt_1a_100.zip'\n",
    "with zipfile.ZipFile(zip_file_path, 'r') as zip_ref:\n",
    "    # Assume there is only one CSV file in the zip (you might need to modify this if there are multiple CSV files)\n",
    "    csv_file_name = zip_ref.namelist()[0]\n",
    "\n",
    "    # Read the CSV file directly from the zip file into a pandas DataFrame\n",
    "    with zip_ref.open(csv_file_name) as csv_file:\n",
    "        df_test = pd.read_csv(csv_file)\n",
    "        "
   ]
  },
  {
   "cell_type": "code",
   "execution_count": 44,
   "id": "8dca61cd",
   "metadata": {},
   "outputs": [
    {
     "name": "stdout",
     "output_type": "stream",
     "text": [
      "[-80.       -80.001144 -80.00217  ... -73.5554   -73.55887  -73.56233 ]\n",
      "[0. 0. 0. ... 0. 0. 0.]\n",
      "[0.00000e+00 1.25000e-02 2.50000e-02 ... 9.99750e+01 9.99875e+01\n",
      " 1.00000e+02]\n",
      "0.0125\n",
      "-80.0\n"
     ]
    }
   ],
   "source": [
    "test_man = recovery_file('manual',1 , df_test['voltage'], df_test['stim'], df_test['time'] )\n",
    "test_man.load()\n",
    "print(test_man.V_data)\n",
    "print(test_man.I_data)\n",
    "print(test_man.t_data)\n",
    "print(test_man.dt)\n",
    "print(test_man.V0)"
   ]
  }
 ],
 "metadata": {
  "kernelspec": {
   "display_name": "Python 3 (ipykernel)",
   "language": "python",
   "name": "python3"
  },
  "language_info": {
   "codemirror_mode": {
    "name": "ipython",
    "version": 3
   },
   "file_extension": ".py",
   "mimetype": "text/x-python",
   "name": "python",
   "nbconvert_exporter": "python",
   "pygments_lexer": "ipython3",
   "version": "3.11.4"
  }
 },
 "nbformat": 4,
 "nbformat_minor": 5
}
