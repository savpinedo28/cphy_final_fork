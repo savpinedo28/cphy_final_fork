{
 "cells": [
  {
   "cell_type": "code",
   "execution_count": 3,
   "id": "ae07cdb5-9b8c-4260-8a2d-f3c05102a19b",
   "metadata": {
    "tags": []
   },
   "outputs": [
    {
     "name": "stdout",
     "output_type": "stream",
     "text": [
      "Collecting torch\n",
      "  Obtaining dependency information for torch from https://files.pythonhosted.org/packages/16/dd/1bf10180ba812afa1aa7427466083d731bc37b9a1157ec929d0cfeef87eb/torch-2.1.0-cp311-none-macosx_10_9_x86_64.whl.metadata\n",
      "  Using cached torch-2.1.0-cp311-none-macosx_10_9_x86_64.whl.metadata (24 kB)\n",
      "Requirement already satisfied: filelock in /Users/sophiaepst/anaconda3/lib/python3.11/site-packages (from torch) (3.9.0)\n",
      "Requirement already satisfied: typing-extensions in /Users/sophiaepst/anaconda3/lib/python3.11/site-packages (from torch) (4.7.1)\n",
      "Requirement already satisfied: sympy in /Users/sophiaepst/anaconda3/lib/python3.11/site-packages (from torch) (1.11.1)\n",
      "Requirement already satisfied: networkx in /Users/sophiaepst/anaconda3/lib/python3.11/site-packages (from torch) (3.1)\n",
      "Requirement already satisfied: jinja2 in /Users/sophiaepst/anaconda3/lib/python3.11/site-packages (from torch) (3.1.2)\n",
      "Requirement already satisfied: fsspec in /Users/sophiaepst/anaconda3/lib/python3.11/site-packages (from torch) (2023.3.0)\n",
      "Requirement already satisfied: MarkupSafe>=2.0 in /Users/sophiaepst/anaconda3/lib/python3.11/site-packages (from jinja2->torch) (2.1.1)\n",
      "Requirement already satisfied: mpmath>=0.19 in /Users/sophiaepst/anaconda3/lib/python3.11/site-packages (from sympy->torch) (1.3.0)\n",
      "Using cached torch-2.1.0-cp311-none-macosx_10_9_x86_64.whl (146.7 MB)\n",
      "Installing collected packages: torch\n",
      "Successfully installed torch-2.1.0\n",
      "Note: you may need to restart the kernel to use updated packages.\n"
     ]
    }
   ],
   "source": [
    "pip install torch"
   ]
  },
  {
   "cell_type": "code",
   "execution_count": 5,
   "id": "1999eb56-a36d-4645-abe8-757a06121fc3",
   "metadata": {
    "tags": []
   },
   "outputs": [
    {
     "name": "stdout",
     "output_type": "stream",
     "text": [
      "Collecting torchdiffeq\n",
      "  Using cached torchdiffeq-0.2.3-py3-none-any.whl (31 kB)\n",
      "Requirement already satisfied: torch>=1.3.0 in /Users/sophiaepst/anaconda3/lib/python3.11/site-packages (from torchdiffeq) (2.1.0)\n",
      "Requirement already satisfied: scipy>=1.4.0 in /Users/sophiaepst/anaconda3/lib/python3.11/site-packages (from torchdiffeq) (1.10.1)\n",
      "Requirement already satisfied: numpy<1.27.0,>=1.19.5 in /Users/sophiaepst/anaconda3/lib/python3.11/site-packages (from scipy>=1.4.0->torchdiffeq) (1.24.3)\n",
      "Requirement already satisfied: filelock in /Users/sophiaepst/anaconda3/lib/python3.11/site-packages (from torch>=1.3.0->torchdiffeq) (3.9.0)\n",
      "Requirement already satisfied: typing-extensions in /Users/sophiaepst/anaconda3/lib/python3.11/site-packages (from torch>=1.3.0->torchdiffeq) (4.7.1)\n",
      "Requirement already satisfied: sympy in /Users/sophiaepst/anaconda3/lib/python3.11/site-packages (from torch>=1.3.0->torchdiffeq) (1.11.1)\n",
      "Requirement already satisfied: networkx in /Users/sophiaepst/anaconda3/lib/python3.11/site-packages (from torch>=1.3.0->torchdiffeq) (3.1)\n",
      "Requirement already satisfied: jinja2 in /Users/sophiaepst/anaconda3/lib/python3.11/site-packages (from torch>=1.3.0->torchdiffeq) (3.1.2)\n",
      "Requirement already satisfied: fsspec in /Users/sophiaepst/anaconda3/lib/python3.11/site-packages (from torch>=1.3.0->torchdiffeq) (2023.3.0)\n",
      "Requirement already satisfied: MarkupSafe>=2.0 in /Users/sophiaepst/anaconda3/lib/python3.11/site-packages (from jinja2->torch>=1.3.0->torchdiffeq) (2.1.1)\n",
      "Requirement already satisfied: mpmath>=0.19 in /Users/sophiaepst/anaconda3/lib/python3.11/site-packages (from sympy->torch>=1.3.0->torchdiffeq) (1.3.0)\n",
      "Installing collected packages: torchdiffeq\n",
      "Successfully installed torchdiffeq-0.2.3\n",
      "Note: you may need to restart the kernel to use updated packages.\n"
     ]
    }
   ],
   "source": [
    "pip install torchdiffeq"
   ]
  },
  {
   "cell_type": "code",
   "execution_count": 4,
   "id": "e8b9fbfb-5cc5-40a9-aa1b-9dc840597157",
   "metadata": {},
   "outputs": [],
   "source": [
    "import numpy as np\n",
    "import sys\n",
    "import os\n",
    "from scipy.integrate import solve_ivp\n",
    "import torch\n",
    "from torchdiffeq import odeint\n",
    "import WaveformGenerator\n",
    "from WaveformGenerator import Waveform"
   ]
  },
  {
   "cell_type": "markdown",
   "id": "30c2d2bb",
   "metadata": {},
   "source": [
    "To start we introduce an exploration of the Hodgkin Huxley model before defining and implimenting our forward model class."
   ]
  },
  {
   "cell_type": "code",
   "execution_count": 1,
   "id": "2cbc8aea-34bb-4822-a005-230f828abc48",
   "metadata": {
    "tags": []
   },
   "outputs": [],
   "source": [
    "\n",
    "\n",
    "# Define HH model parameters\n",
    "g_Na = 120.0  # Sodium conductance (mS/cm^2)\n",
    "g_K = 36.0   # Potassium conductance (mS/cm^2)\n",
    "g_L = 0.3    # Leak conductance (mS/cm^2)\n",
    "E_Na = 50.0  # Sodium reversal potential (mV)\n",
    "E_K = -77.0  # Potassium reversal potential (mV)\n",
    "E_L = -55.0  # Leak reversal potential (mV)\n",
    "C_m = 1.0    # Membrane capacitance (uF/cm^2)\n",
    "\n",
    "# Define the HH model equations\n",
    "def alpha_m(V):\n",
    "    return 0.1 * (V + 40.0) / (1.0 - np.exp(-(V + 40.0) / 10.0))\n",
    "\n",
    "def beta_m(V):\n",
    "    return 4.0 * np.exp(-(V + 65.0) / 18.0)\n",
    "\n",
    "def alpha_h(V):\n",
    "    return 0.07 * np.exp(-(V + 65.0) / 20.0)\n",
    "\n",
    "def beta_h(V):\n",
    "    return 1.0 / (1.0 + np.exp(-(V + 35.0) / 10.0))\n",
    "\n",
    "def alpha_n(V):\n",
    "    return 0.01 * (V + 55.0) / (1.0 - np.exp(-(V + 55.0) / 10.0))\n",
    "\n",
    "def beta_n(V):\n",
    "    return 0.125 * np.exp(-(V + 65) / 80.0)\n",
    "\n",
    "# Define the HH model differential equations\n",
    "def hodgkin_huxley_eq(V, m, h, n, I):\n",
    "    dVdt = (I - g_Na * m**3 * h * (V - E_Na) - g_K * n**4 * (V - E_K) - g_L * (V - E_L)) / C_m\n",
    "    dmdt = alpha_m(V) * (1 - m) - beta_m(V) * m\n",
    "    dhdt = alpha_h(V) * (1 - h) - beta_h(V) * h\n",
    "    dndt = alpha_n(V) * (1 - n) - beta_n(V) * n\n",
    "    return dVdt, dmdt, dhdt, dndt\n",
    "\n",
    "# Define time parameters\n",
    "dt = 0.01  # Time step (ms)\n",
    "t = np.arange(0, 50, dt)  # Time vector (ms)\n",
    "\n",
    "# Define input stimulus waveform (e.g., a step current)\n",
    "I_stimulus = np.zeros_like(t)\n",
    "I_stimulus[100:500] = 10.0  # Apply a current step from 100 ms to 500 ms\n",
    "\n",
    "# Initialize state variables\n",
    "V = -65.0  # Membrane voltage (mV)\n",
    "m, h, n = 0.05, 0.6, 0.32  # Initial values of gating variables\n",
    "\n",
    "# Simulate the HH model and record data\n",
    "V_record = []\n",
    "for I in I_stimulus:\n",
    "    V_record.append(V)\n",
    "    dVdt, dmdt, dhdt, dndt = hodgkin_huxley_eq(V, m, h, n, I)\n",
    "    V += dVdt * dt\n",
    "    m += dmdt * dt\n",
    "    h += dhdt * dt\n",
    "    n += dndt * dt\n",
    "\n",
    "    "
   ]
  },
  {
   "cell_type": "code",
   "execution_count": 6,
   "id": "6ddde20c-6037-4df9-90f4-83aee164da92",
   "metadata": {
    "tags": []
   },
   "outputs": [],
   "source": [
    "\n",
    "\n",
    "def hodgkin_huxley_neural_ode(t, z, I_stimulus):\n",
    "    V, m, h, n = z\n",
    "    dVdt, dmdt, dhdt, dndt = hodgkin_huxley_eq(V, m, h, n, I_stimulus)\n",
    "    return [dVdt, dmdt, dhdt, dndt]\n",
    "\n",
    "# Create a function to solve the neural ODE\n",
    "def solve_neural_ode(I_stimulus, t_span):\n",
    "    z0 = [-65.0, 0.05, 0.6, 0.32]  # Initial conditions for V, m, h, n\n",
    "    return odeint(hodgkin_huxley_neural_ode, torch.tensor(z0), t_span, args=(I_stimulus,))\n"
   ]
  },
  {
   "cell_type": "code",
   "execution_count": 7,
   "id": "23a0cd19",
   "metadata": {},
   "outputs": [
    {
     "name": "stdout",
     "output_type": "stream",
     "text": [
      "Gaussian Pulse Data:\n",
      "[[0.00000000e+00 6.26734838e-02]\n",
      " [1.00000000e-03 6.30216353e-02]\n",
      " [2.00000000e-03 6.33713693e-02]\n",
      " ...\n",
      " [1.99700000e+00 6.33713693e-02]\n",
      " [1.99800000e+00 6.30216353e-02]\n",
      " [1.99900000e+00 6.26734838e-02]]\n"
     ]
    }
   ],
   "source": [
    "waveform_generator = Waveform(duration=2, sampling_rate=1000)\n",
    "waveform_generator.gaussian_pulse(amplitude=1, fwhm_seconds=1)\n",
    "waveform_data = waveform_generator.get_waveform_data()\n",
    "print(\"Gaussian Pulse Data:\")\n",
    "print(waveform_data)"
   ]
  },
  {
   "cell_type": "code",
   "execution_count": null,
   "id": "3ae84cdb",
   "metadata": {},
   "outputs": [],
   "source": [
    "class HodgkinHuxley:\n",
    "    def __init__(self, stimuli_type, frequency, duration=2, sampling_rate=1000, duty_cycle = 0.5, amplitude=1)\n",
    "        \n",
    "        #parameters from Noah's waveform generator \n",
    "        self.waveform_class = stimuli_type\n",
    "        self.frequency = frequency\n",
    "        self.duration = duration\n",
    "        self.sampling_rate = sampling_rate\n",
    "        self.duty_cycle = duty_cycle\n",
    "        self.amplitude = amplitude\n",
    "        \n",
    "        #hodgkin Huxley parameters\n",
    "        self.C_m = 1.0  # membrane capacitance (uF/cm^2)\n",
    "        self.g_Na = 120.0  # sodium conductance (mS/cm^2)\n",
    "        self.g_K = 36.0  # potassium conductance (mS/cm^2)\n",
    "        self.g_L = 0.3  # leak conductance (mS/cm^2)\n",
    "        self.E_Na = 50.0  # sodium reversal potential (mV)\n",
    "        self.E_K = -77.0  # potassium reversal potential (mV)\n",
    "        self.E_L = -54.387  # leak reversal potential (mV)\n",
    "        \n",
    "    def generate_pulse(self):\n",
    "        waveform_generator = Waveform(self.duration, self.sampling_rate)\n",
    "        if self.waveform_class == 'sine':\n",
    "            waveform_generator.sine_wave(self.frequency, self.amplitude)\n",
    "        elif self.waveform_class == 'triangle':\n",
    "            waveform_generator.triangular_wave(self.frequency, self.amplitude)\n",
    "        elif self.waveform_class == 'gaussian':\n",
    "            waveform_generator.gaussian_pulse(self.amplitude, self.frequency)\n",
    "        elif self.waveform_class == 'square':\n",
    "            waveform_generator.square_wave(self.frequency, self.amplitude)\n",
    "        else: \n",
    "            raise ValueError(\"Waveform type is not valid for this simulation please pick either sine, triangle, gaussian, or square, defaulting to sine\")\n",
    "            waveform_generator.sine_wave(self.frequency, self.amplitude)\n",
    "            \n",
    "        waveform_data = waveform_generator.get_waveform_data()\n",
    "        \n",
    "        return waveform_data\n",
    "    \n",
    "    def model(self, ic, t): \n",
    "        V, m, h, n = ic #defining initial conditions from instance\n",
    "        \n",
    "        # Interpolate the stimulus voltage at the current time\n",
    "        I_stim = np.interp(t, self.generate_pulse()[0], self.generate_pulse()[1])\n",
    "        \n",
    "        # Hodgkin-Huxley equations\n",
    "        dVdt = (I_stim - self.g_Na * m**3 * h * (V - self.E_Na)\n",
    "                - self.g_K * n**4 * (V - self.E_K) - self.g_L * (V - self.E_L)) / self.C_m\n",
    "        dmdt = self.alpha_m(V) * (1 - m) - self.beta_m(V) * m\n",
    "        dhdt = self.alpha_h(V) * (1 - h) - self.beta_h(V) * h\n",
    "        dndt = self.alpha_n(V) * (1 - n) - self.beta_n(V) * n\n",
    "\n",
    "        return [dVdt, dmdt, dhdt, dndt]\n",
    "    \n",
    "    #helper functions for the HH\n",
    "    def alpha_m(self, V):\n",
    "        return 0.1 * (V + 40) / (1 - np.exp(-(V + 40) / 10))\n",
    "\n",
    "    def beta_m(self, V):\n",
    "        return 4.0 * np.exp(-(V + 65) / 18)\n",
    "\n",
    "    def alpha_h(self, V):\n",
    "        return 0.07 * np.exp(-(V + 65) / 20)\n",
    "\n",
    "    def beta_h(self, V):\n",
    "        return 1.0 / (1 + np.exp(-(V + 35) / 10))\n",
    "\n",
    "    def alpha_n(self, V):\n",
    "        return 0.01 * (V + 55) / (1 - np.exp(-(V + 55) / 10))\n",
    "\n",
    "    def beta_n(self, V):\n",
    "        return 0.125 * np.exp(-(V + 65) / 80)\n",
    "\n",
    "    def simulate(self, y0, t):\n",
    "        solution = odeint(self.model, y0, t)\n",
    "        return solution    \n",
    "        \n",
    "        "
   ]
  },
  {
   "cell_type": "code",
   "execution_count": null,
   "id": "1763c02e-5afc-465a-af2f-2d45b1662bbe",
   "metadata": {},
   "outputs": [],
   "source": []
  }
 ],
 "metadata": {
  "kernelspec": {
   "display_name": "Python 3 (ipykernel)",
   "language": "python",
   "name": "python3"
  },
  "language_info": {
   "codemirror_mode": {
    "name": "ipython",
    "version": 3
   },
   "file_extension": ".py",
   "mimetype": "text/x-python",
   "name": "python",
   "nbconvert_exporter": "python",
   "pygments_lexer": "ipython3",
   "version": "3.11.4"
  }
 },
 "nbformat": 4,
 "nbformat_minor": 5
}
