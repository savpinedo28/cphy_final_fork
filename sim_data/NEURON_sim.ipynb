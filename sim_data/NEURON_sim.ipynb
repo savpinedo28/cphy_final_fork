{
 "cells": [
  {
   "cell_type": "code",
   "execution_count": 1,
   "id": "8d0fb779",
   "metadata": {
    "tags": []
   },
   "outputs": [],
   "source": [
    "%matplotlib notebook\n",
    "\n",
    "from neuron import h, gui\n",
    "from neuron.units import ms, mV\n"
   ]
  },
  {
   "cell_type": "code",
   "execution_count": 2,
   "id": "2f64d952",
   "metadata": {
    "tags": []
   },
   "outputs": [],
   "source": [
    "class L5PCbiophys:\n",
    "    def biophys(self, cell):\n",
    "        for sec in cell.all:\n",
    "            sec.insert('pas')\n",
    "            sec.cm = 1\n",
    "            sec.Ra = 100\n",
    "            sec.e_pas = -90\n",
    "\n",
    "        for sec in cell.somatic:\n",
    "            sec.insert('Ca_LVAst')\n",
    "            sec.insert('Ca_HVA')\n",
    "            sec.insert('SKv3_1')\n",
    "            sec.insert('SK_E2')\n",
    "            sec.insert('K_Tst')\n",
    "            sec.insert('K_Pst')\n",
    "            sec.insert('Nap_Et2')\n",
    "            sec.insert('NaTa_t')\n",
    "            sec.insert('CaDynamics_E2')\n",
    "            sec.insert('Ih')\n",
    "\n",
    "            sec.ek = -85\n",
    "            sec.ena = 50\n",
    "            sec.gIhbar_Ih = 0.0002\n",
    "            sec.g_pas = 0.0000338\n",
    "            sec.decay_CaDynamics_E2 = 460.0\n",
    "            sec.gamma_CaDynamics_E2 = 0.000501\n",
    "            sec.gCa_LVAstbar_Ca_LVAst = 0.00343\n",
    "            sec.gCa_HVAbar_Ca_HVA = 0.000992\n",
    "            sec.gSKv3_1bar_SKv3_1 = 0.693\n",
    "            sec.gSK_E2bar_SK_E2 = 0.0441\n",
    "            sec.gK_Tstbar_K_Tst = 0.0812\n",
    "            sec.gK_Pstbar_K_Pst = 0.00223\n",
    "            sec.gNap_Et2bar_Nap_Et2 = 0.00172\n",
    "            sec.gNaTa_tbar_NaTa_t = 2.04\n",
    "\n",
    "        for sec in cell.apical:\n",
    "            sec.cm = 2\n",
    "            sec.insert('Ih')\n",
    "            sec.insert('SK_E2')\n",
    "            sec.insert('Ca_LVAst')\n",
    "            sec.insert('Ca_HVA')\n",
    "            sec.insert('SKv3_1')\n",
    "            sec.insert('NaTa_t')\n",
    "            sec.insert('Im')\n",
    "            sec.insert('CaDynamics_E2')\n",
    "\n",
    "            sec.ek = -85\n",
    "            sec.ena = 50\n",
    "            sec.decay_CaDynamics_E2 = 122\n",
    "            sec.gamma_CaDynamics_E2 = 0.000509\n",
    "            sec.gSK_E2bar_SK_E2 = 0.0012\n",
    "            sec.gSKv3_1bar_SKv3_1 = 0.000261\n",
    "            sec.gNaTa_tbar_NaTa_t = 0.0213\n",
    "            sec.gImbar_Im = 0.0000675\n",
    "            sec.g_pas = 0.0000589\n",
    "\n",
    "        # Distribute channels for apical sections\n",
    "        cell.distribute_channels(\"apical\", \"gIhbar_Ih\", 2, -0.8696, 3.6161, 0.0, 2.0870, 0.00020000000)\n",
    "        cell.distribute_channels(\"apical\", \"gCa_LVAstbar_Ca_LVAst\", 3, 1.000000, 0.010000, 685.000000, 885.000000, 0.0187000000)\n",
    "        cell.distribute_channels(\"apical\", \"gCa_HVAbar_Ca_HVA\", 3, 1.000000, 0.100000, 685.000000, 885.000000, 0.0005550000)\n",
    "\n",
    "        for sec in cell.basal:\n",
    "            sec.cm = 2\n",
    "            sec.insert('Ih')\n",
    "            sec.gIhbar_Ih = 0.0002\n",
    "            sec.g_pas = 0.0000467\n",
    "\n",
    "        for sec in cell.axonal:\n",
    "            sec.g_pas = 0.0000325"
   ]
  },
  {
   "cell_type": "code",
   "execution_count": 3,
   "id": "e7fab33e",
   "metadata": {
    "tags": []
   },
   "outputs": [],
   "source": [
    "class L5PCtemplate:\n",
    "    def __init__(self, morphology_file):\n",
    "        self.all = h.SectionList()\n",
    "        self.somatic = h.SectionList()\n",
    "        self.basal = h.SectionList()\n",
    "        self.apical = h.SectionList()\n",
    "        self.axonal = h.SectionList()\n",
    "        self.SecSyn = None\n",
    "        self.this = h.SectionList()\n",
    "\n",
    "        self.init(morphology_file)\n",
    "\n",
    "    def init(self, morphology_file):\n",
    "        # Load morphology using Import3d_Neurolucida3 and Import3d_GUI\n",
    "        h.load_file('import3d.hoc')\n",
    "        nl = h.Import3d_Neurolucida3()\n",
    "        nl.quiet = 1\n",
    "        nl.input(morphology_file)\n",
    "        import_gui = h.Import3d_GUI(nl, 0)\n",
    "        import_gui.instantiate(self.this)\n",
    "        self.geom_nseg()\n",
    "        self.biophys()\n",
    "\n",
    "        # Fix diameters for sections with 0 diameter\n",
    "        for sec in self.this.all:\n",
    "            if sec.diam == 0:\n",
    "                sec.diam = 1\n",
    "                print(f\"Error: Morphology problem with section [{sec.name()}] 0 diam\")\n",
    "\n",
    "    def geom(self):\n",
    "        pass  # Fill in with appropriate geometry specifications\n",
    "\n",
    "    def geom_nseg(self):\n",
    "        soma_area = self.soma(0.5).area()\n",
    "        nSec = 0\n",
    "\n",
    "        for sec in self.this:\n",
    "            sec.nseg = 1 + 2 * int(sec.L / 40)\n",
    "            nSec += 1\n",
    "\n",
    "        self.nSecAll = nSec\n",
    "        self.nSecSoma = len(self.somatic)\n",
    "        self.nSecApical = len(self.apical)\n",
    "        self.nSecBasal = len(self.basal)\n",
    "        self.nSecAxonalOrig = len(self.axonal)\n",
    "        self.nSecAxonal = self.nSecAxonalOrig\n",
    "\n",
    "    def biophys(self):\n",
    "        bp = L5PCbiophys()\n",
    "        bp.biophys(self.this)\n",
    "\n",
    "    def delete_axon(self):\n",
    "        for sec in self.axonal:\n",
    "            sec = None\n",
    "\n",
    "        # Create two new axon sections\n",
    "        self.axon.append(h.Section(name=\"axon[0]\"))\n",
    "        self.axon[0].L = 30\n",
    "        self.axon[0].diam = 1\n",
    "        self.axon[0].nseg = 1 + 2 * int(self.axon[0].L / 40)\n",
    "        self.all.append(self.axon[0])\n",
    "        self.axonal.append(self.axon[0])\n",
    "\n",
    "        self.axon.append(h.Section(name=\"axon[1]\"))\n",
    "        self.axon[1].L = 30\n",
    "        self.axon[1].diam = 1\n",
    "        self.axon[1].nseg = 1 + 2 * int(self.axon[1].L / 40)\n",
    "        self.all.append(self.axon[1])\n",
    "        self.axonal.append(self.axon[1])\n",
    "\n",
    "        self.nSecAxonal = 2\n",
    "        self.axon[0].connect(self.soma(0.5))\n",
    "        self.axon[1].connect(self.axon[0](1))\n",
    "\n",
    "    def distribute_channels(self, *args):\n",
    "        # Fill in with channel distribution logic\n",
    "        pass\n",
    "\n",
    "    # ... (Copy the rest of the functions with necessary adaptations)"
   ]
  },
  {
   "cell_type": "code",
   "execution_count": null,
   "id": "6e7ccc53",
   "metadata": {
    "tags": []
   },
   "outputs": [
    {
     "name": "stderr",
     "output_type": "stream",
     "text": [
      "NEURON: Can't execute in a built-in class context\n",
      " near line 0\n",
      " ^\n",
      "        Import3d_GUI[0].execute(\"~create so...\", ...)\n",
      "      Import3d_GUI[0].instantiate(..."
     ]
    }
   ],
   "source": [
    "\n",
    "\n",
    "\n",
    "\n",
    "\n",
    "\n",
    "# Main part of the script\n",
    "if __name__ == \"__main__\":\n",
    "    morphology_file = \"morphologies/cell1.asc\"\n",
    "    cell = L5PCtemplate(morphology_file)\n",
    "\n",
    "    # Create an instance of L5PCbiophys and apply biophysical properties to the entire cell\n",
    "    biophys_properties = L5PCbiophys()\n",
    "    biophys_properties.biophys(cell)\n",
    "    \n",
    "\n"
   ]
  },
  {
   "cell_type": "code",
   "execution_count": 6,
   "id": "486c6b13",
   "metadata": {},
   "outputs": [
    {
     "name": "stdout",
     "output_type": "stream",
     "text": [
      "Requirement already satisfied: neuron in /Users/sophiaepst/anaconda3/lib/python3.11/site-packages (8.2.3)\n",
      "Requirement already satisfied: numpy>=1.9.3 in /Users/sophiaepst/anaconda3/lib/python3.11/site-packages (from neuron) (1.24.3)\n",
      "Note: you may need to restart the kernel to use updated packages.\n"
     ]
    }
   ],
   "source": [
    "pip install neuron"
   ]
  },
  {
   "cell_type": "code",
   "execution_count": 2,
   "id": "973414ca",
   "metadata": {
    "scrolled": true
   },
   "outputs": [
    {
     "name": "stdout",
     "output_type": "stream",
     "text": [
      "\u001b[31mERROR: Could not find a version that satisfies the requirement neuron.hoc (from versions: none)\u001b[0m\u001b[31m\n",
      "\u001b[0m\u001b[31mERROR: No matching distribution found for neuron.hoc\u001b[0m\u001b[31m\n",
      "\u001b[0mNote: you may need to restart the kernel to use updated packages.\n"
     ]
    }
   ],
   "source": [
    "pip install neuron.hoc"
   ]
  },
  {
   "cell_type": "code",
   "execution_count": 13,
   "id": "765cfbae",
   "metadata": {},
   "outputs": [],
   "source": []
  },
  {
   "cell_type": "code",
   "execution_count": 14,
   "id": "731f5b13",
   "metadata": {},
   "outputs": [],
   "source": [
    "import neuron"
   ]
  },
  {
   "cell_type": "code",
   "execution_count": 15,
   "id": "e36a044c",
   "metadata": {},
   "outputs": [],
   "source": [
    "class Cell:\n",
    "    def __init__(self, gid, x, y, z, theta):\n",
    "        self._gid = gid\n",
    "        self._morphology()\n",
    "        self.all = self.soma.wholetree()\n",
    "        self._biophysics()\n",
    "        self.x = self.y = self.z = 0 \n",
    "        h.define_shape()\n",
    "        self._rotate_z(theta)\n",
    "        self._set_position(x,y, z)\n",
    "        \n",
    "        # everything below here in this method is NEW\n",
    "        self._spike_detector = h.NetCon(self.soma(0.5)._ref_v, None, sec=self.soma)\n",
    "        self.spike_times = h.Vector()\n",
    "        self._spike_detector.record(self.spike_times)\n",
    "        \n",
    "        self._ncs = []\n",
    "        \n",
    "        self.soma_v = h.Vector().record(self.soma(0.5)._ref_v)\n",
    "        \n",
    "    def __repr__(self):\n",
    "        return '{}[{}]'.format(self.name, self._gid)\n",
    "    \n",
    "    def _set_position(self, x, y, z):\n",
    "        for sec in self.all:\n",
    "            for i in range(sec.n3d()):\n",
    "                sec.pt3dchange(i,\n",
    "                               x - self.x + sec.x3d(i),\n",
    "                               y - self.y + sec.y3d(i),\n",
    "                               z - self.z + sec.z3d(i),\n",
    "                              sec.diam3d(i))\n",
    "        self.x, self.y, self.z = x, y, z\n",
    "        \n",
    "    def _rotate_z(self, theta):\n",
    "        \"\"\"Rotate the cell about the Z axis.\"\"\"\n",
    "        for sec in self.all:\n",
    "            for i in range(sec.n3d()):\n",
    "                x = sec.x3d(i)\n",
    "                y = sec.y3d(i)\n",
    "                c = h.cos(theta)\n",
    "                s = h.sin(theta)\n",
    "                xprime = x * c - y * s\n",
    "                yprime = x * s + y * c\n",
    "                sec.pt3dchange(i, xprime, yprime, sec.z3d(i), sec.diam3d(i))\n"
   ]
  },
  {
   "cell_type": "code",
   "execution_count": 16,
   "id": "ae932da6",
   "metadata": {},
   "outputs": [],
   "source": [
    "class BallAndStick(Cell):\n",
    "    name = 'BallandStick'\n",
    "    def _morphology(self):\n",
    "        self.soma = h.Section(name='soma', cell=self)\n",
    "        self.dend = h.Section(name='dend', cell=self)\n",
    "        self.all = [self.soma, self.dend]\n",
    "        self.dend.connect(self.soma)\n",
    "        self.soma.L = self.soma.diam = 12.6157\n",
    "        self.dend.L = 200\n",
    "        self.dend.diam = 1\n",
    "        \n",
    "    def _biophysics(self):\n",
    "        for sec in self.all: \n",
    "                sec.Ra  = 100 #axial resistance Ohm * cm\n",
    "                sec.cm = 1 #membrane capacitance micro farads/cm^2\n",
    "        \n",
    "        #active currents\n",
    "        self.soma.insert('hh') #applying hodgkin huxley biophysical constrains\n",
    "        for seg in self.soma: \n",
    "            \n",
    "            #S/cm^2\n",
    "            seg.hh.gnabar = 0.12 #na conductance\n",
    "            seg.hh.gkbar = 0.036 #k conductance\n",
    "            seg.hh.gl = 0.003 #leak conductance\n",
    "            \n",
    "            seg.hh.el = -54.3 #reversal potential, mV\n",
    "        \n",
    "        #passive currrents\n",
    "        self.dend.insert('pas')\n",
    "        for seg in self.dend:\n",
    "            seg.pas.g = 0.001\n",
    "            seg.pas.e = -65\n",
    "        \n",
    "        self.syn = h.ExpSyn(self.dend(0.5))\n",
    "        self.syn.tau = 2 * ms"
   ]
  },
  {
   "cell_type": "code",
   "execution_count": 17,
   "id": "62edc7a1",
   "metadata": {},
   "outputs": [],
   "source": [
    "def create_n_bs(n,r):\n",
    "    '''n = number of cells, r = radius'''\n",
    "    cells = []\n",
    "    for i in range(n):\n",
    "        theta = i*2*h.PI/n\n",
    "        cells.append(BallAndStick(i, h.cos(theta)*r, h.sin(theta)*r, 0, theta))\n",
    "    return cells"
   ]
  },
  {
   "cell_type": "code",
   "execution_count": 18,
   "id": "e45bab17",
   "metadata": {},
   "outputs": [],
   "source": [
    "my_cells = create_n_bs(7, 50)"
   ]
  },
  {
   "cell_type": "code",
   "execution_count": 19,
   "id": "5295299c",
   "metadata": {},
   "outputs": [
    {
     "data": {
      "text/plain": [
       "1.0"
      ]
     },
     "execution_count": 19,
     "metadata": {},
     "output_type": "execute_result"
    }
   ],
   "source": [
    "ps = h.PlotShape(True)\n",
    "ps.show(0)"
   ]
  },
  {
   "cell_type": "code",
   "execution_count": 20,
   "id": "779bf296",
   "metadata": {},
   "outputs": [],
   "source": [
    "my_cells = create_n_bs(5, 50)\n"
   ]
  },
  {
   "cell_type": "code",
   "execution_count": 21,
   "id": "7ed5bada",
   "metadata": {},
   "outputs": [
    {
     "name": "stdout",
     "output_type": "stream",
     "text": [
      "Rev. potential = 0.0 mV\n"
     ]
    }
   ],
   "source": [
    "stim = h.NetStim()\n",
    "\n",
    "syn_ = h.ExpSyn(my_cells[0].dend(0.5))\n",
    "\n",
    "stim.number = 1\n",
    "stim.start = 9\n",
    "ncstim = h.NetCon(stim, syn_)\n",
    "ncstim.delay = 1*ms\n",
    "ncstim.weight[0] = 0.04 #netcon weight\n",
    "\n",
    "syn_.tau = 2 * ms\n",
    "print(\"Rev. potential = {} mV\".format(syn_.e))"
   ]
  },
  {
   "cell_type": "code",
   "execution_count": 22,
   "id": "4b652004",
   "metadata": {},
   "outputs": [
    {
     "data": {
      "text/plain": [
       "0.0"
      ]
     },
     "execution_count": 22,
     "metadata": {},
     "output_type": "execute_result"
    }
   ],
   "source": [
    "recording_cell = my_cells[0]\n",
    "soma_v = h.Vector().record(recording_cell.soma(0.5)._ref_v)\n",
    "dend_v = h.Vector().record(recording_cell.dend(0.5)._ref_v)\n",
    "t = h.Vector().record(h._ref_t)\n",
    "h.finitialize(-65 * mV)\n",
    "h.continuerun(25 * ms)"
   ]
  },
  {
   "cell_type": "code",
   "execution_count": 23,
   "id": "339002c8",
   "metadata": {},
   "outputs": [
    {
     "data": {
      "image/png": "[encoded data removed]",
      "text/plain": [
       "<Figure size 640x480 with 1 Axes>"
      ]
     },
     "metadata": {},
     "output_type": "display_data"
    }
   ],
   "source": [
    "import matplotlib.pyplot as plt\n",
    "plt.plot(t, soma_v, label='soma(0.5)')\n",
    "plt.plot(t, dend_v, label='dend(0.5)')\n",
    "plt.legend()\n",
    "plt.show()\n"
   ]
  },
  {
   "cell_type": "code",
   "execution_count": 24,
   "id": "8b092090",
   "metadata": {},
   "outputs": [
    {
     "data": {
      "image/png": "[encoded data removed]",
      "text/plain": [
       "<Figure size 800x400 with 2 Axes>"
      ]
     },
     "metadata": {},
     "output_type": "display_data"
    }
   ],
   "source": [
    "syn_i = h.Vector().record(syn_._ref_i)\n",
    "h.finitialize(-65 * mV)\n",
    "h.continuerun(25 * ms)\n",
    "\n",
    "fig = plt.figure(figsize=(8,4))\n",
    "ax1 = fig.add_subplot(2, 1, 1)\n",
    "soma_plot = ax1.plot(t, soma_v, color='black', label='soma(0.5)')\n",
    "dend_plot = ax1.plot(t, dend_v, color='red', label='dend(0.5)')\n",
    "rev_plot = ax1.plot([t[0], t[-1]], [syn_.e, syn_.e], label='syn reversal',\n",
    "        color='blue', linestyle=':')\n",
    "ax1.legend()\n",
    "ax1.set_ylabel('mV')\n",
    "ax1.set_xticks([]) # Use ax2's tick labels\n",
    "\n",
    "ax2 = fig.add_subplot(2, 1, 2)\n",
    "syn_plot = ax2.plot(t, syn_i, color='blue', label='synaptic current')\n",
    "ax2.legend()\n",
    "ax2.set_ylabel(h.units('ExpSyn.i'))\n",
    "ax2.set_xlabel('time (ms)')\n",
    "plt.show()"
   ]
  },
  {
   "cell_type": "code",
   "execution_count": 25,
   "id": "61b3c889",
   "metadata": {},
   "outputs": [],
   "source": [
    "syns = []\n",
    "netcons = []\n",
    "for source, target in zip(my_cells, my_cells[1:] + [my_cells[0]]):\n",
    "    syn = h.ExpSyn(target.dend(0.5))\n",
    "    nc = h.NetCon(source.soma(0.5)._ref_v, syn, sec=source.soma)\n",
    "    nc.weight[0] = 0.05\n",
    "    nc.delay = 5\n",
    "    netcons.append(nc)\n",
    "    syns.append(syn)\n",
    "    \n"
   ]
  },
  {
   "cell_type": "code",
   "execution_count": 26,
   "id": "f980d24a",
   "metadata": {},
   "outputs": [
    {
     "data": {
      "image/png": "[encoded data removed]",
      "text/plain": [
       "<Figure size 640x480 with 1 Axes>"
      ]
     },
     "metadata": {},
     "output_type": "display_data"
    }
   ],
   "source": [
    "h.finitialize(-65 * mV)\n",
    "h.continuerun(100 * ms)\n",
    "plt.plot(t, soma_v, label='soma(0.5)')\n",
    "plt.plot(t, dend_v, label='dend(0.5)')\n",
    "plt.legend()\n",
    "plt.show()"
   ]
  },
  {
   "cell_type": "code",
   "execution_count": 27,
   "id": "7e56e913",
   "metadata": {},
   "outputs": [
    {
     "data": {
      "text/plain": [
       "0.0"
      ]
     },
     "execution_count": 27,
     "metadata": {},
     "output_type": "execute_result"
    }
   ],
   "source": [
    "spike_times = [h.Vector() for nc in netcons]\n",
    "for nc, spike_times_vec in zip(netcons, spike_times):\n",
    "    nc.record(spike_times_vec)\n",
    "\n",
    "h.finitialize(-65 * mV)\n",
    "h.continuerun(100 * ms)"
   ]
  },
  {
   "cell_type": "code",
   "execution_count": 28,
   "id": "cc5a3351",
   "metadata": {},
   "outputs": [
    {
     "name": "stdout",
     "output_type": "stream",
     "text": [
      "cell 0: [5.150000000100039]\n",
      "cell 1: [5.150000000100039]\n",
      "cell 2: [5.150000000100039]\n",
      "cell 3: [5.150000000100039]\n",
      "cell 4: [5.150000000100039]\n"
     ]
    }
   ],
   "source": [
    "for i, spike_times_vec in enumerate(spike_times):\n",
    "    print('cell {}: {}'.format(i, list(spike_times_vec)))"
   ]
  },
  {
   "cell_type": "code",
   "execution_count": 29,
   "id": "c53322fe",
   "metadata": {},
   "outputs": [
    {
     "ename": "RuntimeError",
     "evalue": "matplotlib does not support generators as input",
     "output_type": "error",
     "traceback": [
      "\u001b[0;31m---------------------------------------------------------------------------\u001b[0m",
      "\u001b[0;31mRuntimeError\u001b[0m                              Traceback (most recent call last)",
      "Cell \u001b[0;32mIn[29], line 5\u001b[0m\n\u001b[1;32m      2\u001b[0m plt\u001b[38;5;241m.\u001b[39mfigure()\n\u001b[1;32m      4\u001b[0m \u001b[38;5;28;01mfor\u001b[39;00m i, spike_times_vec \u001b[38;5;129;01min\u001b[39;00m \u001b[38;5;28menumerate\u001b[39m(spike_times):\n\u001b[0;32m----> 5\u001b[0m     plt\u001b[38;5;241m.\u001b[39mvlines(spike_times_vec, i \u001b[38;5;241m+\u001b[39m \u001b[38;5;241m0.5\u001b[39m, i \u001b[38;5;241m+\u001b[39m \u001b[38;5;241m1.5\u001b[39m)\n\u001b[1;32m      6\u001b[0m plt\u001b[38;5;241m.\u001b[39mshow()\n",
      "File \u001b[0;32m~/anaconda3/lib/python3.11/site-packages/matplotlib/pyplot.py:3058\u001b[0m, in \u001b[0;36mvlines\u001b[0;34m(x, ymin, ymax, colors, linestyles, label, data, **kwargs)\u001b[0m\n\u001b[1;32m   3054\u001b[0m \u001b[38;5;129m@_copy_docstring_and_deprecators\u001b[39m(Axes\u001b[38;5;241m.\u001b[39mvlines)\n\u001b[1;32m   3055\u001b[0m \u001b[38;5;28;01mdef\u001b[39;00m \u001b[38;5;21mvlines\u001b[39m(\n\u001b[1;32m   3056\u001b[0m         x, ymin, ymax, colors\u001b[38;5;241m=\u001b[39m\u001b[38;5;28;01mNone\u001b[39;00m, linestyles\u001b[38;5;241m=\u001b[39m\u001b[38;5;124m'\u001b[39m\u001b[38;5;124msolid\u001b[39m\u001b[38;5;124m'\u001b[39m, label\u001b[38;5;241m=\u001b[39m\u001b[38;5;124m'\u001b[39m\u001b[38;5;124m'\u001b[39m, \u001b[38;5;241m*\u001b[39m,\n\u001b[1;32m   3057\u001b[0m         data\u001b[38;5;241m=\u001b[39m\u001b[38;5;28;01mNone\u001b[39;00m, \u001b[38;5;241m*\u001b[39m\u001b[38;5;241m*\u001b[39mkwargs):\n\u001b[0;32m-> 3058\u001b[0m     \u001b[38;5;28;01mreturn\u001b[39;00m gca()\u001b[38;5;241m.\u001b[39mvlines(\n\u001b[1;32m   3059\u001b[0m         x, ymin, ymax, colors\u001b[38;5;241m=\u001b[39mcolors, linestyles\u001b[38;5;241m=\u001b[39mlinestyles,\n\u001b[1;32m   3060\u001b[0m         label\u001b[38;5;241m=\u001b[39mlabel, \u001b[38;5;241m*\u001b[39m\u001b[38;5;241m*\u001b[39m({\u001b[38;5;124m\"\u001b[39m\u001b[38;5;124mdata\u001b[39m\u001b[38;5;124m\"\u001b[39m: data} \u001b[38;5;28;01mif\u001b[39;00m data \u001b[38;5;129;01mis\u001b[39;00m \u001b[38;5;129;01mnot\u001b[39;00m \u001b[38;5;28;01mNone\u001b[39;00m \u001b[38;5;28;01melse\u001b[39;00m {}),\n\u001b[1;32m   3061\u001b[0m         \u001b[38;5;241m*\u001b[39m\u001b[38;5;241m*\u001b[39mkwargs)\n",
      "File \u001b[0;32m~/anaconda3/lib/python3.11/site-packages/matplotlib/__init__.py:1446\u001b[0m, in \u001b[0;36m_preprocess_data.<locals>.inner\u001b[0;34m(ax, data, *args, **kwargs)\u001b[0m\n\u001b[1;32m   1443\u001b[0m \u001b[38;5;129m@functools\u001b[39m\u001b[38;5;241m.\u001b[39mwraps(func)\n\u001b[1;32m   1444\u001b[0m \u001b[38;5;28;01mdef\u001b[39;00m \u001b[38;5;21minner\u001b[39m(ax, \u001b[38;5;241m*\u001b[39margs, data\u001b[38;5;241m=\u001b[39m\u001b[38;5;28;01mNone\u001b[39;00m, \u001b[38;5;241m*\u001b[39m\u001b[38;5;241m*\u001b[39mkwargs):\n\u001b[1;32m   1445\u001b[0m     \u001b[38;5;28;01mif\u001b[39;00m data \u001b[38;5;129;01mis\u001b[39;00m \u001b[38;5;28;01mNone\u001b[39;00m:\n\u001b[0;32m-> 1446\u001b[0m         \u001b[38;5;28;01mreturn\u001b[39;00m func(ax, \u001b[38;5;241m*\u001b[39m\u001b[38;5;28mmap\u001b[39m(sanitize_sequence, args), \u001b[38;5;241m*\u001b[39m\u001b[38;5;241m*\u001b[39mkwargs)\n\u001b[1;32m   1448\u001b[0m     bound \u001b[38;5;241m=\u001b[39m new_sig\u001b[38;5;241m.\u001b[39mbind(ax, \u001b[38;5;241m*\u001b[39margs, \u001b[38;5;241m*\u001b[39m\u001b[38;5;241m*\u001b[39mkwargs)\n\u001b[1;32m   1449\u001b[0m     auto_label \u001b[38;5;241m=\u001b[39m (bound\u001b[38;5;241m.\u001b[39marguments\u001b[38;5;241m.\u001b[39mget(label_namer)\n\u001b[1;32m   1450\u001b[0m                   \u001b[38;5;129;01mor\u001b[39;00m bound\u001b[38;5;241m.\u001b[39mkwargs\u001b[38;5;241m.\u001b[39mget(label_namer))\n",
      "File \u001b[0;32m~/anaconda3/lib/python3.11/site-packages/matplotlib/axes/_axes.py:1152\u001b[0m, in \u001b[0;36mAxes.vlines\u001b[0;34m(self, x, ymin, ymax, colors, linestyles, label, **kwargs)\u001b[0m\n\u001b[1;32m   1117\u001b[0m \u001b[38;5;250m\u001b[39m\u001b[38;5;124;03m\"\"\"\u001b[39;00m\n\u001b[1;32m   1118\u001b[0m \u001b[38;5;124;03mPlot vertical lines at each *x* from *ymin* to *ymax*.\u001b[39;00m\n\u001b[1;32m   1119\u001b[0m \n\u001b[0;32m   (...)\u001b[0m\n\u001b[1;32m   1148\u001b[0m \u001b[38;5;124;03maxvline : vertical line across the Axes\u001b[39;00m\n\u001b[1;32m   1149\u001b[0m \u001b[38;5;124;03m\"\"\"\u001b[39;00m\n\u001b[1;32m   1151\u001b[0m \u001b[38;5;66;03m# We do the conversion first since not all unitized data is uniform\u001b[39;00m\n\u001b[0;32m-> 1152\u001b[0m x, ymin, ymax \u001b[38;5;241m=\u001b[39m \u001b[38;5;28mself\u001b[39m\u001b[38;5;241m.\u001b[39m_process_unit_info(\n\u001b[1;32m   1153\u001b[0m     [(\u001b[38;5;124m\"\u001b[39m\u001b[38;5;124mx\u001b[39m\u001b[38;5;124m\"\u001b[39m, x), (\u001b[38;5;124m\"\u001b[39m\u001b[38;5;124my\u001b[39m\u001b[38;5;124m\"\u001b[39m, ymin), (\u001b[38;5;124m\"\u001b[39m\u001b[38;5;124my\u001b[39m\u001b[38;5;124m\"\u001b[39m, ymax)], kwargs)\n\u001b[1;32m   1155\u001b[0m \u001b[38;5;28;01mif\u001b[39;00m \u001b[38;5;129;01mnot\u001b[39;00m np\u001b[38;5;241m.\u001b[39miterable(x):\n\u001b[1;32m   1156\u001b[0m     x \u001b[38;5;241m=\u001b[39m [x]\n",
      "File \u001b[0;32m~/anaconda3/lib/python3.11/site-packages/matplotlib/axes/_base.py:2549\u001b[0m, in \u001b[0;36m_AxesBase._process_unit_info\u001b[0;34m(self, datasets, kwargs, convert)\u001b[0m\n\u001b[1;32m   2547\u001b[0m     \u001b[38;5;66;03m# Update from data if axis is already set but no unit is set yet.\u001b[39;00m\n\u001b[1;32m   2548\u001b[0m     \u001b[38;5;28;01mif\u001b[39;00m axis \u001b[38;5;129;01mis\u001b[39;00m \u001b[38;5;129;01mnot\u001b[39;00m \u001b[38;5;28;01mNone\u001b[39;00m \u001b[38;5;129;01mand\u001b[39;00m data \u001b[38;5;129;01mis\u001b[39;00m \u001b[38;5;129;01mnot\u001b[39;00m \u001b[38;5;28;01mNone\u001b[39;00m \u001b[38;5;129;01mand\u001b[39;00m \u001b[38;5;129;01mnot\u001b[39;00m axis\u001b[38;5;241m.\u001b[39mhave_units():\n\u001b[0;32m-> 2549\u001b[0m         axis\u001b[38;5;241m.\u001b[39mupdate_units(data)\n\u001b[1;32m   2550\u001b[0m \u001b[38;5;28;01mfor\u001b[39;00m axis_name, axis \u001b[38;5;129;01min\u001b[39;00m axis_map\u001b[38;5;241m.\u001b[39mitems():\n\u001b[1;32m   2551\u001b[0m     \u001b[38;5;66;03m# Return if no axis is set.\u001b[39;00m\n\u001b[1;32m   2552\u001b[0m     \u001b[38;5;28;01mif\u001b[39;00m axis \u001b[38;5;129;01mis\u001b[39;00m \u001b[38;5;28;01mNone\u001b[39;00m:\n",
      "File \u001b[0;32m~/anaconda3/lib/python3.11/site-packages/matplotlib/axis.py:1669\u001b[0m, in \u001b[0;36mAxis.update_units\u001b[0;34m(self, data)\u001b[0m\n\u001b[1;32m   1663\u001b[0m \u001b[38;5;28;01mdef\u001b[39;00m \u001b[38;5;21mupdate_units\u001b[39m(\u001b[38;5;28mself\u001b[39m, data):\n\u001b[1;32m   1664\u001b[0m \u001b[38;5;250m    \u001b[39m\u001b[38;5;124;03m\"\"\"\u001b[39;00m\n\u001b[1;32m   1665\u001b[0m \u001b[38;5;124;03m    Introspect *data* for units converter and update the\u001b[39;00m\n\u001b[1;32m   1666\u001b[0m \u001b[38;5;124;03m    ``axis.converter`` instance if necessary. Return *True*\u001b[39;00m\n\u001b[1;32m   1667\u001b[0m \u001b[38;5;124;03m    if *data* is registered for unit conversion.\u001b[39;00m\n\u001b[1;32m   1668\u001b[0m \u001b[38;5;124;03m    \"\"\"\u001b[39;00m\n\u001b[0;32m-> 1669\u001b[0m     converter \u001b[38;5;241m=\u001b[39m munits\u001b[38;5;241m.\u001b[39mregistry\u001b[38;5;241m.\u001b[39mget_converter(data)\n\u001b[1;32m   1670\u001b[0m     \u001b[38;5;28;01mif\u001b[39;00m converter \u001b[38;5;129;01mis\u001b[39;00m \u001b[38;5;28;01mNone\u001b[39;00m:\n\u001b[1;32m   1671\u001b[0m         \u001b[38;5;28;01mreturn\u001b[39;00m \u001b[38;5;28;01mFalse\u001b[39;00m\n",
      "File \u001b[0;32m~/anaconda3/lib/python3.11/site-packages/matplotlib/units.py:183\u001b[0m, in \u001b[0;36mRegistry.get_converter\u001b[0;34m(self, x)\u001b[0m\n\u001b[1;32m    181\u001b[0m         \u001b[38;5;28;01mpass\u001b[39;00m\n\u001b[1;32m    182\u001b[0m \u001b[38;5;28;01mtry\u001b[39;00m:  \u001b[38;5;66;03m# If cache lookup fails, look up based on first element...\u001b[39;00m\n\u001b[0;32m--> 183\u001b[0m     first \u001b[38;5;241m=\u001b[39m cbook\u001b[38;5;241m.\u001b[39m_safe_first_finite(x)\n\u001b[1;32m    184\u001b[0m \u001b[38;5;28;01mexcept\u001b[39;00m (\u001b[38;5;167;01mTypeError\u001b[39;00m, \u001b[38;5;167;01mStopIteration\u001b[39;00m):\n\u001b[1;32m    185\u001b[0m     \u001b[38;5;28;01mpass\u001b[39;00m\n",
      "File \u001b[0;32m~/anaconda3/lib/python3.11/site-packages/matplotlib/cbook/__init__.py:1717\u001b[0m, in \u001b[0;36m_safe_first_finite\u001b[0;34m(obj, skip_nonfinite)\u001b[0m\n\u001b[1;32m   1715\u001b[0m     \u001b[38;5;28;01mreturn\u001b[39;00m obj[\u001b[38;5;241m0\u001b[39m]\n\u001b[1;32m   1716\u001b[0m \u001b[38;5;28;01melif\u001b[39;00m \u001b[38;5;28misinstance\u001b[39m(obj, collections\u001b[38;5;241m.\u001b[39mabc\u001b[38;5;241m.\u001b[39mIterator):\n\u001b[0;32m-> 1717\u001b[0m     \u001b[38;5;28;01mraise\u001b[39;00m \u001b[38;5;167;01mRuntimeError\u001b[39;00m(\u001b[38;5;124m\"\u001b[39m\u001b[38;5;124mmatplotlib does not \u001b[39m\u001b[38;5;124m\"\u001b[39m\n\u001b[1;32m   1718\u001b[0m                        \u001b[38;5;124m\"\u001b[39m\u001b[38;5;124msupport generators as input\u001b[39m\u001b[38;5;124m\"\u001b[39m)\n\u001b[1;32m   1719\u001b[0m \u001b[38;5;28;01melse\u001b[39;00m:\n\u001b[1;32m   1720\u001b[0m     \u001b[38;5;28;01mreturn\u001b[39;00m \u001b[38;5;28mnext\u001b[39m((val \u001b[38;5;28;01mfor\u001b[39;00m val \u001b[38;5;129;01min\u001b[39;00m obj \u001b[38;5;28;01mif\u001b[39;00m safe_isfinite(val)), safe_first_element(obj))\n",
      "\u001b[0;31mRuntimeError\u001b[0m: matplotlib does not support generators as input"
     ]
    },
    {
     "data": {
      "image/png": "[encoded data removed]",
      "text/plain": [
       "<Figure size 640x480 with 1 Axes>"
      ]
     },
     "metadata": {},
     "output_type": "display_data"
    }
   ],
   "source": [
    "import matplotlib.pyplot as plt\n",
    "plt.figure()\n",
    "\n",
    "for i, spike_times_vec in enumerate(spike_times):\n",
    "    plt.vlines(spike_times_vec, i + 0.5, i + 1.5)\n",
    "plt.show()"
   ]
  },
  {
   "cell_type": "code",
   "execution_count": 30,
   "id": "32d300f8",
   "metadata": {},
   "outputs": [
    {
     "ename": "NameError",
     "evalue": "name 'L5PC' is not defined",
     "output_type": "error",
     "traceback": [
      "\u001b[0;31m---------------------------------------------------------------------------\u001b[0m",
      "\u001b[0;31mNameError\u001b[0m                                 Traceback (most recent call last)",
      "Cell \u001b[0;32mIn[30], line 5\u001b[0m\n\u001b[1;32m      2\u001b[0m t\u001b[38;5;241m.\u001b[39mrecord(h\u001b[38;5;241m.\u001b[39m_ref_t)\n\u001b[1;32m      4\u001b[0m soma_v \u001b[38;5;241m=\u001b[39m h\u001b[38;5;241m.\u001b[39mVector()\n\u001b[0;32m----> 5\u001b[0m soma_v\u001b[38;5;241m.\u001b[39mrecord(L5PC\u001b[38;5;241m.\u001b[39msoma[\u001b[38;5;241m0\u001b[39m](\u001b[38;5;241m0.5\u001b[39m)\u001b[38;5;241m.\u001b[39m_ref_v)\n\u001b[1;32m      7\u001b[0m nexus_v \u001b[38;5;241m=\u001b[39m h\u001b[38;5;241m.\u001b[39mVector()\n\u001b[1;32m      8\u001b[0m nexus_v\u001b[38;5;241m.\u001b[39mrecord(L5PC\u001b[38;5;241m.\u001b[39mapic[\u001b[38;5;241m36\u001b[39m](\u001b[38;5;241m0.9\u001b[39m)\u001b[38;5;241m.\u001b[39m_ref_v)\n",
      "\u001b[0;31mNameError\u001b[0m: name 'L5PC' is not defined"
     ]
    }
   ],
   "source": [
    "t = h.Vector()\n",
    "t.record(h._ref_t)\n",
    "\n",
    "soma_v = h.Vector()\n",
    "soma_v.record(L5PC.soma[0](0.5)._ref_v)\n",
    "\n",
    "nexus_v = h.Vector()\n",
    "nexus_v.record(L5PC.apic[36](0.9)._ref_v)\n",
    "\n",
    "stim_current = h.Vector()\n",
    "stim_current.record(stim._ref_i)\n",
    "\n",
    "h.v_init = -80\n",
    "h.tstop = 1500\n",
    "h.celsius = 37\n",
    "h.run()\n",
    "\n",
    "stim = h"
   ]
  },
  {
   "cell_type": "code",
   "execution_count": null,
   "id": "ea719eeb",
   "metadata": {},
   "outputs": [],
   "source": []
  }
 ],
 "metadata": {
  "kernelspec": {
   "display_name": "Python 3 (ipykernel)",
   "language": "python",
   "name": "python3"
  },
  "language_info": {
   "codemirror_mode": {
    "name": "ipython",
    "version": 3
   },
   "file_extension": ".py",
   "mimetype": "text/x-python",
   "name": "python",
   "nbconvert_exporter": "python",
   "pygments_lexer": "ipython3",
   "version": "3.11.4"
  }
 },
 "nbformat": 4,
 "nbformat_minor": 5
}
