{
 "cells": [
  {
   "cell_type": "code",
   "execution_count": 20,
   "id": "519d6054",
   "metadata": {
    "scrolled": true
   },
   "outputs": [
    {
     "ename": "ImportError",
     "evalue": "cannot import name 'retrieve_file' from 'upload' (/Users/sophiaepst/github/cphy_final/upload.py)",
     "output_type": "error",
     "traceback": [
      "\u001b[0;31m---------------------------------------------------------------------------\u001b[0m",
      "\u001b[0;31mImportError\u001b[0m                               Traceback (most recent call last)",
      "Cell \u001b[0;32mIn[20], line 4\u001b[0m\n\u001b[1;32m      2\u001b[0m \u001b[38;5;28;01mimport\u001b[39;00m \u001b[38;5;21;01msys\u001b[39;00m\n\u001b[1;32m      3\u001b[0m \u001b[38;5;28;01mfrom\u001b[39;00m \u001b[38;5;21;01mtest\u001b[39;00m \u001b[38;5;28;01mimport\u001b[39;00m test\n\u001b[0;32m----> 4\u001b[0m \u001b[38;5;28;01mfrom\u001b[39;00m \u001b[38;5;21;01mupload\u001b[39;00m \u001b[38;5;28;01mimport\u001b[39;00m retrieve_file\n\u001b[1;32m      5\u001b[0m \u001b[38;5;28;01mimport\u001b[39;00m \u001b[38;5;21;01mwarnings\u001b[39;00m\n",
      "\u001b[0;31mImportError\u001b[0m: cannot import name 'retrieve_file' from 'upload' (/Users/sophiaepst/github/cphy_final/upload.py)"
     ]
    }
   ],
   "source": [
    "import os\n",
    "import sys\n",
    "from test import test\n",
    "from upload import retrieve_file\n",
    "import warnings\n",
    "\n"
   ]
  },
  {
   "cell_type": "code",
   "execution_count": null,
   "id": "a127e0b1",
   "metadata": {},
   "outputs": [],
   "source": [
    "class ParameterRecovery:\n",
    "    def __init__(self, known_params, unknown_params, neuron_type= 'L5PC', num_ap = 1, V_data = None, I_data = None, t_data = None): \n",
    "        '''Args: \n",
    "            known_params (dict): known parameters and their values\n",
    "            unknown_parameters (dict): unknown parameters and their intial guesses\n",
    "            neuron_types (str): \n",
    "            num_ap (int):\n",
    "            V_data ():\n",
    "            I_data ():\n",
    "            t_data ():\n",
    "            '''\n",
    "        self.known_params = known_params\n",
    "        self.unknown_params = unknown_params\n",
    "        self.params = known_params + unknown_params\n",
    "        self.inst_file = retrieve_file(neuron_type= 'L5PC', num_ap = 1, V_data = None, I_data = None, t_data = None)\n",
    "        self.guess = initial_guess\n",
    "    if 'stim' in self.unknown_params: \n",
    "        warnings.warn('If input stimuli is unknown, can only invert for features of the stimuli, all other parameters will be assumed to be known and set to default')\n",
    "    \n",
    "    def assign_parameters(self):\n",
    "        for key, value in self.known_params.items():\n",
    "            globals()[key] = value\n",
    "        for key, value in self.unknown_params.items():\n",
    "            globals()[key] = value\n",
    "    #forward model\n",
    "    \n",
    "    #cost function\n",
    "    \n",
    "    #gradient computation\n",
    "    \n",
    "    #find minimizer"
   ]
  },
  {
   "cell_type": "code",
   "execution_count": 11,
   "id": "dc5e6a02",
   "metadata": {},
   "outputs": [
    {
     "ename": "NameError",
     "evalue": "name 'self' is not defined",
     "output_type": "error",
     "traceback": [
      "\u001b[0;31m---------------------------------------------------------------------------\u001b[0m",
      "\u001b[0;31mNameError\u001b[0m                                 Traceback (most recent call last)",
      "Cell \u001b[0;32mIn[11], line 1\u001b[0m\n\u001b[0;32m----> 1\u001b[0m \u001b[38;5;28;01mclass\u001b[39;00m \u001b[38;5;21;01mParameterRecovery\u001b[39;00m:\n\u001b[1;32m      2\u001b[0m     \u001b[38;5;28;01mdef\u001b[39;00m \u001b[38;5;21m__init__\u001b[39m(\u001b[38;5;28mself\u001b[39m, known_params, unknown_params, neuron_type\u001b[38;5;241m=\u001b[39m \u001b[38;5;124m'\u001b[39m\u001b[38;5;124mL5PC\u001b[39m\u001b[38;5;124m'\u001b[39m, num_ap \u001b[38;5;241m=\u001b[39m \u001b[38;5;241m1\u001b[39m, V_data \u001b[38;5;241m=\u001b[39m \u001b[38;5;28;01mNone\u001b[39;00m, I_data \u001b[38;5;241m=\u001b[39m \u001b[38;5;28;01mNone\u001b[39;00m, t_data \u001b[38;5;241m=\u001b[39m \u001b[38;5;28;01mNone\u001b[39;00m): \n\u001b[1;32m      3\u001b[0m \u001b[38;5;250m        \u001b[39m\u001b[38;5;124;03m'''Args: \u001b[39;00m\n\u001b[1;32m      4\u001b[0m \u001b[38;5;124;03m            known_params (dict): known parameters and their values\u001b[39;00m\n\u001b[1;32m      5\u001b[0m \u001b[38;5;124;03m            unknown_parameters (dict): unknown parameters and their intial guesses\u001b[39;00m\n\u001b[0;32m   (...)\u001b[0m\n\u001b[1;32m     10\u001b[0m \u001b[38;5;124;03m            t_data ():\u001b[39;00m\n\u001b[1;32m     11\u001b[0m \u001b[38;5;124;03m            '''\u001b[39;00m\n",
      "Cell \u001b[0;32mIn[11], line 17\u001b[0m, in \u001b[0;36mParameterRecovery\u001b[0;34m()\u001b[0m\n\u001b[1;32m     15\u001b[0m     \u001b[38;5;28mself\u001b[39m\u001b[38;5;241m.\u001b[39minst_file \u001b[38;5;241m=\u001b[39m retrieve_file(neuron_type\u001b[38;5;241m=\u001b[39m \u001b[38;5;124m'\u001b[39m\u001b[38;5;124mL5PC\u001b[39m\u001b[38;5;124m'\u001b[39m, num_ap \u001b[38;5;241m=\u001b[39m \u001b[38;5;241m1\u001b[39m, V_data \u001b[38;5;241m=\u001b[39m \u001b[38;5;28;01mNone\u001b[39;00m, I_data \u001b[38;5;241m=\u001b[39m \u001b[38;5;28;01mNone\u001b[39;00m, t_data \u001b[38;5;241m=\u001b[39m \u001b[38;5;28;01mNone\u001b[39;00m)\n\u001b[1;32m     16\u001b[0m     \u001b[38;5;28mself\u001b[39m\u001b[38;5;241m.\u001b[39mguess \u001b[38;5;241m=\u001b[39m initial_guess\n\u001b[0;32m---> 17\u001b[0m \u001b[38;5;28;01mif\u001b[39;00m \u001b[38;5;124m'\u001b[39m\u001b[38;5;124mstim\u001b[39m\u001b[38;5;124m'\u001b[39m \u001b[38;5;129;01min\u001b[39;00m \u001b[38;5;28mself\u001b[39m\u001b[38;5;241m.\u001b[39munknown_params: \n\u001b[1;32m     18\u001b[0m     warnings\u001b[38;5;241m.\u001b[39mwarn(\u001b[38;5;124m'\u001b[39m\u001b[38;5;124mIf input stimuli is unknown, can only invert for features of the stimuli, all other parameters will be assumed to be known and set to default\u001b[39m\u001b[38;5;124m'\u001b[39m)\n\u001b[1;32m     20\u001b[0m \u001b[38;5;28;01mdef\u001b[39;00m \u001b[38;5;21massign_parameters\u001b[39m(\u001b[38;5;28mself\u001b[39m):\n",
      "\u001b[0;31mNameError\u001b[0m: name 'self' is not defined"
     ]
    }
   ],
   "source": [
    "\n",
    "\n",
    "class ParameterRecovery:\n",
    "    def __init__(self, known_params, unknown_params, neuron_type= 'L5PC', num_ap = 1, V_data = None, I_data = None, t_data = None): \n",
    "        '''Args: \n",
    "            known_params (dict): known parameters and their values\n",
    "            unknown_parameters (dict): unknown parameters and their intial guesses\n",
    "            neuron_types (str): \n",
    "            num_ap (int):\n",
    "            V_data ():\n",
    "            I_data ():\n",
    "            t_data ():\n",
    "            '''\n",
    "        self.known_params = known_params\n",
    "        self.unknown_params = unknown_params\n",
    "        self.params = known_params + unknown_params\n",
    "        self.inst_file = retrieve_file(neuron_type= 'L5PC', num_ap = 1, V_data = None, I_data = None, t_data = None)\n",
    "        self.guess = initial_guess\n",
    "    if 'stim' in self.unknown_params: \n",
    "        warnings.warn('If input stimuli is unknown, can only invert for features of the stimuli, all other parameters will be assumed to be known and set to default')\n",
    "    \n",
    "    def assign_parameters(self):\n",
    "        for key, value in self.known_params.items():\n",
    "            globals()[key] = value\n",
    "        for key, value in self.unknown_params.items():\n",
    "            globals()[key] = value\n",
    "    #forward model\n",
    "    \n",
    "    #cost function\n",
    "    \n",
    "    #gradient computation\n",
    "    \n",
    "    #find minimizer"
   ]
  },
  {
   "cell_type": "code",
   "execution_count": 2,
   "id": "60a76102",
   "metadata": {},
   "outputs": [
    {
     "name": "stdout",
     "output_type": "stream",
     "text": [
      "a: 10.0, b: 12.0, c: 10.0\n"
     ]
    }
   ],
   "source": [
    "my_dict = {\"a\": 10.0, \"b\": 12.0, \"c\": 10.0}\n",
    "\n",
    "for key, value in my_dict.items():\n",
    "    globals()[key] = value\n",
    "\n",
    "# Now you can use variables a, b, and c with their respective values\n",
    "print(f\"a: {a}, b: {b}, c: {c}\")\n"
   ]
  },
  {
   "cell_type": "code",
   "execution_count": 3,
   "id": "26ce45f9",
   "metadata": {},
   "outputs": [
    {
     "data": {
      "text/plain": [
       "10.0"
      ]
     },
     "execution_count": 3,
     "metadata": {},
     "output_type": "execute_result"
    }
   ],
   "source": [
    "a"
   ]
  },
  {
   "cell_type": "code",
   "execution_count": null,
   "id": "5fdb65bd",
   "metadata": {},
   "outputs": [],
   "source": []
  }
 ],
 "metadata": {
  "kernelspec": {
   "display_name": "Python 3 (ipykernel)",
   "language": "python",
   "name": "python3"
  },
  "language_info": {
   "codemirror_mode": {
    "name": "ipython",
    "version": 3
   },
   "file_extension": ".py",
   "mimetype": "text/x-python",
   "name": "python",
   "nbconvert_exporter": "python",
   "pygments_lexer": "ipython3",
   "version": "3.11.4"
  }
 },
 "nbformat": 4,
 "nbformat_minor": 5
}
