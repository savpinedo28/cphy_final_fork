{
 "cells": [
  {
   "cell_type": "code",
   "execution_count": 1,
   "id": "519d6054",
   "metadata": {
    "scrolled": true
   },
   "outputs": [],
   "source": [
    "import os\n",
    "import sys\n",
    "import zipfile \n",
    "import pandas as pd\n",
    "from upload import retrieve_file\n",
    "import warnings\n",
    "from stim_adj import stim_adj\n",
    "import autograd.numpy as np \n",
    "from autograd import grad, jacobian\n",
    "from scipy import optimize\n",
    "from param_adj import param_adj\n",
    "import matplotlib.pyplot as plt"
   ]
  },
  {
   "cell_type": "code",
   "execution_count": 6,
   "id": "6337149a",
   "metadata": {},
   "outputs": [],
   "source": [
    "class ParameterRecovery:\n",
    "    def __init__(self, known_params, unknown_params, dt = 0.0125, neuron_type= 'L5PC', num_ap = 1, V_data = None, I_data = None, t_data = None, method = 'BFGS', bounds = {}, tol = 100): \n",
    "        '''\n",
    "        For known parameters of the Hodgkin Huxley set the upper and lower bounds equal to that float\n",
    "        Objective: \n",
    "        \n",
    "        Args: \n",
    "            known_params (dict): known parameters and their values\n",
    "            unknown_parameters (dict): unknown parameters and their intial guesses -- if different than standard\n",
    "            neuron_types (str): \n",
    "            num_ap (int):\n",
    "            V_data ():\n",
    "            I_data ():\n",
    "            t_data ():\n",
    "            bounds ():\n",
    "            method (str): with bo\n",
    "        \n",
    "        Returns: \n",
    "            '''\n",
    "        self.neuron_type = neuron_type\n",
    "        self.num_ap = num_ap\n",
    "        self.known_params = known_params\n",
    "        self.unknown_params = unknown_params\n",
    "        self.params = {**self.known_params, **self.unknown_params}\n",
    "        self.HH_var = ['g_Na', 'g_K', 'g_L', 'E_Na', 'E_K', 'E_L', 'C_m', 'm', 'h', 'n']\n",
    "        self.param_list = list(self.params.keys())\n",
    "        self.missing = list(set(self.HH_var) - set(self.param_list))\n",
    "        self.unknown_keys = list(self.unknown_params.keys()) + self.missing\n",
    "        \n",
    "        self.dt = dt\n",
    "    \n",
    "        #default parameter setting HH model parameters\n",
    "        \n",
    "        self.g_Na = 120.0\n",
    "        self.g_K = 36.0\n",
    "        self.g_L = 0.3\n",
    "        self.E_Na = 50.0\n",
    "        self.E_K = -85.0\n",
    "        self.E_L = -90\n",
    "        self.C_m = 1.0\n",
    "        self.m = 0.05\n",
    "        self.n = 0.6\n",
    "        self.h =  0.32\n",
    "        self.standard_params = {'g_Na' :  self.g_Na , 'g_K' : self.g_K, 'g_L': self.g_L, 'E_Na': self.E_Na, 'E_K': self.E_K, 'E_L': self.E_L, 'C_m': self.C_m, 'm': self.m, 'h': self.h, 'n': self.n }\n",
    "        #manual input variables \n",
    "        self.V_data = V_data\n",
    "        self.I_data = I_data \n",
    "        self.t_data = t_data \n",
    "        #self.t_final = t_data[-1]\n",
    "        \n",
    "        #retrieved simulation parameter\n",
    "        self.t_sim = np.arange(0, 250, self.dt)\n",
    "        \n",
    "        #creating instance to load specific neuron data\n",
    "        self.inst_file = retrieve_file(self.neuron_type, self.num_ap, self.V_data, self.I_data, self.t_data)\n",
    "        \n",
    "        #initialize variables dependent on ground truth data (from upload.py)\n",
    "        instance = self.inst_file\n",
    "        initialized = instance.load()\n",
    "    \n",
    "            \n",
    "        #if manual entry is not choosen, upload from initialized \n",
    "        if self.V_data is None:\n",
    "            self.V_data = initialized[0]\n",
    "        else: \n",
    "            self.V_data = V_data\n",
    "        if 'stim' not in self.unknown_params: \n",
    "            if self.I_data is None:\n",
    "                self.I_data = initialized[1]\n",
    "        if self.t_data is None: \n",
    "            self.t_data = initialized[2]\n",
    "                   \n",
    "        self.V0 = self.V_data[0]\n",
    "        self.data_steps = self.t_data[1] - self.t_data[0]\n",
    "\n",
    "        #optimizaton parameters\n",
    "        #check that if bounds are given the optimal method is given \n",
    "        \n",
    "        self.bounds = bounds\n",
    "        if 'stim' in self.unknown_params and self.bounds is None: \n",
    "                warnings.warn(\"No bounds given, recommended methods to be CG or BFGS\") #also want that no known values given \n",
    "        self.method = method\n",
    "        self.tol = tol\n",
    "\n",
    "    def assign_parameters(self):\n",
    "        if 'stim' in self.unknown_params: \n",
    "            warnings.warn('If input stimuli is unknown, can only invert for features of the stimuli, all other parameters will be assumed to be known and set to default')\n",
    "        for key, value in self.known_params.items():\n",
    "            globals()[key] = value\n",
    "        for key, value in self.unknown_params.items():\n",
    "            globals()[key] = value\n",
    "        missing_values = list(set(self.HH_var) - set(self.param_list))\n",
    "        str_missing = ' '.join(missing_values)\n",
    "        warnings.warn(f'The following variables were not defined or given an initial guess  {str_missing}. We will assume default values for an initial guess and that these values are unknown')\n",
    "        \n",
    "        #update parameters based on given known values\n",
    "        \n",
    "        return self.param_list\n",
    "    \n",
    "    def define_bounds(self):\n",
    "        '''\n",
    "        defines the bounds for optimiatoin setting upper and lower limits equal to known values\n",
    "        '''\n",
    "        if 'stim' in self.unknown_params: \n",
    "            optim_bounds = self.bounds\n",
    "        else:\n",
    "            optim_bounds = []\n",
    "            for item in self.HH_var:\n",
    "                if item in self.bounds: \n",
    "                    item_bound = self.bounds[item]\n",
    "                elif item in self.known_params:\n",
    "                    item_bound = (self.known_params[item], self.known_params[item])\n",
    "                else: \n",
    "                    item_bound = (-float('inf'), float('inf'))\n",
    "                optim_bounds.append(item_bound)\n",
    "        return optim_bounds\n",
    "                    \n",
    "                    \n",
    "    def def_guess_params(self):\n",
    "        stim_guess = []\n",
    "        HH_guess = []\n",
    "        if 'stim' in self.unknown_params: \n",
    "            stim_guess.append(self.unknown_params['stim'])\n",
    "            for item in self.HH_var:\n",
    "                if item in self.known_params: \n",
    "                    HH_guess.append(self.known_params[item])\n",
    "                else: \n",
    "                    HH_guess.append(self.standard_params[item])\n",
    "        else: \n",
    "            for item in self.HH_var:\n",
    "                if item in self.unknown_params: \n",
    "                    stim_guess.append(self.unknown_params[item])\n",
    "                elif item in self.known_params: \n",
    "                    stim_guess.append(self.known_params[item])\n",
    "                else: \n",
    "                    stim_guess.append(self.standard_params[item])\n",
    "        return stim_guess, HH_guess\n",
    "                         \n",
    "    def adj_impulse(self): \n",
    "        params = self.def_guess_params()\n",
    "        stim_params = params[0]\n",
    "        HH_params = params[1]\n",
    "        print(HH_params)\n",
    "        #impulse_inst= stim_adj(self.V_data, self.t_data, self.dt, HH_params, stim_params[0][0], stim_params[0][1], stim_params[0][2], self.bounds, self.method)\n",
    "        impulse_inst= stim_adj(self.V_data, self.t_data, self.dt, HH_params, stim_params[0][0], stim_params[0][1], self.bounds, self.method)\n",
    "        optim, V_final = impulse_inst.recovery()\n",
    "        return optim, V_final\n",
    "    \n",
    "    def adj_param(self): \n",
    "        params = self.def_guess_params()\n",
    "        HH_params = params[1]\n",
    "        param_inst = param_adj(self.V_data, self.t_data, self.I_data, self.dt, self.HH_params, self.bounds, self.method, tol)\n",
    "        #optim = param_inst.optimize()\n",
    "        optim, V_final = param_inst.recovery()\n",
    "        return optim, V_final\n",
    "    \n",
    "    def optimize(self): \n",
    "        if 'stim' in unknown_params: \n",
    "            optim_sol = self.adj_impulse()\n",
    "        else: \n",
    "            optimal_sol = self.adj_param()\n",
    "        return optimal_sol\n",
    "    \n",
    "    \n",
    "    def graph(self, V_final):\n",
    "\n",
    "        plt.figure()\n",
    "        plt.plot(self.t_sim, V_final, ls = 'dotted', label = 'optimized spike train')\n",
    "        plt.plot(self.t_data, self.V_data, label = 'target spike train')\n",
    "        plt.xlabel('Time')\n",
    "        plt.ylabel('Voltage')\n",
    "        plt.legend()\n",
    "        "
   ]
  },
  {
   "cell_type": "markdown",
   "id": "e5ddaf53",
   "metadata": {},
   "source": [
    "MISC Testing: "
   ]
  },
  {
   "cell_type": "code",
   "execution_count": 3,
   "id": "dee4b74c",
   "metadata": {},
   "outputs": [
    {
     "name": "stdout",
     "output_type": "stream",
     "text": [
      "1\n"
     ]
    }
   ],
   "source": [
    "y = [(1, 2, 3)]\n",
    "print(y[0][0])"
   ]
  },
  {
   "cell_type": "code",
   "execution_count": 4,
   "id": "21f9fa4b",
   "metadata": {},
   "outputs": [
    {
     "name": "stdout",
     "output_type": "stream",
     "text": [
      "Default choosen of 1 Action Potential\n"
     ]
    },
    {
     "name": "stderr",
     "output_type": "stream",
     "text": [
      "/var/folders/6j/fcfm9_6n3rg0rg4_4flv5ks00000gq/T/ipykernel_85506/1329952150.py:87: UserWarning: If input stimuli is unknown, can only invert for features of the stimuli, all other parameters will be assumed to be known and set to default\n",
      "  warnings.warn('If input stimuli is unknown, can only invert for features of the stimuli, all other parameters will be assumed to be known and set to default')\n",
      "/var/folders/6j/fcfm9_6n3rg0rg4_4flv5ks00000gq/T/ipykernel_85506/1329952150.py:94: UserWarning: The following variables were not defined or given an initial guess  E_L E_Na g_K m g_L h E_K C_m n. We will assume default values for an initial guess and that these values are unknown\n",
      "  warnings.warn(f'The following variables were not defined or given an initial guess  {str_missing}. We will assume default values for an initial guess and that these values are unknown')\n"
     ]
    }
   ],
   "source": [
    "#test = ParameterRecovery({'Na': 120, 'g_Na' : 5}, {'K': 5, 'stim': (5.0, 2.0, 152.525)}, bounds = {'E_L': (0, 10)})\n",
    "test = ParameterRecovery({'Na': 120, 'g_Na' : 5}, {'K': 5, 'stim': (5.0, 2.0)}, bounds = {'E_L': (0, 10)})\n",
    "test.assign_parameters()\n",
    "test.unknown_keys\n",
    "x = test.define_bounds()\n",
    "\n",
    "\n",
    "\n",
    "\n",
    "\n"
   ]
  },
  {
   "cell_type": "code",
   "execution_count": 5,
   "id": "1917cbab",
   "metadata": {},
   "outputs": [
    {
     "name": "stdout",
     "output_type": "stream",
     "text": [
      "([(5.0, 2.0)], [5, 36.0, 0.3, 50.0, -85.0, -90, 1.0, 0.05, 0.32, 0.6])\n",
      "[5, 36.0, 0.3, 50.0, -85.0, -90, 1.0, 0.05, 0.32, 0.6]\n"
     ]
    },
    {
     "name": "stderr",
     "output_type": "stream",
     "text": [
      "/Users/shoshi/opt/anaconda3/lib/python3.9/site-packages/scipy/optimize/_minimize.py:566: RuntimeWarning: Method BFGS cannot handle constraints nor bounds.\n",
      "  warn('Method %s cannot handle constraints nor bounds.' % method,\n",
      "/Users/shoshi/opt/anaconda3/lib/python3.9/site-packages/autograd/tracer.py:48: RuntimeWarning: overflow encountered in exp\n",
      "  return f_raw(*args, **kwargs)\n",
      "/Users/shoshi/Desktop/Computational Physics/cphy_final/stim_adj.py:87: RuntimeWarning: invalid value encountered in scalar subtract\n",
      "  dVdt = (I - self.g_Na * m**3 * h * (V - self.E_Na) - self.g_K * n**4 * (V - self.E_K) - self.g_L * (V - self.E_L)) / self.C_m\n",
      "/Users/shoshi/Desktop/Computational Physics/cphy_final/stim_adj.py:88: RuntimeWarning: invalid value encountered in scalar multiply\n",
      "  dmdt = self.alpha_m(V) * (1 - m) - self.beta_m(V) * m\n",
      "/Users/shoshi/Desktop/Computational Physics/cphy_final/stim_adj.py:89: RuntimeWarning: invalid value encountered in scalar multiply\n",
      "  dhdt = self.alpha_h(V) * (1 - h) - self.beta_h(V) * h\n",
      "/Users/shoshi/Desktop/Computational Physics/cphy_final/stim_adj.py:90: RuntimeWarning: invalid value encountered in scalar multiply\n",
      "  dndt = self.alpha_n(V) * (1 - n) - self.beta_n(V) * n\n",
      "/Users/shoshi/opt/anaconda3/lib/python3.9/site-packages/autograd/tracer.py:48: RuntimeWarning: invalid value encountered in subtract\n",
      "  return f_raw(*args, **kwargs)\n",
      "/Users/shoshi/opt/anaconda3/lib/python3.9/site-packages/autograd/tracer.py:48: RuntimeWarning: invalid value encountered in multiply\n",
      "  return f_raw(*args, **kwargs)\n",
      "/Users/shoshi/Desktop/Computational Physics/cphy_final/stim_adj.py:87: RuntimeWarning: overflow encountered in scalar power\n",
      "  dVdt = (I - self.g_Na * m**3 * h * (V - self.E_Na) - self.g_K * n**4 * (V - self.E_K) - self.g_L * (V - self.E_L)) / self.C_m\n",
      "/Users/shoshi/opt/anaconda3/lib/python3.9/site-packages/autograd/tracer.py:48: RuntimeWarning: overflow encountered in power\n",
      "  return f_raw(*args, **kwargs)\n",
      "/Users/shoshi/opt/anaconda3/lib/python3.9/site-packages/autograd/numpy/numpy_vjps.py:59: RuntimeWarning: overflow encountered in power\n",
      "  lambda ans, x, y : unbroadcast_f(x, lambda g: g * y * x ** anp.where(y, y - 1, 1.)),\n",
      "/Users/shoshi/Desktop/Computational Physics/cphy_final/stim_adj.py:135: RuntimeWarning: overflow encountered in square\n",
      "  cost += (V_record[i] - self.V_data[j])**2\n",
      "/Users/shoshi/Desktop/Computational Physics/cphy_final/stim_adj.py:87: RuntimeWarning: overflow encountered in scalar multiply\n",
      "  dVdt = (I - self.g_Na * m**3 * h * (V - self.E_Na) - self.g_K * n**4 * (V - self.E_K) - self.g_L * (V - self.E_L)) / self.C_m\n",
      "/Users/shoshi/opt/anaconda3/lib/python3.9/site-packages/autograd/tracer.py:48: RuntimeWarning: overflow encountered in multiply\n",
      "  return f_raw(*args, **kwargs)\n",
      "/Users/shoshi/opt/anaconda3/lib/python3.9/site-packages/autograd/numpy/numpy_vjps.py:53: RuntimeWarning: overflow encountered in scalar power\n",
      "  lambda ans, x, y : unbroadcast_f(y, lambda g: - g * x / y**2))\n",
      "/Users/shoshi/Desktop/Computational Physics/cphy_final/stim_adj.py:54: RuntimeWarning: invalid value encountered in scalar divide\n",
      "  return 0.1 * (V + 40.0) / (1.0 - np.exp(-(V + 40.0) / 10.0))\n",
      "/Users/shoshi/Desktop/Computational Physics/cphy_final/stim_adj.py:70: RuntimeWarning: invalid value encountered in scalar divide\n",
      "  return 0.01 * (V + 55.0) / (1.0 - np.exp(-(V + 55.0) / 10.0))\n",
      "/Users/shoshi/opt/anaconda3/lib/python3.9/site-packages/autograd/tracer.py:48: RuntimeWarning: invalid value encountered in divide\n",
      "  return f_raw(*args, **kwargs)\n",
      "/Users/shoshi/opt/anaconda3/lib/python3.9/site-packages/autograd/tracer.py:48: RuntimeWarning: overflow encountered in exp\n",
      "  return f_raw(*args, **kwargs)\n",
      "/Users/shoshi/Desktop/Computational Physics/cphy_final/stim_adj.py:87: RuntimeWarning: invalid value encountered in scalar subtract\n",
      "  dVdt = (I - self.g_Na * m**3 * h * (V - self.E_Na) - self.g_K * n**4 * (V - self.E_K) - self.g_L * (V - self.E_L)) / self.C_m\n",
      "/Users/shoshi/Desktop/Computational Physics/cphy_final/stim_adj.py:88: RuntimeWarning: invalid value encountered in scalar multiply\n",
      "  dmdt = self.alpha_m(V) * (1 - m) - self.beta_m(V) * m\n",
      "/Users/shoshi/Desktop/Computational Physics/cphy_final/stim_adj.py:89: RuntimeWarning: invalid value encountered in scalar multiply\n",
      "  dhdt = self.alpha_h(V) * (1 - h) - self.beta_h(V) * h\n",
      "/Users/shoshi/Desktop/Computational Physics/cphy_final/stim_adj.py:90: RuntimeWarning: invalid value encountered in scalar multiply\n",
      "  dndt = self.alpha_n(V) * (1 - n) - self.beta_n(V) * n\n",
      "/Users/shoshi/opt/anaconda3/lib/python3.9/site-packages/autograd/tracer.py:48: RuntimeWarning: invalid value encountered in subtract\n",
      "  return f_raw(*args, **kwargs)\n",
      "/Users/shoshi/opt/anaconda3/lib/python3.9/site-packages/autograd/tracer.py:48: RuntimeWarning: invalid value encountered in multiply\n",
      "  return f_raw(*args, **kwargs)\n",
      "/Users/shoshi/Desktop/Computational Physics/cphy_final/stim_adj.py:87: RuntimeWarning: overflow encountered in scalar multiply\n",
      "  dVdt = (I - self.g_Na * m**3 * h * (V - self.E_Na) - self.g_K * n**4 * (V - self.E_K) - self.g_L * (V - self.E_L)) / self.C_m\n",
      "/Users/shoshi/opt/anaconda3/lib/python3.9/site-packages/autograd/tracer.py:48: RuntimeWarning: overflow encountered in multiply\n",
      "  return f_raw(*args, **kwargs)\n",
      "/Users/shoshi/Desktop/Computational Physics/cphy_final/stim_adj.py:135: RuntimeWarning: overflow encountered in square\n",
      "  cost += (V_record[i] - self.V_data[j])**2\n",
      "/Users/shoshi/opt/anaconda3/lib/python3.9/site-packages/autograd/tracer.py:48: RuntimeWarning: overflow encountered in power\n",
      "  return f_raw(*args, **kwargs)\n",
      "/Users/shoshi/opt/anaconda3/lib/python3.9/site-packages/autograd/tracer.py:48: RuntimeWarning: overflow encountered in exp\n",
      "  return f_raw(*args, **kwargs)\n",
      "/Users/shoshi/opt/anaconda3/lib/python3.9/site-packages/autograd/tracer.py:48: RuntimeWarning: invalid value encountered in subtract\n",
      "  return f_raw(*args, **kwargs)\n",
      "/Users/shoshi/opt/anaconda3/lib/python3.9/site-packages/autograd/tracer.py:48: RuntimeWarning: invalid value encountered in multiply\n",
      "  return f_raw(*args, **kwargs)\n",
      "/Users/shoshi/Desktop/Computational Physics/cphy_final/stim_adj.py:87: RuntimeWarning: invalid value encountered in scalar subtract\n",
      "  dVdt = (I - self.g_Na * m**3 * h * (V - self.E_Na) - self.g_K * n**4 * (V - self.E_K) - self.g_L * (V - self.E_L)) / self.C_m\n",
      "/Users/shoshi/Desktop/Computational Physics/cphy_final/stim_adj.py:88: RuntimeWarning: invalid value encountered in scalar multiply\n",
      "  dmdt = self.alpha_m(V) * (1 - m) - self.beta_m(V) * m\n",
      "/Users/shoshi/Desktop/Computational Physics/cphy_final/stim_adj.py:89: RuntimeWarning: invalid value encountered in scalar multiply\n",
      "  dhdt = self.alpha_h(V) * (1 - h) - self.beta_h(V) * h\n",
      "/Users/shoshi/Desktop/Computational Physics/cphy_final/stim_adj.py:90: RuntimeWarning: invalid value encountered in scalar multiply\n",
      "  dndt = self.alpha_n(V) * (1 - n) - self.beta_n(V) * n\n"
     ]
    },
    {
     "name": "stdout",
     "output_type": "stream",
     "text": [
      "[-33394.55250441  69504.16057434]\n"
     ]
    }
   ],
   "source": [
    "y = test.def_guess_params()\n",
    "print(y)\n",
    "X, V = test.adj_impulse()\n",
    "print(X)\n"
   ]
  },
  {
   "cell_type": "code",
   "execution_count": 6,
   "id": "cd053dce",
   "metadata": {},
   "outputs": [
    {
     "data": {
      "image/png": "[encoded data removed]",
      "text/plain": [
       "<Figure size 432x288 with 1 Axes>"
      ]
     },
     "metadata": {
      "needs_background": "light"
     },
     "output_type": "display_data"
    }
   ],
   "source": [
    "test.graph(V)"
   ]
  },
  {
   "cell_type": "code",
   "execution_count": 7,
   "id": "34bfbc26",
   "metadata": {},
   "outputs": [
    {
     "name": "stdout",
     "output_type": "stream",
     "text": [
      "Default choosen of 1 Action Potential\n",
      "Default choosen of 1 Action Potential\n",
      "[-80.       -80.002106 -80.003914 ... -78.53216  -78.53172  -78.53129 ]\n"
     ]
    }
   ],
   "source": [
    "test.inst_file\n",
    "test.inst_file.load()\n",
    "x = test.inst_file.load()\n",
    "\n",
    "print(x[0])"
   ]
  },
  {
   "cell_type": "code",
   "execution_count": 8,
   "id": "4c327e5f",
   "metadata": {},
   "outputs": [
    {
     "name": "stdout",
     "output_type": "stream",
     "text": [
      "(array([-80.      , -80.002106, -80.003914, ..., -78.53216 , -78.53172 ,\n",
      "       -78.53129 ]), array([0., 0., 0., ..., 0., 0., 0.]), array([0.00000e+00, 2.50000e-02, 5.00000e-02, ..., 2.49950e+02,\n",
      "       2.49975e+02, 2.50000e+02]), -80.0, 0.025)\n"
     ]
    }
   ],
   "source": [
    "print(x)"
   ]
  },
  {
   "cell_type": "code",
   "execution_count": null,
   "id": "2bdf2543",
   "metadata": {},
   "outputs": [],
   "source": []
  },
  {
   "cell_type": "code",
   "execution_count": null,
   "id": "4f015703",
   "metadata": {},
   "outputs": [],
   "source": []
  },
  {
   "cell_type": "code",
   "execution_count": null,
   "id": "b5b52ee1",
   "metadata": {},
   "outputs": [],
   "source": []
  }
 ],
 "metadata": {
  "kernelspec": {
   "display_name": "Python 3 (ipykernel)",
   "language": "python",
   "name": "python3"
  },
  "language_info": {
   "codemirror_mode": {
    "name": "ipython",
    "version": 3
   },
   "file_extension": ".py",
   "mimetype": "text/x-python",
   "name": "python",
   "nbconvert_exporter": "python",
   "pygments_lexer": "ipython3",
   "version": "3.9.7"
  }
 },
 "nbformat": 4,
 "nbformat_minor": 5
}
