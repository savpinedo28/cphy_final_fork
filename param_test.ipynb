{
 "cells": [
  {
   "cell_type": "code",
   "execution_count": 1,
   "id": "519d6054",
   "metadata": {
    "scrolled": true
   },
   "outputs": [],
   "source": [
    "import os\n",
    "import sys\n",
    "import zipfile \n",
    "import pandas as pd\n",
    "from test import test\n",
    "from upload import retrieve_file\n",
    "import warnings\n",
    "\n"
   ]
  },
  {
   "cell_type": "code",
   "execution_count": 3,
   "id": "6337149a",
   "metadata": {},
   "outputs": [],
   "source": [
    "class ParameterRecovery:\n",
    "    def __init__(self, known_params, unknown_params, neuron_type= 'L5PC', num_ap = 1, V_data = None, I_data = None, t_data = None): \n",
    "        '''Args: \n",
    "            known_params (dict): known parameters and their values\n",
    "            unknown_parameters (dict): unknown parameters and their intial guesses -- if different than standard\n",
    "            neuron_types (str): \n",
    "            num_ap (int):\n",
    "            V_data ():\n",
    "            I_data ():\n",
    "            t_data ():\n",
    "            '''\n",
    "        self.known_params = known_params\n",
    "        self.unknown_params = unknown_params\n",
    "        self.params = {**self.known_params, **self.unknown_params}\n",
    "        self.inst_file = retrieve_file(neuron_type= 'L5PC', num_ap = 1, V_data = None, I_data = None, t_data = None)\n",
    "        self.HH_var = ['g_Na', 'g_K', 'g_L', 'E_Na', 'E_K', 'E_L', 'C_m', 'm', 'h', 'n', 'stim']\n",
    "        self.param_list = list(self.params.keys())\n",
    "        self.missing = list(set(self.HH_var) - set(self.param_list))\n",
    "        self.unknown_keys = list(self.unknown_params.keys()) + self.missing\n",
    "        \n",
    "        #default parameter setting \n",
    "        self.g_Na = 120.0\n",
    "        self.g_K = 36.0\n",
    "        self.g_L = 0.3\n",
    "        self.E_Na = 50.0\n",
    "        self.E_K = -85.0\n",
    "        self.E_L = -90\n",
    "        self.C_m = 1.0\n",
    "        \n",
    "    # self.guess = initial_guess\n",
    "  \n",
    "    def assign_parameters(self):\n",
    "        if 'stim' in self.unknown_params: \n",
    "            warnings.warn('If input stimuli is unknown, can only invert for features of the stimuli, all other parameters will be assumed to be known and set to default')\n",
    "        for key, value in self.known_params.items():\n",
    "            globals()[key] = value\n",
    "        for key, value in self.unknown_params.items():\n",
    "            globals()[key] = value\n",
    "        missing_values = list(set(self.HH_var) - set(self.param_list))\n",
    "        str_missing = ' '.join(missing_values)\n",
    "        print(str_missing)\n",
    "        warnings.warn(f'The following variables were not defined or given an initial guess  {str_missing} We will assume default values for an initial guess and that these values are unknown')\n",
    "        return self.param_list\n",
    "    \n",
    "   # def adj_type(self): \n",
    "        #if 'stim' in self.unknown_params: \n",
    "            #need initial guess stimuli to load \n",
    "            #class to do adjoint method on initial stimnuli \n",
    "        #else: \n",
    "            \n",
    "            #call class to do parameter recovery stimuli if stim is known\n",
    "        \n",
    "\n",
    "    #gradient \n",
    "    \n",
    "    #minimizer "
   ]
  },
  {
   "cell_type": "code",
   "execution_count": 6,
   "id": "f65d65a4",
   "metadata": {},
   "outputs": [
    {
     "ename": "SyntaxError",
     "evalue": "incomplete input (1947369287.py, line 2)",
     "output_type": "error",
     "traceback": [
      "\u001b[0;36m  Cell \u001b[0;32mIn[6], line 2\u001b[0;36m\u001b[0m\n\u001b[0;31m    def __init__():\u001b[0m\n\u001b[0m                   ^\u001b[0m\n\u001b[0;31mSyntaxError\u001b[0m\u001b[0;31m:\u001b[0m incomplete input\n"
     ]
    }
   ],
   "source": [
    "class stim_adj: \n",
    "    def __init__(self, V_data, t_data, I_data, ...):\n",
    "    \n",
    "    def __forward():\n",
    "        #forward model for unknown stimuli\n",
    "    def __cost(): \n",
    "    \n",
    "    "
   ]
  },
  {
   "cell_type": "code",
   "execution_count": null,
   "id": "10009570",
   "metadata": {},
   "outputs": [],
   "source": [
    "class stim_adj: \n",
    "    def __init__(self, V_data, t_data, I_data, ...):\n",
    "    \n",
    "    def __forward():\n",
    "        #forward model for unknown stimuli\n",
    "    def __cost(): \n",
    "    "
   ]
  },
  {
   "cell_type": "code",
   "execution_count": 4,
   "id": "d2c52976",
   "metadata": {},
   "outputs": [
    {
     "name": "stdout",
     "output_type": "stream",
     "text": [
      "E_K h g_K E_Na E_L m g_L C_m n\n"
     ]
    },
    {
     "name": "stderr",
     "output_type": "stream",
     "text": [
      "/var/folders/y5/qy3mtncn089941sxdcnsvzn80000gn/T/ipykernel_17306/3044780550.py:42: UserWarning: The following variables were not defined or given an initial guess  E_K h g_K E_Na E_L m g_L C_m n We will assume default values for an initial guess and that these values are unknown\n",
      "  warnings.warn(f'The following variables were not defined or given an initial guess  {str_missing} We will assume default values for an initial guess and that these values are unknown')\n"
     ]
    },
    {
     "data": {
      "text/plain": [
       "['K', 'E_K', 'h', 'g_K', 'E_Na', 'E_L', 'm', 'g_L', 'C_m', 'n']"
      ]
     },
     "execution_count": 4,
     "metadata": {},
     "output_type": "execute_result"
    }
   ],
   "source": [
    "test = ParameterRecovery({'Na': 120, 'g_Na' : 5, 'stim': [1]}, {'K': 5})\n",
    "test.assign_parameters()\n",
    "test.unknown_keys\n",
    "\n",
    "\n"
   ]
  },
  {
   "cell_type": "code",
   "execution_count": 5,
   "id": "897fb72f",
   "metadata": {},
   "outputs": [
    {
     "name": "stdout",
     "output_type": "stream",
     "text": [
      "Default choosen of 1 Action Potential\n"
     ]
    }
   ],
   "source": [
    "test.inst_file\n",
    "test.inst_file.load()"
   ]
  },
  {
   "cell_type": "code",
   "execution_count": 2,
   "id": "60a76102",
   "metadata": {},
   "outputs": [
    {
     "name": "stdout",
     "output_type": "stream",
     "text": [
      "a: 10.0, b: 12.0, c: 10.0\n"
     ]
    }
   ],
   "source": [
    "my_dict = {\"a\": 10.0, \"b\": 12.0, \"c\": 10.0}\n",
    "\n",
    "for key, value in my_dict.items():\n",
    "    globals()[key] = value\n",
    "\n",
    "# Now you can use variables a, b, and c with their respective values\n",
    "print(f\"a: {a}, b: {b}, c: {c}\")\n"
   ]
  },
  {
   "cell_type": "code",
   "execution_count": 3,
   "id": "26ce45f9",
   "metadata": {},
   "outputs": [
    {
     "data": {
      "text/plain": [
       "10.0"
      ]
     },
     "execution_count": 3,
     "metadata": {},
     "output_type": "execute_result"
    }
   ],
   "source": [
    "a"
   ]
  },
  {
   "cell_type": "code",
   "execution_count": null,
   "id": "5fdb65bd",
   "metadata": {},
   "outputs": [],
   "source": []
  }
 ],
 "metadata": {
  "kernelspec": {
   "display_name": "Python 3 (ipykernel)",
   "language": "python",
   "name": "python3"
  },
  "language_info": {
   "codemirror_mode": {
    "name": "ipython",
    "version": 3
   },
   "file_extension": ".py",
   "mimetype": "text/x-python",
   "name": "python",
   "nbconvert_exporter": "python",
   "pygments_lexer": "ipython3",
   "version": "3.11.4"
  }
 },
 "nbformat": 4,
 "nbformat_minor": 5
}
