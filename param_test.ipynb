{
 "cells": [
  {
   "cell_type": "code",
   "execution_count": null,
   "id": "76380c9f",
   "metadata": {},
   "outputs": [],
   "source": [
    "from upload import retrieve_file\n",
    "\n",
    "class ParameterRecovery:\n",
    "    def __init__(self, known_params, unknown_params, neuron_type= 'L5PC', num_ap = 1, V_data = None, I_data = None, t_data = None): \n",
    "        self.known_params = known_params\n",
    "        self.unknown_params = unknown_params\n",
    "        self.params = known_params + unknown_params\n",
    "        self.inst_file = retrieve_file(neuron_type= 'L5PC', num_ap = 1, V_data = None, I_data = None, t_data = None)\n",
    "        \n",
    "    def load_data"
   ]
  }
 ],
 "metadata": {
  "kernelspec": {
   "display_name": "Python 3 (ipykernel)",
   "language": "python",
   "name": "python3"
  },
  "language_info": {
   "codemirror_mode": {
    "name": "ipython",
    "version": 3
   },
   "file_extension": ".py",
   "mimetype": "text/x-python",
   "name": "python",
   "nbconvert_exporter": "python",
   "pygments_lexer": "ipython3",
   "version": "3.11.4"
  }
 },
 "nbformat": 4,
 "nbformat_minor": 5
}
