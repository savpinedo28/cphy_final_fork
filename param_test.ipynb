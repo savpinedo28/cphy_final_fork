{
 "cells": [
  {
   "cell_type": "code",
   "execution_count": 1,
   "id": "519d6054",
   "metadata": {
    "scrolled": true
   },
   "outputs": [],
   "source": [
    "import os\n",
    "import sys\n",
    "import zipfile \n",
    "import pandas as pd\n",
    "from upload import retrieve_file\n",
    "import warnings\n",
    "from stim_adj import stim_adj\n",
    "import autograd.numpy as np \n",
    "from autograd import grad\n",
    "from scipy import optimize\n"
   ]
  },
  {
   "cell_type": "code",
   "execution_count": 2,
   "id": "6337149a",
   "metadata": {},
   "outputs": [],
   "source": [
    "class ParameterRecovery:\n",
    "    def __init__(self, known_params, unknown_params, dt = 0.0125, neuron_type= 'L5PC', num_ap = 1, V_data = None, I_data = None, t_data = None, method = 'CG', bounds = {}): \n",
    "        '''\n",
    "        For known parameters of the Hodgkin Huxley set the upper and lower bounds equal to that float\n",
    "        Objective: \n",
    "        \n",
    "        Args: \n",
    "            known_params (dict): known parameters and their values\n",
    "            unknown_parameters (dict): unknown parameters and their intial guesses -- if different than standard\n",
    "            neuron_types (str): \n",
    "            num_ap (int):\n",
    "            V_data ():\n",
    "            I_data ():\n",
    "            t_data ():\n",
    "            bounds ():\n",
    "            method (str): with bo\n",
    "        \n",
    "        Returns: \n",
    "            '''\n",
    "        self.neuron_type = neuron_type\n",
    "        self.num_ap = num_ap\n",
    "        self.known_params = known_params\n",
    "        self.unknown_params = unknown_params\n",
    "        self.params = {**self.known_params, **self.unknown_params}\n",
    "        self.HH_var = ['g_Na', 'g_K', 'g_L', 'E_Na', 'E_K', 'E_L', 'C_m', 'm', 'h', 'n']\n",
    "        self.param_list = list(self.params.keys())\n",
    "        self.missing = list(set(self.HH_var) - set(self.param_list))\n",
    "        self.unknown_keys = list(self.unknown_params.keys()) + self.missing\n",
    "        \n",
    "        self.dt = dt\n",
    "    \n",
    "        #default parameter setting HH model parameters\n",
    "        \n",
    "        self.g_Na = 120.0\n",
    "        self.g_K = 36.0\n",
    "        self.g_L = 0.3\n",
    "        self.E_Na = 50.0\n",
    "        self.E_K = -85.0\n",
    "        self.E_L = -90\n",
    "        self.C_m = 1.0\n",
    "        self.m = 0.05\n",
    "        self.n = 0.6\n",
    "        self.h =  0.32\n",
    "        self.standard_params = {'g_Na' :  self.g_Na , 'g_K' : self.g_K, 'g_L': self.g_L, 'E_Na': self.E_Na, 'E_K': self.E_K, 'E_L': self.E_L, 'C_m': self.C_m, 'm': self.m, 'h': self.h, 'n': self.n }\n",
    "        #manual input variables \n",
    "        self.V_data = V_data\n",
    "        self.I_data = I_data \n",
    "        self.t_data = t_data \n",
    "        \n",
    "        #creating instance to load specific neuron data\n",
    "        self.inst_file = retrieve_file(self.neuron_type, self.num_ap, self.V_data, self.I_data, self.t_data)\n",
    "        \n",
    "        #initialize variables dependent on ground truth data (from upload.py)\n",
    "        instance = self.inst_file\n",
    "        initialized = instance.load()\n",
    "    \n",
    "            \n",
    "        #if manual entry is not choosen, upload from initialized \n",
    "        if self.V_data is None:\n",
    "            self.V_data = initialized[0]\n",
    "        else: \n",
    "            self.V_data = V_data\n",
    "        if 'stim' not in self.unknown_params: \n",
    "            if self.I_data is None:\n",
    "                self.I_data = initialized[1]\n",
    "        if self.t_data is None: \n",
    "            self.t_data = initialized[2]\n",
    "                   \n",
    "        self.V0 = self.V_data[0]\n",
    "        self.data_steps = self.t_data[1] - self.t_data[0]\n",
    "\n",
    "        #optimizaton parameters\n",
    "        #check that if bounds are given the optimal method is given \n",
    "        \n",
    "        self.bounds = bounds\n",
    "        if 'stim' in self.unknown_params and self.bounds is None: \n",
    "                warnings.warn(\"No bounds given, recommended methods to be CG or BFGS\") #also want that no known values given \n",
    "                \n",
    "\n",
    "    def assign_parameters(self):\n",
    "        if 'stim' in self.unknown_params: \n",
    "            warnings.warn('If input stimuli is unknown, can only invert for features of the stimuli, all other parameters will be assumed to be known and set to default')\n",
    "        for key, value in self.known_params.items():\n",
    "            globals()[key] = value\n",
    "        for key, value in self.unknown_params.items():\n",
    "            globals()[key] = value\n",
    "        missing_values = list(set(self.HH_var) - set(self.param_list))\n",
    "        str_missing = ' '.join(missing_values)\n",
    "        warnings.warn(f'The following variables were not defined or given an initial guess  {str_missing}. We will assume default values for an initial guess and that these values are unknown')\n",
    "        \n",
    "        #update parameters based on given known values\n",
    "        \n",
    "        return self.param_list\n",
    "    \n",
    "    def define_bounds(self):\n",
    "        '''\n",
    "        defines the bounds for optimiatoin setting upper and lower limits equal to known values\n",
    "        '''\n",
    "        if 'stim' in self.unknown_params: \n",
    "            optim_bounds = self.bounds\n",
    "        else:\n",
    "            optim_bounds = []\n",
    "            for item in self.HH_var:\n",
    "                if item in self.bounds: \n",
    "                    item_bound = self.bounds[item]\n",
    "                elif item in self.known_params:\n",
    "                    item_bound = (self.known_params[item], self.known_params[item])\n",
    "                else: \n",
    "                    item_bound = (-float('inf'), float('inf'))\n",
    "                optim_bounds.append(item_bound)\n",
    "        return optim_bounds\n",
    "                    \n",
    "                    \n",
    "    def def_guess_params(self):\n",
    "        stim_guess = []\n",
    "        HH_guess = []\n",
    "        if 'stim' in self.unknown_params: \n",
    "            stim_guess.append(self.unknown_params['stim'])\n",
    "            for item in self.HH_var:\n",
    "                if item in self.known_params: \n",
    "                    HH_guess.append(self.known_params[item])\n",
    "                else: \n",
    "                    HH_guess.append(self.standard_params[item])\n",
    "        else: \n",
    "            for item in self.HH_var:\n",
    "                if item in self.unknown_params: \n",
    "                    stim_guess.append(self.unknown_params[item])\n",
    "                elif item in self.known_params: \n",
    "                    stim_guess.append(self.known_params[item])\n",
    "                else: \n",
    "                    stim_guess.append(self.standard_params[item])\n",
    "        return stim_guess, HH_guess\n",
    "                         \n",
    "    def adj_impulse(self): \n",
    "        params = self.def_guess_params()\n",
    "        stim_params = params[0]\n",
    "        HH_params = params[1]\n",
    "        print(stim_params)\n",
    "        print(stim_params[0])\n",
    "        impulse_inst= stim_adj(self.V0, self.V_data, self.t_data, self.data_steps, self.dt, HH_params,  stim_params[0][0], stim_params[0][1], stim_params[0][2])\n",
    "        return impulse_inst\n",
    "    \n",
    "    def optimizer_imp(self):\n",
    "        instance = adj_impulse()\n",
    "        x = instance.__cost(I_params)\n",
    "        optim = optimize.minimize(instance.__cost, GUESS, args = (m, n, h), jac = grad_AD, method = self.method)\n",
    "   # def optimizer(self):\n",
    "       # if 'stim' in \n",
    "       # optimize.minimize(fm_cost, initial_guess, args = (self.I_data, self.V0, self.dt, self.t, datasteps, self.V_data))\n",
    "        #create instance\n",
    "        #call function?? \n",
    "        \n",
    "    \n",
    "    #def _minimize(self):\n",
    "    \n",
    "    def graph(self):\n",
    "        plt.figure()\n",
    "        plt.plot(self.t, self.V_final, ls = 'dotted', label = 'optimized spike train')\n",
    "        plot.plot(self.t, self.V_data, label = 'target spike train')\n",
    "        plt.xlabel('Time')\n",
    "        plt.ylabel('Voltage')\n",
    "        plt.legend()\n",
    "        "
   ]
  },
  {
   "cell_type": "code",
   "execution_count": 3,
   "id": "dee4b74c",
   "metadata": {},
   "outputs": [
    {
     "name": "stdout",
     "output_type": "stream",
     "text": [
      "1\n"
     ]
    }
   ],
   "source": [
    "y = [(1, 2, 3)]\n",
    "print(y[0][0])"
   ]
  },
  {
   "cell_type": "code",
   "execution_count": 4,
   "id": "21f9fa4b",
   "metadata": {},
   "outputs": [
    {
     "name": "stdout",
     "output_type": "stream",
     "text": [
      "Default choosen of 1 Action Potential\n",
      "([(5.0, 2.0, 152.525)], [5, 36.0, 0.3, 50.0, -85.0, -90, 1.0, 0.05, 0.32, 0.6])\n",
      "[(5.0, 2.0, 152.525)]\n",
      "(5.0, 2.0, 152.525)\n",
      "{'E_L': (0, 10)}\n"
     ]
    },
    {
     "name": "stderr",
     "output_type": "stream",
     "text": [
      "/var/folders/y5/qy3mtncn089941sxdcnsvzn80000gn/T/ipykernel_25826/3496627311.py:82: UserWarning: If input stimuli is unknown, can only invert for features of the stimuli, all other parameters will be assumed to be known and set to default\n",
      "  warnings.warn('If input stimuli is unknown, can only invert for features of the stimuli, all other parameters will be assumed to be known and set to default')\n",
      "/var/folders/y5/qy3mtncn089941sxdcnsvzn80000gn/T/ipykernel_25826/3496627311.py:89: UserWarning: The following variables were not defined or given an initial guess  n g_L g_K E_K E_L E_Na h m C_m. We will assume default values for an initial guess and that these values are unknown\n",
      "  warnings.warn(f'The following variables were not defined or given an initial guess  {str_missing}. We will assume default values for an initial guess and that these values are unknown')\n"
     ]
    },
    {
     "data": {
      "text/plain": [
       "__main__.ParameterRecovery"
      ]
     },
     "execution_count": 4,
     "metadata": {},
     "output_type": "execute_result"
    }
   ],
   "source": [
    "test = ParameterRecovery({'Na': 120, 'g_Na' : 5}, {'K': 5, 'stim': (5.0, 2.0, 152.525)}, bounds = {'E_L': (0, 10)})\n",
    "test.assign_parameters()\n",
    "test.unknown_keys\n",
    "x = test.define_bounds()\n",
    "y = test.def_guess_params()\n",
    "print(y)\n",
    "test.adj_impulse()\n",
    "print(x)\n",
    "type(test)\n",
    "\n",
    "\n",
    "\n",
    "\n"
   ]
  },
  {
   "cell_type": "code",
   "execution_count": 5,
   "id": "34bfbc26",
   "metadata": {},
   "outputs": [
    {
     "name": "stdout",
     "output_type": "stream",
     "text": [
      "Default choosen of 1 Action Potential\n",
      "Default choosen of 1 Action Potential\n",
      "[-80.       -80.002106 -80.003914 ... -78.53216  -78.53172  -78.53129 ]\n"
     ]
    }
   ],
   "source": [
    "test.inst_file\n",
    "test.inst_file.load()\n",
    "x = test.inst_file.load()\n",
    "\n",
    "print(x[0])"
   ]
  },
  {
   "cell_type": "code",
   "execution_count": null,
   "id": "18443a10",
   "metadata": {},
   "outputs": [],
   "source": []
  },
  {
   "cell_type": "code",
   "execution_count": null,
   "id": "e73393ae",
   "metadata": {},
   "outputs": [],
   "source": []
  }
 ],
 "metadata": {
  "kernelspec": {
   "display_name": "Python 3 (ipykernel)",
   "language": "python",
   "name": "python3"
  },
  "language_info": {
   "codemirror_mode": {
    "name": "ipython",
    "version": 3
   },
   "file_extension": ".py",
   "mimetype": "text/x-python",
   "name": "python",
   "nbconvert_exporter": "python",
   "pygments_lexer": "ipython3",
   "version": "3.11.4"
  }
 },
 "nbformat": 4,
 "nbformat_minor": 5
}
